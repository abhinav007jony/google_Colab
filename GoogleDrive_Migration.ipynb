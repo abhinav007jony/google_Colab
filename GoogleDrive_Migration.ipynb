{
  "nbformat": 4,
  "nbformat_minor": 0,
  "metadata": {
    "colab": {
      "name": "GoogleDrive Migration.ipynb",
      "provenance": [],
      "collapsed_sections": [
        "zBwf5A5Wftc8"
      ],
      "include_colab_link": true
    },
    "kernelspec": {
      "name": "python3",
      "display_name": "Python 3"
    }
  },
  "cells": [
    {
      "cell_type": "markdown",
      "metadata": {
        "id": "view-in-github",
        "colab_type": "text"
      },
      "source": [
        "<a href=\"https://colab.research.google.com/github/abhinav007jony/google_Colab/blob/main/GoogleDrive_Migration.ipynb\" target=\"_parent\"><img src=\"https://colab.research.google.com/assets/colab-badge.svg\" alt=\"Open In Colab\"/></a>"
      ]
    },
    {
      "cell_type": "markdown",
      "metadata": {
        "id": "lxTFXZi41jYa"
      },
      "source": [
        "# **`#0`** Mount your Google Drive (**Important**)"
      ]
    },
    {
      "cell_type": "markdown",
      "metadata": {
        "id": "QKDEo3O42X5S"
      },
      "source": [
        "**Mount**\n",
        "(Mandatory)"
      ]
    },
    {
      "cell_type": "code",
      "metadata": {
        "id": "KPDQawnG1Z0p",
        "colab": {
          "base_uri": "https://localhost:8080/"
        },
        "outputId": "3db5f2d1-cf73-42b2-83d9-c156d352df3c"
      },
      "source": [
        "from google.colab import drive\n",
        "drive.mount('/gdrive')"
      ],
      "execution_count": 17,
      "outputs": [
        {
          "output_type": "stream",
          "text": [
            "Mounted at /gdrive\n"
          ],
          "name": "stdout"
        }
      ]
    },
    {
      "cell_type": "code",
      "metadata": {
        "id": "QklsObOeEFrR",
        "outputId": "a6e44f8f-3127-40bf-c85a-f4a3b37fdf28",
        "colab": {
          "base_uri": "https://localhost:8080/"
        }
      },
      "source": [
        "from google.colab import drive\n",
        "drive.mount('/content/drive')"
      ],
      "execution_count": 18,
      "outputs": [
        {
          "output_type": "stream",
          "text": [
            "Mounted at /content/drive\n"
          ],
          "name": "stdout"
        }
      ]
    },
    {
      "cell_type": "code",
      "metadata": {
        "id": "HfHKTbR8HION",
        "outputId": "3b4b407b-a424-4927-b6e0-26b6579fd9ca",
        "colab": {
          "base_uri": "https://localhost:8080/"
        }
      },
      "source": [
        "import pandas as pd\n",
        "from google.colab import drive\n",
        "\n",
        "drive.mount('/content/gdrive', force_remount=True)"
      ],
      "execution_count": 1,
      "outputs": [
        {
          "output_type": "stream",
          "text": [
            "Mounted at /content/gdrive\n"
          ],
          "name": "stdout"
        }
      ]
    },
    {
      "cell_type": "markdown",
      "metadata": {
        "id": "CgDOIoVu199J"
      },
      "source": [
        "**Check Network Speed** (Optional)"
      ]
    },
    {
      "cell_type": "code",
      "metadata": {
        "id": "YSmUUwrp3b5D",
        "colab": {
          "base_uri": "https://localhost:8080/"
        },
        "outputId": "b0346375-9af2-4bcb-d53c-01dd20aefa92"
      },
      "source": [
        "!curl -s https://raw.githubusercontent.com/sivel/speedtest-cli/master/speedtest.py | python -"
      ],
      "execution_count": 13,
      "outputs": [
        {
          "output_type": "stream",
          "text": [
            "Retrieving speedtest.net configuration...\n",
            "Testing from Google Cloud (35.236.154.239)...\n",
            "Retrieving speedtest.net server list...\n",
            "Selecting best server based on ping...\n",
            "Hosted by Taiwan Fixed Network (Taipei) [1.90 km]: 6.556 ms\n",
            "Testing download speed................................................................................\n",
            "Download: 1155.72 Mbit/s\n",
            "Testing upload speed......................................................................................................\n",
            "Upload: 694.54 Mbit/s\n"
          ],
          "name": "stdout"
        }
      ]
    },
    {
      "cell_type": "markdown",
      "metadata": {
        "id": "AM_HAOnOem0v"
      },
      "source": [
        "**Check IP** (Optional)"
      ]
    },
    {
      "cell_type": "code",
      "metadata": {
        "id": "zv47d4QTeluA",
        "colab": {
          "base_uri": "https://localhost:8080/"
        },
        "outputId": "6f2b13c9-44fe-4bcd-aeed-4ff12ee425b2"
      },
      "source": [
        "!curl -s http://checkip.amazonaws.com"
      ],
      "execution_count": 14,
      "outputs": [
        {
          "output_type": "stream",
          "text": [
            "35.236.154.239\n"
          ],
          "name": "stdout"
        }
      ]
    },
    {
      "cell_type": "markdown",
      "metadata": {
        "id": "3AXweA-auoDX"
      },
      "source": [
        "---\n",
        "---"
      ]
    },
    {
      "cell_type": "markdown",
      "metadata": {
        "id": "csh-zappftKC"
      },
      "source": [
        "# **`#1`** Make a copy of Folder within **My Drive**"
      ]
    },
    {
      "cell_type": "markdown",
      "metadata": {
        "id": "QbW6PhaXiKSc"
      },
      "source": [
        "### 1. Replace\n",
        "- **FOLDER_PATH** - path of folder you want to copy\n",
        "- **DESTINATION_PATH** - destination of the folder where you want to save the copy\n",
        "\n",
        "### 2. Run"
      ]
    },
    {
      "cell_type": "code",
      "metadata": {
        "id": "MGWDn6j3gc_o",
        "colab": {
          "base_uri": "https://localhost:8080/"
        },
        "outputId": "2ccb7a70-8482-4afc-f35a-fa6f0d756e21"
      },
      "source": [
        "!cp -av '/content/drive/Shareddrives/Abhi/Web Series/Web Series/2021' '/content/drive/Shareddrives/Abhi/Web Series/"
      ],
      "execution_count": 22,
      "outputs": [
        {
          "output_type": "stream",
          "text": [
            "/bin/bash: -c: line 0: unexpected EOF while looking for matching `''\n",
            "/bin/bash: -c: line 1: syntax error: unexpected end of file\n"
          ],
          "name": "stdout"
        }
      ]
    },
    {
      "cell_type": "markdown",
      "metadata": {
        "id": "umRa9VGVuyLw"
      },
      "source": [
        "---\n",
        "---"
      ]
    },
    {
      "cell_type": "markdown",
      "metadata": {
        "id": "zBwf5A5Wftc8"
      },
      "source": [
        "# **`#2`** Make a copy of Folder within **Shared Drive**"
      ]
    },
    {
      "cell_type": "markdown",
      "metadata": {
        "id": "-QzSW_FTj1l1"
      },
      "source": [
        "### 1. Run the below code to get the list of Shared Drives"
      ]
    },
    {
      "cell_type": "code",
      "metadata": {
        "id": "PsBlht1ojz3J",
        "colab": {
          "base_uri": "https://localhost:8080/"
        },
        "outputId": "55690eb4-70c3-4561-cdc5-b74552fb054c"
      },
      "source": [
        "!ls '/gdrive/Shared drives'"
      ],
      "execution_count": 11,
      "outputs": [
        {
          "output_type": "stream",
          "text": [
            "ls: cannot access '/gdrive/Shared drives': Transport endpoint is not connected\n"
          ],
          "name": "stdout"
        }
      ]
    },
    {
      "cell_type": "markdown",
      "metadata": {
        "id": "7B3HfzF-kUkE"
      },
      "source": [
        "### 2. Replace \n",
        "\n",
        "*   TEAMDRIVE - your Shared Drive Name\n",
        "*   SOURCE_FOLDER - path of the Folder you want to copy\n",
        "*   DESTINATION_FOLDER - path of the Folder where you want to save the copy\n",
        "\n",
        "\n",
        "Example : \n",
        "\n",
        "```\n",
        "!cp -av '/gdrive/Shared drives/alex/testfolder' '/gdrive/Shared drives/alex/newfolder'\n",
        "```\n",
        "\n",
        "![alt text](https://i.imgur.com/DiHA39S.png)"
      ]
    },
    {
      "cell_type": "markdown",
      "metadata": {
        "id": "flvx0M6GvmLL"
      },
      "source": [
        "### 3. Run"
      ]
    },
    {
      "cell_type": "code",
      "metadata": {
        "id": "jc99JEuRkUkG",
        "colab": {
          "base_uri": "https://localhost:8080/"
        },
        "outputId": "e90792ba-eda1-48ba-f1fe-5ea6c5f022e0"
      },
      "source": [
        "!cp -av '/content/gdrive/Shareddrives/Abhi2/Copy of Web Series/2021' '/content/gdrive/Shareddrives/Abhi/Web Series/2021'"
      ],
      "execution_count": 12,
      "outputs": [
        {
          "output_type": "stream",
          "text": [
            "'/content/gdrive/Shareddrives/Abhi2/Copy of Web Series/2021' -> '/content/gdrive/Shareddrives/Abhi/Web Series/2021'\n",
            "'/content/gdrive/Shareddrives/Abhi2/Copy of Web Series/2021/Regiment Diaries 480P' -> '/content/gdrive/Shareddrives/Abhi/Web Series/2021/Regiment Diaries 480P'\n",
            "'/content/gdrive/Shareddrives/Abhi2/Copy of Web Series/2021/Regiment Diaries 480P/S01_480' -> '/content/gdrive/Shareddrives/Abhi/Web Series/2021/Regiment Diaries 480P/S01_480'\n",
            "'/content/gdrive/Shareddrives/Abhi2/Copy of Web Series/2021/Regiment Diaries 480P/S01_480/Regiment Diaries S01 E01 WebRip Hindi 480p ESub - mkvCinemas.mkv' -> '/content/gdrive/Shareddrives/Abhi/Web Series/2021/Regiment Diaries 480P/S01_480/Regiment Diaries S01 E01 WebRip Hindi 480p ESub - mkvCinemas.mkv'\n",
            "'/content/gdrive/Shareddrives/Abhi2/Copy of Web Series/2021/Regiment Diaries 480P/S01_480/Regiment Diaries S01 E02 WebRip Hindi 480p ESub - mkvCinemas.mkv' -> '/content/gdrive/Shareddrives/Abhi/Web Series/2021/Regiment Diaries 480P/S01_480/Regiment Diaries S01 E02 WebRip Hindi 480p ESub - mkvCinemas.mkv'\n",
            "'/content/gdrive/Shareddrives/Abhi2/Copy of Web Series/2021/Regiment Diaries 480P/S01_480/Regiment Diaries S01 E03 WebRip Hindi 480p ESub - mkvCinemas.mkv' -> '/content/gdrive/Shareddrives/Abhi/Web Series/2021/Regiment Diaries 480P/S01_480/Regiment Diaries S01 E03 WebRip Hindi 480p ESub - mkvCinemas.mkv'\n",
            "'/content/gdrive/Shareddrives/Abhi2/Copy of Web Series/2021/Regiment Diaries 480P/S01_480/Regiment Diaries S01 E04 WebRip Hindi 480p ESub - mkvCinemas.mkv' -> '/content/gdrive/Shareddrives/Abhi/Web Series/2021/Regiment Diaries 480P/S01_480/Regiment Diaries S01 E04 WebRip Hindi 480p ESub - mkvCinemas.mkv'\n",
            "'/content/gdrive/Shareddrives/Abhi2/Copy of Web Series/2021/Regiment Diaries 480P/S01_480/Regiment Diaries S01 E05 WebRip Hindi 480p ESub - mkvCinemas.mkv' -> '/content/gdrive/Shareddrives/Abhi/Web Series/2021/Regiment Diaries 480P/S01_480/Regiment Diaries S01 E05 WebRip Hindi 480p ESub - mkvCinemas.mkv'\n",
            "'/content/gdrive/Shareddrives/Abhi2/Copy of Web Series/2021/Regiment Diaries 480P/S01_480/Regiment Diaries S01 E06 WebRip Hindi 480p ESub - mkvCinemas.mkv' -> '/content/gdrive/Shareddrives/Abhi/Web Series/2021/Regiment Diaries 480P/S01_480/Regiment Diaries S01 E06 WebRip Hindi 480p ESub - mkvCinemas.mkv'\n",
            "'/content/gdrive/Shareddrives/Abhi2/Copy of Web Series/2021/Regiment Diaries 480P/S01_480/Regiment Diaries S01 E07 WebRip Hindi 480p ESub - mkvCinemas.mkv' -> '/content/gdrive/Shareddrives/Abhi/Web Series/2021/Regiment Diaries 480P/S01_480/Regiment Diaries S01 E07 WebRip Hindi 480p ESub - mkvCinemas.mkv'\n",
            "'/content/gdrive/Shareddrives/Abhi2/Copy of Web Series/2021/Regiment Diaries 480P/S01_480/Regiment Diaries S01 E08 WebRip Hindi 480p ESub - mkvCinemas.mkv' -> '/content/gdrive/Shareddrives/Abhi/Web Series/2021/Regiment Diaries 480P/S01_480/Regiment Diaries S01 E08 WebRip Hindi 480p ESub - mkvCinemas.mkv'\n",
            "'/content/gdrive/Shareddrives/Abhi2/Copy of Web Series/2021/Regiment Diaries 480P/S01_480/Regiment Diaries S01 E09 WebRip Hindi 480p ESub - mkvCinemas.mkv' -> '/content/gdrive/Shareddrives/Abhi/Web Series/2021/Regiment Diaries 480P/S01_480/Regiment Diaries S01 E09 WebRip Hindi 480p ESub - mkvCinemas.mkv'\n",
            "'/content/gdrive/Shareddrives/Abhi2/Copy of Web Series/2021/Regiment Diaries 480P/S01_480/Regiment Diaries S01 E10 WebRip Hindi 480p ESub - mkvCinemas.mkv' -> '/content/gdrive/Shareddrives/Abhi/Web Series/2021/Regiment Diaries 480P/S01_480/Regiment Diaries S01 E10 WebRip Hindi 480p ESub - mkvCinemas.mkv'\n",
            "'/content/gdrive/Shareddrives/Abhi2/Copy of Web Series/2021/Regiment Diaries 480P/S01_480/Regiment Diaries S01 E11 WebRip Hindi 480p ESub - mkvCinemas.mkv' -> '/content/gdrive/Shareddrives/Abhi/Web Series/2021/Regiment Diaries 480P/S01_480/Regiment Diaries S01 E11 WebRip Hindi 480p ESub - mkvCinemas.mkv'\n",
            "'/content/gdrive/Shareddrives/Abhi2/Copy of Web Series/2021/Regiment Diaries 480P/S01_480/Regiment Diaries S01 E12 WebRip Hindi 480p ESub - mkvCinemas.mkv' -> '/content/gdrive/Shareddrives/Abhi/Web Series/2021/Regiment Diaries 480P/S01_480/Regiment Diaries S01 E12 WebRip Hindi 480p ESub - mkvCinemas.mkv'\n",
            "'/content/gdrive/Shareddrives/Abhi2/Copy of Web Series/2021/Regiment Diaries 480P/S01_480/Regiment Diaries S01 E13 WebRip Hindi 480p ESub - mkvCinemas.mkv' -> '/content/gdrive/Shareddrives/Abhi/Web Series/2021/Regiment Diaries 480P/S01_480/Regiment Diaries S01 E13 WebRip Hindi 480p ESub - mkvCinemas.mkv'\n",
            "'/content/gdrive/Shareddrives/Abhi2/Copy of Web Series/2021/Regiment Diaries 480P/S01_480/Regiment Diaries S01 E01-13 WebRip Hindi 480p ESub - mkvCinemas.rar' -> '/content/gdrive/Shareddrives/Abhi/Web Series/2021/Regiment Diaries 480P/S01_480/Regiment Diaries S01 E01-13 WebRip Hindi 480p ESub - mkvCinemas.rar'\n",
            "'/content/gdrive/Shareddrives/Abhi2/Copy of Web Series/2021/Regiment Diaries 480P/S02 480P' -> '/content/gdrive/Shareddrives/Abhi/Web Series/2021/Regiment Diaries 480P/S02 480P'\n",
            "'/content/gdrive/Shareddrives/Abhi2/Copy of Web Series/2021/Regiment Diaries 480P/S02 480P/Regiment Diaries S02 E01 WebRip Hindi 480p ESub - mkvCinemas.mkv' -> '/content/gdrive/Shareddrives/Abhi/Web Series/2021/Regiment Diaries 480P/S02 480P/Regiment Diaries S02 E01 WebRip Hindi 480p ESub - mkvCinemas.mkv'\n",
            "'/content/gdrive/Shareddrives/Abhi2/Copy of Web Series/2021/Regiment Diaries 480P/S02 480P/Regiment Diaries S02 E02 WebRip Hindi 480p ESub - mkvCinemas.mkv' -> '/content/gdrive/Shareddrives/Abhi/Web Series/2021/Regiment Diaries 480P/S02 480P/Regiment Diaries S02 E02 WebRip Hindi 480p ESub - mkvCinemas.mkv'\n",
            "'/content/gdrive/Shareddrives/Abhi2/Copy of Web Series/2021/Regiment Diaries 480P/S02 480P/Regiment Diaries S02 E03 WebRip Hindi 480p ESub - mkvCinemas.mkv' -> '/content/gdrive/Shareddrives/Abhi/Web Series/2021/Regiment Diaries 480P/S02 480P/Regiment Diaries S02 E03 WebRip Hindi 480p ESub - mkvCinemas.mkv'\n",
            "'/content/gdrive/Shareddrives/Abhi2/Copy of Web Series/2021/Regiment Diaries 480P/S02 480P/Regiment Diaries S02 E04 WebRip Hindi 480p ESub - mkvCinemas.mkv' -> '/content/gdrive/Shareddrives/Abhi/Web Series/2021/Regiment Diaries 480P/S02 480P/Regiment Diaries S02 E04 WebRip Hindi 480p ESub - mkvCinemas.mkv'\n",
            "'/content/gdrive/Shareddrives/Abhi2/Copy of Web Series/2021/Regiment Diaries 480P/S02 480P/Regiment Diaries S02 E05 WebRip Hindi 480p ESub - mkvCinemas.mkv' -> '/content/gdrive/Shareddrives/Abhi/Web Series/2021/Regiment Diaries 480P/S02 480P/Regiment Diaries S02 E05 WebRip Hindi 480p ESub - mkvCinemas.mkv'\n",
            "'/content/gdrive/Shareddrives/Abhi2/Copy of Web Series/2021/Regiment Diaries 480P/S02 480P/Regiment Diaries S02 E06 WebRip Hindi 480p ESub - mkvCinemas.mkv' -> '/content/gdrive/Shareddrives/Abhi/Web Series/2021/Regiment Diaries 480P/S02 480P/Regiment Diaries S02 E06 WebRip Hindi 480p ESub - mkvCinemas.mkv'\n",
            "'/content/gdrive/Shareddrives/Abhi2/Copy of Web Series/2021/Regiment Diaries 480P/S02 480P/Regiment Diaries S02 E01-06 WebRip Hindi 480p ESub - mkvCinemas.rar' -> '/content/gdrive/Shareddrives/Abhi/Web Series/2021/Regiment Diaries 480P/S02 480P/Regiment Diaries S02 E01-06 WebRip Hindi 480p ESub - mkvCinemas.rar'\n",
            "'/content/gdrive/Shareddrives/Abhi2/Copy of Web Series/2021/Paurashpur S01 480P' -> '/content/gdrive/Shareddrives/Abhi/Web Series/2021/Paurashpur S01 480P'\n",
            "'/content/gdrive/Shareddrives/Abhi2/Copy of Web Series/2021/Paurashpur S01 480P/Paurashpur S01 E01 WebRip Hindi 480p ESub - mkvCinemas.mkv' -> '/content/gdrive/Shareddrives/Abhi/Web Series/2021/Paurashpur S01 480P/Paurashpur S01 E01 WebRip Hindi 480p ESub - mkvCinemas.mkv'\n",
            "'/content/gdrive/Shareddrives/Abhi2/Copy of Web Series/2021/Paurashpur S01 480P/Paurashpur S01 E02 WebRip Hindi 480p ESub - mkvCinemas.mkv' -> '/content/gdrive/Shareddrives/Abhi/Web Series/2021/Paurashpur S01 480P/Paurashpur S01 E02 WebRip Hindi 480p ESub - mkvCinemas.mkv'\n",
            "'/content/gdrive/Shareddrives/Abhi2/Copy of Web Series/2021/Paurashpur S01 480P/Paurashpur S01 E03 WebRip Hindi 480p ESub - mkvCinemas.mkv' -> '/content/gdrive/Shareddrives/Abhi/Web Series/2021/Paurashpur S01 480P/Paurashpur S01 E03 WebRip Hindi 480p ESub - mkvCinemas.mkv'\n",
            "'/content/gdrive/Shareddrives/Abhi2/Copy of Web Series/2021/Paurashpur S01 480P/Paurashpur S01 E04 WebRip Hindi 480p ESub - mkvCinemas.mkv' -> '/content/gdrive/Shareddrives/Abhi/Web Series/2021/Paurashpur S01 480P/Paurashpur S01 E04 WebRip Hindi 480p ESub - mkvCinemas.mkv'\n",
            "'/content/gdrive/Shareddrives/Abhi2/Copy of Web Series/2021/Paurashpur S01 480P/Paurashpur S01 E05 WebRip Hindi 480p ESub - mkvCinemas.mkv' -> '/content/gdrive/Shareddrives/Abhi/Web Series/2021/Paurashpur S01 480P/Paurashpur S01 E05 WebRip Hindi 480p ESub - mkvCinemas.mkv'\n",
            "'/content/gdrive/Shareddrives/Abhi2/Copy of Web Series/2021/Paurashpur S01 480P/Paurashpur S01 E06 WebRip Hindi 480p ESub - mkvCinemas.mkv' -> '/content/gdrive/Shareddrives/Abhi/Web Series/2021/Paurashpur S01 480P/Paurashpur S01 E06 WebRip Hindi 480p ESub - mkvCinemas.mkv'\n",
            "'/content/gdrive/Shareddrives/Abhi2/Copy of Web Series/2021/Paurashpur S01 480P/Paurashpur S01 E07 WebRip Hindi 480p ESub - mkvCinemas.mkv' -> '/content/gdrive/Shareddrives/Abhi/Web Series/2021/Paurashpur S01 480P/Paurashpur S01 E07 WebRip Hindi 480p ESub - mkvCinemas.mkv'\n",
            "'/content/gdrive/Shareddrives/Abhi2/Copy of Web Series/2021/Paurashpur S01 480P/Paurashpur S01 E01-07 WebRip Hindi 480p ESub - mkvCinemas.rar' -> '/content/gdrive/Shareddrives/Abhi/Web Series/2021/Paurashpur S01 480P/Paurashpur S01 E01-07 WebRip Hindi 480p ESub - mkvCinemas.rar'\n",
            "'/content/gdrive/Shareddrives/Abhi2/Copy of Web Series/2021/Vikings 480P' -> '/content/gdrive/Shareddrives/Abhi/Web Series/2021/Vikings 480P'\n",
            "'/content/gdrive/Shareddrives/Abhi2/Copy of Web Series/2021/Vikings 480P/Season_06' -> '/content/gdrive/Shareddrives/Abhi/Web Series/2021/Vikings 480P/Season_06'\n",
            "'/content/gdrive/Shareddrives/Abhi2/Copy of Web Series/2021/Vikings 480P/Season_06/Vikings S06 E01 WebRip Hindi English 480p ESub - mkvCinemas.mkv' -> '/content/gdrive/Shareddrives/Abhi/Web Series/2021/Vikings 480P/Season_06/Vikings S06 E01 WebRip Hindi English 480p ESub - mkvCinemas.mkv'\n",
            "'/content/gdrive/Shareddrives/Abhi2/Copy of Web Series/2021/Vikings 480P/Season_06/Vikings S06 E02 WebRip Hindi English 480p ESub - mkvCinemas.mkv' -> '/content/gdrive/Shareddrives/Abhi/Web Series/2021/Vikings 480P/Season_06/Vikings S06 E02 WebRip Hindi English 480p ESub - mkvCinemas.mkv'\n",
            "'/content/gdrive/Shareddrives/Abhi2/Copy of Web Series/2021/Vikings 480P/Season_06/Vikings S06 E03 WebRip Hindi English 480p ESub - mkvCinemas.mkv' -> '/content/gdrive/Shareddrives/Abhi/Web Series/2021/Vikings 480P/Season_06/Vikings S06 E03 WebRip Hindi English 480p ESub - mkvCinemas.mkv'\n",
            "'/content/gdrive/Shareddrives/Abhi2/Copy of Web Series/2021/Vikings 480P/Season_06/Vikings S06 E04 WebRip Hindi English 480p ESub - mkvCinemas.mkv' -> '/content/gdrive/Shareddrives/Abhi/Web Series/2021/Vikings 480P/Season_06/Vikings S06 E04 WebRip Hindi English 480p ESub - mkvCinemas.mkv'\n",
            "'/content/gdrive/Shareddrives/Abhi2/Copy of Web Series/2021/Vikings 480P/Season_06/Vikings S06 E05 WebRip Hindi English 480p ESub - mkvCinemas.mkv' -> '/content/gdrive/Shareddrives/Abhi/Web Series/2021/Vikings 480P/Season_06/Vikings S06 E05 WebRip Hindi English 480p ESub - mkvCinemas.mkv'\n",
            "'/content/gdrive/Shareddrives/Abhi2/Copy of Web Series/2021/Vikings 480P/Season_06/Vikings S06 E06 WebRip Hindi English 480p ESub - mkvCinemas.mkv' -> '/content/gdrive/Shareddrives/Abhi/Web Series/2021/Vikings 480P/Season_06/Vikings S06 E06 WebRip Hindi English 480p ESub - mkvCinemas.mkv'\n",
            "'/content/gdrive/Shareddrives/Abhi2/Copy of Web Series/2021/Vikings 480P/Season_06/Vikings S06 E07 WebRip Hindi English 480p ESub - mkvCinemas.mkv' -> '/content/gdrive/Shareddrives/Abhi/Web Series/2021/Vikings 480P/Season_06/Vikings S06 E07 WebRip Hindi English 480p ESub - mkvCinemas.mkv'\n",
            "'/content/gdrive/Shareddrives/Abhi2/Copy of Web Series/2021/Vikings 480P/Season_06/Vikings S06 E08 WebRip Hindi English 480p ESub - mkvCinemas.mkv' -> '/content/gdrive/Shareddrives/Abhi/Web Series/2021/Vikings 480P/Season_06/Vikings S06 E08 WebRip Hindi English 480p ESub - mkvCinemas.mkv'\n",
            "'/content/gdrive/Shareddrives/Abhi2/Copy of Web Series/2021/Vikings 480P/Season_06/Vikings S06 E09 WebRip Hindi English 480p ESub - mkvCinemas.mkv' -> '/content/gdrive/Shareddrives/Abhi/Web Series/2021/Vikings 480P/Season_06/Vikings S06 E09 WebRip Hindi English 480p ESub - mkvCinemas.mkv'\n",
            "'/content/gdrive/Shareddrives/Abhi2/Copy of Web Series/2021/Vikings 480P/Season_06/Vikings S06 E10 WebRip Hindi English 480p ESub - mkvCinemas.mkv' -> '/content/gdrive/Shareddrives/Abhi/Web Series/2021/Vikings 480P/Season_06/Vikings S06 E10 WebRip Hindi English 480p ESub - mkvCinemas.mkv'\n",
            "'/content/gdrive/Shareddrives/Abhi2/Copy of Web Series/2021/Vikings 480P/Season_06/Vikings S06 E11 WebRip Hindi English 480p ESub - mkvCinemas.mkv' -> '/content/gdrive/Shareddrives/Abhi/Web Series/2021/Vikings 480P/Season_06/Vikings S06 E11 WebRip Hindi English 480p ESub - mkvCinemas.mkv'\n",
            "'/content/gdrive/Shareddrives/Abhi2/Copy of Web Series/2021/Vikings 480P/Season_06/Vikings S06 E12 WebRip Hindi English 480p ESub - mkvCinemas.mkv' -> '/content/gdrive/Shareddrives/Abhi/Web Series/2021/Vikings 480P/Season_06/Vikings S06 E12 WebRip Hindi English 480p ESub - mkvCinemas.mkv'\n",
            "'/content/gdrive/Shareddrives/Abhi2/Copy of Web Series/2021/Vikings 480P/Season_06/Vikings S06 E13 WebRip Hindi English 480p ESub - mkvCinemas.mkv' -> '/content/gdrive/Shareddrives/Abhi/Web Series/2021/Vikings 480P/Season_06/Vikings S06 E13 WebRip Hindi English 480p ESub - mkvCinemas.mkv'\n",
            "'/content/gdrive/Shareddrives/Abhi2/Copy of Web Series/2021/Vikings 480P/Season_06/Vikings S06 E14 WebRip Hindi English 480p ESub - mkvCinemas.mkv' -> '/content/gdrive/Shareddrives/Abhi/Web Series/2021/Vikings 480P/Season_06/Vikings S06 E14 WebRip Hindi English 480p ESub - mkvCinemas.mkv'\n",
            "'/content/gdrive/Shareddrives/Abhi2/Copy of Web Series/2021/Vikings 480P/Season_06/Vikings S06 E15 WebRip Hindi English 480p ESub - mkvCinemas.mkv' -> '/content/gdrive/Shareddrives/Abhi/Web Series/2021/Vikings 480P/Season_06/Vikings S06 E15 WebRip Hindi English 480p ESub - mkvCinemas.mkv'\n",
            "'/content/gdrive/Shareddrives/Abhi2/Copy of Web Series/2021/Vikings 480P/Season_06/Vikings S06 E16 WebRip Hindi English 480p ESub - mkvCinemas.mkv' -> '/content/gdrive/Shareddrives/Abhi/Web Series/2021/Vikings 480P/Season_06/Vikings S06 E16 WebRip Hindi English 480p ESub - mkvCinemas.mkv'\n",
            "'/content/gdrive/Shareddrives/Abhi2/Copy of Web Series/2021/Vikings 480P/Season_06/Vikings S06 E17 WebRip Hindi English 480p ESub - mkvCinemas.mkv' -> '/content/gdrive/Shareddrives/Abhi/Web Series/2021/Vikings 480P/Season_06/Vikings S06 E17 WebRip Hindi English 480p ESub - mkvCinemas.mkv'\n",
            "'/content/gdrive/Shareddrives/Abhi2/Copy of Web Series/2021/Vikings 480P/Season_06/Vikings S06 E18 WebRip Hindi English 480p ESub - mkvCinemas.mkv' -> '/content/gdrive/Shareddrives/Abhi/Web Series/2021/Vikings 480P/Season_06/Vikings S06 E18 WebRip Hindi English 480p ESub - mkvCinemas.mkv'\n",
            "'/content/gdrive/Shareddrives/Abhi2/Copy of Web Series/2021/Vikings 480P/Season_06/Vikings S06 E19 WebRip Hindi English 480p ESub - mkvCinemas.mkv' -> '/content/gdrive/Shareddrives/Abhi/Web Series/2021/Vikings 480P/Season_06/Vikings S06 E19 WebRip Hindi English 480p ESub - mkvCinemas.mkv'\n",
            "'/content/gdrive/Shareddrives/Abhi2/Copy of Web Series/2021/Vikings 480P/Season_06/Vikings S06 E20 WebRip Hindi English 480p ESub - mkvCinemas.mkv' -> '/content/gdrive/Shareddrives/Abhi/Web Series/2021/Vikings 480P/Season_06/Vikings S06 E20 WebRip Hindi English 480p ESub - mkvCinemas.mkv'\n",
            "'/content/gdrive/Shareddrives/Abhi2/Copy of Web Series/2021/Vikings 480P/Season_06/Vikings S06 E01-10 WebRip Hindi English 480p ESub - mkvCinemas.zip' -> '/content/gdrive/Shareddrives/Abhi/Web Series/2021/Vikings 480P/Season_06/Vikings S06 E01-10 WebRip Hindi English 480p ESub - mkvCinemas.zip'\n",
            "'/content/gdrive/Shareddrives/Abhi2/Copy of Web Series/2021/Vikings 480P/Season_06/Vikings S06 E11-20 WebRip Hindi English 480p ESub - mkvCinemas.rar' -> '/content/gdrive/Shareddrives/Abhi/Web Series/2021/Vikings 480P/Season_06/Vikings S06 E11-20 WebRip Hindi English 480p ESub - mkvCinemas.rar'\n",
            "'/content/gdrive/Shareddrives/Abhi2/Copy of Web Series/2021/Chilling Adventures Of Sabrina 480P' -> '/content/gdrive/Shareddrives/Abhi/Web Series/2021/Chilling Adventures Of Sabrina 480P'\n",
            "'/content/gdrive/Shareddrives/Abhi2/Copy of Web Series/2021/Chilling Adventures Of Sabrina 480P/Season_02' -> '/content/gdrive/Shareddrives/Abhi/Web Series/2021/Chilling Adventures Of Sabrina 480P/Season_02'\n",
            "'/content/gdrive/Shareddrives/Abhi2/Copy of Web Series/2021/Chilling Adventures Of Sabrina 480P/Season_02/Chilling Adventures of Sabrina S04 E01 WebRip Hindi English 480p MSubs - mkvCinemas.mkv' -> '/content/gdrive/Shareddrives/Abhi/Web Series/2021/Chilling Adventures Of Sabrina 480P/Season_02/Chilling Adventures of Sabrina S04 E01 WebRip Hindi English 480p MSubs - mkvCinemas.mkv'\n",
            "'/content/gdrive/Shareddrives/Abhi2/Copy of Web Series/2021/Chilling Adventures Of Sabrina 480P/Season_02/Chilling Adventures of Sabrina S04 E02 WebRip Hindi English 480p MSubs - mkvCinemas.mkv' -> '/content/gdrive/Shareddrives/Abhi/Web Series/2021/Chilling Adventures Of Sabrina 480P/Season_02/Chilling Adventures of Sabrina S04 E02 WebRip Hindi English 480p MSubs - mkvCinemas.mkv'\n",
            "'/content/gdrive/Shareddrives/Abhi2/Copy of Web Series/2021/Chilling Adventures Of Sabrina 480P/Season_02/Chilling Adventures of Sabrina S04 E03 WebRip Hindi English 480p MSubs - mkvCinemas.mkv' -> '/content/gdrive/Shareddrives/Abhi/Web Series/2021/Chilling Adventures Of Sabrina 480P/Season_02/Chilling Adventures of Sabrina S04 E03 WebRip Hindi English 480p MSubs - mkvCinemas.mkv'\n",
            "'/content/gdrive/Shareddrives/Abhi2/Copy of Web Series/2021/Chilling Adventures Of Sabrina 480P/Season_02/Chilling Adventures of Sabrina S04 E04 WebRip Hindi English 480p MSubs - mkvCinemas.mkv' -> '/content/gdrive/Shareddrives/Abhi/Web Series/2021/Chilling Adventures Of Sabrina 480P/Season_02/Chilling Adventures of Sabrina S04 E04 WebRip Hindi English 480p MSubs - mkvCinemas.mkv'\n",
            "'/content/gdrive/Shareddrives/Abhi2/Copy of Web Series/2021/Chilling Adventures Of Sabrina 480P/Season_02/Chilling Adventures of Sabrina S04 E05 WebRip Hindi English 480p MSubs - mkvCinemas.mkv' -> '/content/gdrive/Shareddrives/Abhi/Web Series/2021/Chilling Adventures Of Sabrina 480P/Season_02/Chilling Adventures of Sabrina S04 E05 WebRip Hindi English 480p MSubs - mkvCinemas.mkv'\n",
            "'/content/gdrive/Shareddrives/Abhi2/Copy of Web Series/2021/Chilling Adventures Of Sabrina 480P/Season_02/Chilling Adventures of Sabrina S04 E06 WebRip Hindi English 480p MSubs - mkvCinemas.mkv' -> '/content/gdrive/Shareddrives/Abhi/Web Series/2021/Chilling Adventures Of Sabrina 480P/Season_02/Chilling Adventures of Sabrina S04 E06 WebRip Hindi English 480p MSubs - mkvCinemas.mkv'\n",
            "'/content/gdrive/Shareddrives/Abhi2/Copy of Web Series/2021/Chilling Adventures Of Sabrina 480P/Season_02/Chilling Adventures of Sabrina S04 E07 WebRip Hindi English 480p MSubs - mkvCinemas.mkv' -> '/content/gdrive/Shareddrives/Abhi/Web Series/2021/Chilling Adventures Of Sabrina 480P/Season_02/Chilling Adventures of Sabrina S04 E07 WebRip Hindi English 480p MSubs - mkvCinemas.mkv'\n",
            "'/content/gdrive/Shareddrives/Abhi2/Copy of Web Series/2021/Chilling Adventures Of Sabrina 480P/Season_02/Chilling Adventures of Sabrina S04 E08 WebRip Hindi English 480p MSubs - mkvCinemas.mkv' -> '/content/gdrive/Shareddrives/Abhi/Web Series/2021/Chilling Adventures Of Sabrina 480P/Season_02/Chilling Adventures of Sabrina S04 E08 WebRip Hindi English 480p MSubs - mkvCinemas.mkv'\n",
            "'/content/gdrive/Shareddrives/Abhi2/Copy of Web Series/2021/Bullets S01 480P' -> '/content/gdrive/Shareddrives/Abhi/Web Series/2021/Bullets S01 480P'\n",
            "'/content/gdrive/Shareddrives/Abhi2/Copy of Web Series/2021/Bullets S01 480P/Bullets.S01.E01.Hindi.720p.AB-Movies.mkv' -> '/content/gdrive/Shareddrives/Abhi/Web Series/2021/Bullets S01 480P/Bullets.S01.E01.Hindi.720p.AB-Movies.mkv'\n",
            "'/content/gdrive/Shareddrives/Abhi2/Copy of Web Series/2021/Bullets S01 480P/Bullets.S01.E02.Hindi.720p.AB-Movies.mkv' -> '/content/gdrive/Shareddrives/Abhi/Web Series/2021/Bullets S01 480P/Bullets.S01.E02.Hindi.720p.AB-Movies.mkv'\n",
            "'/content/gdrive/Shareddrives/Abhi2/Copy of Web Series/2021/Bullets S01 480P/Bullets.S01.E03.Hindi.720p.AB-Movies.mkv' -> '/content/gdrive/Shareddrives/Abhi/Web Series/2021/Bullets S01 480P/Bullets.S01.E03.Hindi.720p.AB-Movies.mkv'\n",
            "'/content/gdrive/Shareddrives/Abhi2/Copy of Web Series/2021/Bullets S01 480P/Bullets.S01.E04.Hindi.720p.AB-Movies.mkv' -> '/content/gdrive/Shareddrives/Abhi/Web Series/2021/Bullets S01 480P/Bullets.S01.E04.Hindi.720p.AB-Movies.mkv'\n",
            "'/content/gdrive/Shareddrives/Abhi2/Copy of Web Series/2021/Bullets S01 480P/Bullets.S01.E05.Hindi.720p.AB-Movies.mkv' -> '/content/gdrive/Shareddrives/Abhi/Web Series/2021/Bullets S01 480P/Bullets.S01.E05.Hindi.720p.AB-Movies.mkv'\n",
            "'/content/gdrive/Shareddrives/Abhi2/Copy of Web Series/2021/Bullets S01 480P/Bullets.S01.E06.Hindi.720p.AB-Movies.mkv' -> '/content/gdrive/Shareddrives/Abhi/Web Series/2021/Bullets S01 480P/Bullets.S01.E06.Hindi.720p.AB-Movies.mkv'\n",
            "'/content/gdrive/Shareddrives/Abhi2/Copy of Web Series/2021/Mighty Little Bheem Kite Festival S01' -> '/content/gdrive/Shareddrives/Abhi/Web Series/2021/Mighty Little Bheem Kite Festival S01'\n",
            "'/content/gdrive/Shareddrives/Abhi2/Copy of Web Series/2021/Mighty Little Bheem Kite Festival S01/Mighty Little Bheem Kite Festival S01 E01 WebRip Hindi English 480p ESub - mkvCinemas.mkv' -> '/content/gdrive/Shareddrives/Abhi/Web Series/2021/Mighty Little Bheem Kite Festival S01/Mighty Little Bheem Kite Festival S01 E01 WebRip Hindi English 480p ESub - mkvCinemas.mkv'\n",
            "'/content/gdrive/Shareddrives/Abhi2/Copy of Web Series/2021/Mighty Little Bheem Kite Festival S01/Mighty Little Bheem Kite Festival S01 E02 WebRip Hindi English 480p ESub - mkvCinemas.mkv' -> '/content/gdrive/Shareddrives/Abhi/Web Series/2021/Mighty Little Bheem Kite Festival S01/Mighty Little Bheem Kite Festival S01 E02 WebRip Hindi English 480p ESub - mkvCinemas.mkv'\n",
            "'/content/gdrive/Shareddrives/Abhi2/Copy of Web Series/2021/Mighty Little Bheem Kite Festival S01/Mighty Little Bheem Kite Festival S01 E03 WebRip Hindi English 480p ESub - mkvCinemas.mkv' -> '/content/gdrive/Shareddrives/Abhi/Web Series/2021/Mighty Little Bheem Kite Festival S01/Mighty Little Bheem Kite Festival S01 E03 WebRip Hindi English 480p ESub - mkvCinemas.mkv'\n",
            "'/content/gdrive/Shareddrives/Abhi2/Copy of Web Series/2021/Tandav 2021 480p' -> '/content/gdrive/Shareddrives/Abhi/Web Series/2021/Tandav 2021 480p'\n",
            "'/content/gdrive/Shareddrives/Abhi2/Copy of Web Series/2021/Tandav 2021 480p/Tandav S01 E01 WebRip Hindi 480p MSubs - mkvCinemas.mkv' -> '/content/gdrive/Shareddrives/Abhi/Web Series/2021/Tandav 2021 480p/Tandav S01 E01 WebRip Hindi 480p MSubs - mkvCinemas.mkv'\n",
            "'/content/gdrive/Shareddrives/Abhi2/Copy of Web Series/2021/Tandav 2021 480p/Tandav S01 E02 WebRip Hindi 480p MSubs - mkvCinemas.mkv' -> '/content/gdrive/Shareddrives/Abhi/Web Series/2021/Tandav 2021 480p/Tandav S01 E02 WebRip Hindi 480p MSubs - mkvCinemas.mkv'\n",
            "'/content/gdrive/Shareddrives/Abhi2/Copy of Web Series/2021/Tandav 2021 480p/Tandav S01 E03 WebRip Hindi 480p MSubs - mkvCinemas.mkv' -> '/content/gdrive/Shareddrives/Abhi/Web Series/2021/Tandav 2021 480p/Tandav S01 E03 WebRip Hindi 480p MSubs - mkvCinemas.mkv'\n",
            "'/content/gdrive/Shareddrives/Abhi2/Copy of Web Series/2021/Tandav 2021 480p/Tandav S01 E04 WebRip Hindi 480p MSubs - mkvCinemas.mkv' -> '/content/gdrive/Shareddrives/Abhi/Web Series/2021/Tandav 2021 480p/Tandav S01 E04 WebRip Hindi 480p MSubs - mkvCinemas.mkv'\n",
            "'/content/gdrive/Shareddrives/Abhi2/Copy of Web Series/2021/Tandav 2021 480p/Tandav S01 E05 WebRip Hindi 480p MSubs - mkvCinemas.mkv' -> '/content/gdrive/Shareddrives/Abhi/Web Series/2021/Tandav 2021 480p/Tandav S01 E05 WebRip Hindi 480p MSubs - mkvCinemas.mkv'\n",
            "'/content/gdrive/Shareddrives/Abhi2/Copy of Web Series/2021/Tandav 2021 480p/Tandav.S01.Complete.480p.Hindi.WEB-DL.x264.ESub-AB-Movies.zip' -> '/content/gdrive/Shareddrives/Abhi/Web Series/2021/Tandav 2021 480p/Tandav.S01.Complete.480p.Hindi.WEB-DL.x264.ESub-AB-Movies.zip'\n",
            "'/content/gdrive/Shareddrives/Abhi2/Copy of Web Series/2021/Tandav 2021 480p/Tandav S01 E06 WebRip Hindi 480p MSubs - mkvCinemas.mkv' -> '/content/gdrive/Shareddrives/Abhi/Web Series/2021/Tandav 2021 480p/Tandav S01 E06 WebRip Hindi 480p MSubs - mkvCinemas.mkv'\n",
            "'/content/gdrive/Shareddrives/Abhi2/Copy of Web Series/2021/Tandav 2021 480p/Tandav S01 E07 WebRip Hindi 480p MSubs - mkvCinemas.mkv' -> '/content/gdrive/Shareddrives/Abhi/Web Series/2021/Tandav 2021 480p/Tandav S01 E07 WebRip Hindi 480p MSubs - mkvCinemas.mkv'\n",
            "'/content/gdrive/Shareddrives/Abhi2/Copy of Web Series/2021/Tandav 2021 480p/Tandav S01 E08 WebRip Hindi 480p MSubs - mkvCinemas.mkv' -> '/content/gdrive/Shareddrives/Abhi/Web Series/2021/Tandav 2021 480p/Tandav S01 E08 WebRip Hindi 480p MSubs - mkvCinemas.mkv'\n",
            "'/content/gdrive/Shareddrives/Abhi2/Copy of Web Series/2021/Tandav 2021 480p/Tandav S01 E09 WebRip Hindi 480p MSubs - mkvCinemas.mkv' -> '/content/gdrive/Shareddrives/Abhi/Web Series/2021/Tandav 2021 480p/Tandav S01 E09 WebRip Hindi 480p MSubs - mkvCinemas.mkv'\n",
            "'/content/gdrive/Shareddrives/Abhi2/Copy of Web Series/2021/Gullak 480P' -> '/content/gdrive/Shareddrives/Abhi/Web Series/2021/Gullak 480P'\n",
            "'/content/gdrive/Shareddrives/Abhi2/Copy of Web Series/2021/Gullak 480P/S02' -> '/content/gdrive/Shareddrives/Abhi/Web Series/2021/Gullak 480P/S02'\n",
            "'/content/gdrive/Shareddrives/Abhi2/Copy of Web Series/2021/Gullak 480P/S02/Gullak S02 E01 WebRip Hindi 480p ESub - mkvCinemas.mkv' -> '/content/gdrive/Shareddrives/Abhi/Web Series/2021/Gullak 480P/S02/Gullak S02 E01 WebRip Hindi 480p ESub - mkvCinemas.mkv'\n",
            "'/content/gdrive/Shareddrives/Abhi2/Copy of Web Series/2021/Gullak 480P/S02/Gullak S02 E02 WebRip Hindi 480p ESub - mkvCinemas.mkv' -> '/content/gdrive/Shareddrives/Abhi/Web Series/2021/Gullak 480P/S02/Gullak S02 E02 WebRip Hindi 480p ESub - mkvCinemas.mkv'\n",
            "'/content/gdrive/Shareddrives/Abhi2/Copy of Web Series/2021/Gullak 480P/S02/Gullak S02 E03 WebRip Hindi 480p ESub - mkvCinemas.mkv' -> '/content/gdrive/Shareddrives/Abhi/Web Series/2021/Gullak 480P/S02/Gullak S02 E03 WebRip Hindi 480p ESub - mkvCinemas.mkv'\n",
            "'/content/gdrive/Shareddrives/Abhi2/Copy of Web Series/2021/Gullak 480P/S02/Gullak S02 E04 WebRip Hindi 480p ESub - mkvCinemas.mkv' -> '/content/gdrive/Shareddrives/Abhi/Web Series/2021/Gullak 480P/S02/Gullak S02 E04 WebRip Hindi 480p ESub - mkvCinemas.mkv'\n",
            "'/content/gdrive/Shareddrives/Abhi2/Copy of Web Series/2021/Gullak 480P/S02/Gullak S02 E05 WebRip Hindi 480p ESub - mkvCinemas.mkv' -> '/content/gdrive/Shareddrives/Abhi/Web Series/2021/Gullak 480P/S02/Gullak S02 E05 WebRip Hindi 480p ESub - mkvCinemas.mkv'\n",
            "'/content/gdrive/Shareddrives/Abhi2/Copy of Web Series/2021/Gullak 480P/S02/Gullak S02 E01-05 WebRip Hindi 480p ESub - AB Movies.rar' -> '/content/gdrive/Shareddrives/Abhi/Web Series/2021/Gullak 480P/S02/Gullak S02 E01-05 WebRip Hindi 480p ESub - AB Movies.rar'\n",
            "'/content/gdrive/Shareddrives/Abhi2/Copy of Web Series/2021/Gullak 480P/S01' -> '/content/gdrive/Shareddrives/Abhi/Web Series/2021/Gullak 480P/S01'\n",
            "'/content/gdrive/Shareddrives/Abhi2/Copy of Web Series/2021/Gullak 480P/S01/Gullak 2019 S01 E01-05 WebRip Hindi 480p Ab Movies.mkv' -> '/content/gdrive/Shareddrives/Abhi/Web Series/2021/Gullak 480P/S01/Gullak 2019 S01 E01-05 WebRip Hindi 480p Ab Movies.mkv'\n",
            "'/content/gdrive/Shareddrives/Abhi2/Copy of Web Series/2021/Gandi Baat S06 480P' -> '/content/gdrive/Shareddrives/Abhi/Web Series/2021/Gandi Baat S06 480P'\n",
            "'/content/gdrive/Shareddrives/Abhi2/Copy of Web Series/2021/Gandi Baat S06 480P/Gandii Baat S06 E01 WebRip Hindi 480p ESub - Ab Movies.mkv' -> '/content/gdrive/Shareddrives/Abhi/Web Series/2021/Gandi Baat S06 480P/Gandii Baat S06 E01 WebRip Hindi 480p ESub - Ab Movies.mkv'\n",
            "'/content/gdrive/Shareddrives/Abhi2/Copy of Web Series/2021/Gandi Baat S06 480P/Gandii Baat S06 E02 WebRip Hindi 480p ESub - Ab Movies.mkv' -> '/content/gdrive/Shareddrives/Abhi/Web Series/2021/Gandi Baat S06 480P/Gandii Baat S06 E02 WebRip Hindi 480p ESub - Ab Movies.mkv'\n",
            "'/content/gdrive/Shareddrives/Abhi2/Copy of Web Series/2021/Kuruthi Kalsm S01 480P-2021' -> '/content/gdrive/Shareddrives/Abhi/Web Series/2021/Kuruthi Kalsm S01 480P-2021'\n",
            "'/content/gdrive/Shareddrives/Abhi2/Copy of Web Series/2021/Kuruthi Kalsm S01 480P-2021/Kuruthi Kalam S01 E01 WebRip Hindi 480p - mkvCinemas.mkv' -> '/content/gdrive/Shareddrives/Abhi/Web Series/2021/Kuruthi Kalsm S01 480P-2021/Kuruthi Kalam S01 E01 WebRip Hindi 480p - mkvCinemas.mkv'\n",
            "'/content/gdrive/Shareddrives/Abhi2/Copy of Web Series/2021/Kuruthi Kalsm S01 480P-2021/Kuruthi Kalam S01 E02 WebRip Hindi 480p - mkvCinemas.mkv' -> '/content/gdrive/Shareddrives/Abhi/Web Series/2021/Kuruthi Kalsm S01 480P-2021/Kuruthi Kalam S01 E02 WebRip Hindi 480p - mkvCinemas.mkv'\n",
            "'/content/gdrive/Shareddrives/Abhi2/Copy of Web Series/2021/Kuruthi Kalsm S01 480P-2021/Kuruthi Kalam S01 E03 WebRip Hindi 480p - mkvCinemas.mkv' -> '/content/gdrive/Shareddrives/Abhi/Web Series/2021/Kuruthi Kalsm S01 480P-2021/Kuruthi Kalam S01 E03 WebRip Hindi 480p - mkvCinemas.mkv'\n",
            "'/content/gdrive/Shareddrives/Abhi2/Copy of Web Series/2021/Kuruthi Kalsm S01 480P-2021/Kuruthi Kalam S01 E04 WebRip Hindi 480p - mkvCinemas.mkv' -> '/content/gdrive/Shareddrives/Abhi/Web Series/2021/Kuruthi Kalsm S01 480P-2021/Kuruthi Kalam S01 E04 WebRip Hindi 480p - mkvCinemas.mkv'\n",
            "'/content/gdrive/Shareddrives/Abhi2/Copy of Web Series/2021/Kuruthi Kalsm S01 480P-2021/Kuruthi Kalam S01 E05 WebRip Hindi 480p - mkvCinemas.mkv' -> '/content/gdrive/Shareddrives/Abhi/Web Series/2021/Kuruthi Kalsm S01 480P-2021/Kuruthi Kalam S01 E05 WebRip Hindi 480p - mkvCinemas.mkv'\n",
            "'/content/gdrive/Shareddrives/Abhi2/Copy of Web Series/2021/Kuruthi Kalsm S01 480P-2021/Kuruthi Kalam S01 E06 WebRip Hindi 480p - mkvCinemas.mkv' -> '/content/gdrive/Shareddrives/Abhi/Web Series/2021/Kuruthi Kalsm S01 480P-2021/Kuruthi Kalam S01 E06 WebRip Hindi 480p - mkvCinemas.mkv'\n",
            "'/content/gdrive/Shareddrives/Abhi2/Copy of Web Series/2021/Kuruthi Kalsm S01 480P-2021/Kuruthi Kalam S01 E07 WebRip Hindi 480p - mkvCinemas.mkv' -> '/content/gdrive/Shareddrives/Abhi/Web Series/2021/Kuruthi Kalsm S01 480P-2021/Kuruthi Kalam S01 E07 WebRip Hindi 480p - mkvCinemas.mkv'\n",
            "'/content/gdrive/Shareddrives/Abhi2/Copy of Web Series/2021/Kuruthi Kalsm S01 480P-2021/Kuruthi Kalam S01 E08 WebRip Hindi 480p - mkvCinemas.mkv' -> '/content/gdrive/Shareddrives/Abhi/Web Series/2021/Kuruthi Kalsm S01 480P-2021/Kuruthi Kalam S01 E08 WebRip Hindi 480p - mkvCinemas.mkv'\n",
            "'/content/gdrive/Shareddrives/Abhi2/Copy of Web Series/2021/Kuruthi Kalsm S01 480P-2021/Kuruthi Kalam S01 E09 WebRip Hindi 480p - mkvCinemas.mkv' -> '/content/gdrive/Shareddrives/Abhi/Web Series/2021/Kuruthi Kalsm S01 480P-2021/Kuruthi Kalam S01 E09 WebRip Hindi 480p - mkvCinemas.mkv'\n",
            "'/content/gdrive/Shareddrives/Abhi2/Copy of Web Series/2021/Kuruthi Kalsm S01 480P-2021/Kuruthi Kalam S01 E10 WebRip Hindi 480p - mkvCinemas.mkv' -> '/content/gdrive/Shareddrives/Abhi/Web Series/2021/Kuruthi Kalsm S01 480P-2021/Kuruthi Kalam S01 E10 WebRip Hindi 480p - mkvCinemas.mkv'\n",
            "'/content/gdrive/Shareddrives/Abhi2/Copy of Web Series/2021/Kuruthi Kalsm S01 480P-2021/Kuruthi Kalam S01 E11 WebRip Hindi 480p - mkvCinemas.mkv' -> '/content/gdrive/Shareddrives/Abhi/Web Series/2021/Kuruthi Kalsm S01 480P-2021/Kuruthi Kalam S01 E11 WebRip Hindi 480p - mkvCinemas.mkv'\n",
            "'/content/gdrive/Shareddrives/Abhi2/Copy of Web Series/2021/Kuruthi Kalsm S01 480P-2021/Kuruthi Kalam S01 E12 WebRip Hindi 480p - mkvCinemas.mkv' -> '/content/gdrive/Shareddrives/Abhi/Web Series/2021/Kuruthi Kalsm S01 480P-2021/Kuruthi Kalam S01 E12 WebRip Hindi 480p - mkvCinemas.mkv'\n",
            "'/content/gdrive/Shareddrives/Abhi2/Copy of Web Series/2021/Kuruthi Kalsm S01 480P-2021/Kuruthi Kalam S01 E13 WebRip Hindi 480p - mkvCinemas.mkv' -> '/content/gdrive/Shareddrives/Abhi/Web Series/2021/Kuruthi Kalsm S01 480P-2021/Kuruthi Kalam S01 E13 WebRip Hindi 480p - mkvCinemas.mkv'\n",
            "'/content/gdrive/Shareddrives/Abhi2/Copy of Web Series/2021/Kuruthi Kalsm S01 480P-2021/Kuruthi Kalam S01 E01-13 WebRip Hindi 480p - AB Movies.rar' -> '/content/gdrive/Shareddrives/Abhi/Web Series/2021/Kuruthi Kalsm S01 480P-2021/Kuruthi Kalam S01 E01-13 WebRip Hindi 480p - AB Movies.rar'\n",
            "'/content/gdrive/Shareddrives/Abhi2/Copy of Web Series/2021/Aapkey Kamrey Mein Koi Rehta Hai S01 MX' -> '/content/gdrive/Shareddrives/Abhi/Web Series/2021/Aapkey Kamrey Mein Koi Rehta Hai S01 MX'\n",
            "'/content/gdrive/Shareddrives/Abhi2/Copy of Web Series/2021/Aapkey Kamrey Mein Koi Rehta Hai S01 MX/Aapkey Kamrey Mein Koi Rehta Hai S01 E01 WebRip Hindi 480p - mkvCinemas.mkv' -> '/content/gdrive/Shareddrives/Abhi/Web Series/2021/Aapkey Kamrey Mein Koi Rehta Hai S01 MX/Aapkey Kamrey Mein Koi Rehta Hai S01 E01 WebRip Hindi 480p - mkvCinemas.mkv'\n",
            "'/content/gdrive/Shareddrives/Abhi2/Copy of Web Series/2021/Aapkey Kamrey Mein Koi Rehta Hai S01 MX/Aapkey Kamrey Mein Koi Rehta Hai S01 E02 WebRip Hindi 480p - mkvCinemas.mkv' -> '/content/gdrive/Shareddrives/Abhi/Web Series/2021/Aapkey Kamrey Mein Koi Rehta Hai S01 MX/Aapkey Kamrey Mein Koi Rehta Hai S01 E02 WebRip Hindi 480p - mkvCinemas.mkv'\n",
            "'/content/gdrive/Shareddrives/Abhi2/Copy of Web Series/2021/Aapkey Kamrey Mein Koi Rehta Hai S01 MX/Aapkey Kamrey Mein Koi Rehta Hai S01 E03 WebRip Hindi 480p - mkvCinemas.mkv' -> '/content/gdrive/Shareddrives/Abhi/Web Series/2021/Aapkey Kamrey Mein Koi Rehta Hai S01 MX/Aapkey Kamrey Mein Koi Rehta Hai S01 E03 WebRip Hindi 480p - mkvCinemas.mkv'\n",
            "'/content/gdrive/Shareddrives/Abhi2/Copy of Web Series/2021/Aapkey Kamrey Mein Koi Rehta Hai S01 MX/Aapkey Kamrey Mein Koi Rehta Hai S01 E04 WebRip Hindi 480p - mkvCinemas.mkv' -> '/content/gdrive/Shareddrives/Abhi/Web Series/2021/Aapkey Kamrey Mein Koi Rehta Hai S01 MX/Aapkey Kamrey Mein Koi Rehta Hai S01 E04 WebRip Hindi 480p - mkvCinemas.mkv'\n",
            "'/content/gdrive/Shareddrives/Abhi2/Copy of Web Series/2021/Aapkey Kamrey Mein Koi Rehta Hai S01 MX/Aapkey Kamrey Mein Koi Rehta Hai S01 E05 WebRip Hindi 480p - mkvCinemas.mkv' -> '/content/gdrive/Shareddrives/Abhi/Web Series/2021/Aapkey Kamrey Mein Koi Rehta Hai S01 MX/Aapkey Kamrey Mein Koi Rehta Hai S01 E05 WebRip Hindi 480p - mkvCinemas.mkv'\n",
            "'/content/gdrive/Shareddrives/Abhi2/Copy of Web Series/2021/Aapkey Kamrey Mein Koi Rehta Hai S01 MX/Aapkey Kamrey Mein Koi Rehta Hai S01 E01-05 WebRip Hindi 480p - AB Movies.rar' -> '/content/gdrive/Shareddrives/Abhi/Web Series/2021/Aapkey Kamrey Mein Koi Rehta Hai S01 MX/Aapkey Kamrey Mein Koi Rehta Hai S01 E01-05 WebRip Hindi 480p - AB Movies.rar'\n",
            "'/content/gdrive/Shareddrives/Abhi2/Copy of Web Series/2021/Fate: The Winx Saga S01 480P' -> '/content/gdrive/Shareddrives/Abhi/Web Series/2021/Fate: The Winx Saga S01 480P'\n",
            "'/content/gdrive/Shareddrives/Abhi2/Copy of Web Series/2021/Fate: The Winx Saga S01 480P/Fate The Winx Saga S01 E01 WebRip Hindi English 480p MSubs - mkvCinemas.mkv' -> '/content/gdrive/Shareddrives/Abhi/Web Series/2021/Fate: The Winx Saga S01 480P/Fate The Winx Saga S01 E01 WebRip Hindi English 480p MSubs - mkvCinemas.mkv'\n",
            "'/content/gdrive/Shareddrives/Abhi2/Copy of Web Series/2021/Fate: The Winx Saga S01 480P/Fate The Winx Saga S01 E02 WebRip Hindi English 480p MSubs - mkvCinemas.mkv' -> '/content/gdrive/Shareddrives/Abhi/Web Series/2021/Fate: The Winx Saga S01 480P/Fate The Winx Saga S01 E02 WebRip Hindi English 480p MSubs - mkvCinemas.mkv'\n",
            "'/content/gdrive/Shareddrives/Abhi2/Copy of Web Series/2021/Fate: The Winx Saga S01 480P/Fate The Winx Saga S01 E03 WebRip Hindi English 480p MSubs - mkvCinemas.mkv' -> '/content/gdrive/Shareddrives/Abhi/Web Series/2021/Fate: The Winx Saga S01 480P/Fate The Winx Saga S01 E03 WebRip Hindi English 480p MSubs - mkvCinemas.mkv'\n",
            "'/content/gdrive/Shareddrives/Abhi2/Copy of Web Series/2021/Fate: The Winx Saga S01 480P/Fate The Winx Saga S01 E04 WebRip Hindi English 480p MSubs - mkvCinemas.mkv' -> '/content/gdrive/Shareddrives/Abhi/Web Series/2021/Fate: The Winx Saga S01 480P/Fate The Winx Saga S01 E04 WebRip Hindi English 480p MSubs - mkvCinemas.mkv'\n",
            "'/content/gdrive/Shareddrives/Abhi2/Copy of Web Series/2021/Fate: The Winx Saga S01 480P/Fate The Winx Saga S01 E05 WebRip Hindi English 480p MSubs - mkvCinemas.mkv' -> '/content/gdrive/Shareddrives/Abhi/Web Series/2021/Fate: The Winx Saga S01 480P/Fate The Winx Saga S01 E05 WebRip Hindi English 480p MSubs - mkvCinemas.mkv'\n",
            "'/content/gdrive/Shareddrives/Abhi2/Copy of Web Series/2021/Fate: The Winx Saga S01 480P/Fate The Winx Saga S01 E06 WebRip Hindi English 480p MSubs - mkvCinemas.mkv' -> '/content/gdrive/Shareddrives/Abhi/Web Series/2021/Fate: The Winx Saga S01 480P/Fate The Winx Saga S01 E06 WebRip Hindi English 480p MSubs - mkvCinemas.mkv'\n",
            "'/content/gdrive/Shareddrives/Abhi2/Copy of Web Series/2021/Fate: The Winx Saga S01 480P/Fate The Winx Saga S01 E01-06 WebRip Hindi English 480p MSubs - AB Movies.rar' -> '/content/gdrive/Shareddrives/Abhi/Web Series/2021/Fate: The Winx Saga S01 480P/Fate The Winx Saga S01 E01-06 WebRip Hindi English 480p MSubs - AB Movies.rar'\n",
            "'/content/gdrive/Shareddrives/Abhi2/Copy of Web Series/2021/Bang Bang S01 480P' -> '/content/gdrive/Shareddrives/Abhi/Web Series/2021/Bang Bang S01 480P'\n",
            "'/content/gdrive/Shareddrives/Abhi2/Copy of Web Series/2021/Bang Bang S01 480P/Bang Bang S01 E01 WebRip Hindi 480p ESub - mkvCinemas.mkv' -> '/content/gdrive/Shareddrives/Abhi/Web Series/2021/Bang Bang S01 480P/Bang Bang S01 E01 WebRip Hindi 480p ESub - mkvCinemas.mkv'\n",
            "'/content/gdrive/Shareddrives/Abhi2/Copy of Web Series/2021/Bang Bang S01 480P/Bang Bang S01 E02 WebRip Hindi 480p ESub - mkvCinemas.mkv' -> '/content/gdrive/Shareddrives/Abhi/Web Series/2021/Bang Bang S01 480P/Bang Bang S01 E02 WebRip Hindi 480p ESub - mkvCinemas.mkv'\n",
            "'/content/gdrive/Shareddrives/Abhi2/Copy of Web Series/2021/Bang Bang S01 480P/Bang Bang S01 E03 WebRip Hindi 480p ESub - mkvCinemas.mkv' -> '/content/gdrive/Shareddrives/Abhi/Web Series/2021/Bang Bang S01 480P/Bang Bang S01 E03 WebRip Hindi 480p ESub - mkvCinemas.mkv'\n",
            "'/content/gdrive/Shareddrives/Abhi2/Copy of Web Series/2021/Bang Bang S01 480P/Bang Bang S01 E04 WebRip Hindi 480p ESub - mkvCinemas.mkv' -> '/content/gdrive/Shareddrives/Abhi/Web Series/2021/Bang Bang S01 480P/Bang Bang S01 E04 WebRip Hindi 480p ESub - mkvCinemas.mkv'\n",
            "'/content/gdrive/Shareddrives/Abhi2/Copy of Web Series/2021/Bang Bang S01 480P/Bang Bang S01 E05 WebRip Hindi 480p ESub - mkvCinemas.mkv' -> '/content/gdrive/Shareddrives/Abhi/Web Series/2021/Bang Bang S01 480P/Bang Bang S01 E05 WebRip Hindi 480p ESub - mkvCinemas.mkv'\n",
            "'/content/gdrive/Shareddrives/Abhi2/Copy of Web Series/2021/Bang Bang S01 480P/Bang Bang S01 E06 WebRip Hindi 480p ESub - mkvCinemas.mkv' -> '/content/gdrive/Shareddrives/Abhi/Web Series/2021/Bang Bang S01 480P/Bang Bang S01 E06 WebRip Hindi 480p ESub - mkvCinemas.mkv'\n",
            "'/content/gdrive/Shareddrives/Abhi2/Copy of Web Series/2021/Bang Bang S01 480P/Bang Bang S01 E07 WebRip Hindi 480p ESub - mkvCinemas.mkv' -> '/content/gdrive/Shareddrives/Abhi/Web Series/2021/Bang Bang S01 480P/Bang Bang S01 E07 WebRip Hindi 480p ESub - mkvCinemas.mkv'\n",
            "'/content/gdrive/Shareddrives/Abhi2/Copy of Web Series/2021/Bang Bang S01 480P/Bang Bang S01 E08 WebRip Hindi 480p ESub - mkvCinemas.mkv' -> '/content/gdrive/Shareddrives/Abhi/Web Series/2021/Bang Bang S01 480P/Bang Bang S01 E08 WebRip Hindi 480p ESub - mkvCinemas.mkv'\n",
            "'/content/gdrive/Shareddrives/Abhi2/Copy of Web Series/2021/Bang Bang S01 480P/Bang Bang S01 E09 WebRip Hindi 480p ESub - mkvCinemas.mkv' -> '/content/gdrive/Shareddrives/Abhi/Web Series/2021/Bang Bang S01 480P/Bang Bang S01 E09 WebRip Hindi 480p ESub - mkvCinemas.mkv'\n",
            "'/content/gdrive/Shareddrives/Abhi2/Copy of Web Series/2021/Bang Bang S01 480P/Bang Bang S01 E10 WebRip Hindi 480p ESub - mkvCinemas.mkv' -> '/content/gdrive/Shareddrives/Abhi/Web Series/2021/Bang Bang S01 480P/Bang Bang S01 E10 WebRip Hindi 480p ESub - mkvCinemas.mkv'\n",
            "'/content/gdrive/Shareddrives/Abhi2/Copy of Web Series/2021/Bang Bang S01 480P/Bang Bang S01 E01-10 WebRip Hindi 480p ESub - AB Movies.rar' -> '/content/gdrive/Shareddrives/Abhi/Web Series/2021/Bang Bang S01 480P/Bang Bang S01 E01-10 WebRip Hindi 480p ESub - AB Movies.rar'\n",
            "'/content/gdrive/Shareddrives/Abhi2/Copy of Web Series/2021/Hello Jee S01 480P' -> '/content/gdrive/Shareddrives/Abhi/Web Series/2021/Hello Jee S01 480P'\n",
            "'/content/gdrive/Shareddrives/Abhi2/Copy of Web Series/2021/Hello Jee S01 480P/Helllo Jee S01 E01 WebRip Hindi 480p ESub - mkvCinemas.mkv' -> '/content/gdrive/Shareddrives/Abhi/Web Series/2021/Hello Jee S01 480P/Helllo Jee S01 E01 WebRip Hindi 480p ESub - mkvCinemas.mkv'\n",
            "'/content/gdrive/Shareddrives/Abhi2/Copy of Web Series/2021/Hello Jee S01 480P/Helllo Jee S01 E02 WebRip Hindi 480p ESub - mkvCinemas.mkv' -> '/content/gdrive/Shareddrives/Abhi/Web Series/2021/Hello Jee S01 480P/Helllo Jee S01 E02 WebRip Hindi 480p ESub - mkvCinemas.mkv'\n",
            "'/content/gdrive/Shareddrives/Abhi2/Copy of Web Series/2021/Hello Jee S01 480P/Helllo Jee S01 E03 WebRip Hindi 480p ESub - mkvCinemas.mkv' -> '/content/gdrive/Shareddrives/Abhi/Web Series/2021/Hello Jee S01 480P/Helllo Jee S01 E03 WebRip Hindi 480p ESub - mkvCinemas.mkv'\n",
            "'/content/gdrive/Shareddrives/Abhi2/Copy of Web Series/2021/Hello Jee S01 480P/Helllo Jee S01 E04 WebRip Hindi 480p ESub - mkvCinemas.mkv' -> '/content/gdrive/Shareddrives/Abhi/Web Series/2021/Hello Jee S01 480P/Helllo Jee S01 E04 WebRip Hindi 480p ESub - mkvCinemas.mkv'\n",
            "'/content/gdrive/Shareddrives/Abhi2/Copy of Web Series/2021/Hello Jee S01 480P/Helllo Jee S01 E05 WebRip Hindi 480p ESub - mkvCinemas.mkv' -> '/content/gdrive/Shareddrives/Abhi/Web Series/2021/Hello Jee S01 480P/Helllo Jee S01 E05 WebRip Hindi 480p ESub - mkvCinemas.mkv'\n",
            "'/content/gdrive/Shareddrives/Abhi2/Copy of Web Series/2021/Hello Jee S01 480P/Helllo Jee S01 E06 WebRip Hindi 480p ESub - mkvCinemas.mkv' -> '/content/gdrive/Shareddrives/Abhi/Web Series/2021/Hello Jee S01 480P/Helllo Jee S01 E06 WebRip Hindi 480p ESub - mkvCinemas.mkv'\n",
            "'/content/gdrive/Shareddrives/Abhi2/Copy of Web Series/2021/Hello Jee S01 480P/Helllo Jee S01 E07 WebRip Hindi 480p ESub - mkvCinemas.mkv' -> '/content/gdrive/Shareddrives/Abhi/Web Series/2021/Hello Jee S01 480P/Helllo Jee S01 E07 WebRip Hindi 480p ESub - mkvCinemas.mkv'\n",
            "'/content/gdrive/Shareddrives/Abhi2/Copy of Web Series/2021/Hello Jee S01 480P/Helllo Jee S01 E08 WebRip Hindi 480p ESub - mkvCinemas.mkv' -> '/content/gdrive/Shareddrives/Abhi/Web Series/2021/Hello Jee S01 480P/Helllo Jee S01 E08 WebRip Hindi 480p ESub - mkvCinemas.mkv'\n",
            "'/content/gdrive/Shareddrives/Abhi2/Copy of Web Series/2021/Hello Jee S01 480P/Helllo Jee S01 E09 WebRip Hindi 480p ESub - mkvCinemas.mkv' -> '/content/gdrive/Shareddrives/Abhi/Web Series/2021/Hello Jee S01 480P/Helllo Jee S01 E09 WebRip Hindi 480p ESub - mkvCinemas.mkv'\n",
            "'/content/gdrive/Shareddrives/Abhi2/Copy of Web Series/2021/Hello Jee S01 480P/Helllo Jee S01 E10 WebRip Hindi 480p ESub - mkvCinemas.mkv' -> '/content/gdrive/Shareddrives/Abhi/Web Series/2021/Hello Jee S01 480P/Helllo Jee S01 E10 WebRip Hindi 480p ESub - mkvCinemas.mkv'\n",
            "'/content/gdrive/Shareddrives/Abhi2/Copy of Web Series/2021/Hello Jee S01 480P/Helllo Jee S01 E01-10 WebRip Hindi 480p ESub - AB Movies.rar' -> '/content/gdrive/Shareddrives/Abhi/Web Series/2021/Hello Jee S01 480P/Helllo Jee S01 E01-10 WebRip Hindi 480p ESub - AB Movies.rar'\n",
            "'/content/gdrive/Shareddrives/Abhi2/Copy of Web Series/2021/Snowpiercer 480P' -> '/content/gdrive/Shareddrives/Abhi/Web Series/2021/Snowpiercer 480P'\n",
            "'/content/gdrive/Shareddrives/Abhi2/Copy of Web Series/2021/Snowpiercer 480P/S02-480P' -> '/content/gdrive/Shareddrives/Abhi/Web Series/2021/Snowpiercer 480P/S02-480P'\n",
            "'/content/gdrive/Shareddrives/Abhi2/Copy of Web Series/2021/Snowpiercer 480P/S02-480P/Snowpiercer S02 E08 WebRip 480p Hindi English MSubs - mkvCinemas.mkv' -> '/content/gdrive/Shareddrives/Abhi/Web Series/2021/Snowpiercer 480P/S02-480P/Snowpiercer S02 E08 WebRip 480p Hindi English MSubs - mkvCinemas.mkv'\n",
            "'/content/gdrive/Shareddrives/Abhi2/Copy of Web Series/2021/Snowpiercer 480P/S02-480P/Snowpiercer S02 E07 WebRip Hindi English 480p MSubs - mkvCinemas.mkv' -> '/content/gdrive/Shareddrives/Abhi/Web Series/2021/Snowpiercer 480P/S02-480P/Snowpiercer S02 E07 WebRip Hindi English 480p MSubs - mkvCinemas.mkv'\n",
            "'/content/gdrive/Shareddrives/Abhi2/Copy of Web Series/2021/Snowpiercer 480P/S02-480P/Snowpiercer S02 E06 WebRip Hindi English 480p MSubs - mkvCinemas.mkv' -> '/content/gdrive/Shareddrives/Abhi/Web Series/2021/Snowpiercer 480P/S02-480P/Snowpiercer S02 E06 WebRip Hindi English 480p MSubs - mkvCinemas.mkv'\n",
            "'/content/gdrive/Shareddrives/Abhi2/Copy of Web Series/2021/Snowpiercer 480P/S02-480P/Snowpiercer S02 E05 WebRip Hindi English 480p MSubs - mkvCinemas.mkv' -> '/content/gdrive/Shareddrives/Abhi/Web Series/2021/Snowpiercer 480P/S02-480P/Snowpiercer S02 E05 WebRip Hindi English 480p MSubs - mkvCinemas.mkv'\n",
            "'/content/gdrive/Shareddrives/Abhi2/Copy of Web Series/2021/Snowpiercer 480P/S02-480P/Snowpiercer S02 E04 WebRip Hindi English 480p MSubs - mkvCinemas.mkv' -> '/content/gdrive/Shareddrives/Abhi/Web Series/2021/Snowpiercer 480P/S02-480P/Snowpiercer S02 E04 WebRip Hindi English 480p MSubs - mkvCinemas.mkv'\n",
            "'/content/gdrive/Shareddrives/Abhi2/Copy of Web Series/2021/Snowpiercer 480P/S02-480P/Snowpiercer S02 E03 WebRip Hindi English 480p MSubs - mkvCinemas.mkv' -> '/content/gdrive/Shareddrives/Abhi/Web Series/2021/Snowpiercer 480P/S02-480P/Snowpiercer S02 E03 WebRip Hindi English 480p MSubs - mkvCinemas.mkv'\n",
            "'/content/gdrive/Shareddrives/Abhi2/Copy of Web Series/2021/Snowpiercer 480P/S02-480P/Snowpiercer S02 E02 WebRip Hindi English 480p MSubs - mkvCinemas.mkv' -> '/content/gdrive/Shareddrives/Abhi/Web Series/2021/Snowpiercer 480P/S02-480P/Snowpiercer S02 E02 WebRip Hindi English 480p MSubs - mkvCinemas.mkv'\n",
            "'/content/gdrive/Shareddrives/Abhi2/Copy of Web Series/2021/Snowpiercer 480P/S02-480P/Snowpiercer S02 E01 WebRip Hindi English 480p MSubs - mkvCinemas.mkv' -> '/content/gdrive/Shareddrives/Abhi/Web Series/2021/Snowpiercer 480P/S02-480P/Snowpiercer S02 E01 WebRip Hindi English 480p MSubs - mkvCinemas.mkv'\n",
            "'/content/gdrive/Shareddrives/Abhi2/Copy of Web Series/2021/Snowpiercer 480P/S02-480P/Snowpiercer S02 E09 WebRip 480p Hindi English MSubs - mkvCinemas.mkv' -> '/content/gdrive/Shareddrives/Abhi/Web Series/2021/Snowpiercer 480P/S02-480P/Snowpiercer S02 E09 WebRip 480p Hindi English MSubs - mkvCinemas.mkv'\n",
            "'/content/gdrive/Shareddrives/Abhi2/Copy of Web Series/2021/Snowpiercer 480P/S02-480P/Snowpiercer S02 E10 WebRip 480p Hindi English MSubs - mkvCinemas.mkv' -> '/content/gdrive/Shareddrives/Abhi/Web Series/2021/Snowpiercer 480P/S02-480P/Snowpiercer S02 E10 WebRip 480p Hindi English MSubs - mkvCinemas.mkv'\n",
            "'/content/gdrive/Shareddrives/Abhi2/Copy of Web Series/2021/Snowpiercer 480P/S02-480P/Snowpiercer S02 E01-10 WebRip 480p Hindi English MSubs - AB Movies.rar' -> '/content/gdrive/Shareddrives/Abhi/Web Series/2021/Snowpiercer 480P/S02-480P/Snowpiercer S02 E01-10 WebRip 480p Hindi English MSubs - AB Movies.rar'\n",
            "'/content/gdrive/Shareddrives/Abhi2/Copy of Web Series/2021/Secrets of Sinauli S01 480P' -> '/content/gdrive/Shareddrives/Abhi/Web Series/2021/Secrets of Sinauli S01 480P'\n",
            "'/content/gdrive/Shareddrives/Abhi2/Copy of Web Series/2021/Secrets of Sinauli S01 480P/Secrets of Sinauli S01 E01 WebRip Hindi 480p ESub - Ab Movies.mkv' -> '/content/gdrive/Shareddrives/Abhi/Web Series/2021/Secrets of Sinauli S01 480P/Secrets of Sinauli S01 E01 WebRip Hindi 480p ESub - Ab Movies.mkv'\n",
            "'/content/gdrive/Shareddrives/Abhi2/Copy of Web Series/2021/LSD - Love Scandal and Doctors (2021) S01 480P' -> '/content/gdrive/Shareddrives/Abhi/Web Series/2021/LSD - Love Scandal and Doctors (2021) S01 480P'\n",
            "'/content/gdrive/Shareddrives/Abhi2/Copy of Web Series/2021/LSD - Love Scandal and Doctors (2021) S01 480P/LSD - Love Scandal and Doctors S01 E01 WebRip Hindi 480p ESub - mkvCinemas.mkv' -> '/content/gdrive/Shareddrives/Abhi/Web Series/2021/LSD - Love Scandal and Doctors (2021) S01 480P/LSD - Love Scandal and Doctors S01 E01 WebRip Hindi 480p ESub - mkvCinemas.mkv'\n",
            "'/content/gdrive/Shareddrives/Abhi2/Copy of Web Series/2021/LSD - Love Scandal and Doctors (2021) S01 480P/LSD - Love Scandal and Doctors S01 E02 WebRip Hindi 480p ESub - mkvCinemas.mkv' -> '/content/gdrive/Shareddrives/Abhi/Web Series/2021/LSD - Love Scandal and Doctors (2021) S01 480P/LSD - Love Scandal and Doctors S01 E02 WebRip Hindi 480p ESub - mkvCinemas.mkv'\n",
            "'/content/gdrive/Shareddrives/Abhi2/Copy of Web Series/2021/LSD - Love Scandal and Doctors (2021) S01 480P/LSD - Love Scandal and Doctors S01 E03 WebRip Hindi 480p ESub - mkvCinemas.mkv' -> '/content/gdrive/Shareddrives/Abhi/Web Series/2021/LSD - Love Scandal and Doctors (2021) S01 480P/LSD - Love Scandal and Doctors S01 E03 WebRip Hindi 480p ESub - mkvCinemas.mkv'\n",
            "'/content/gdrive/Shareddrives/Abhi2/Copy of Web Series/2021/LSD - Love Scandal and Doctors (2021) S01 480P/LSD - Love Scandal and Doctors S01 E04 WebRip Hindi 480p ESub - mkvCinemas.mkv' -> '/content/gdrive/Shareddrives/Abhi/Web Series/2021/LSD - Love Scandal and Doctors (2021) S01 480P/LSD - Love Scandal and Doctors S01 E04 WebRip Hindi 480p ESub - mkvCinemas.mkv'\n",
            "'/content/gdrive/Shareddrives/Abhi2/Copy of Web Series/2021/LSD - Love Scandal and Doctors (2021) S01 480P/LSD - Love Scandal and Doctors S01 E05 WebRip Hindi 480p ESub - mkvCinemas.mkv' -> '/content/gdrive/Shareddrives/Abhi/Web Series/2021/LSD - Love Scandal and Doctors (2021) S01 480P/LSD - Love Scandal and Doctors S01 E05 WebRip Hindi 480p ESub - mkvCinemas.mkv'\n",
            "'/content/gdrive/Shareddrives/Abhi2/Copy of Web Series/2021/LSD - Love Scandal and Doctors (2021) S01 480P/LSD - Love Scandal and Doctors S01 E06 WebRip Hindi 480p ESub - mkvCinemas.mkv' -> '/content/gdrive/Shareddrives/Abhi/Web Series/2021/LSD - Love Scandal and Doctors (2021) S01 480P/LSD - Love Scandal and Doctors S01 E06 WebRip Hindi 480p ESub - mkvCinemas.mkv'\n",
            "'/content/gdrive/Shareddrives/Abhi2/Copy of Web Series/2021/LSD - Love Scandal and Doctors (2021) S01 480P/LSD - Love Scandal and Doctors S01 E07 WebRip Hindi 480p ESub - mkvCinemas.mkv' -> '/content/gdrive/Shareddrives/Abhi/Web Series/2021/LSD - Love Scandal and Doctors (2021) S01 480P/LSD - Love Scandal and Doctors S01 E07 WebRip Hindi 480p ESub - mkvCinemas.mkv'\n",
            "'/content/gdrive/Shareddrives/Abhi2/Copy of Web Series/2021/LSD - Love Scandal and Doctors (2021) S01 480P/LSD - Love Scandal and Doctors S01 E08 WebRip Hindi 480p ESub - mkvCinemas.mkv' -> '/content/gdrive/Shareddrives/Abhi/Web Series/2021/LSD - Love Scandal and Doctors (2021) S01 480P/LSD - Love Scandal and Doctors S01 E08 WebRip Hindi 480p ESub - mkvCinemas.mkv'\n",
            "'/content/gdrive/Shareddrives/Abhi2/Copy of Web Series/2021/LSD - Love Scandal and Doctors (2021) S01 480P/LSD - Love Scandal and Doctors S01 E09 WebRip Hindi 480p ESub - mkvCinemas.mkv' -> '/content/gdrive/Shareddrives/Abhi/Web Series/2021/LSD - Love Scandal and Doctors (2021) S01 480P/LSD - Love Scandal and Doctors S01 E09 WebRip Hindi 480p ESub - mkvCinemas.mkv'\n",
            "'/content/gdrive/Shareddrives/Abhi2/Copy of Web Series/2021/LSD - Love Scandal and Doctors (2021) S01 480P/LSD - Love Scandal and Doctors S01 E10 WebRip Hindi 480p ESub - mkvCinemas.mkv' -> '/content/gdrive/Shareddrives/Abhi/Web Series/2021/LSD - Love Scandal and Doctors (2021) S01 480P/LSD - Love Scandal and Doctors S01 E10 WebRip Hindi 480p ESub - mkvCinemas.mkv'\n",
            "'/content/gdrive/Shareddrives/Abhi2/Copy of Web Series/2021/LSD - Love Scandal and Doctors (2021) S01 480P/LSD - Love Scandal and Doctors S01 E11 WebRip Hindi 480p ESub - mkvCinemas.mkv' -> '/content/gdrive/Shareddrives/Abhi/Web Series/2021/LSD - Love Scandal and Doctors (2021) S01 480P/LSD - Love Scandal and Doctors S01 E11 WebRip Hindi 480p ESub - mkvCinemas.mkv'\n",
            "'/content/gdrive/Shareddrives/Abhi2/Copy of Web Series/2021/LSD - Love Scandal and Doctors (2021) S01 480P/LSD - Love Scandal and Doctors S01 E12 WebRip Hindi 480p - mkvCinemas.mkv' -> '/content/gdrive/Shareddrives/Abhi/Web Series/2021/LSD - Love Scandal and Doctors (2021) S01 480P/LSD - Love Scandal and Doctors S01 E12 WebRip Hindi 480p - mkvCinemas.mkv'\n",
            "'/content/gdrive/Shareddrives/Abhi2/Copy of Web Series/2021/LSD - Love Scandal and Doctors (2021) S01 480P/LSD - Love Scandal and Doctors S01 E13 WebRip Hindi 480p ESub - mkvCinemas.mkv' -> '/content/gdrive/Shareddrives/Abhi/Web Series/2021/LSD - Love Scandal and Doctors (2021) S01 480P/LSD - Love Scandal and Doctors S01 E13 WebRip Hindi 480p ESub - mkvCinemas.mkv'\n",
            "'/content/gdrive/Shareddrives/Abhi2/Copy of Web Series/2021/LSD - Love Scandal and Doctors (2021) S01 480P/LSD - Love Scandal and Doctors S01 E14 WebRip Hindi 480p ESub - mkvCinemas.mkv' -> '/content/gdrive/Shareddrives/Abhi/Web Series/2021/LSD - Love Scandal and Doctors (2021) S01 480P/LSD - Love Scandal and Doctors S01 E14 WebRip Hindi 480p ESub - mkvCinemas.mkv'\n",
            "'/content/gdrive/Shareddrives/Abhi2/Copy of Web Series/2021/LSD - Love Scandal and Doctors (2021) S01 480P/LSD - Love Scandal and Doctors S01 E15 WebRip Hindi 480p ESub - mkvCinemas.mkv' -> '/content/gdrive/Shareddrives/Abhi/Web Series/2021/LSD - Love Scandal and Doctors (2021) S01 480P/LSD - Love Scandal and Doctors S01 E15 WebRip Hindi 480p ESub - mkvCinemas.mkv'\n",
            "'/content/gdrive/Shareddrives/Abhi2/Copy of Web Series/2021/LSD - Love Scandal and Doctors (2021) S01 480P/LSD - Love Scandal and Doctors S01 E01-15 WebRip Hindi 480p Ab Movies.rar' -> '/content/gdrive/Shareddrives/Abhi/Web Series/2021/LSD - Love Scandal and Doctors (2021) S01 480P/LSD - Love Scandal and Doctors S01 E01-15 WebRip Hindi 480p Ab Movies.rar'\n",
            "'/content/gdrive/Shareddrives/Abhi2/Copy of Web Series/2021/Live Telecast S01 480P' -> '/content/gdrive/Shareddrives/Abhi/Web Series/2021/Live Telecast S01 480P'\n",
            "'/content/gdrive/Shareddrives/Abhi2/Copy of Web Series/2021/Live Telecast S01 480P/Live Telecast S01 E01 WebRip Hindi 480p - mkvCinemas.mkv' -> '/content/gdrive/Shareddrives/Abhi/Web Series/2021/Live Telecast S01 480P/Live Telecast S01 E01 WebRip Hindi 480p - mkvCinemas.mkv'\n",
            "'/content/gdrive/Shareddrives/Abhi2/Copy of Web Series/2021/Live Telecast S01 480P/Live Telecast S01 E02 WebRip Hindi 480p - mkvCinemas.mkv' -> '/content/gdrive/Shareddrives/Abhi/Web Series/2021/Live Telecast S01 480P/Live Telecast S01 E02 WebRip Hindi 480p - mkvCinemas.mkv'\n",
            "'/content/gdrive/Shareddrives/Abhi2/Copy of Web Series/2021/Live Telecast S01 480P/Live Telecast S01 E03 WebRip Hindi 480p - mkvCinemas.mkv' -> '/content/gdrive/Shareddrives/Abhi/Web Series/2021/Live Telecast S01 480P/Live Telecast S01 E03 WebRip Hindi 480p - mkvCinemas.mkv'\n",
            "'/content/gdrive/Shareddrives/Abhi2/Copy of Web Series/2021/Live Telecast S01 480P/Live Telecast S01 E04 WebRip Hindi 480p - mkvCinemas.mkv' -> '/content/gdrive/Shareddrives/Abhi/Web Series/2021/Live Telecast S01 480P/Live Telecast S01 E04 WebRip Hindi 480p - mkvCinemas.mkv'\n",
            "'/content/gdrive/Shareddrives/Abhi2/Copy of Web Series/2021/Live Telecast S01 480P/Live Telecast S01 E05 WebRip Hindi 480p - mkvCinemas.mkv' -> '/content/gdrive/Shareddrives/Abhi/Web Series/2021/Live Telecast S01 480P/Live Telecast S01 E05 WebRip Hindi 480p - mkvCinemas.mkv'\n",
            "'/content/gdrive/Shareddrives/Abhi2/Copy of Web Series/2021/Live Telecast S01 480P/Live Telecast S01 E06 WebRip Hindi 480p - mkvCinemas.mkv' -> '/content/gdrive/Shareddrives/Abhi/Web Series/2021/Live Telecast S01 480P/Live Telecast S01 E06 WebRip Hindi 480p - mkvCinemas.mkv'\n",
            "'/content/gdrive/Shareddrives/Abhi2/Copy of Web Series/2021/Live Telecast S01 480P/Live Telecast S01 E07 WebRip Hindi 480p - mkvCinemas.mkv' -> '/content/gdrive/Shareddrives/Abhi/Web Series/2021/Live Telecast S01 480P/Live Telecast S01 E07 WebRip Hindi 480p - mkvCinemas.mkv'\n",
            "'/content/gdrive/Shareddrives/Abhi2/Copy of Web Series/2021/Live Telecast S01 480P/Live Telecast S01 E01-07 WebRip Hindi 480p - AB Movies.rar' -> '/content/gdrive/Shareddrives/Abhi/Web Series/2021/Live Telecast S01 480P/Live Telecast S01 E01-07 WebRip Hindi 480p - AB Movies.rar'\n",
            "'/content/gdrive/Shareddrives/Abhi2/Copy of Web Series/2021/Matkiphod S01 2021 480P' -> '/content/gdrive/Shareddrives/Abhi/Web Series/2021/Matkiphod S01 2021 480P'\n",
            "'/content/gdrive/Shareddrives/Abhi2/Copy of Web Series/2021/Matkiphod S01 2021 480P/Matkiphod S01 E01 WebRip Hindi 480p - mkvCinemas.mkv' -> '/content/gdrive/Shareddrives/Abhi/Web Series/2021/Matkiphod S01 2021 480P/Matkiphod S01 E01 WebRip Hindi 480p - mkvCinemas.mkv'\n",
            "'/content/gdrive/Shareddrives/Abhi2/Copy of Web Series/2021/Matkiphod S01 2021 480P/Matkiphod S01 E02 WebRip Hindi 480p - mkvCinemas.mkv' -> '/content/gdrive/Shareddrives/Abhi/Web Series/2021/Matkiphod S01 2021 480P/Matkiphod S01 E02 WebRip Hindi 480p - mkvCinemas.mkv'\n",
            "'/content/gdrive/Shareddrives/Abhi2/Copy of Web Series/2021/Matkiphod S01 2021 480P/Matkiphod S01 E03 WebRip Hindi 480p - mkvCinemas.mkv' -> '/content/gdrive/Shareddrives/Abhi/Web Series/2021/Matkiphod S01 2021 480P/Matkiphod S01 E03 WebRip Hindi 480p - mkvCinemas.mkv'\n",
            "'/content/gdrive/Shareddrives/Abhi2/Copy of Web Series/2021/Matkiphod S01 2021 480P/Matkiphod S01 E04 WebRip Hindi 480p - mkvCinemas.mkv' -> '/content/gdrive/Shareddrives/Abhi/Web Series/2021/Matkiphod S01 2021 480P/Matkiphod S01 E04 WebRip Hindi 480p - mkvCinemas.mkv'\n",
            "'/content/gdrive/Shareddrives/Abhi2/Copy of Web Series/2021/Matkiphod S01 2021 480P/Matkiphod S01 E05 WebRip Hindi 480p - mkvCinemas.mkv' -> '/content/gdrive/Shareddrives/Abhi/Web Series/2021/Matkiphod S01 2021 480P/Matkiphod S01 E05 WebRip Hindi 480p - mkvCinemas.mkv'\n",
            "'/content/gdrive/Shareddrives/Abhi2/Copy of Web Series/2021/Matkiphod S01 2021 480P/Matkiphod S01 E06 WebRip Hindi 480p - mkvCinemas.mkv' -> '/content/gdrive/Shareddrives/Abhi/Web Series/2021/Matkiphod S01 2021 480P/Matkiphod S01 E06 WebRip Hindi 480p - mkvCinemas.mkv'\n",
            "'/content/gdrive/Shareddrives/Abhi2/Copy of Web Series/2021/Matkiphod S01 2021 480P/Matkiphod S01 E01-06 WebRip Hindi 480p - AB Movies.rar' -> '/content/gdrive/Shareddrives/Abhi/Web Series/2021/Matkiphod S01 2021 480P/Matkiphod S01 E01-06 WebRip Hindi 480p - AB Movies.rar'\n",
            "'/content/gdrive/Shareddrives/Abhi2/Copy of Web Series/2021/Thoda Adjust Please S01 480P' -> '/content/gdrive/Shareddrives/Abhi/Web Series/2021/Thoda Adjust Please S01 480P'\n",
            "'/content/gdrive/Shareddrives/Abhi2/Copy of Web Series/2021/Thoda Adjust Please S01 480P/Thoda Adjust Please S01 E01 WebRip Hindi 480p ESub - mkvCinemas.mkv' -> '/content/gdrive/Shareddrives/Abhi/Web Series/2021/Thoda Adjust Please S01 480P/Thoda Adjust Please S01 E01 WebRip Hindi 480p ESub - mkvCinemas.mkv'\n",
            "'/content/gdrive/Shareddrives/Abhi2/Copy of Web Series/2021/Thoda Adjust Please S01 480P/Thoda Adjust Please S01 E02 WebRip Hindi 480p ESub - mkvCinemas.mkv' -> '/content/gdrive/Shareddrives/Abhi/Web Series/2021/Thoda Adjust Please S01 480P/Thoda Adjust Please S01 E02 WebRip Hindi 480p ESub - mkvCinemas.mkv'\n",
            "'/content/gdrive/Shareddrives/Abhi2/Copy of Web Series/2021/Thoda Adjust Please S01 480P/Thoda Adjust Please S01 E03 WebRip Hindi 480p ESub - mkvCinemas.mkv' -> '/content/gdrive/Shareddrives/Abhi/Web Series/2021/Thoda Adjust Please S01 480P/Thoda Adjust Please S01 E03 WebRip Hindi 480p ESub - mkvCinemas.mkv'\n",
            "'/content/gdrive/Shareddrives/Abhi2/Copy of Web Series/2021/Thoda Adjust Please S01 480P/Thoda Adjust Please S01 E04 WebRip Hindi 480p ESub - mkvCinemas.mkv' -> '/content/gdrive/Shareddrives/Abhi/Web Series/2021/Thoda Adjust Please S01 480P/Thoda Adjust Please S01 E04 WebRip Hindi 480p ESub - mkvCinemas.mkv'\n",
            "'/content/gdrive/Shareddrives/Abhi2/Copy of Web Series/2021/Thoda Adjust Please S01 480P/Thoda Adjust Please S01 E05 WebRip Hindi 480p ESub - mkvCinemas.mkv' -> '/content/gdrive/Shareddrives/Abhi/Web Series/2021/Thoda Adjust Please S01 480P/Thoda Adjust Please S01 E05 WebRip Hindi 480p ESub - mkvCinemas.mkv'\n",
            "'/content/gdrive/Shareddrives/Abhi2/Copy of Web Series/2021/Thoda Adjust Please S01 480P/Thoda Adjust Please S01 E06 WebRip Hindi 480p ESub - mkvCinemas.mkv' -> '/content/gdrive/Shareddrives/Abhi/Web Series/2021/Thoda Adjust Please S01 480P/Thoda Adjust Please S01 E06 WebRip Hindi 480p ESub - mkvCinemas.mkv'\n",
            "'/content/gdrive/Shareddrives/Abhi2/Copy of Web Series/2021/Thoda Adjust Please S01 480P/Thoda Adjust Please S01 E07 WebRip Hindi 480p ESub - mkvCinemas.mkv' -> '/content/gdrive/Shareddrives/Abhi/Web Series/2021/Thoda Adjust Please S01 480P/Thoda Adjust Please S01 E07 WebRip Hindi 480p ESub - mkvCinemas.mkv'\n",
            "'/content/gdrive/Shareddrives/Abhi2/Copy of Web Series/2021/Thoda Adjust Please S01 480P/Thoda Adjust Please S01 E08 WebRip Hindi 480p ESub - mkvCinemas.mkv' -> '/content/gdrive/Shareddrives/Abhi/Web Series/2021/Thoda Adjust Please S01 480P/Thoda Adjust Please S01 E08 WebRip Hindi 480p ESub - mkvCinemas.mkv'\n",
            "'/content/gdrive/Shareddrives/Abhi2/Copy of Web Series/2021/Thoda Adjust Please S01 480P/Thoda Adjust Please S01 E09 WebRip Hindi 480p ESub - mkvCinemas.mkv' -> '/content/gdrive/Shareddrives/Abhi/Web Series/2021/Thoda Adjust Please S01 480P/Thoda Adjust Please S01 E09 WebRip Hindi 480p ESub - mkvCinemas.mkv'\n",
            "'/content/gdrive/Shareddrives/Abhi2/Copy of Web Series/2021/Thoda Adjust Please S01 480P/Thoda Adjust Please S01 E10 WebRip Hindi 480p ESub - mkvCinemas.mkv' -> '/content/gdrive/Shareddrives/Abhi/Web Series/2021/Thoda Adjust Please S01 480P/Thoda Adjust Please S01 E10 WebRip Hindi 480p ESub - mkvCinemas.mkv'\n",
            "'/content/gdrive/Shareddrives/Abhi2/Copy of Web Series/2021/Thoda Adjust Please S01 480P/Thoda Adjust Please S01 E01-10 WebRip Hindi 480p ESub - AB Movies.rar' -> '/content/gdrive/Shareddrives/Abhi/Web Series/2021/Thoda Adjust Please S01 480P/Thoda Adjust Please S01 E01-10 WebRip Hindi 480p ESub - AB Movies.rar'\n",
            "'/content/gdrive/Shareddrives/Abhi2/Copy of Web Series/2021/Money Heist Collection Hindi 480P' -> '/content/gdrive/Shareddrives/Abhi/Web Series/2021/Money Heist Collection Hindi 480P'\n",
            "'/content/gdrive/Shareddrives/Abhi2/Copy of Web Series/2021/Money Heist Collection Hindi 480P/S01' -> '/content/gdrive/Shareddrives/Abhi/Web Series/2021/Money Heist Collection Hindi 480P/S01'\n",
            "'/content/gdrive/Shareddrives/Abhi2/Copy of Web Series/2021/Money Heist Collection Hindi 480P/S01/Money Heist S01 E01 WebRip Hindi English 480p ESub - mkvCinemas.mkv' -> '/content/gdrive/Shareddrives/Abhi/Web Series/2021/Money Heist Collection Hindi 480P/S01/Money Heist S01 E01 WebRip Hindi English 480p ESub - mkvCinemas.mkv'\n",
            "'/content/gdrive/Shareddrives/Abhi2/Copy of Web Series/2021/Money Heist Collection Hindi 480P/S01/Money Heist S01 E02 WebRip Hindi English 480p ESub - mkvCinemas.mkv' -> '/content/gdrive/Shareddrives/Abhi/Web Series/2021/Money Heist Collection Hindi 480P/S01/Money Heist S01 E02 WebRip Hindi English 480p ESub - mkvCinemas.mkv'\n",
            "'/content/gdrive/Shareddrives/Abhi2/Copy of Web Series/2021/Money Heist Collection Hindi 480P/S01/Money Heist S01 E03 WebRip Hindi English 480p ESub - mkvCinemas.mkv' -> '/content/gdrive/Shareddrives/Abhi/Web Series/2021/Money Heist Collection Hindi 480P/S01/Money Heist S01 E03 WebRip Hindi English 480p ESub - mkvCinemas.mkv'\n",
            "'/content/gdrive/Shareddrives/Abhi2/Copy of Web Series/2021/Money Heist Collection Hindi 480P/S01/Money Heist S01 E04 WebRip Hindi English 480p ESub - mkvCinemas.mkv' -> '/content/gdrive/Shareddrives/Abhi/Web Series/2021/Money Heist Collection Hindi 480P/S01/Money Heist S01 E04 WebRip Hindi English 480p ESub - mkvCinemas.mkv'\n",
            "'/content/gdrive/Shareddrives/Abhi2/Copy of Web Series/2021/Money Heist Collection Hindi 480P/S01/Money Heist S01 E05 WebRip Hindi English 480p ESub - mkvCinemas.mkv' -> '/content/gdrive/Shareddrives/Abhi/Web Series/2021/Money Heist Collection Hindi 480P/S01/Money Heist S01 E05 WebRip Hindi English 480p ESub - mkvCinemas.mkv'\n",
            "'/content/gdrive/Shareddrives/Abhi2/Copy of Web Series/2021/Money Heist Collection Hindi 480P/S01/Money Heist S01 E06 WebRip Hindi English 480p ESub - mkvCinemas.mkv' -> '/content/gdrive/Shareddrives/Abhi/Web Series/2021/Money Heist Collection Hindi 480P/S01/Money Heist S01 E06 WebRip Hindi English 480p ESub - mkvCinemas.mkv'\n",
            "'/content/gdrive/Shareddrives/Abhi2/Copy of Web Series/2021/Money Heist Collection Hindi 480P/S01/Money Heist S01 E07 WebRip Hindi English 480p ESub - mkvCinemas.mkv' -> '/content/gdrive/Shareddrives/Abhi/Web Series/2021/Money Heist Collection Hindi 480P/S01/Money Heist S01 E07 WebRip Hindi English 480p ESub - mkvCinemas.mkv'\n",
            "'/content/gdrive/Shareddrives/Abhi2/Copy of Web Series/2021/Money Heist Collection Hindi 480P/S01/Money Heist S01 E08 WebRip Hindi English 480p ESub - mkvCinemas.mkv' -> '/content/gdrive/Shareddrives/Abhi/Web Series/2021/Money Heist Collection Hindi 480P/S01/Money Heist S01 E08 WebRip Hindi English 480p ESub - mkvCinemas.mkv'\n",
            "'/content/gdrive/Shareddrives/Abhi2/Copy of Web Series/2021/Money Heist Collection Hindi 480P/S01/Money Heist S01 E09 WebRip Hindi English 480p ESub - mkvCinemas.mkv' -> '/content/gdrive/Shareddrives/Abhi/Web Series/2021/Money Heist Collection Hindi 480P/S01/Money Heist S01 E09 WebRip Hindi English 480p ESub - mkvCinemas.mkv'\n",
            "'/content/gdrive/Shareddrives/Abhi2/Copy of Web Series/2021/Money Heist Collection Hindi 480P/S01/Money Heist S01 E10 WebRip Hindi English 480p ESub - mkvCinemas.mkv' -> '/content/gdrive/Shareddrives/Abhi/Web Series/2021/Money Heist Collection Hindi 480P/S01/Money Heist S01 E10 WebRip Hindi English 480p ESub - mkvCinemas.mkv'\n",
            "'/content/gdrive/Shareddrives/Abhi2/Copy of Web Series/2021/Money Heist Collection Hindi 480P/S01/Money Heist S01 E11 WebRip Hindi English 480p ESub - mkvCinemas.mkv' -> '/content/gdrive/Shareddrives/Abhi/Web Series/2021/Money Heist Collection Hindi 480P/S01/Money Heist S01 E11 WebRip Hindi English 480p ESub - mkvCinemas.mkv'\n",
            "'/content/gdrive/Shareddrives/Abhi2/Copy of Web Series/2021/Money Heist Collection Hindi 480P/S01/Money Heist S01 E12 WebRip Hindi English 480p ESub - mkvCinemas.mkv' -> '/content/gdrive/Shareddrives/Abhi/Web Series/2021/Money Heist Collection Hindi 480P/S01/Money Heist S01 E12 WebRip Hindi English 480p ESub - mkvCinemas.mkv'\n",
            "'/content/gdrive/Shareddrives/Abhi2/Copy of Web Series/2021/Money Heist Collection Hindi 480P/S01/Money Heist S01 E13 WebRip Hindi English 480p ESub - mkvCinemas.mkv' -> '/content/gdrive/Shareddrives/Abhi/Web Series/2021/Money Heist Collection Hindi 480P/S01/Money Heist S01 E13 WebRip Hindi English 480p ESub - mkvCinemas.mkv'\n",
            "'/content/gdrive/Shareddrives/Abhi2/Copy of Web Series/2021/Money Heist Collection Hindi 480P/S01/Money Heist S01 E01-13 WebRip Hindi English 480p ESub - Ab Movies.rar' -> '/content/gdrive/Shareddrives/Abhi/Web Series/2021/Money Heist Collection Hindi 480P/S01/Money Heist S01 E01-13 WebRip Hindi English 480p ESub - Ab Movies.rar'\n",
            "'/content/gdrive/Shareddrives/Abhi2/Copy of Web Series/2021/Money Heist Collection Hindi 480P/S02' -> '/content/gdrive/Shareddrives/Abhi/Web Series/2021/Money Heist Collection Hindi 480P/S02'\n",
            "'/content/gdrive/Shareddrives/Abhi2/Copy of Web Series/2021/Money Heist Collection Hindi 480P/S02/Money Heist S02 E01 WebRip Hindi English 480p ESubs - mkvCinemas.mkv' -> '/content/gdrive/Shareddrives/Abhi/Web Series/2021/Money Heist Collection Hindi 480P/S02/Money Heist S02 E01 WebRip Hindi English 480p ESubs - mkvCinemas.mkv'\n",
            "'/content/gdrive/Shareddrives/Abhi2/Copy of Web Series/2021/Money Heist Collection Hindi 480P/S02/Money Heist S02 E02 WebRip Hindi English 480p ESubs - mkvCinemas.mkv' -> '/content/gdrive/Shareddrives/Abhi/Web Series/2021/Money Heist Collection Hindi 480P/S02/Money Heist S02 E02 WebRip Hindi English 480p ESubs - mkvCinemas.mkv'\n",
            "'/content/gdrive/Shareddrives/Abhi2/Copy of Web Series/2021/Money Heist Collection Hindi 480P/S02/Money Heist S02 E03 WebRip Hindi English 480p ESubs - mkvCinemas.mkv' -> '/content/gdrive/Shareddrives/Abhi/Web Series/2021/Money Heist Collection Hindi 480P/S02/Money Heist S02 E03 WebRip Hindi English 480p ESubs - mkvCinemas.mkv'\n",
            "'/content/gdrive/Shareddrives/Abhi2/Copy of Web Series/2021/Money Heist Collection Hindi 480P/S02/Money Heist S02 E04 WebRip Hindi English 480p ESubs - mkvCinemas.mkv' -> '/content/gdrive/Shareddrives/Abhi/Web Series/2021/Money Heist Collection Hindi 480P/S02/Money Heist S02 E04 WebRip Hindi English 480p ESubs - mkvCinemas.mkv'\n",
            "'/content/gdrive/Shareddrives/Abhi2/Copy of Web Series/2021/Money Heist Collection Hindi 480P/S02/Money Heist S02 E05 WebRip Hindi English 480p ESubs - mkvCinemas.mkv' -> '/content/gdrive/Shareddrives/Abhi/Web Series/2021/Money Heist Collection Hindi 480P/S02/Money Heist S02 E05 WebRip Hindi English 480p ESubs - mkvCinemas.mkv'\n",
            "'/content/gdrive/Shareddrives/Abhi2/Copy of Web Series/2021/Money Heist Collection Hindi 480P/S02/Money Heist S02 E06 WebRip Hindi English 480p ESubs - mkvCinemas.mkv' -> '/content/gdrive/Shareddrives/Abhi/Web Series/2021/Money Heist Collection Hindi 480P/S02/Money Heist S02 E06 WebRip Hindi English 480p ESubs - mkvCinemas.mkv'\n",
            "'/content/gdrive/Shareddrives/Abhi2/Copy of Web Series/2021/Money Heist Collection Hindi 480P/S02/Money Heist S02 E07 WebRip Hindi English 480p ESubs - mkvCinemas.mkv' -> '/content/gdrive/Shareddrives/Abhi/Web Series/2021/Money Heist Collection Hindi 480P/S02/Money Heist S02 E07 WebRip Hindi English 480p ESubs - mkvCinemas.mkv'\n",
            "'/content/gdrive/Shareddrives/Abhi2/Copy of Web Series/2021/Money Heist Collection Hindi 480P/S02/Money Heist S02 E08 WebRip Hindi English 480p ESubs - mkvCinemas.mkv' -> '/content/gdrive/Shareddrives/Abhi/Web Series/2021/Money Heist Collection Hindi 480P/S02/Money Heist S02 E08 WebRip Hindi English 480p ESubs - mkvCinemas.mkv'\n",
            "'/content/gdrive/Shareddrives/Abhi2/Copy of Web Series/2021/Money Heist Collection Hindi 480P/S02/Money Heist S02 E09 WebRip Hindi English 480p ESubs - mkvCinemas.mkv' -> '/content/gdrive/Shareddrives/Abhi/Web Series/2021/Money Heist Collection Hindi 480P/S02/Money Heist S02 E09 WebRip Hindi English 480p ESubs - mkvCinemas.mkv'\n",
            "'/content/gdrive/Shareddrives/Abhi2/Copy of Web Series/2021/Money Heist Collection Hindi 480P/S02/Money Heist S02 E01-09 WebRip Hindi English 480p ESubs - AB Movies.rar' -> '/content/gdrive/Shareddrives/Abhi/Web Series/2021/Money Heist Collection Hindi 480P/S02/Money Heist S02 E01-09 WebRip Hindi English 480p ESubs - AB Movies.rar'\n",
            "'/content/gdrive/Shareddrives/Abhi2/Copy of Web Series/2021/Money Heist Collection Hindi 480P/S03' -> '/content/gdrive/Shareddrives/Abhi/Web Series/2021/Money Heist Collection Hindi 480P/S03'\n",
            "'/content/gdrive/Shareddrives/Abhi2/Copy of Web Series/2021/Money Heist Collection Hindi 480P/S03/Money Heist S03 E01 WebRip Hindi English 480p ESub - mkvCinemas.mkv' -> '/content/gdrive/Shareddrives/Abhi/Web Series/2021/Money Heist Collection Hindi 480P/S03/Money Heist S03 E01 WebRip Hindi English 480p ESub - mkvCinemas.mkv'\n",
            "'/content/gdrive/Shareddrives/Abhi2/Copy of Web Series/2021/Money Heist Collection Hindi 480P/S03/Money Heist S03 E02 WebRip Hindi English 480p ESub - mkvCinemas.mkv' -> '/content/gdrive/Shareddrives/Abhi/Web Series/2021/Money Heist Collection Hindi 480P/S03/Money Heist S03 E02 WebRip Hindi English 480p ESub - mkvCinemas.mkv'\n",
            "'/content/gdrive/Shareddrives/Abhi2/Copy of Web Series/2021/Money Heist Collection Hindi 480P/S03/Money Heist S03 E03 WebRip Hindi English 480p ESub - mkvCinemas.mkv' -> '/content/gdrive/Shareddrives/Abhi/Web Series/2021/Money Heist Collection Hindi 480P/S03/Money Heist S03 E03 WebRip Hindi English 480p ESub - mkvCinemas.mkv'\n",
            "'/content/gdrive/Shareddrives/Abhi2/Copy of Web Series/2021/Money Heist Collection Hindi 480P/S03/Money Heist S03 E04 WebRip Hindi English 480p ESub - mkvCinemas.mkv' -> '/content/gdrive/Shareddrives/Abhi/Web Series/2021/Money Heist Collection Hindi 480P/S03/Money Heist S03 E04 WebRip Hindi English 480p ESub - mkvCinemas.mkv'\n",
            "'/content/gdrive/Shareddrives/Abhi2/Copy of Web Series/2021/Money Heist Collection Hindi 480P/S03/Money Heist S03 E05 WebRip Hindi English 480p ESub - mkvCinemas.mkv' -> '/content/gdrive/Shareddrives/Abhi/Web Series/2021/Money Heist Collection Hindi 480P/S03/Money Heist S03 E05 WebRip Hindi English 480p ESub - mkvCinemas.mkv'\n",
            "'/content/gdrive/Shareddrives/Abhi2/Copy of Web Series/2021/Money Heist Collection Hindi 480P/S03/Money Heist S03 E06 WebRip Hindi English 480p ESub - mkvCinemas.mkv' -> '/content/gdrive/Shareddrives/Abhi/Web Series/2021/Money Heist Collection Hindi 480P/S03/Money Heist S03 E06 WebRip Hindi English 480p ESub - mkvCinemas.mkv'\n",
            "'/content/gdrive/Shareddrives/Abhi2/Copy of Web Series/2021/Money Heist Collection Hindi 480P/S03/Money Heist S03 E07 WebRip Hindi English 480p ESub - mkvCinemas.mkv' -> '/content/gdrive/Shareddrives/Abhi/Web Series/2021/Money Heist Collection Hindi 480P/S03/Money Heist S03 E07 WebRip Hindi English 480p ESub - mkvCinemas.mkv'\n",
            "'/content/gdrive/Shareddrives/Abhi2/Copy of Web Series/2021/Money Heist Collection Hindi 480P/S03/Money Heist S03 E08 WebRip Hindi English 480p ESub - mkvCinemas.mkv' -> '/content/gdrive/Shareddrives/Abhi/Web Series/2021/Money Heist Collection Hindi 480P/S03/Money Heist S03 E08 WebRip Hindi English 480p ESub - mkvCinemas.mkv'\n",
            "'/content/gdrive/Shareddrives/Abhi2/Copy of Web Series/2021/Money Heist Collection Hindi 480P/S03/Money Heist S03 E01-08 WebRip Hindi English 480p ESub - Ab Movies.rar' -> '/content/gdrive/Shareddrives/Abhi/Web Series/2021/Money Heist Collection Hindi 480P/S03/Money Heist S03 E01-08 WebRip Hindi English 480p ESub - Ab Movies.rar'\n",
            "'/content/gdrive/Shareddrives/Abhi2/Copy of Web Series/2021/Money Heist Collection Hindi 480P/S04' -> '/content/gdrive/Shareddrives/Abhi/Web Series/2021/Money Heist Collection Hindi 480P/S04'\n",
            "'/content/gdrive/Shareddrives/Abhi2/Copy of Web Series/2021/Money Heist Collection Hindi 480P/S04/Money Heist S04 E01 WebRip Hindi English 480p ESubs - mkvCinemas.mkv' -> '/content/gdrive/Shareddrives/Abhi/Web Series/2021/Money Heist Collection Hindi 480P/S04/Money Heist S04 E01 WebRip Hindi English 480p ESubs - mkvCinemas.mkv'\n",
            "'/content/gdrive/Shareddrives/Abhi2/Copy of Web Series/2021/Money Heist Collection Hindi 480P/S04/Money Heist S04 E02 WebRip Hindi English 480p ESubs - mkvCinemas.mkv' -> '/content/gdrive/Shareddrives/Abhi/Web Series/2021/Money Heist Collection Hindi 480P/S04/Money Heist S04 E02 WebRip Hindi English 480p ESubs - mkvCinemas.mkv'\n",
            "'/content/gdrive/Shareddrives/Abhi2/Copy of Web Series/2021/Money Heist Collection Hindi 480P/S04/Money Heist S04 E03 WebRip Hindi English 480p ESubs - mkvCinemas.mkv' -> '/content/gdrive/Shareddrives/Abhi/Web Series/2021/Money Heist Collection Hindi 480P/S04/Money Heist S04 E03 WebRip Hindi English 480p ESubs - mkvCinemas.mkv'\n",
            "'/content/gdrive/Shareddrives/Abhi2/Copy of Web Series/2021/Money Heist Collection Hindi 480P/S04/Money Heist S04 E04 WebRip Hindi English 480p ESubs - mkvCinemas.mkv' -> '/content/gdrive/Shareddrives/Abhi/Web Series/2021/Money Heist Collection Hindi 480P/S04/Money Heist S04 E04 WebRip Hindi English 480p ESubs - mkvCinemas.mkv'\n",
            "'/content/gdrive/Shareddrives/Abhi2/Copy of Web Series/2021/Money Heist Collection Hindi 480P/S04/Money Heist S04 E05 WebRip Hindi English 480p ESubs - mkvCinemas.mkv' -> '/content/gdrive/Shareddrives/Abhi/Web Series/2021/Money Heist Collection Hindi 480P/S04/Money Heist S04 E05 WebRip Hindi English 480p ESubs - mkvCinemas.mkv'\n",
            "'/content/gdrive/Shareddrives/Abhi2/Copy of Web Series/2021/Money Heist Collection Hindi 480P/S04/Money Heist S04 E06 WebRip Hindi English 480p ESubs - mkvCinemas.mkv' -> '/content/gdrive/Shareddrives/Abhi/Web Series/2021/Money Heist Collection Hindi 480P/S04/Money Heist S04 E06 WebRip Hindi English 480p ESubs - mkvCinemas.mkv'\n",
            "'/content/gdrive/Shareddrives/Abhi2/Copy of Web Series/2021/Money Heist Collection Hindi 480P/S04/Money Heist S04 E07 WebRip Hindi English 480p ESubs - mkvCinemas.mkv' -> '/content/gdrive/Shareddrives/Abhi/Web Series/2021/Money Heist Collection Hindi 480P/S04/Money Heist S04 E07 WebRip Hindi English 480p ESubs - mkvCinemas.mkv'\n",
            "'/content/gdrive/Shareddrives/Abhi2/Copy of Web Series/2021/Money Heist Collection Hindi 480P/S04/Money Heist S04 E08 WebRip Hindi English 480p ESubs - mkvCinemas.mkv' -> '/content/gdrive/Shareddrives/Abhi/Web Series/2021/Money Heist Collection Hindi 480P/S04/Money Heist S04 E08 WebRip Hindi English 480p ESubs - mkvCinemas.mkv'\n",
            "'/content/gdrive/Shareddrives/Abhi2/Copy of Web Series/2021/Money Heist Collection Hindi 480P/S04/Money Heist S04 E01-08 WebRip Hindi English 480p ESubs - Ab Movies.rar' -> '/content/gdrive/Shareddrives/Abhi/Web Series/2021/Money Heist Collection Hindi 480P/S04/Money Heist S04 E01-08 WebRip Hindi English 480p ESubs - Ab Movies.rar'\n",
            "'/content/gdrive/Shareddrives/Abhi2/Copy of Web Series/2021/Pitta Kathalu S01 480P' -> '/content/gdrive/Shareddrives/Abhi/Web Series/2021/Pitta Kathalu S01 480P'\n",
            "'/content/gdrive/Shareddrives/Abhi2/Copy of Web Series/2021/Pitta Kathalu S01 480P/Pitta Kathalu S01 E01 WebRip Hindi 480p MSubs - mkvCinemas.mkv' -> '/content/gdrive/Shareddrives/Abhi/Web Series/2021/Pitta Kathalu S01 480P/Pitta Kathalu S01 E01 WebRip Hindi 480p MSubs - mkvCinemas.mkv'\n",
            "'/content/gdrive/Shareddrives/Abhi2/Copy of Web Series/2021/Pitta Kathalu S01 480P/Pitta Kathalu S01 E02 WebRip Hindi 480p MSubs - mkvCinemas.mkv' -> '/content/gdrive/Shareddrives/Abhi/Web Series/2021/Pitta Kathalu S01 480P/Pitta Kathalu S01 E02 WebRip Hindi 480p MSubs - mkvCinemas.mkv'\n",
            "'/content/gdrive/Shareddrives/Abhi2/Copy of Web Series/2021/Pitta Kathalu S01 480P/Pitta Kathalu S01 E03 WebRip Hindi 480p MSubs - mkvCinemas.mkv' -> '/content/gdrive/Shareddrives/Abhi/Web Series/2021/Pitta Kathalu S01 480P/Pitta Kathalu S01 E03 WebRip Hindi 480p MSubs - mkvCinemas.mkv'\n",
            "'/content/gdrive/Shareddrives/Abhi2/Copy of Web Series/2021/Pitta Kathalu S01 480P/Pitta Kathalu S01 E04 WebRip Hindi 480p MSubs - mkvCinemas.mkv' -> '/content/gdrive/Shareddrives/Abhi/Web Series/2021/Pitta Kathalu S01 480P/Pitta Kathalu S01 E04 WebRip Hindi 480p MSubs - mkvCinemas.mkv'\n",
            "'/content/gdrive/Shareddrives/Abhi2/Copy of Web Series/2021/Pitta Kathalu S01 480P/Pitta Kathalu S01 E01-04 WebRip Hindi 480p MSubs - Ab Movies.rar' -> '/content/gdrive/Shareddrives/Abhi/Web Series/2021/Pitta Kathalu S01 480P/Pitta Kathalu S01 E01-04 WebRip Hindi 480p MSubs - Ab Movies.rar'\n",
            "'/content/gdrive/Shareddrives/Abhi2/Copy of Web Series/2021/Zindagi inShort S01 480P' -> '/content/gdrive/Shareddrives/Abhi/Web Series/2021/Zindagi inShort S01 480P'\n",
            "'/content/gdrive/Shareddrives/Abhi2/Copy of Web Series/2021/Zindagi inShort S01 480P/Zindagi inShort S01 E01 WebRip Hindi 480p MSubs - mkvCinemas.mkv' -> '/content/gdrive/Shareddrives/Abhi/Web Series/2021/Zindagi inShort S01 480P/Zindagi inShort S01 E01 WebRip Hindi 480p MSubs - mkvCinemas.mkv'\n",
            "'/content/gdrive/Shareddrives/Abhi2/Copy of Web Series/2021/Zindagi inShort S01 480P/Zindagi inShort S01 E02 WebRip Hindi 480p MSubs - mkvCinemas.mkv' -> '/content/gdrive/Shareddrives/Abhi/Web Series/2021/Zindagi inShort S01 480P/Zindagi inShort S01 E02 WebRip Hindi 480p MSubs - mkvCinemas.mkv'\n",
            "'/content/gdrive/Shareddrives/Abhi2/Copy of Web Series/2021/Zindagi inShort S01 480P/Zindagi inShort S01 E03 WebRip Hindi 480p MSubs - mkvCinemas.mkv' -> '/content/gdrive/Shareddrives/Abhi/Web Series/2021/Zindagi inShort S01 480P/Zindagi inShort S01 E03 WebRip Hindi 480p MSubs - mkvCinemas.mkv'\n",
            "'/content/gdrive/Shareddrives/Abhi2/Copy of Web Series/2021/Zindagi inShort S01 480P/Zindagi inShort S01 E04 WebRip Hindi 480p MSubs - mkvCinemas.mkv' -> '/content/gdrive/Shareddrives/Abhi/Web Series/2021/Zindagi inShort S01 480P/Zindagi inShort S01 E04 WebRip Hindi 480p MSubs - mkvCinemas.mkv'\n",
            "'/content/gdrive/Shareddrives/Abhi2/Copy of Web Series/2021/Zindagi inShort S01 480P/Zindagi inShort S01 E05 WebRip Hindi 480p MSubs - mkvCinemas.mkv' -> '/content/gdrive/Shareddrives/Abhi/Web Series/2021/Zindagi inShort S01 480P/Zindagi inShort S01 E05 WebRip Hindi 480p MSubs - mkvCinemas.mkv'\n",
            "'/content/gdrive/Shareddrives/Abhi2/Copy of Web Series/2021/Zindagi inShort S01 480P/Zindagi inShort S01 E06 WebRip Hindi 480p MSubs - mkvCinemas.mkv' -> '/content/gdrive/Shareddrives/Abhi/Web Series/2021/Zindagi inShort S01 480P/Zindagi inShort S01 E06 WebRip Hindi 480p MSubs - mkvCinemas.mkv'\n",
            "'/content/gdrive/Shareddrives/Abhi2/Copy of Web Series/2021/Zindagi inShort S01 480P/Zindagi inShort S01 E07 WebRip Hindi 480p MSubs - mkvCinemas.mkv' -> '/content/gdrive/Shareddrives/Abhi/Web Series/2021/Zindagi inShort S01 480P/Zindagi inShort S01 E07 WebRip Hindi 480p MSubs - mkvCinemas.mkv'\n",
            "'/content/gdrive/Shareddrives/Abhi2/Copy of Web Series/2021/Zindagi inShort S01 480P/Zindagi inShort S01 E01-07 WebRip Hindi 480p MSubs - AB Movies.rar' -> '/content/gdrive/Shareddrives/Abhi/Web Series/2021/Zindagi inShort S01 480P/Zindagi inShort S01 E01-07 WebRip Hindi 480p MSubs - AB Movies.rar'\n",
            "'/content/gdrive/Shareddrives/Abhi2/Copy of Web Series/2021/1962 The War in the Hills S01 480P' -> '/content/gdrive/Shareddrives/Abhi/Web Series/2021/1962 The War in the Hills S01 480P'\n",
            "'/content/gdrive/Shareddrives/Abhi2/Copy of Web Series/2021/1962 The War in the Hills S01 480P/1962 The War in the Hills S01 E01 WebRip Hindi 480p ESub - mkvCinemas.mkv' -> '/content/gdrive/Shareddrives/Abhi/Web Series/2021/1962 The War in the Hills S01 480P/1962 The War in the Hills S01 E01 WebRip Hindi 480p ESub - mkvCinemas.mkv'\n",
            "'/content/gdrive/Shareddrives/Abhi2/Copy of Web Series/2021/1962 The War in the Hills S01 480P/1962 The War in the Hills S01 E02 WebRip Hindi 480p ESub - mkvCinemas.mkv' -> '/content/gdrive/Shareddrives/Abhi/Web Series/2021/1962 The War in the Hills S01 480P/1962 The War in the Hills S01 E02 WebRip Hindi 480p ESub - mkvCinemas.mkv'\n",
            "'/content/gdrive/Shareddrives/Abhi2/Copy of Web Series/2021/1962 The War in the Hills S01 480P/1962 The War in the Hills S01 E03 WebRip Hindi 480p ESub - mkvCinemas.mkv' -> '/content/gdrive/Shareddrives/Abhi/Web Series/2021/1962 The War in the Hills S01 480P/1962 The War in the Hills S01 E03 WebRip Hindi 480p ESub - mkvCinemas.mkv'\n",
            "'/content/gdrive/Shareddrives/Abhi2/Copy of Web Series/2021/1962 The War in the Hills S01 480P/1962 The War in the Hills S01 E04 WebRip Hindi 480p ESub - mkvCinemas.mkv' -> '/content/gdrive/Shareddrives/Abhi/Web Series/2021/1962 The War in the Hills S01 480P/1962 The War in the Hills S01 E04 WebRip Hindi 480p ESub - mkvCinemas.mkv'\n",
            "'/content/gdrive/Shareddrives/Abhi2/Copy of Web Series/2021/1962 The War in the Hills S01 480P/1962 The War in the Hills S01 E05 WebRip Hindi 480p ESub - mkvCinemas.mkv' -> '/content/gdrive/Shareddrives/Abhi/Web Series/2021/1962 The War in the Hills S01 480P/1962 The War in the Hills S01 E05 WebRip Hindi 480p ESub - mkvCinemas.mkv'\n",
            "'/content/gdrive/Shareddrives/Abhi2/Copy of Web Series/2021/1962 The War in the Hills S01 480P/1962 The War in the Hills S01 E06 WebRip Hindi 480p ESub - mkvCinemas.mkv' -> '/content/gdrive/Shareddrives/Abhi/Web Series/2021/1962 The War in the Hills S01 480P/1962 The War in the Hills S01 E06 WebRip Hindi 480p ESub - mkvCinemas.mkv'\n",
            "'/content/gdrive/Shareddrives/Abhi2/Copy of Web Series/2021/1962 The War in the Hills S01 480P/1962 The War in the Hills S01 E07 WebRip Hindi 480p ESub - mkvCinemas.mkv' -> '/content/gdrive/Shareddrives/Abhi/Web Series/2021/1962 The War in the Hills S01 480P/1962 The War in the Hills S01 E07 WebRip Hindi 480p ESub - mkvCinemas.mkv'\n",
            "'/content/gdrive/Shareddrives/Abhi2/Copy of Web Series/2021/1962 The War in the Hills S01 480P/1962 The War in the Hills S01 E08 WebRip Hindi 480p ESub - mkvCinemas.mkv' -> '/content/gdrive/Shareddrives/Abhi/Web Series/2021/1962 The War in the Hills S01 480P/1962 The War in the Hills S01 E08 WebRip Hindi 480p ESub - mkvCinemas.mkv'\n",
            "'/content/gdrive/Shareddrives/Abhi2/Copy of Web Series/2021/1962 The War in the Hills S01 480P/1962 The War in the Hills S01 E09 WebRip Hindi 480p ESub - mkvCinemas.mkv' -> '/content/gdrive/Shareddrives/Abhi/Web Series/2021/1962 The War in the Hills S01 480P/1962 The War in the Hills S01 E09 WebRip Hindi 480p ESub - mkvCinemas.mkv'\n",
            "'/content/gdrive/Shareddrives/Abhi2/Copy of Web Series/2021/1962 The War in the Hills S01 480P/1962 The War in the Hills S01 E10 WebRip Hindi 480p ESub - mkvCinemas.mkv' -> '/content/gdrive/Shareddrives/Abhi/Web Series/2021/1962 The War in the Hills S01 480P/1962 The War in the Hills S01 E10 WebRip Hindi 480p ESub - mkvCinemas.mkv'\n",
            "'/content/gdrive/Shareddrives/Abhi2/Copy of Web Series/2021/1962 The War in the Hills S01 480P/1962 The War in the Hills S01 E01-10 WebRip Hindi 480p ESub - AB Movies.rar' -> '/content/gdrive/Shareddrives/Abhi/Web Series/2021/1962 The War in the Hills S01 480P/1962 The War in the Hills S01 E01-10 WebRip Hindi 480p ESub - AB Movies.rar'\n",
            "'/content/gdrive/Shareddrives/Abhi2/Copy of Web Series/2021/Lucifer 480P All Series' -> '/content/gdrive/Shareddrives/Abhi/Web Series/2021/Lucifer 480P All Series'\n",
            "'/content/gdrive/Shareddrives/Abhi2/Copy of Web Series/2021/Lucifer 480P All Series/S01' -> '/content/gdrive/Shareddrives/Abhi/Web Series/2021/Lucifer 480P All Series/S01'\n",
            "'/content/gdrive/Shareddrives/Abhi2/Copy of Web Series/2021/Lucifer 480P All Series/S01/Lucifer S01 E01 WebRip Dual Audio Hindi English 480p ESub - mkvCinemas.mkv' -> '/content/gdrive/Shareddrives/Abhi/Web Series/2021/Lucifer 480P All Series/S01/Lucifer S01 E01 WebRip Dual Audio Hindi English 480p ESub - mkvCinemas.mkv'\n",
            "'/content/gdrive/Shareddrives/Abhi2/Copy of Web Series/2021/Lucifer 480P All Series/S01/Lucifer S01 E02 WebRip Dual Audio Hindi English 480p ESub - mkvCinemas.mkv' -> '/content/gdrive/Shareddrives/Abhi/Web Series/2021/Lucifer 480P All Series/S01/Lucifer S01 E02 WebRip Dual Audio Hindi English 480p ESub - mkvCinemas.mkv'\n",
            "'/content/gdrive/Shareddrives/Abhi2/Copy of Web Series/2021/Lucifer 480P All Series/S01/Lucifer S01 E03 WebRip Dual Audio Hindi English 480p ESub - mkvCinemas.mkv' -> '/content/gdrive/Shareddrives/Abhi/Web Series/2021/Lucifer 480P All Series/S01/Lucifer S01 E03 WebRip Dual Audio Hindi English 480p ESub - mkvCinemas.mkv'\n",
            "'/content/gdrive/Shareddrives/Abhi2/Copy of Web Series/2021/Lucifer 480P All Series/S01/Lucifer S01 E04 WebRip Dual Audio Hindi English 480p ESub - mkvCinemas.mkv' -> '/content/gdrive/Shareddrives/Abhi/Web Series/2021/Lucifer 480P All Series/S01/Lucifer S01 E04 WebRip Dual Audio Hindi English 480p ESub - mkvCinemas.mkv'\n",
            "'/content/gdrive/Shareddrives/Abhi2/Copy of Web Series/2021/Lucifer 480P All Series/S01/Lucifer S01 E05 WebRip Dual Audio Hindi English 480p ESub - mkvCinemas.mkv' -> '/content/gdrive/Shareddrives/Abhi/Web Series/2021/Lucifer 480P All Series/S01/Lucifer S01 E05 WebRip Dual Audio Hindi English 480p ESub - mkvCinemas.mkv'\n",
            "'/content/gdrive/Shareddrives/Abhi2/Copy of Web Series/2021/Lucifer 480P All Series/S01/Lucifer S01 E06 WebRip Dual Audio Hindi English 480p ESub - mkvCinemas.mkv' -> '/content/gdrive/Shareddrives/Abhi/Web Series/2021/Lucifer 480P All Series/S01/Lucifer S01 E06 WebRip Dual Audio Hindi English 480p ESub - mkvCinemas.mkv'\n",
            "'/content/gdrive/Shareddrives/Abhi2/Copy of Web Series/2021/Lucifer 480P All Series/S01/Lucifer S01 E07 WebRip Dual Audio Hindi English 480p ESub - mkvCinemas.mkv' -> '/content/gdrive/Shareddrives/Abhi/Web Series/2021/Lucifer 480P All Series/S01/Lucifer S01 E07 WebRip Dual Audio Hindi English 480p ESub - mkvCinemas.mkv'\n",
            "'/content/gdrive/Shareddrives/Abhi2/Copy of Web Series/2021/Lucifer 480P All Series/S01/Lucifer S01 E08 WebRip Dual Audio Hindi English 480p ESub - mkvCinemas.mkv' -> '/content/gdrive/Shareddrives/Abhi/Web Series/2021/Lucifer 480P All Series/S01/Lucifer S01 E08 WebRip Dual Audio Hindi English 480p ESub - mkvCinemas.mkv'\n",
            "'/content/gdrive/Shareddrives/Abhi2/Copy of Web Series/2021/Lucifer 480P All Series/S01/Lucifer S01 E09 WebRip Dual Audio Hindi English 480p ESub - mkvCinemas.mkv' -> '/content/gdrive/Shareddrives/Abhi/Web Series/2021/Lucifer 480P All Series/S01/Lucifer S01 E09 WebRip Dual Audio Hindi English 480p ESub - mkvCinemas.mkv'\n",
            "'/content/gdrive/Shareddrives/Abhi2/Copy of Web Series/2021/Lucifer 480P All Series/S01/Lucifer S01 E10 WebRip Dual Audio Hindi English 480p ESub - mkvCinemas.mkv' -> '/content/gdrive/Shareddrives/Abhi/Web Series/2021/Lucifer 480P All Series/S01/Lucifer S01 E10 WebRip Dual Audio Hindi English 480p ESub - mkvCinemas.mkv'\n",
            "'/content/gdrive/Shareddrives/Abhi2/Copy of Web Series/2021/Lucifer 480P All Series/S01/Lucifer S01 E11 WebRip Dual Audio Hindi English 480p ESub - mkvCinemas.mkv' -> '/content/gdrive/Shareddrives/Abhi/Web Series/2021/Lucifer 480P All Series/S01/Lucifer S01 E11 WebRip Dual Audio Hindi English 480p ESub - mkvCinemas.mkv'\n",
            "'/content/gdrive/Shareddrives/Abhi2/Copy of Web Series/2021/Lucifer 480P All Series/S01/Lucifer S01 E12 WebRip Dual Audio Hindi English 480p ESub - mkvCinemas.mkv' -> '/content/gdrive/Shareddrives/Abhi/Web Series/2021/Lucifer 480P All Series/S01/Lucifer S01 E12 WebRip Dual Audio Hindi English 480p ESub - mkvCinemas.mkv'\n",
            "'/content/gdrive/Shareddrives/Abhi2/Copy of Web Series/2021/Lucifer 480P All Series/S01/Lucifer S01 E13 WebRip Dual Audio Hindi English 480p ESub - mkvCinemas.mkv' -> '/content/gdrive/Shareddrives/Abhi/Web Series/2021/Lucifer 480P All Series/S01/Lucifer S01 E13 WebRip Dual Audio Hindi English 480p ESub - mkvCinemas.mkv'\n",
            "'/content/gdrive/Shareddrives/Abhi2/Copy of Web Series/2021/Lucifer 480P All Series/S01/Lucifer S01 Complete WebRip Dual Audio Hindi English 480p ESub - AB Movies.zip' -> '/content/gdrive/Shareddrives/Abhi/Web Series/2021/Lucifer 480P All Series/S01/Lucifer S01 Complete WebRip Dual Audio Hindi English 480p ESub - AB Movies.zip'\n",
            "'/content/gdrive/Shareddrives/Abhi2/Copy of Web Series/2021/Lucifer 480P All Series/S02' -> '/content/gdrive/Shareddrives/Abhi/Web Series/2021/Lucifer 480P All Series/S02'\n",
            "'/content/gdrive/Shareddrives/Abhi2/Copy of Web Series/2021/Lucifer 480P All Series/S02/Lucifer S02 E01 WebRip Dual Audio Hindi English 480p ESub - mkvCinemas.mkv' -> '/content/gdrive/Shareddrives/Abhi/Web Series/2021/Lucifer 480P All Series/S02/Lucifer S02 E01 WebRip Dual Audio Hindi English 480p ESub - mkvCinemas.mkv'\n",
            "'/content/gdrive/Shareddrives/Abhi2/Copy of Web Series/2021/Lucifer 480P All Series/S02/Lucifer S02 E02 WebRip Dual Audio Hindi English 480p ESub - mkvCinemas.mkv' -> '/content/gdrive/Shareddrives/Abhi/Web Series/2021/Lucifer 480P All Series/S02/Lucifer S02 E02 WebRip Dual Audio Hindi English 480p ESub - mkvCinemas.mkv'\n",
            "'/content/gdrive/Shareddrives/Abhi2/Copy of Web Series/2021/Lucifer 480P All Series/S02/Lucifer S02 E03 WebRip Dual Audio Hindi English 480p ESub - mkvCinemas.mkv' -> '/content/gdrive/Shareddrives/Abhi/Web Series/2021/Lucifer 480P All Series/S02/Lucifer S02 E03 WebRip Dual Audio Hindi English 480p ESub - mkvCinemas.mkv'\n",
            "'/content/gdrive/Shareddrives/Abhi2/Copy of Web Series/2021/Lucifer 480P All Series/S02/Lucifer S02 E04 WebRip Dual Audio Hindi English 480p ESub - mkvCinemas.mkv' -> '/content/gdrive/Shareddrives/Abhi/Web Series/2021/Lucifer 480P All Series/S02/Lucifer S02 E04 WebRip Dual Audio Hindi English 480p ESub - mkvCinemas.mkv'\n",
            "'/content/gdrive/Shareddrives/Abhi2/Copy of Web Series/2021/Lucifer 480P All Series/S02/Lucifer S02 E05 WebRip Dual Audio Hindi English 480p ESub - mkvCinemas.mkv' -> '/content/gdrive/Shareddrives/Abhi/Web Series/2021/Lucifer 480P All Series/S02/Lucifer S02 E05 WebRip Dual Audio Hindi English 480p ESub - mkvCinemas.mkv'\n",
            "'/content/gdrive/Shareddrives/Abhi2/Copy of Web Series/2021/Lucifer 480P All Series/S02/Lucifer S02 E06 WebRip Dual Audio Hindi English 480p ESub - mkvCinemas.mkv' -> '/content/gdrive/Shareddrives/Abhi/Web Series/2021/Lucifer 480P All Series/S02/Lucifer S02 E06 WebRip Dual Audio Hindi English 480p ESub - mkvCinemas.mkv'\n",
            "'/content/gdrive/Shareddrives/Abhi2/Copy of Web Series/2021/Lucifer 480P All Series/S02/Lucifer S02 E07 WebRip Dual Audio Hindi English 480p ESub - mkvCinemas.mkv' -> '/content/gdrive/Shareddrives/Abhi/Web Series/2021/Lucifer 480P All Series/S02/Lucifer S02 E07 WebRip Dual Audio Hindi English 480p ESub - mkvCinemas.mkv'\n",
            "'/content/gdrive/Shareddrives/Abhi2/Copy of Web Series/2021/Lucifer 480P All Series/S02/Lucifer S02 E08 WebRip Dual Audio Hindi English 480p ESub - mkvCinemas.mkv' -> '/content/gdrive/Shareddrives/Abhi/Web Series/2021/Lucifer 480P All Series/S02/Lucifer S02 E08 WebRip Dual Audio Hindi English 480p ESub - mkvCinemas.mkv'\n",
            "'/content/gdrive/Shareddrives/Abhi2/Copy of Web Series/2021/Lucifer 480P All Series/S02/Lucifer S02 E09 WebRip Dual Audio Hindi English 480p ESub - mkvCinemas.mkv' -> '/content/gdrive/Shareddrives/Abhi/Web Series/2021/Lucifer 480P All Series/S02/Lucifer S02 E09 WebRip Dual Audio Hindi English 480p ESub - mkvCinemas.mkv'\n",
            "'/content/gdrive/Shareddrives/Abhi2/Copy of Web Series/2021/Lucifer 480P All Series/S02/Lucifer S02 E10 WebRip Dual Audio Hindi English 480p ESub - mkvCinemas.mkv' -> '/content/gdrive/Shareddrives/Abhi/Web Series/2021/Lucifer 480P All Series/S02/Lucifer S02 E10 WebRip Dual Audio Hindi English 480p ESub - mkvCinemas.mkv'\n",
            "'/content/gdrive/Shareddrives/Abhi2/Copy of Web Series/2021/Lucifer 480P All Series/S02/Lucifer S02 E11 WebRip Dual Audio Hindi English 480p ESub - mkvCinemas.mkv' -> '/content/gdrive/Shareddrives/Abhi/Web Series/2021/Lucifer 480P All Series/S02/Lucifer S02 E11 WebRip Dual Audio Hindi English 480p ESub - mkvCinemas.mkv'\n",
            "'/content/gdrive/Shareddrives/Abhi2/Copy of Web Series/2021/Lucifer 480P All Series/S02/Lucifer S02 E12 WebRip Dual Audio Hindi English 480p ESub - mkvCinemas.mkv' -> '/content/gdrive/Shareddrives/Abhi/Web Series/2021/Lucifer 480P All Series/S02/Lucifer S02 E12 WebRip Dual Audio Hindi English 480p ESub - mkvCinemas.mkv'\n",
            "'/content/gdrive/Shareddrives/Abhi2/Copy of Web Series/2021/Lucifer 480P All Series/S02/Lucifer S02 E13 WebRip Dual Audio Hindi English 480p ESub - mkvCinemas.mkv' -> '/content/gdrive/Shareddrives/Abhi/Web Series/2021/Lucifer 480P All Series/S02/Lucifer S02 E13 WebRip Dual Audio Hindi English 480p ESub - mkvCinemas.mkv'\n",
            "'/content/gdrive/Shareddrives/Abhi2/Copy of Web Series/2021/Lucifer 480P All Series/S02/Lucifer S02 E14 WebRip Dual Audio Hindi English 480p ESub - mkvCinemas.mkv' -> '/content/gdrive/Shareddrives/Abhi/Web Series/2021/Lucifer 480P All Series/S02/Lucifer S02 E14 WebRip Dual Audio Hindi English 480p ESub - mkvCinemas.mkv'\n",
            "'/content/gdrive/Shareddrives/Abhi2/Copy of Web Series/2021/Lucifer 480P All Series/S02/Lucifer S02 E15 WebRip Dual Audio Hindi English 480p ESub - mkvCinemas.mkv' -> '/content/gdrive/Shareddrives/Abhi/Web Series/2021/Lucifer 480P All Series/S02/Lucifer S02 E15 WebRip Dual Audio Hindi English 480p ESub - mkvCinemas.mkv'\n",
            "'/content/gdrive/Shareddrives/Abhi2/Copy of Web Series/2021/Lucifer 480P All Series/S02/Lucifer S02 E16 WebRip Dual Audio Hindi English 480p ESub - mkvCinemas.mkv' -> '/content/gdrive/Shareddrives/Abhi/Web Series/2021/Lucifer 480P All Series/S02/Lucifer S02 E16 WebRip Dual Audio Hindi English 480p ESub - mkvCinemas.mkv'\n",
            "'/content/gdrive/Shareddrives/Abhi2/Copy of Web Series/2021/Lucifer 480P All Series/S02/Lucifer S02 E17 WebRip Dual Audio Hindi English 480p ESub - mkvCinemas.mkv' -> '/content/gdrive/Shareddrives/Abhi/Web Series/2021/Lucifer 480P All Series/S02/Lucifer S02 E17 WebRip Dual Audio Hindi English 480p ESub - mkvCinemas.mkv'\n",
            "'/content/gdrive/Shareddrives/Abhi2/Copy of Web Series/2021/Lucifer 480P All Series/S02/Lucifer S02 E18 WebRip Dual Audio Hindi English 480p ESub - mkvCinemas.mkv' -> '/content/gdrive/Shareddrives/Abhi/Web Series/2021/Lucifer 480P All Series/S02/Lucifer S02 E18 WebRip Dual Audio Hindi English 480p ESub - mkvCinemas.mkv'\n",
            "'/content/gdrive/Shareddrives/Abhi2/Copy of Web Series/2021/Lucifer 480P All Series/S02/Lucifer S02 Dual Audio 480p - AB Movies.zip' -> '/content/gdrive/Shareddrives/Abhi/Web Series/2021/Lucifer 480P All Series/S02/Lucifer S02 Dual Audio 480p - AB Movies.zip'\n",
            "'/content/gdrive/Shareddrives/Abhi2/Copy of Web Series/2021/Lucifer 480P All Series/S03' -> '/content/gdrive/Shareddrives/Abhi/Web Series/2021/Lucifer 480P All Series/S03'\n",
            "'/content/gdrive/Shareddrives/Abhi2/Copy of Web Series/2021/Lucifer 480P All Series/S03/Lucifer S03 E01 WebRip Hindi English 480p ESub - mkvCinemas.mkv' -> '/content/gdrive/Shareddrives/Abhi/Web Series/2021/Lucifer 480P All Series/S03/Lucifer S03 E01 WebRip Hindi English 480p ESub - mkvCinemas.mkv'\n",
            "'/content/gdrive/Shareddrives/Abhi2/Copy of Web Series/2021/Lucifer 480P All Series/S03/Lucifer S03 E02 WebRip Hindi English 480p ESub - mkvCinemas.mkv' -> '/content/gdrive/Shareddrives/Abhi/Web Series/2021/Lucifer 480P All Series/S03/Lucifer S03 E02 WebRip Hindi English 480p ESub - mkvCinemas.mkv'\n",
            "'/content/gdrive/Shareddrives/Abhi2/Copy of Web Series/2021/Lucifer 480P All Series/S03/Lucifer S03 E03 WebRip Hindi English 480p ESub - mkvCinemas.mkv' -> '/content/gdrive/Shareddrives/Abhi/Web Series/2021/Lucifer 480P All Series/S03/Lucifer S03 E03 WebRip Hindi English 480p ESub - mkvCinemas.mkv'\n",
            "'/content/gdrive/Shareddrives/Abhi2/Copy of Web Series/2021/Lucifer 480P All Series/S03/Lucifer S03 E04 WebRip Hindi English 480p ESub - mkvCinemas.mkv' -> '/content/gdrive/Shareddrives/Abhi/Web Series/2021/Lucifer 480P All Series/S03/Lucifer S03 E04 WebRip Hindi English 480p ESub - mkvCinemas.mkv'\n",
            "'/content/gdrive/Shareddrives/Abhi2/Copy of Web Series/2021/Lucifer 480P All Series/S03/Lucifer S03 E05 WebRip Hindi English 480p ESub - mkvCinemas.mkv' -> '/content/gdrive/Shareddrives/Abhi/Web Series/2021/Lucifer 480P All Series/S03/Lucifer S03 E05 WebRip Hindi English 480p ESub - mkvCinemas.mkv'\n",
            "'/content/gdrive/Shareddrives/Abhi2/Copy of Web Series/2021/Lucifer 480P All Series/S03/Lucifer S03 E06 WebRip Hindi English 480p ESub - mkvCinemas.mkv' -> '/content/gdrive/Shareddrives/Abhi/Web Series/2021/Lucifer 480P All Series/S03/Lucifer S03 E06 WebRip Hindi English 480p ESub - mkvCinemas.mkv'\n",
            "'/content/gdrive/Shareddrives/Abhi2/Copy of Web Series/2021/Lucifer 480P All Series/S03/Lucifer S03 E07 WebRip Hindi English 480p ESub - mkvCinemas.mkv' -> '/content/gdrive/Shareddrives/Abhi/Web Series/2021/Lucifer 480P All Series/S03/Lucifer S03 E07 WebRip Hindi English 480p ESub - mkvCinemas.mkv'\n",
            "'/content/gdrive/Shareddrives/Abhi2/Copy of Web Series/2021/Lucifer 480P All Series/S03/Lucifer S03 E08 WebRip Hindi English 480p ESub - mkvCinemas.mkv' -> '/content/gdrive/Shareddrives/Abhi/Web Series/2021/Lucifer 480P All Series/S03/Lucifer S03 E08 WebRip Hindi English 480p ESub - mkvCinemas.mkv'\n",
            "'/content/gdrive/Shareddrives/Abhi2/Copy of Web Series/2021/Lucifer 480P All Series/S03/Lucifer S03 E09 WebRip Hindi English 480p ESub - mkvCinemas.mkv' -> '/content/gdrive/Shareddrives/Abhi/Web Series/2021/Lucifer 480P All Series/S03/Lucifer S03 E09 WebRip Hindi English 480p ESub - mkvCinemas.mkv'\n",
            "'/content/gdrive/Shareddrives/Abhi2/Copy of Web Series/2021/Lucifer 480P All Series/S03/Lucifer S03 E10 WebRip Hindi English 480p ESub - mkvCinemas.mkv' -> '/content/gdrive/Shareddrives/Abhi/Web Series/2021/Lucifer 480P All Series/S03/Lucifer S03 E10 WebRip Hindi English 480p ESub - mkvCinemas.mkv'\n",
            "'/content/gdrive/Shareddrives/Abhi2/Copy of Web Series/2021/Lucifer 480P All Series/S03/Lucifer S03 E11 WebRip Hindi English 480p ESub - mkvCinemas.mkv' -> '/content/gdrive/Shareddrives/Abhi/Web Series/2021/Lucifer 480P All Series/S03/Lucifer S03 E11 WebRip Hindi English 480p ESub - mkvCinemas.mkv'\n",
            "'/content/gdrive/Shareddrives/Abhi2/Copy of Web Series/2021/Lucifer 480P All Series/S03/Lucifer S03 E12 WebRip Hindi English 480p ESub - mkvCinemas.mkv' -> '/content/gdrive/Shareddrives/Abhi/Web Series/2021/Lucifer 480P All Series/S03/Lucifer S03 E12 WebRip Hindi English 480p ESub - mkvCinemas.mkv'\n",
            "'/content/gdrive/Shareddrives/Abhi2/Copy of Web Series/2021/Lucifer 480P All Series/S03/Lucifer S03 E13 WebRip Hindi English 480p ESub - mkvCinemas.mkv' -> '/content/gdrive/Shareddrives/Abhi/Web Series/2021/Lucifer 480P All Series/S03/Lucifer S03 E13 WebRip Hindi English 480p ESub - mkvCinemas.mkv'\n",
            "'/content/gdrive/Shareddrives/Abhi2/Copy of Web Series/2021/Lucifer 480P All Series/S03/Lucifer S03 E14 WebRip Hindi English 480p ESub - mkvCinemas.mkv' -> '/content/gdrive/Shareddrives/Abhi/Web Series/2021/Lucifer 480P All Series/S03/Lucifer S03 E14 WebRip Hindi English 480p ESub - mkvCinemas.mkv'\n",
            "'/content/gdrive/Shareddrives/Abhi2/Copy of Web Series/2021/Lucifer 480P All Series/S03/Lucifer S03 E15 WebRip Hindi English 480p ESub - mkvCinemas.mkv' -> '/content/gdrive/Shareddrives/Abhi/Web Series/2021/Lucifer 480P All Series/S03/Lucifer S03 E15 WebRip Hindi English 480p ESub - mkvCinemas.mkv'\n",
            "'/content/gdrive/Shareddrives/Abhi2/Copy of Web Series/2021/Lucifer 480P All Series/S03/Lucifer S03 E16 WebRip Hindi English 480p ESub - mkvCinemas.mkv' -> '/content/gdrive/Shareddrives/Abhi/Web Series/2021/Lucifer 480P All Series/S03/Lucifer S03 E16 WebRip Hindi English 480p ESub - mkvCinemas.mkv'\n",
            "'/content/gdrive/Shareddrives/Abhi2/Copy of Web Series/2021/Lucifer 480P All Series/S03/Lucifer S03 E17 WebRip Hindi English 480p ESub - mkvCinemas.mkv' -> '/content/gdrive/Shareddrives/Abhi/Web Series/2021/Lucifer 480P All Series/S03/Lucifer S03 E17 WebRip Hindi English 480p ESub - mkvCinemas.mkv'\n",
            "'/content/gdrive/Shareddrives/Abhi2/Copy of Web Series/2021/Lucifer 480P All Series/S03/Lucifer S03 E18 WebRip Hindi English 480p ESub - mkvCinemas.mkv' -> '/content/gdrive/Shareddrives/Abhi/Web Series/2021/Lucifer 480P All Series/S03/Lucifer S03 E18 WebRip Hindi English 480p ESub - mkvCinemas.mkv'\n",
            "'/content/gdrive/Shareddrives/Abhi2/Copy of Web Series/2021/Lucifer 480P All Series/S03/Lucifer S03 E19 WebRip Hindi English 480p ESub - mkvCinemas.mkv' -> '/content/gdrive/Shareddrives/Abhi/Web Series/2021/Lucifer 480P All Series/S03/Lucifer S03 E19 WebRip Hindi English 480p ESub - mkvCinemas.mkv'\n",
            "'/content/gdrive/Shareddrives/Abhi2/Copy of Web Series/2021/Lucifer 480P All Series/S03/Lucifer S03 E20 WebRip Hindi English 480p ESub - mkvCinemas.mkv' -> '/content/gdrive/Shareddrives/Abhi/Web Series/2021/Lucifer 480P All Series/S03/Lucifer S03 E20 WebRip Hindi English 480p ESub - mkvCinemas.mkv'\n",
            "'/content/gdrive/Shareddrives/Abhi2/Copy of Web Series/2021/Lucifer 480P All Series/S03/Lucifer S03 E21 WebRip Hindi English 480p ESub - mkvCinemas.mkv' -> '/content/gdrive/Shareddrives/Abhi/Web Series/2021/Lucifer 480P All Series/S03/Lucifer S03 E21 WebRip Hindi English 480p ESub - mkvCinemas.mkv'\n",
            "'/content/gdrive/Shareddrives/Abhi2/Copy of Web Series/2021/Lucifer 480P All Series/S03/Lucifer S03 E22 WebRip Hindi English 480p ESub - mkvCinemas.mkv' -> '/content/gdrive/Shareddrives/Abhi/Web Series/2021/Lucifer 480P All Series/S03/Lucifer S03 E22 WebRip Hindi English 480p ESub - mkvCinemas.mkv'\n",
            "'/content/gdrive/Shareddrives/Abhi2/Copy of Web Series/2021/Lucifer 480P All Series/S03/Lucifer S03 E23 WebRip Hindi English 480p ESub - mkvCinemas.mkv' -> '/content/gdrive/Shareddrives/Abhi/Web Series/2021/Lucifer 480P All Series/S03/Lucifer S03 E23 WebRip Hindi English 480p ESub - mkvCinemas.mkv'\n",
            "'/content/gdrive/Shareddrives/Abhi2/Copy of Web Series/2021/Lucifer 480P All Series/S03/Lucifer S03 E24 WebRip Hindi English 480p ESub - mkvCinemas.mkv' -> '/content/gdrive/Shareddrives/Abhi/Web Series/2021/Lucifer 480P All Series/S03/Lucifer S03 E24 WebRip Hindi English 480p ESub - mkvCinemas.mkv'\n",
            "'/content/gdrive/Shareddrives/Abhi2/Copy of Web Series/2021/Lucifer 480P All Series/S03/Lucifer S03 E25 WebRip Hindi English 480p ESub - mkvCinemas.mkv' -> '/content/gdrive/Shareddrives/Abhi/Web Series/2021/Lucifer 480P All Series/S03/Lucifer S03 E25 WebRip Hindi English 480p ESub - mkvCinemas.mkv'\n",
            "'/content/gdrive/Shareddrives/Abhi2/Copy of Web Series/2021/Lucifer 480P All Series/S03/Lucifer S03 E26 WebRip Hindi English 480p ESub - mkvCinemas.mkv' -> '/content/gdrive/Shareddrives/Abhi/Web Series/2021/Lucifer 480P All Series/S03/Lucifer S03 E26 WebRip Hindi English 480p ESub - mkvCinemas.mkv'\n",
            "'/content/gdrive/Shareddrives/Abhi2/Copy of Web Series/2021/Lucifer 480P All Series/S03/Lucifer S03 E01-26 Hindi English 480p - AB Movies.zip' -> '/content/gdrive/Shareddrives/Abhi/Web Series/2021/Lucifer 480P All Series/S03/Lucifer S03 E01-26 Hindi English 480p - AB Movies.zip'\n",
            "'/content/gdrive/Shareddrives/Abhi2/Copy of Web Series/2021/Lucifer 480P All Series/S04-720P' -> '/content/gdrive/Shareddrives/Abhi/Web Series/2021/Lucifer 480P All Series/S04-720P'\n",
            "'/content/gdrive/Shareddrives/Abhi2/Copy of Web Series/2021/Lucifer 480P All Series/S04-720P/Lucifer S04 E09 WebRip Hindi English 720p - mkvCinemas.mkv' -> '/content/gdrive/Shareddrives/Abhi/Web Series/2021/Lucifer 480P All Series/S04-720P/Lucifer S04 E09 WebRip Hindi English 720p - mkvCinemas.mkv'\n",
            "'/content/gdrive/Shareddrives/Abhi2/Copy of Web Series/2021/Lucifer 480P All Series/S04-720P/Lucifer S04 E10 WebRip Hindi English 720p - mkvCinemas.mkv' -> '/content/gdrive/Shareddrives/Abhi/Web Series/2021/Lucifer 480P All Series/S04-720P/Lucifer S04 E10 WebRip Hindi English 720p - mkvCinemas.mkv'\n",
            "'/content/gdrive/Shareddrives/Abhi2/Copy of Web Series/2021/Lucifer 480P All Series/S04-720P/Lucifer S04 E07 WebRip Hindi English 720p - mkvCinemas.mkv' -> '/content/gdrive/Shareddrives/Abhi/Web Series/2021/Lucifer 480P All Series/S04-720P/Lucifer S04 E07 WebRip Hindi English 720p - mkvCinemas.mkv'\n",
            "'/content/gdrive/Shareddrives/Abhi2/Copy of Web Series/2021/Lucifer 480P All Series/S04-720P/Lucifer S04 E08 WebRip Hindi English 720p - mkvCinemas.mkv' -> '/content/gdrive/Shareddrives/Abhi/Web Series/2021/Lucifer 480P All Series/S04-720P/Lucifer S04 E08 WebRip Hindi English 720p - mkvCinemas.mkv'\n",
            "'/content/gdrive/Shareddrives/Abhi2/Copy of Web Series/2021/Lucifer 480P All Series/S04-720P/Lucifer S04 E06 WebRip Hindi English 720p - mkvCinemas.mkv' -> '/content/gdrive/Shareddrives/Abhi/Web Series/2021/Lucifer 480P All Series/S04-720P/Lucifer S04 E06 WebRip Hindi English 720p - mkvCinemas.mkv'\n",
            "'/content/gdrive/Shareddrives/Abhi2/Copy of Web Series/2021/Lucifer 480P All Series/S04-720P/Lucifer S04 E05 WebRip Hindi English 720p - mkvCinemas.mkv' -> '/content/gdrive/Shareddrives/Abhi/Web Series/2021/Lucifer 480P All Series/S04-720P/Lucifer S04 E05 WebRip Hindi English 720p - mkvCinemas.mkv'\n",
            "'/content/gdrive/Shareddrives/Abhi2/Copy of Web Series/2021/Lucifer 480P All Series/S04-720P/Lucifer S04 E03 WebRip Hindi English 720p - mkvCinemas.mkv' -> '/content/gdrive/Shareddrives/Abhi/Web Series/2021/Lucifer 480P All Series/S04-720P/Lucifer S04 E03 WebRip Hindi English 720p - mkvCinemas.mkv'\n",
            "'/content/gdrive/Shareddrives/Abhi2/Copy of Web Series/2021/Lucifer 480P All Series/S04-720P/Lucifer S04 E02 WebRip Hindi English 720p - mkvCinemas.mkv' -> '/content/gdrive/Shareddrives/Abhi/Web Series/2021/Lucifer 480P All Series/S04-720P/Lucifer S04 E02 WebRip Hindi English 720p - mkvCinemas.mkv'\n",
            "'/content/gdrive/Shareddrives/Abhi2/Copy of Web Series/2021/Lucifer 480P All Series/S04-720P/Lucifer S04 E01 WebRip Hindi English 720p - mkvCinemas.mkv' -> '/content/gdrive/Shareddrives/Abhi/Web Series/2021/Lucifer 480P All Series/S04-720P/Lucifer S04 E01 WebRip Hindi English 720p - mkvCinemas.mkv'\n",
            "'/content/gdrive/Shareddrives/Abhi2/Copy of Web Series/2021/Lucifer 480P All Series/S04-720P/Lucifer S04 E01-10 720P Dual Audio [Hindi 5.1 + English 5.1]  - AB Movies.zip' -> '/content/gdrive/Shareddrives/Abhi/Web Series/2021/Lucifer 480P All Series/S04-720P/Lucifer S04 E01-10 720P Dual Audio [Hindi 5.1 + English 5.1]  - AB Movies.zip'\n",
            "'/content/gdrive/Shareddrives/Abhi2/Copy of Web Series/2021/Lucifer 480P All Series/S04-720P/Lucifer S04 E04 WebRip Hindi English 720p - mkvCinemas.mkv' -> '/content/gdrive/Shareddrives/Abhi/Web Series/2021/Lucifer 480P All Series/S04-720P/Lucifer S04 E04 WebRip Hindi English 720p - mkvCinemas.mkv'\n",
            "'/content/gdrive/Shareddrives/Abhi2/Copy of Web Series/2021/Lucifer 480P All Series/S05' -> '/content/gdrive/Shareddrives/Abhi/Web Series/2021/Lucifer 480P All Series/S05'\n",
            "'/content/gdrive/Shareddrives/Abhi2/Copy of Web Series/2021/Lucifer 480P All Series/S05/Lucifer S05 E01 WebRip Hindi English 480p ESub - mkvCinemas.mkv' -> '/content/gdrive/Shareddrives/Abhi/Web Series/2021/Lucifer 480P All Series/S05/Lucifer S05 E01 WebRip Hindi English 480p ESub - mkvCinemas.mkv'\n",
            "'/content/gdrive/Shareddrives/Abhi2/Copy of Web Series/2021/Lucifer 480P All Series/S05/Lucifer S05 E02 WebRip Hindi English 480p ESub - mkvCinemas.mkv' -> '/content/gdrive/Shareddrives/Abhi/Web Series/2021/Lucifer 480P All Series/S05/Lucifer S05 E02 WebRip Hindi English 480p ESub - mkvCinemas.mkv'\n",
            "'/content/gdrive/Shareddrives/Abhi2/Copy of Web Series/2021/Lucifer 480P All Series/S05/Lucifer S05 E03 WebRip Hindi English 480p ESub - mkvCinemas.mkv' -> '/content/gdrive/Shareddrives/Abhi/Web Series/2021/Lucifer 480P All Series/S05/Lucifer S05 E03 WebRip Hindi English 480p ESub - mkvCinemas.mkv'\n",
            "'/content/gdrive/Shareddrives/Abhi2/Copy of Web Series/2021/Lucifer 480P All Series/S05/Lucifer S05 E04 WebRip Hindi English 480p ESub - mkvCinemas.mkv' -> '/content/gdrive/Shareddrives/Abhi/Web Series/2021/Lucifer 480P All Series/S05/Lucifer S05 E04 WebRip Hindi English 480p ESub - mkvCinemas.mkv'\n",
            "'/content/gdrive/Shareddrives/Abhi2/Copy of Web Series/2021/Lucifer 480P All Series/S05/Lucifer S05 E05 WebRip Hindi English 480p ESub - mkvCinemas.mkv' -> '/content/gdrive/Shareddrives/Abhi/Web Series/2021/Lucifer 480P All Series/S05/Lucifer S05 E05 WebRip Hindi English 480p ESub - mkvCinemas.mkv'\n",
            "'/content/gdrive/Shareddrives/Abhi2/Copy of Web Series/2021/Lucifer 480P All Series/S05/Lucifer S05 E06 WebRip Hindi English 480p ESub - mkvCinemas.mkv' -> '/content/gdrive/Shareddrives/Abhi/Web Series/2021/Lucifer 480P All Series/S05/Lucifer S05 E06 WebRip Hindi English 480p ESub - mkvCinemas.mkv'\n",
            "'/content/gdrive/Shareddrives/Abhi2/Copy of Web Series/2021/Lucifer 480P All Series/S05/Lucifer S05 E07 WebRip Hindi English 480p ESub - mkvCinemas.mkv' -> '/content/gdrive/Shareddrives/Abhi/Web Series/2021/Lucifer 480P All Series/S05/Lucifer S05 E07 WebRip Hindi English 480p ESub - mkvCinemas.mkv'\n",
            "'/content/gdrive/Shareddrives/Abhi2/Copy of Web Series/2021/Lucifer 480P All Series/S05/Lucifer S05 E08 WebRip Hindi English 480p ESub - mkvCinemas.mkv' -> '/content/gdrive/Shareddrives/Abhi/Web Series/2021/Lucifer 480P All Series/S05/Lucifer S05 E08 WebRip Hindi English 480p ESub - mkvCinemas.mkv'\n",
            "'/content/gdrive/Shareddrives/Abhi2/Copy of Web Series/2021/Lucifer 480P All Series/S05/Lucifer S05 E01-08 Dual Audio 480p - AB Movies.rar' -> '/content/gdrive/Shareddrives/Abhi/Web Series/2021/Lucifer 480P All Series/S05/Lucifer S05 E01-08 Dual Audio 480p - AB Movies.rar'\n",
            "'/content/gdrive/Shareddrives/Abhi2/Copy of Web Series/2021/The Falcon and the Winter Soldier' -> '/content/gdrive/Shareddrives/Abhi/Web Series/2021/The Falcon and the Winter Soldier'\n",
            "'/content/gdrive/Shareddrives/Abhi2/Copy of Web Series/2021/The Falcon and the Winter Soldier/The.Falcon.And.The.Winter.Soldier.S01E01.480P.AB Movies.mkv' -> '/content/gdrive/Shareddrives/Abhi/Web Series/2021/The Falcon and the Winter Soldier/The.Falcon.And.The.Winter.Soldier.S01E01.480P.AB Movies.mkv'\n",
            "'/content/gdrive/Shareddrives/Abhi2/Copy of Web Series/2021/The Falcon and the Winter Soldier/The Falcon and the Winter Soldier S01 E02 WebRip Hindi English 480p ESub - AB Movies.mkv' -> '/content/gdrive/Shareddrives/Abhi/Web Series/2021/The Falcon and the Winter Soldier/The Falcon and the Winter Soldier S01 E02 WebRip Hindi English 480p ESub - AB Movies.mkv'\n",
            "'/content/gdrive/Shareddrives/Abhi2/Copy of Web Series/2021/The Falcon and the Winter Soldier/The Falcon and The Winter Soldier S01 E03 WebRip Hindi English 480p MSubs - AB Movies.mkv' -> '/content/gdrive/Shareddrives/Abhi/Web Series/2021/The Falcon and the Winter Soldier/The Falcon and The Winter Soldier S01 E03 WebRip Hindi English 480p MSubs - AB Movies.mkv'\n",
            "'/content/gdrive/Shareddrives/Abhi2/Copy of Web Series/2021/The Falcon and the Winter Soldier/The Falcon and the Winter Soldier S01 E04 WebRip Hindi English 480p ESub - AB Movies.mkv' -> '/content/gdrive/Shareddrives/Abhi/Web Series/2021/The Falcon and the Winter Soldier/The Falcon and the Winter Soldier S01 E04 WebRip Hindi English 480p ESub - AB Movies.mkv'\n",
            "'/content/gdrive/Shareddrives/Abhi2/Copy of Web Series/2021/The Falcon and the Winter Soldier/The Falcon and The Winter Soldier S01 E05 WebRip Hindi English 480p ESub - AB Movies.mkv' -> '/content/gdrive/Shareddrives/Abhi/Web Series/2021/The Falcon and the Winter Soldier/The Falcon and The Winter Soldier S01 E05 WebRip Hindi English 480p ESub - AB Movies.mkv'\n",
            "'/content/gdrive/Shareddrives/Abhi2/Copy of Web Series/2021/The Falcon and the Winter Soldier/The Falcon and the Winter Soldier S01 E06 WebRip Hindi English 480p ESub- AB Movies.mkv' -> '/content/gdrive/Shareddrives/Abhi/Web Series/2021/The Falcon and the Winter Soldier/The Falcon and the Winter Soldier S01 E06 WebRip Hindi English 480p ESub- AB Movies.mkv'\n",
            "'/content/gdrive/Shareddrives/Abhi2/Copy of Web Series/2021/The Falcon and the Winter Soldier/The Falcon and the Winter Soldier.zip' -> '/content/gdrive/Shareddrives/Abhi/Web Series/2021/The Falcon and the Winter Soldier/The Falcon and the Winter Soldier.zip'\n",
            "'/content/gdrive/Shareddrives/Abhi2/Copy of Web Series/2021/Asur S01 E01-08 WebRip Hnidi 480p - AB Movies' -> '/content/gdrive/Shareddrives/Abhi/Web Series/2021/Asur S01 E01-08 WebRip Hnidi 480p - AB Movies'\n",
            "'/content/gdrive/Shareddrives/Abhi2/Copy of Web Series/2021/Asur S01 E01-08 WebRip Hnidi 480p - AB Movies/Asur S01 E01 WebRip Hnidi 480p - mkvCinemas.mkv' -> '/content/gdrive/Shareddrives/Abhi/Web Series/2021/Asur S01 E01-08 WebRip Hnidi 480p - AB Movies/Asur S01 E01 WebRip Hnidi 480p - mkvCinemas.mkv'\n",
            "'/content/gdrive/Shareddrives/Abhi2/Copy of Web Series/2021/Asur S01 E01-08 WebRip Hnidi 480p - AB Movies/Asur S01 E02 WebRip Hnidi 480p - mkvCinemas.mkv' -> '/content/gdrive/Shareddrives/Abhi/Web Series/2021/Asur S01 E01-08 WebRip Hnidi 480p - AB Movies/Asur S01 E02 WebRip Hnidi 480p - mkvCinemas.mkv'\n",
            "'/content/gdrive/Shareddrives/Abhi2/Copy of Web Series/2021/Asur S01 E01-08 WebRip Hnidi 480p - AB Movies/Asur S01 E03 WebRip Hnidi 480p - mkvCinemas.mkv' -> '/content/gdrive/Shareddrives/Abhi/Web Series/2021/Asur S01 E01-08 WebRip Hnidi 480p - AB Movies/Asur S01 E03 WebRip Hnidi 480p - mkvCinemas.mkv'\n",
            "'/content/gdrive/Shareddrives/Abhi2/Copy of Web Series/2021/Asur S01 E01-08 WebRip Hnidi 480p - AB Movies/Asur S01 E04 WebRip Hnidi 480p - mkvCinemas.mkv' -> '/content/gdrive/Shareddrives/Abhi/Web Series/2021/Asur S01 E01-08 WebRip Hnidi 480p - AB Movies/Asur S01 E04 WebRip Hnidi 480p - mkvCinemas.mkv'\n",
            "'/content/gdrive/Shareddrives/Abhi2/Copy of Web Series/2021/Asur S01 E01-08 WebRip Hnidi 480p - AB Movies/Asur S01 E05 WebRip Hnidi 480p - mkvCinemas.mkv' -> '/content/gdrive/Shareddrives/Abhi/Web Series/2021/Asur S01 E01-08 WebRip Hnidi 480p - AB Movies/Asur S01 E05 WebRip Hnidi 480p - mkvCinemas.mkv'\n",
            "'/content/gdrive/Shareddrives/Abhi2/Copy of Web Series/2021/Asur S01 E01-08 WebRip Hnidi 480p - AB Movies/Asur S01 E06 WebRip Hnidi 480p - mkvCinemas.mkv' -> '/content/gdrive/Shareddrives/Abhi/Web Series/2021/Asur S01 E01-08 WebRip Hnidi 480p - AB Movies/Asur S01 E06 WebRip Hnidi 480p - mkvCinemas.mkv'\n",
            "'/content/gdrive/Shareddrives/Abhi2/Copy of Web Series/2021/Asur S01 E01-08 WebRip Hnidi 480p - AB Movies/Asur S01 E07 WebRip Hnidi 480p - mkvCinemas.mkv' -> '/content/gdrive/Shareddrives/Abhi/Web Series/2021/Asur S01 E01-08 WebRip Hnidi 480p - AB Movies/Asur S01 E07 WebRip Hnidi 480p - mkvCinemas.mkv'\n",
            "'/content/gdrive/Shareddrives/Abhi2/Copy of Web Series/2021/Asur S01 E01-08 WebRip Hnidi 480p - AB Movies/Asur S01 E08 WebRip Hnidi 480p - mkvCinemas.mkv' -> '/content/gdrive/Shareddrives/Abhi/Web Series/2021/Asur S01 E01-08 WebRip Hnidi 480p - AB Movies/Asur S01 E08 WebRip Hnidi 480p - mkvCinemas.mkv'\n",
            "'/content/gdrive/Shareddrives/Abhi2/Copy of Web Series/2021/Asur S01 E01-08 WebRip Hnidi 480p - AB Movies/Asur S01 E01-08 WebRip Hnidi 480p - AB Movies.zip' -> '/content/gdrive/Shareddrives/Abhi/Web Series/2021/Asur S01 E01-08 WebRip Hnidi 480p - AB Movies/Asur S01 E01-08 WebRip Hnidi 480p - AB Movies.zip'\n",
            "'/content/gdrive/Shareddrives/Abhi2/Copy of Web Series/2021/The Final Call S01 Complete WebRip 480p - AB Movies' -> '/content/gdrive/Shareddrives/Abhi/Web Series/2021/The Final Call S01 Complete WebRip 480p - AB Movies'\n",
            "'/content/gdrive/Shareddrives/Abhi2/Copy of Web Series/2021/The Final Call S01 Complete WebRip 480p - AB Movies/The Final Call S01 E04 WebRip 480p - mkvCinemas.mkv' -> '/content/gdrive/Shareddrives/Abhi/Web Series/2021/The Final Call S01 Complete WebRip 480p - AB Movies/The Final Call S01 E04 WebRip 480p - mkvCinemas.mkv'\n",
            "'/content/gdrive/Shareddrives/Abhi2/Copy of Web Series/2021/The Final Call S01 Complete WebRip 480p - AB Movies/The Final Call S01 E05 WebRip 480p - mkvCinemas.mkv' -> '/content/gdrive/Shareddrives/Abhi/Web Series/2021/The Final Call S01 Complete WebRip 480p - AB Movies/The Final Call S01 E05 WebRip 480p - mkvCinemas.mkv'\n",
            "'/content/gdrive/Shareddrives/Abhi2/Copy of Web Series/2021/The Final Call S01 Complete WebRip 480p - AB Movies/The Final Call S01 E06 WebRip 480p - mkvCinemas.mkv' -> '/content/gdrive/Shareddrives/Abhi/Web Series/2021/The Final Call S01 Complete WebRip 480p - AB Movies/The Final Call S01 E06 WebRip 480p - mkvCinemas.mkv'\n",
            "'/content/gdrive/Shareddrives/Abhi2/Copy of Web Series/2021/The Final Call S01 Complete WebRip 480p - AB Movies/The Final Call S01 E07 WebRip 480p - mkvCinemas.mkv' -> '/content/gdrive/Shareddrives/Abhi/Web Series/2021/The Final Call S01 Complete WebRip 480p - AB Movies/The Final Call S01 E07 WebRip 480p - mkvCinemas.mkv'\n",
            "'/content/gdrive/Shareddrives/Abhi2/Copy of Web Series/2021/The Final Call S01 Complete WebRip 480p - AB Movies/The Final Call S01 E08 WebRip 480p - mkvCinemas.mkv' -> '/content/gdrive/Shareddrives/Abhi/Web Series/2021/The Final Call S01 Complete WebRip 480p - AB Movies/The Final Call S01 E08 WebRip 480p - mkvCinemas.mkv'\n",
            "'/content/gdrive/Shareddrives/Abhi2/Copy of Web Series/2021/The Final Call S01 Complete WebRip 480p - AB Movies/The Final Call S01 E01 WebRip 480p - mkvCinemas.mkv' -> '/content/gdrive/Shareddrives/Abhi/Web Series/2021/The Final Call S01 Complete WebRip 480p - AB Movies/The Final Call S01 E01 WebRip 480p - mkvCinemas.mkv'\n",
            "'/content/gdrive/Shareddrives/Abhi2/Copy of Web Series/2021/The Final Call S01 Complete WebRip 480p - AB Movies/The Final Call S01 E02 WebRip 480p - mkvCinemas.mkv' -> '/content/gdrive/Shareddrives/Abhi/Web Series/2021/The Final Call S01 Complete WebRip 480p - AB Movies/The Final Call S01 E02 WebRip 480p - mkvCinemas.mkv'\n",
            "'/content/gdrive/Shareddrives/Abhi2/Copy of Web Series/2021/The Final Call S01 Complete WebRip 480p - AB Movies/The Final Call S01 E03 WebRip 480p - mkvCinemas.mkv' -> '/content/gdrive/Shareddrives/Abhi/Web Series/2021/The Final Call S01 Complete WebRip 480p - AB Movies/The Final Call S01 E03 WebRip 480p - mkvCinemas.mkv'\n",
            "'/content/gdrive/Shareddrives/Abhi2/Copy of Web Series/2021/The Final Call S01 Complete WebRip 480p - AB Movies/The Final Call S01 Complete WebRip 480p - AB Movies.zip' -> '/content/gdrive/Shareddrives/Abhi/Web Series/2021/The Final Call S01 Complete WebRip 480p - AB Movies/The Final Call S01 Complete WebRip 480p - AB Movies.zip'\n",
            "'/content/gdrive/Shareddrives/Abhi2/Copy of Web Series/2021/Paatal Lok S01 E01-09 WebRip Hindi 480p' -> '/content/gdrive/Shareddrives/Abhi/Web Series/2021/Paatal Lok S01 E01-09 WebRip Hindi 480p'\n",
            "'/content/gdrive/Shareddrives/Abhi2/Copy of Web Series/2021/Paatal Lok S01 E01-09 WebRip Hindi 480p/Paatal Lok S01 E01 WebRip Hindi 480p ESub - mkvCinemas.mkv' -> '/content/gdrive/Shareddrives/Abhi/Web Series/2021/Paatal Lok S01 E01-09 WebRip Hindi 480p/Paatal Lok S01 E01 WebRip Hindi 480p ESub - mkvCinemas.mkv'\n",
            "'/content/gdrive/Shareddrives/Abhi2/Copy of Web Series/2021/Paatal Lok S01 E01-09 WebRip Hindi 480p/Paatal Lok S01 E02 WebRip Hindi 480p ESub - mkvCinemas.mkv' -> '/content/gdrive/Shareddrives/Abhi/Web Series/2021/Paatal Lok S01 E01-09 WebRip Hindi 480p/Paatal Lok S01 E02 WebRip Hindi 480p ESub - mkvCinemas.mkv'\n",
            "'/content/gdrive/Shareddrives/Abhi2/Copy of Web Series/2021/Paatal Lok S01 E01-09 WebRip Hindi 480p/Paatal Lok S01 E03 WebRip Hindi 480p ESub - mkvCinemas.mkv' -> '/content/gdrive/Shareddrives/Abhi/Web Series/2021/Paatal Lok S01 E01-09 WebRip Hindi 480p/Paatal Lok S01 E03 WebRip Hindi 480p ESub - mkvCinemas.mkv'\n",
            "'/content/gdrive/Shareddrives/Abhi2/Copy of Web Series/2021/Paatal Lok S01 E01-09 WebRip Hindi 480p/Paatal Lok S01 E04 WebRip Hindi 480p ESub - mkvCinemas.mkv' -> '/content/gdrive/Shareddrives/Abhi/Web Series/2021/Paatal Lok S01 E01-09 WebRip Hindi 480p/Paatal Lok S01 E04 WebRip Hindi 480p ESub - mkvCinemas.mkv'\n",
            "'/content/gdrive/Shareddrives/Abhi2/Copy of Web Series/2021/Paatal Lok S01 E01-09 WebRip Hindi 480p/Paatal Lok S01 E05 WebRip Hindi 480p ESub - mkvCinemas.mkv' -> '/content/gdrive/Shareddrives/Abhi/Web Series/2021/Paatal Lok S01 E01-09 WebRip Hindi 480p/Paatal Lok S01 E05 WebRip Hindi 480p ESub - mkvCinemas.mkv'\n",
            "'/content/gdrive/Shareddrives/Abhi2/Copy of Web Series/2021/Paatal Lok S01 E01-09 WebRip Hindi 480p/Paatal Lok S01 E06 WebRip Hindi 480p ESub - mkvCinemas.mkv' -> '/content/gdrive/Shareddrives/Abhi/Web Series/2021/Paatal Lok S01 E01-09 WebRip Hindi 480p/Paatal Lok S01 E06 WebRip Hindi 480p ESub - mkvCinemas.mkv'\n",
            "'/content/gdrive/Shareddrives/Abhi2/Copy of Web Series/2021/Paatal Lok S01 E01-09 WebRip Hindi 480p/Paatal Lok S01 E07 WebRip Hindi 480p ESub - mkvCinemas.mkv' -> '/content/gdrive/Shareddrives/Abhi/Web Series/2021/Paatal Lok S01 E01-09 WebRip Hindi 480p/Paatal Lok S01 E07 WebRip Hindi 480p ESub - mkvCinemas.mkv'\n",
            "'/content/gdrive/Shareddrives/Abhi2/Copy of Web Series/2021/Paatal Lok S01 E01-09 WebRip Hindi 480p/Paatal Lok S01 E08 WebRip Hindi 480p ESub - mkvCinemas.mkv' -> '/content/gdrive/Shareddrives/Abhi/Web Series/2021/Paatal Lok S01 E01-09 WebRip Hindi 480p/Paatal Lok S01 E08 WebRip Hindi 480p ESub - mkvCinemas.mkv'\n",
            "'/content/gdrive/Shareddrives/Abhi2/Copy of Web Series/2021/Paatal Lok S01 E01-09 WebRip Hindi 480p/Paatal Lok S01 E09 WebRip Hindi 480p ESub - mkvCinemas.mkv' -> '/content/gdrive/Shareddrives/Abhi/Web Series/2021/Paatal Lok S01 E01-09 WebRip Hindi 480p/Paatal Lok S01 E09 WebRip Hindi 480p ESub - mkvCinemas.mkv'\n",
            "'/content/gdrive/Shareddrives/Abhi2/Copy of Web Series/2021/Paatal Lok S01 E01-09 WebRip Hindi 480p/Paatal Lok S01 E01-09 WebRip Hindi 480p ESub - AB Movies.zip' -> '/content/gdrive/Shareddrives/Abhi/Web Series/2021/Paatal Lok S01 E01-09 WebRip Hindi 480p/Paatal Lok S01 E01-09 WebRip Hindi 480p ESub - AB Movies.zip'\n",
            "'/content/gdrive/Shareddrives/Abhi2/Copy of Web Series/2021/190321' -> '/content/gdrive/Shareddrives/Abhi/Web Series/2021/190321'\n",
            "'/content/gdrive/Shareddrives/Abhi2/Copy of Web Series/2021/190321/Girls.Hostel 2.0 S02 E01-05 WebRip Hindi 480p ESub - mkvCinemas' -> '/content/gdrive/Shareddrives/Abhi/Web Series/2021/190321/Girls.Hostel 2.0 S02 E01-05 WebRip Hindi 480p ESub - mkvCinemas'\n",
            "'/content/gdrive/Shareddrives/Abhi2/Copy of Web Series/2021/190321/Girls.Hostel 2.0 S02 E01-05 WebRip Hindi 480p ESub - mkvCinemas/Girls.Hostel 2.0 S02 E01 WebRip Hindi 480p ESub - mkvCinemas.mkv' -> '/content/gdrive/Shareddrives/Abhi/Web Series/2021/190321/Girls.Hostel 2.0 S02 E01-05 WebRip Hindi 480p ESub - mkvCinemas/Girls.Hostel 2.0 S02 E01 WebRip Hindi 480p ESub - mkvCinemas.mkv'\n",
            "'/content/gdrive/Shareddrives/Abhi2/Copy of Web Series/2021/190321/Girls.Hostel 2.0 S02 E01-05 WebRip Hindi 480p ESub - mkvCinemas/Girls.Hostel 2.0 S02 E02 WebRip Hindi 480p ESub - mkvCinemas.mkv' -> '/content/gdrive/Shareddrives/Abhi/Web Series/2021/190321/Girls.Hostel 2.0 S02 E01-05 WebRip Hindi 480p ESub - mkvCinemas/Girls.Hostel 2.0 S02 E02 WebRip Hindi 480p ESub - mkvCinemas.mkv'\n",
            "'/content/gdrive/Shareddrives/Abhi2/Copy of Web Series/2021/190321/Girls.Hostel 2.0 S02 E01-05 WebRip Hindi 480p ESub - mkvCinemas/Girls.Hostel 2.0 S02 E03 WebRip Hindi 480p ESub - mkvCinemas.mkv' -> '/content/gdrive/Shareddrives/Abhi/Web Series/2021/190321/Girls.Hostel 2.0 S02 E01-05 WebRip Hindi 480p ESub - mkvCinemas/Girls.Hostel 2.0 S02 E03 WebRip Hindi 480p ESub - mkvCinemas.mkv'\n",
            "'/content/gdrive/Shareddrives/Abhi2/Copy of Web Series/2021/190321/Girls.Hostel 2.0 S02 E01-05 WebRip Hindi 480p ESub - mkvCinemas/Girls.Hostel 2.0 S02 E04 WebRip Hindi 480p ESub - mkvCinemas.mkv' -> '/content/gdrive/Shareddrives/Abhi/Web Series/2021/190321/Girls.Hostel 2.0 S02 E01-05 WebRip Hindi 480p ESub - mkvCinemas/Girls.Hostel 2.0 S02 E04 WebRip Hindi 480p ESub - mkvCinemas.mkv'\n",
            "'/content/gdrive/Shareddrives/Abhi2/Copy of Web Series/2021/190321/Girls.Hostel 2.0 S02 E01-05 WebRip Hindi 480p ESub - mkvCinemas/Girls.Hostel 2.0 S02 E05 WebRip Hindi 480p ESub - mkvCinemas.mkv' -> '/content/gdrive/Shareddrives/Abhi/Web Series/2021/190321/Girls.Hostel 2.0 S02 E01-05 WebRip Hindi 480p ESub - mkvCinemas/Girls.Hostel 2.0 S02 E05 WebRip Hindi 480p ESub - mkvCinemas.mkv'\n",
            "'/content/gdrive/Shareddrives/Abhi2/Copy of Web Series/2021/190321/Girls.Hostel 2.0 S02 E01-05 WebRip Hindi 480p ESub - mkvCinemas/Girls.Hostel 2.0 S02 E01-05 WebRip Hindi 480p - AB Movies.rar' -> '/content/gdrive/Shareddrives/Abhi/Web Series/2021/190321/Girls.Hostel 2.0 S02 E01-05 WebRip Hindi 480p ESub - mkvCinemas/Girls.Hostel 2.0 S02 E01-05 WebRip Hindi 480p - AB Movies.rar'\n",
            "'/content/gdrive/Shareddrives/Abhi2/Copy of Web Series/2021/190321/The One S01 E01-08 WebRip Hindi English 480p MSubs - mkvCinemas' -> '/content/gdrive/Shareddrives/Abhi/Web Series/2021/190321/The One S01 E01-08 WebRip Hindi English 480p MSubs - mkvCinemas'\n",
            "'/content/gdrive/Shareddrives/Abhi2/Copy of Web Series/2021/190321/The One S01 E01-08 WebRip Hindi English 480p MSubs - mkvCinemas/The One S01 E01 WebRip Hindi English 480p MSubs - mkvCinemas.mkv' -> '/content/gdrive/Shareddrives/Abhi/Web Series/2021/190321/The One S01 E01-08 WebRip Hindi English 480p MSubs - mkvCinemas/The One S01 E01 WebRip Hindi English 480p MSubs - mkvCinemas.mkv'\n",
            "'/content/gdrive/Shareddrives/Abhi2/Copy of Web Series/2021/190321/The One S01 E01-08 WebRip Hindi English 480p MSubs - mkvCinemas/The One S01 E02 WebRip Hindi English 480p MSubs - mkvCinemas.mkv' -> '/content/gdrive/Shareddrives/Abhi/Web Series/2021/190321/The One S01 E01-08 WebRip Hindi English 480p MSubs - mkvCinemas/The One S01 E02 WebRip Hindi English 480p MSubs - mkvCinemas.mkv'\n",
            "'/content/gdrive/Shareddrives/Abhi2/Copy of Web Series/2021/190321/The One S01 E01-08 WebRip Hindi English 480p MSubs - mkvCinemas/The One S01 E03 WebRip Hindi English 480p MSubs - mkvCinemas.mkv' -> '/content/gdrive/Shareddrives/Abhi/Web Series/2021/190321/The One S01 E01-08 WebRip Hindi English 480p MSubs - mkvCinemas/The One S01 E03 WebRip Hindi English 480p MSubs - mkvCinemas.mkv'\n",
            "'/content/gdrive/Shareddrives/Abhi2/Copy of Web Series/2021/190321/The One S01 E01-08 WebRip Hindi English 480p MSubs - mkvCinemas/The One S01 E04 WebRip Hindi English 480p MSubs - mkvCinemas.mkv' -> '/content/gdrive/Shareddrives/Abhi/Web Series/2021/190321/The One S01 E01-08 WebRip Hindi English 480p MSubs - mkvCinemas/The One S01 E04 WebRip Hindi English 480p MSubs - mkvCinemas.mkv'\n",
            "'/content/gdrive/Shareddrives/Abhi2/Copy of Web Series/2021/190321/The One S01 E01-08 WebRip Hindi English 480p MSubs - mkvCinemas/The One S01 E05 WebRip Hindi English 480p MSubs - mkvCinemas.mkv' -> '/content/gdrive/Shareddrives/Abhi/Web Series/2021/190321/The One S01 E01-08 WebRip Hindi English 480p MSubs - mkvCinemas/The One S01 E05 WebRip Hindi English 480p MSubs - mkvCinemas.mkv'\n",
            "'/content/gdrive/Shareddrives/Abhi2/Copy of Web Series/2021/190321/The One S01 E01-08 WebRip Hindi English 480p MSubs - mkvCinemas/The One S01 E06 WebRip Hindi English 480p MSubs - mkvCinemas.mkv' -> '/content/gdrive/Shareddrives/Abhi/Web Series/2021/190321/The One S01 E01-08 WebRip Hindi English 480p MSubs - mkvCinemas/The One S01 E06 WebRip Hindi English 480p MSubs - mkvCinemas.mkv'\n",
            "'/content/gdrive/Shareddrives/Abhi2/Copy of Web Series/2021/190321/The One S01 E01-08 WebRip Hindi English 480p MSubs - mkvCinemas/The One S01 E07 WebRip Hindi English 480p MSubs - mkvCinemas.mkv' -> '/content/gdrive/Shareddrives/Abhi/Web Series/2021/190321/The One S01 E01-08 WebRip Hindi English 480p MSubs - mkvCinemas/The One S01 E07 WebRip Hindi English 480p MSubs - mkvCinemas.mkv'\n",
            "'/content/gdrive/Shareddrives/Abhi2/Copy of Web Series/2021/190321/The One S01 E01-08 WebRip Hindi English 480p MSubs - mkvCinemas/The One S01 E08 WebRip Hindi English 480p MSubs - mkvCinemas.mkv' -> '/content/gdrive/Shareddrives/Abhi/Web Series/2021/190321/The One S01 E01-08 WebRip Hindi English 480p MSubs - mkvCinemas/The One S01 E08 WebRip Hindi English 480p MSubs - mkvCinemas.mkv'\n",
            "'/content/gdrive/Shareddrives/Abhi2/Copy of Web Series/2021/190321/The One S01 E01-08 WebRip Hindi English 480p MSubs - mkvCinemas/The One S01 E01-08 WebRip Hindi English 480p - AB Movies.rar' -> '/content/gdrive/Shareddrives/Abhi/Web Series/2021/190321/The One S01 E01-08 WebRip Hindi English 480p MSubs - mkvCinemas/The One S01 E01-08 WebRip Hindi English 480p - AB Movies.rar'\n",
            "'/content/gdrive/Shareddrives/Abhi2/Copy of Web Series/2021/190321/The Forgotten Army - Azaadi Ke Liye S01 E01-05 WebRip Hindi 480p ESub - mkvCinemas' -> '/content/gdrive/Shareddrives/Abhi/Web Series/2021/190321/The Forgotten Army - Azaadi Ke Liye S01 E01-05 WebRip Hindi 480p ESub - mkvCinemas'\n",
            "'/content/gdrive/Shareddrives/Abhi2/Copy of Web Series/2021/190321/The Forgotten Army - Azaadi Ke Liye S01 E01-05 WebRip Hindi 480p ESub - mkvCinemas/The Forgotten Army - Azaadi Ke Liye S01 E01 WebRip Hindi 480p ESub - mkvCinemas.mkv' -> '/content/gdrive/Shareddrives/Abhi/Web Series/2021/190321/The Forgotten Army - Azaadi Ke Liye S01 E01-05 WebRip Hindi 480p ESub - mkvCinemas/The Forgotten Army - Azaadi Ke Liye S01 E01 WebRip Hindi 480p ESub - mkvCinemas.mkv'\n",
            "'/content/gdrive/Shareddrives/Abhi2/Copy of Web Series/2021/190321/The Forgotten Army - Azaadi Ke Liye S01 E01-05 WebRip Hindi 480p ESub - mkvCinemas/The Forgotten Army - Azaadi Ke Liye S01 E02 WebRip Hindi 480p ESub - mkvCinemas.mkv' -> '/content/gdrive/Shareddrives/Abhi/Web Series/2021/190321/The Forgotten Army - Azaadi Ke Liye S01 E01-05 WebRip Hindi 480p ESub - mkvCinemas/The Forgotten Army - Azaadi Ke Liye S01 E02 WebRip Hindi 480p ESub - mkvCinemas.mkv'\n",
            "'/content/gdrive/Shareddrives/Abhi2/Copy of Web Series/2021/190321/The Forgotten Army - Azaadi Ke Liye S01 E01-05 WebRip Hindi 480p ESub - mkvCinemas/The Forgotten Army - Azaadi Ke Liye S01 E03 WebRip Hindi 480p ESub - mkvCinemas.mkv' -> '/content/gdrive/Shareddrives/Abhi/Web Series/2021/190321/The Forgotten Army - Azaadi Ke Liye S01 E01-05 WebRip Hindi 480p ESub - mkvCinemas/The Forgotten Army - Azaadi Ke Liye S01 E03 WebRip Hindi 480p ESub - mkvCinemas.mkv'\n",
            "'/content/gdrive/Shareddrives/Abhi2/Copy of Web Series/2021/190321/The Forgotten Army - Azaadi Ke Liye S01 E01-05 WebRip Hindi 480p ESub - mkvCinemas/The Forgotten Army - Azaadi Ke Liye S01 E04 WebRip Hindi 480p ESub - mkvCinemas.mkv' -> '/content/gdrive/Shareddrives/Abhi/Web Series/2021/190321/The Forgotten Army - Azaadi Ke Liye S01 E01-05 WebRip Hindi 480p ESub - mkvCinemas/The Forgotten Army - Azaadi Ke Liye S01 E04 WebRip Hindi 480p ESub - mkvCinemas.mkv'\n",
            "'/content/gdrive/Shareddrives/Abhi2/Copy of Web Series/2021/190321/The Forgotten Army - Azaadi Ke Liye S01 E01-05 WebRip Hindi 480p ESub - mkvCinemas/The Forgotten Army - Azaadi Ke Liye S01 E05 WebRip Hindi 480p ESub - mkvCinemas.mkv' -> '/content/gdrive/Shareddrives/Abhi/Web Series/2021/190321/The Forgotten Army - Azaadi Ke Liye S01 E01-05 WebRip Hindi 480p ESub - mkvCinemas/The Forgotten Army - Azaadi Ke Liye S01 E05 WebRip Hindi 480p ESub - mkvCinemas.mkv'\n",
            "'/content/gdrive/Shareddrives/Abhi2/Copy of Web Series/2021/190321/The Forgotten Army - Azaadi Ke Liye S01 E01-05 WebRip Hindi 480p ESub - mkvCinemas/The Forgotten Army - Azaadi Ke Liye S01 E01-05 WebRip Hindi 480p ESub - mkvCinemas.zip' -> '/content/gdrive/Shareddrives/Abhi/Web Series/2021/190321/The Forgotten Army - Azaadi Ke Liye S01 E01-05 WebRip Hindi 480p ESub - mkvCinemas/The Forgotten Army - Azaadi Ke Liye S01 E01-05 WebRip Hindi 480p ESub - mkvCinemas.zip'\n",
            "'/content/gdrive/Shareddrives/Abhi2/Copy of Web Series/2021/190321/Start-Up S01 E01-16 WebRip Hindi 480p MSubs - mkvCinemas' -> '/content/gdrive/Shareddrives/Abhi/Web Series/2021/190321/Start-Up S01 E01-16 WebRip Hindi 480p MSubs - mkvCinemas'\n",
            "'/content/gdrive/Shareddrives/Abhi2/Copy of Web Series/2021/190321/Start-Up S01 E01-16 WebRip Hindi 480p MSubs - mkvCinemas/Start-Up S01 E01 WebRip Hindi 480p - mkvCinemas.mkv' -> '/content/gdrive/Shareddrives/Abhi/Web Series/2021/190321/Start-Up S01 E01-16 WebRip Hindi 480p MSubs - mkvCinemas/Start-Up S01 E01 WebRip Hindi 480p - mkvCinemas.mkv'\n",
            "'/content/gdrive/Shareddrives/Abhi2/Copy of Web Series/2021/190321/Start-Up S01 E01-16 WebRip Hindi 480p MSubs - mkvCinemas/Start-Up S01 E02 WebRip Hindi 480p - mkvCinemas.mkv' -> '/content/gdrive/Shareddrives/Abhi/Web Series/2021/190321/Start-Up S01 E01-16 WebRip Hindi 480p MSubs - mkvCinemas/Start-Up S01 E02 WebRip Hindi 480p - mkvCinemas.mkv'\n",
            "'/content/gdrive/Shareddrives/Abhi2/Copy of Web Series/2021/190321/Start-Up S01 E01-16 WebRip Hindi 480p MSubs - mkvCinemas/Start-Up S01 E03 WebRip Hindi 480p MSubs - mkvCinemas.mkv' -> '/content/gdrive/Shareddrives/Abhi/Web Series/2021/190321/Start-Up S01 E01-16 WebRip Hindi 480p MSubs - mkvCinemas/Start-Up S01 E03 WebRip Hindi 480p MSubs - mkvCinemas.mkv'\n",
            "'/content/gdrive/Shareddrives/Abhi2/Copy of Web Series/2021/190321/Start-Up S01 E01-16 WebRip Hindi 480p MSubs - mkvCinemas/Start-Up S01 E04 WebRip Hindi 480p MSubs - mkvCinemas.mkv' -> '/content/gdrive/Shareddrives/Abhi/Web Series/2021/190321/Start-Up S01 E01-16 WebRip Hindi 480p MSubs - mkvCinemas/Start-Up S01 E04 WebRip Hindi 480p MSubs - mkvCinemas.mkv'\n",
            "'/content/gdrive/Shareddrives/Abhi2/Copy of Web Series/2021/190321/Start-Up S01 E01-16 WebRip Hindi 480p MSubs - mkvCinemas/Start-Up S01 E05 WebRip Hindi 480p MSubs - mkvCinemas.mkv' -> '/content/gdrive/Shareddrives/Abhi/Web Series/2021/190321/Start-Up S01 E01-16 WebRip Hindi 480p MSubs - mkvCinemas/Start-Up S01 E05 WebRip Hindi 480p MSubs - mkvCinemas.mkv'\n",
            "'/content/gdrive/Shareddrives/Abhi2/Copy of Web Series/2021/190321/Start-Up S01 E01-16 WebRip Hindi 480p MSubs - mkvCinemas/Start-Up S01 E06 WebRip Hindi 480p MSubs - mkvCinemas.mkv' -> '/content/gdrive/Shareddrives/Abhi/Web Series/2021/190321/Start-Up S01 E01-16 WebRip Hindi 480p MSubs - mkvCinemas/Start-Up S01 E06 WebRip Hindi 480p MSubs - mkvCinemas.mkv'\n",
            "'/content/gdrive/Shareddrives/Abhi2/Copy of Web Series/2021/190321/Start-Up S01 E01-16 WebRip Hindi 480p MSubs - mkvCinemas/Start-Up S01 E07 WebRip Hindi 480p MSubs - mkvCinemas.mkv' -> '/content/gdrive/Shareddrives/Abhi/Web Series/2021/190321/Start-Up S01 E01-16 WebRip Hindi 480p MSubs - mkvCinemas/Start-Up S01 E07 WebRip Hindi 480p MSubs - mkvCinemas.mkv'\n",
            "'/content/gdrive/Shareddrives/Abhi2/Copy of Web Series/2021/190321/Start-Up S01 E01-16 WebRip Hindi 480p MSubs - mkvCinemas/Start-Up S01 E08 WebRip Hindi 480p MSubs - mkvCinemas.mkv' -> '/content/gdrive/Shareddrives/Abhi/Web Series/2021/190321/Start-Up S01 E01-16 WebRip Hindi 480p MSubs - mkvCinemas/Start-Up S01 E08 WebRip Hindi 480p MSubs - mkvCinemas.mkv'\n",
            "'/content/gdrive/Shareddrives/Abhi2/Copy of Web Series/2021/190321/Start-Up S01 E01-16 WebRip Hindi 480p MSubs - mkvCinemas/Start-Up S01 E09 WebRip Hindi 480p MSubs - mkvCinemas.mkv' -> '/content/gdrive/Shareddrives/Abhi/Web Series/2021/190321/Start-Up S01 E01-16 WebRip Hindi 480p MSubs - mkvCinemas/Start-Up S01 E09 WebRip Hindi 480p MSubs - mkvCinemas.mkv'\n",
            "'/content/gdrive/Shareddrives/Abhi2/Copy of Web Series/2021/190321/Start-Up S01 E01-16 WebRip Hindi 480p MSubs - mkvCinemas/Start-Up S01 E10 WebRip Hindi 480p MSubs - mkvCinemas.mkv' -> '/content/gdrive/Shareddrives/Abhi/Web Series/2021/190321/Start-Up S01 E01-16 WebRip Hindi 480p MSubs - mkvCinemas/Start-Up S01 E10 WebRip Hindi 480p MSubs - mkvCinemas.mkv'\n",
            "'/content/gdrive/Shareddrives/Abhi2/Copy of Web Series/2021/190321/Start-Up S01 E01-16 WebRip Hindi 480p MSubs - mkvCinemas/Start-Up S01 E11 WebRip Hindi 480p MSubs - mkvCinemas.mkv' -> '/content/gdrive/Shareddrives/Abhi/Web Series/2021/190321/Start-Up S01 E01-16 WebRip Hindi 480p MSubs - mkvCinemas/Start-Up S01 E11 WebRip Hindi 480p MSubs - mkvCinemas.mkv'\n",
            "'/content/gdrive/Shareddrives/Abhi2/Copy of Web Series/2021/190321/Start-Up S01 E01-16 WebRip Hindi 480p MSubs - mkvCinemas/Start-Up S01 E12 WebRip Hindi 480p MSubs - mkvCinemas.mkv' -> '/content/gdrive/Shareddrives/Abhi/Web Series/2021/190321/Start-Up S01 E01-16 WebRip Hindi 480p MSubs - mkvCinemas/Start-Up S01 E12 WebRip Hindi 480p MSubs - mkvCinemas.mkv'\n",
            "'/content/gdrive/Shareddrives/Abhi2/Copy of Web Series/2021/190321/Start-Up S01 E01-16 WebRip Hindi 480p MSubs - mkvCinemas/Start-Up S01 E13 WebRip Hindi 480p MSubs - mkvCinemas.mkv' -> '/content/gdrive/Shareddrives/Abhi/Web Series/2021/190321/Start-Up S01 E01-16 WebRip Hindi 480p MSubs - mkvCinemas/Start-Up S01 E13 WebRip Hindi 480p MSubs - mkvCinemas.mkv'\n",
            "'/content/gdrive/Shareddrives/Abhi2/Copy of Web Series/2021/190321/Start-Up S01 E01-16 WebRip Hindi 480p MSubs - mkvCinemas/Start-Up S01 E14 WebRip Hindi 480p MSubs - mkvCinemas.mkv' -> '/content/gdrive/Shareddrives/Abhi/Web Series/2021/190321/Start-Up S01 E01-16 WebRip Hindi 480p MSubs - mkvCinemas/Start-Up S01 E14 WebRip Hindi 480p MSubs - mkvCinemas.mkv'\n",
            "'/content/gdrive/Shareddrives/Abhi2/Copy of Web Series/2021/190321/Start-Up S01 E01-16 WebRip Hindi 480p MSubs - mkvCinemas/Start-Up S01 E15 WebRip Hindi 480p MSubs - mkvCinemas.mkv' -> '/content/gdrive/Shareddrives/Abhi/Web Series/2021/190321/Start-Up S01 E01-16 WebRip Hindi 480p MSubs - mkvCinemas/Start-Up S01 E15 WebRip Hindi 480p MSubs - mkvCinemas.mkv'\n",
            "'/content/gdrive/Shareddrives/Abhi2/Copy of Web Series/2021/190321/Start-Up S01 E01-16 WebRip Hindi 480p MSubs - mkvCinemas/Start-Up S01 E16 WebRip Hindi 480p MSubs - mkvCinemas.mkv' -> '/content/gdrive/Shareddrives/Abhi/Web Series/2021/190321/Start-Up S01 E01-16 WebRip Hindi 480p MSubs - mkvCinemas/Start-Up S01 E16 WebRip Hindi 480p MSubs - mkvCinemas.mkv'\n",
            "'/content/gdrive/Shareddrives/Abhi2/Copy of Web Series/2021/190321/Start-Up S01 E01-16 WebRip Hindi 480p MSubs - mkvCinemas/Start-Up S01 E01-16 WebRip Hindi 480p MSubs - mkvCinemas.rar' -> '/content/gdrive/Shareddrives/Abhi/Web Series/2021/190321/Start-Up S01 E01-16 WebRip Hindi 480p MSubs - mkvCinemas/Start-Up S01 E01-16 WebRip Hindi 480p MSubs - mkvCinemas.rar'\n",
            "'/content/gdrive/Shareddrives/Abhi2/Copy of Web Series/2021/190321/Love J Action S01 E01-06 WebRip Hindi 480p - mkvCinemas' -> '/content/gdrive/Shareddrives/Abhi/Web Series/2021/190321/Love J Action S01 E01-06 WebRip Hindi 480p - mkvCinemas'\n",
            "'/content/gdrive/Shareddrives/Abhi2/Copy of Web Series/2021/190321/Love J Action S01 E01-06 WebRip Hindi 480p - mkvCinemas/Love J Action S01 E01 WebRip Hindi 480p - mkvCinemas.mkv' -> '/content/gdrive/Shareddrives/Abhi/Web Series/2021/190321/Love J Action S01 E01-06 WebRip Hindi 480p - mkvCinemas/Love J Action S01 E01 WebRip Hindi 480p - mkvCinemas.mkv'\n",
            "'/content/gdrive/Shareddrives/Abhi2/Copy of Web Series/2021/190321/Love J Action S01 E01-06 WebRip Hindi 480p - mkvCinemas/Love J Action S01 E02 WebRip Hindi 480p - mkvCinemas.mkv' -> '/content/gdrive/Shareddrives/Abhi/Web Series/2021/190321/Love J Action S01 E01-06 WebRip Hindi 480p - mkvCinemas/Love J Action S01 E02 WebRip Hindi 480p - mkvCinemas.mkv'\n",
            "'/content/gdrive/Shareddrives/Abhi2/Copy of Web Series/2021/190321/Love J Action S01 E01-06 WebRip Hindi 480p - mkvCinemas/Love J Action S01 E03 WebRip Hindi 480p - mkvCinemas.mkv' -> '/content/gdrive/Shareddrives/Abhi/Web Series/2021/190321/Love J Action S01 E01-06 WebRip Hindi 480p - mkvCinemas/Love J Action S01 E03 WebRip Hindi 480p - mkvCinemas.mkv'\n",
            "'/content/gdrive/Shareddrives/Abhi2/Copy of Web Series/2021/190321/Love J Action S01 E01-06 WebRip Hindi 480p - mkvCinemas/Love J Action S01 E04 WebRip Hindi 480p - mkvCinemas.mkv' -> '/content/gdrive/Shareddrives/Abhi/Web Series/2021/190321/Love J Action S01 E01-06 WebRip Hindi 480p - mkvCinemas/Love J Action S01 E04 WebRip Hindi 480p - mkvCinemas.mkv'\n",
            "'/content/gdrive/Shareddrives/Abhi2/Copy of Web Series/2021/190321/Love J Action S01 E01-06 WebRip Hindi 480p - mkvCinemas/Love J Action S01 E05 WebRip Hindi 480p - mkvCinemas.mkv' -> '/content/gdrive/Shareddrives/Abhi/Web Series/2021/190321/Love J Action S01 E01-06 WebRip Hindi 480p - mkvCinemas/Love J Action S01 E05 WebRip Hindi 480p - mkvCinemas.mkv'\n",
            "'/content/gdrive/Shareddrives/Abhi2/Copy of Web Series/2021/190321/Love J Action S01 E01-06 WebRip Hindi 480p - mkvCinemas/Love J Action S01 E06 WebRip Hindi 480p - mkvCinemas.mkv' -> '/content/gdrive/Shareddrives/Abhi/Web Series/2021/190321/Love J Action S01 E01-06 WebRip Hindi 480p - mkvCinemas/Love J Action S01 E06 WebRip Hindi 480p - mkvCinemas.mkv'\n",
            "'/content/gdrive/Shareddrives/Abhi2/Copy of Web Series/2021/190321/Love J Action S01 E01-06 WebRip Hindi 480p - mkvCinemas/Love J Action S01 E01-06 WebRip Hindi 480p - AB Movies.rar' -> '/content/gdrive/Shareddrives/Abhi/Web Series/2021/190321/Love J Action S01 E01-06 WebRip Hindi 480p - mkvCinemas/Love J Action S01 E01-06 WebRip Hindi 480p - AB Movies.rar'\n",
            "'/content/gdrive/Shareddrives/Abhi2/Copy of Web Series/2021/190321/Jamtara Sabka Number Ayega S01 E01-10 WebRip Hindi 480p ESub - mkvCinemas' -> '/content/gdrive/Shareddrives/Abhi/Web Series/2021/190321/Jamtara Sabka Number Ayega S01 E01-10 WebRip Hindi 480p ESub - mkvCinemas'\n",
            "'/content/gdrive/Shareddrives/Abhi2/Copy of Web Series/2021/190321/Jamtara Sabka Number Ayega S01 E01-10 WebRip Hindi 480p ESub - mkvCinemas/Jamtara Sabka Number Ayega S01 E01 WebRip Hindi 480p ESub - mkvCinemas.mkv' -> '/content/gdrive/Shareddrives/Abhi/Web Series/2021/190321/Jamtara Sabka Number Ayega S01 E01-10 WebRip Hindi 480p ESub - mkvCinemas/Jamtara Sabka Number Ayega S01 E01 WebRip Hindi 480p ESub - mkvCinemas.mkv'\n",
            "'/content/gdrive/Shareddrives/Abhi2/Copy of Web Series/2021/190321/Jamtara Sabka Number Ayega S01 E01-10 WebRip Hindi 480p ESub - mkvCinemas/Jamtara Sabka Number Ayega S01 E02 WebRip Hindi 480p ESub - mkvCinemas.mkv' -> '/content/gdrive/Shareddrives/Abhi/Web Series/2021/190321/Jamtara Sabka Number Ayega S01 E01-10 WebRip Hindi 480p ESub - mkvCinemas/Jamtara Sabka Number Ayega S01 E02 WebRip Hindi 480p ESub - mkvCinemas.mkv'\n",
            "'/content/gdrive/Shareddrives/Abhi2/Copy of Web Series/2021/190321/Jamtara Sabka Number Ayega S01 E01-10 WebRip Hindi 480p ESub - mkvCinemas/Jamtara Sabka Number Ayega S01 E03 WebRip Hindi 480p ESub - mkvCinemas.mkv' -> '/content/gdrive/Shareddrives/Abhi/Web Series/2021/190321/Jamtara Sabka Number Ayega S01 E01-10 WebRip Hindi 480p ESub - mkvCinemas/Jamtara Sabka Number Ayega S01 E03 WebRip Hindi 480p ESub - mkvCinemas.mkv'\n",
            "'/content/gdrive/Shareddrives/Abhi2/Copy of Web Series/2021/190321/Jamtara Sabka Number Ayega S01 E01-10 WebRip Hindi 480p ESub - mkvCinemas/Jamtara Sabka Number Ayega S01 E04 WebRip Hindi 480p ESub - mkvCinemas.mkv' -> '/content/gdrive/Shareddrives/Abhi/Web Series/2021/190321/Jamtara Sabka Number Ayega S01 E01-10 WebRip Hindi 480p ESub - mkvCinemas/Jamtara Sabka Number Ayega S01 E04 WebRip Hindi 480p ESub - mkvCinemas.mkv'\n",
            "'/content/gdrive/Shareddrives/Abhi2/Copy of Web Series/2021/190321/Jamtara Sabka Number Ayega S01 E01-10 WebRip Hindi 480p ESub - mkvCinemas/Jamtara Sabka Number Ayega S01 E05 WebRip Hindi 480p ESub - mkvCinemas.mkv' -> '/content/gdrive/Shareddrives/Abhi/Web Series/2021/190321/Jamtara Sabka Number Ayega S01 E01-10 WebRip Hindi 480p ESub - mkvCinemas/Jamtara Sabka Number Ayega S01 E05 WebRip Hindi 480p ESub - mkvCinemas.mkv'\n",
            "'/content/gdrive/Shareddrives/Abhi2/Copy of Web Series/2021/190321/Jamtara Sabka Number Ayega S01 E01-10 WebRip Hindi 480p ESub - mkvCinemas/Jamtara Sabka Number Ayega S01 E06 WebRip Hindi 480p ESub - mkvCinemas.mkv' -> '/content/gdrive/Shareddrives/Abhi/Web Series/2021/190321/Jamtara Sabka Number Ayega S01 E01-10 WebRip Hindi 480p ESub - mkvCinemas/Jamtara Sabka Number Ayega S01 E06 WebRip Hindi 480p ESub - mkvCinemas.mkv'\n",
            "'/content/gdrive/Shareddrives/Abhi2/Copy of Web Series/2021/190321/Jamtara Sabka Number Ayega S01 E01-10 WebRip Hindi 480p ESub - mkvCinemas/Jamtara Sabka Number Ayega S01 E07 WebRip Hindi 480p ESub - mkvCinemas.mkv' -> '/content/gdrive/Shareddrives/Abhi/Web Series/2021/190321/Jamtara Sabka Number Ayega S01 E01-10 WebRip Hindi 480p ESub - mkvCinemas/Jamtara Sabka Number Ayega S01 E07 WebRip Hindi 480p ESub - mkvCinemas.mkv'\n",
            "'/content/gdrive/Shareddrives/Abhi2/Copy of Web Series/2021/190321/Jamtara Sabka Number Ayega S01 E01-10 WebRip Hindi 480p ESub - mkvCinemas/Jamtara Sabka Number Ayega S01 E08 WebRip Hindi 480p ESub - mkvCinemas.mkv' -> '/content/gdrive/Shareddrives/Abhi/Web Series/2021/190321/Jamtara Sabka Number Ayega S01 E01-10 WebRip Hindi 480p ESub - mkvCinemas/Jamtara Sabka Number Ayega S01 E08 WebRip Hindi 480p ESub - mkvCinemas.mkv'\n",
            "'/content/gdrive/Shareddrives/Abhi2/Copy of Web Series/2021/190321/Jamtara Sabka Number Ayega S01 E01-10 WebRip Hindi 480p ESub - mkvCinemas/Jamtara Sabka Number Ayega S01 E09 WebRip Hindi 480p ESub - mkvCinemas.mkv' -> '/content/gdrive/Shareddrives/Abhi/Web Series/2021/190321/Jamtara Sabka Number Ayega S01 E01-10 WebRip Hindi 480p ESub - mkvCinemas/Jamtara Sabka Number Ayega S01 E09 WebRip Hindi 480p ESub - mkvCinemas.mkv'\n",
            "'/content/gdrive/Shareddrives/Abhi2/Copy of Web Series/2021/190321/Jamtara Sabka Number Ayega S01 E01-10 WebRip Hindi 480p ESub - mkvCinemas/Jamtara Sabka Number Ayega S01 E10 WebRip Hindi 480p ESub - mkvCinemas.mkv' -> '/content/gdrive/Shareddrives/Abhi/Web Series/2021/190321/Jamtara Sabka Number Ayega S01 E01-10 WebRip Hindi 480p ESub - mkvCinemas/Jamtara Sabka Number Ayega S01 E10 WebRip Hindi 480p ESub - mkvCinemas.mkv'\n",
            "'/content/gdrive/Shareddrives/Abhi2/Copy of Web Series/2021/190321/Jamtara Sabka Number Ayega S01 E01-10 WebRip Hindi 480p ESub - mkvCinemas/Jamtara Sabka Number Ayega S01 E01-10 WebRip Hindi 480p ESub - mkvCinemas.zip' -> '/content/gdrive/Shareddrives/Abhi/Web Series/2021/190321/Jamtara Sabka Number Ayega S01 E01-10 WebRip Hindi 480p ESub - mkvCinemas/Jamtara Sabka Number Ayega S01 E01-10 WebRip Hindi 480p ESub - mkvCinemas.zip'\n",
            "'/content/gdrive/Shareddrives/Abhi2/Copy of Web Series/2021/190321/Jamai 2.0 S02 E01-10 WebRip Hindi 480p ESub - mkvCinemas' -> '/content/gdrive/Shareddrives/Abhi/Web Series/2021/190321/Jamai 2.0 S02 E01-10 WebRip Hindi 480p ESub - mkvCinemas'\n",
            "'/content/gdrive/Shareddrives/Abhi2/Copy of Web Series/2021/190321/Jamai 2.0 S02 E01-10 WebRip Hindi 480p ESub - mkvCinemas/Jamai 2.0 S02 E01 WebRip Hindi 480p ESub - mkvCinemas.mkv' -> '/content/gdrive/Shareddrives/Abhi/Web Series/2021/190321/Jamai 2.0 S02 E01-10 WebRip Hindi 480p ESub - mkvCinemas/Jamai 2.0 S02 E01 WebRip Hindi 480p ESub - mkvCinemas.mkv'\n",
            "'/content/gdrive/Shareddrives/Abhi2/Copy of Web Series/2021/190321/Jamai 2.0 S02 E01-10 WebRip Hindi 480p ESub - mkvCinemas/Jamai 2.0 S02 E02 WebRip Hindi 480p ESub - mkvCinemas.mkv' -> '/content/gdrive/Shareddrives/Abhi/Web Series/2021/190321/Jamai 2.0 S02 E01-10 WebRip Hindi 480p ESub - mkvCinemas/Jamai 2.0 S02 E02 WebRip Hindi 480p ESub - mkvCinemas.mkv'\n",
            "'/content/gdrive/Shareddrives/Abhi2/Copy of Web Series/2021/190321/Jamai 2.0 S02 E01-10 WebRip Hindi 480p ESub - mkvCinemas/Jamai 2.0 S02 E03 WebRip Hindi 480p ESub - mkvCinemas.mkv' -> '/content/gdrive/Shareddrives/Abhi/Web Series/2021/190321/Jamai 2.0 S02 E01-10 WebRip Hindi 480p ESub - mkvCinemas/Jamai 2.0 S02 E03 WebRip Hindi 480p ESub - mkvCinemas.mkv'\n",
            "'/content/gdrive/Shareddrives/Abhi2/Copy of Web Series/2021/190321/Jamai 2.0 S02 E01-10 WebRip Hindi 480p ESub - mkvCinemas/Jamai 2.0 S02 E04 WebRip Hindi 480p ESub - mkvCinemas.mkv' -> '/content/gdrive/Shareddrives/Abhi/Web Series/2021/190321/Jamai 2.0 S02 E01-10 WebRip Hindi 480p ESub - mkvCinemas/Jamai 2.0 S02 E04 WebRip Hindi 480p ESub - mkvCinemas.mkv'\n",
            "'/content/gdrive/Shareddrives/Abhi2/Copy of Web Series/2021/190321/Jamai 2.0 S02 E01-10 WebRip Hindi 480p ESub - mkvCinemas/Jamai 2.0 S02 E05 WebRip Hindi 480p ESub - mkvCinemas.mkv' -> '/content/gdrive/Shareddrives/Abhi/Web Series/2021/190321/Jamai 2.0 S02 E01-10 WebRip Hindi 480p ESub - mkvCinemas/Jamai 2.0 S02 E05 WebRip Hindi 480p ESub - mkvCinemas.mkv'\n",
            "'/content/gdrive/Shareddrives/Abhi2/Copy of Web Series/2021/190321/Jamai 2.0 S02 E01-10 WebRip Hindi 480p ESub - mkvCinemas/Jamai 2.0 S02 E06 WebRip Hindi 480p ESub - mkvCinemas.mkv' -> '/content/gdrive/Shareddrives/Abhi/Web Series/2021/190321/Jamai 2.0 S02 E01-10 WebRip Hindi 480p ESub - mkvCinemas/Jamai 2.0 S02 E06 WebRip Hindi 480p ESub - mkvCinemas.mkv'\n",
            "'/content/gdrive/Shareddrives/Abhi2/Copy of Web Series/2021/190321/Jamai 2.0 S02 E01-10 WebRip Hindi 480p ESub - mkvCinemas/Jamai 2.0 S02 E07 WebRip Hindi 480p ESub - mkvCinemas.mkv' -> '/content/gdrive/Shareddrives/Abhi/Web Series/2021/190321/Jamai 2.0 S02 E01-10 WebRip Hindi 480p ESub - mkvCinemas/Jamai 2.0 S02 E07 WebRip Hindi 480p ESub - mkvCinemas.mkv'\n",
            "'/content/gdrive/Shareddrives/Abhi2/Copy of Web Series/2021/190321/Jamai 2.0 S02 E01-10 WebRip Hindi 480p ESub - mkvCinemas/Jamai 2.0 S02 E08 WebRip Hindi 480p ESub - mkvCinemas.mkv' -> '/content/gdrive/Shareddrives/Abhi/Web Series/2021/190321/Jamai 2.0 S02 E01-10 WebRip Hindi 480p ESub - mkvCinemas/Jamai 2.0 S02 E08 WebRip Hindi 480p ESub - mkvCinemas.mkv'\n",
            "'/content/gdrive/Shareddrives/Abhi2/Copy of Web Series/2021/190321/Jamai 2.0 S02 E01-10 WebRip Hindi 480p ESub - mkvCinemas/Jamai 2.0 S02 E09 WebRip Hindi 480p ESub - mkvCinemas.mkv' -> '/content/gdrive/Shareddrives/Abhi/Web Series/2021/190321/Jamai 2.0 S02 E01-10 WebRip Hindi 480p ESub - mkvCinemas/Jamai 2.0 S02 E09 WebRip Hindi 480p ESub - mkvCinemas.mkv'\n",
            "'/content/gdrive/Shareddrives/Abhi2/Copy of Web Series/2021/190321/Jamai 2.0 S02 E01-10 WebRip Hindi 480p ESub - mkvCinemas/Jamai 2.0 S02 E10 WebRip Hindi 480p ESub - mkvCinemas.mkv' -> '/content/gdrive/Shareddrives/Abhi/Web Series/2021/190321/Jamai 2.0 S02 E01-10 WebRip Hindi 480p ESub - mkvCinemas/Jamai 2.0 S02 E10 WebRip Hindi 480p ESub - mkvCinemas.mkv'\n",
            "'/content/gdrive/Shareddrives/Abhi2/Copy of Web Series/2021/190321/Jamai 2.0 S02 E01-10 WebRip Hindi 480p ESub - mkvCinemas/Jamai 2.0 S02 E01-10 WebRip Hindi 480p ESub - mkvCinemas.rar' -> '/content/gdrive/Shareddrives/Abhi/Web Series/2021/190321/Jamai 2.0 S02 E01-10 WebRip Hindi 480p ESub - mkvCinemas/Jamai 2.0 S02 E01-10 WebRip Hindi 480p ESub - mkvCinemas.rar'\n",
            "'/content/gdrive/Shareddrives/Abhi2/Copy of Web Series/2021/190321/Chakravyuh - An Inspector Virkar Crime Thriller S01 E01-08 WebRip Hindi 480p - mkvCinemas' -> '/content/gdrive/Shareddrives/Abhi/Web Series/2021/190321/Chakravyuh - An Inspector Virkar Crime Thriller S01 E01-08 WebRip Hindi 480p - mkvCinemas'\n",
            "'/content/gdrive/Shareddrives/Abhi2/Copy of Web Series/2021/190321/Chakravyuh - An Inspector Virkar Crime Thriller S01 E01-08 WebRip Hindi 480p - mkvCinemas/Chakravyuh - An Inspector Virkar Crime Thriller S01 E01 WebRip Hindi 480p - mkvCinemas.mkv' -> '/content/gdrive/Shareddrives/Abhi/Web Series/2021/190321/Chakravyuh - An Inspector Virkar Crime Thriller S01 E01-08 WebRip Hindi 480p - mkvCinemas/Chakravyuh - An Inspector Virkar Crime Thriller S01 E01 WebRip Hindi 480p - mkvCinemas.mkv'\n",
            "'/content/gdrive/Shareddrives/Abhi2/Copy of Web Series/2021/190321/Chakravyuh - An Inspector Virkar Crime Thriller S01 E01-08 WebRip Hindi 480p - mkvCinemas/Chakravyuh - An Inspector Virkar Crime Thriller S01 E02 WebRip Hindi 480p - mkvCinemas.mkv' -> '/content/gdrive/Shareddrives/Abhi/Web Series/2021/190321/Chakravyuh - An Inspector Virkar Crime Thriller S01 E01-08 WebRip Hindi 480p - mkvCinemas/Chakravyuh - An Inspector Virkar Crime Thriller S01 E02 WebRip Hindi 480p - mkvCinemas.mkv'\n",
            "'/content/gdrive/Shareddrives/Abhi2/Copy of Web Series/2021/190321/Chakravyuh - An Inspector Virkar Crime Thriller S01 E01-08 WebRip Hindi 480p - mkvCinemas/Chakravyuh - An Inspector Virkar Crime Thriller S01 E03 WebRip Hindi 480p - mkvCinemas.mkv' -> '/content/gdrive/Shareddrives/Abhi/Web Series/2021/190321/Chakravyuh - An Inspector Virkar Crime Thriller S01 E01-08 WebRip Hindi 480p - mkvCinemas/Chakravyuh - An Inspector Virkar Crime Thriller S01 E03 WebRip Hindi 480p - mkvCinemas.mkv'\n",
            "'/content/gdrive/Shareddrives/Abhi2/Copy of Web Series/2021/190321/Chakravyuh - An Inspector Virkar Crime Thriller S01 E01-08 WebRip Hindi 480p - mkvCinemas/Chakravyuh - An Inspector Virkar Crime Thriller S01 E04 WebRip Hindi 480p - mkvCinemas.mkv' -> '/content/gdrive/Shareddrives/Abhi/Web Series/2021/190321/Chakravyuh - An Inspector Virkar Crime Thriller S01 E01-08 WebRip Hindi 480p - mkvCinemas/Chakravyuh - An Inspector Virkar Crime Thriller S01 E04 WebRip Hindi 480p - mkvCinemas.mkv'\n",
            "'/content/gdrive/Shareddrives/Abhi2/Copy of Web Series/2021/190321/Chakravyuh - An Inspector Virkar Crime Thriller S01 E01-08 WebRip Hindi 480p - mkvCinemas/Chakravyuh - An Inspector Virkar Crime Thriller S01 E05 WebRip Hindi 480p - mkvCinemas.mkv' -> '/content/gdrive/Shareddrives/Abhi/Web Series/2021/190321/Chakravyuh - An Inspector Virkar Crime Thriller S01 E01-08 WebRip Hindi 480p - mkvCinemas/Chakravyuh - An Inspector Virkar Crime Thriller S01 E05 WebRip Hindi 480p - mkvCinemas.mkv'\n",
            "'/content/gdrive/Shareddrives/Abhi2/Copy of Web Series/2021/190321/Chakravyuh - An Inspector Virkar Crime Thriller S01 E01-08 WebRip Hindi 480p - mkvCinemas/Chakravyuh - An Inspector Virkar Crime Thriller S01 E06 WebRip Hindi 480p - mkvCinemas.mkv' -> '/content/gdrive/Shareddrives/Abhi/Web Series/2021/190321/Chakravyuh - An Inspector Virkar Crime Thriller S01 E01-08 WebRip Hindi 480p - mkvCinemas/Chakravyuh - An Inspector Virkar Crime Thriller S01 E06 WebRip Hindi 480p - mkvCinemas.mkv'\n",
            "'/content/gdrive/Shareddrives/Abhi2/Copy of Web Series/2021/190321/Chakravyuh - An Inspector Virkar Crime Thriller S01 E01-08 WebRip Hindi 480p - mkvCinemas/Chakravyuh - An Inspector Virkar Crime Thriller S01 E07 WebRip Hindi 480p - mkvCinemas.mkv' -> '/content/gdrive/Shareddrives/Abhi/Web Series/2021/190321/Chakravyuh - An Inspector Virkar Crime Thriller S01 E01-08 WebRip Hindi 480p - mkvCinemas/Chakravyuh - An Inspector Virkar Crime Thriller S01 E07 WebRip Hindi 480p - mkvCinemas.mkv'\n",
            "'/content/gdrive/Shareddrives/Abhi2/Copy of Web Series/2021/190321/Chakravyuh - An Inspector Virkar Crime Thriller S01 E01-08 WebRip Hindi 480p - mkvCinemas/Chakravyuh - An Inspector Virkar Crime Thriller S01 E08 WebRip Hindi 480p - mkvCinemas.mkv' -> '/content/gdrive/Shareddrives/Abhi/Web Series/2021/190321/Chakravyuh - An Inspector Virkar Crime Thriller S01 E01-08 WebRip Hindi 480p - mkvCinemas/Chakravyuh - An Inspector Virkar Crime Thriller S01 E08 WebRip Hindi 480p - mkvCinemas.mkv'\n",
            "'/content/gdrive/Shareddrives/Abhi2/Copy of Web Series/2021/190321/Chakravyuh - An Inspector Virkar Crime Thriller S01 E01-08 WebRip Hindi 480p - mkvCinemas/Chakravyuh - An Inspector Virkar Crime Thriller S01 E01-08 WebRip Hindi 480p - AB Movies.rar' -> '/content/gdrive/Shareddrives/Abhi/Web Series/2021/190321/Chakravyuh - An Inspector Virkar Crime Thriller S01 E01-08 WebRip Hindi 480p - mkvCinemas/Chakravyuh - An Inspector Virkar Crime Thriller S01 E01-08 WebRip Hindi 480p - AB Movies.rar'\n",
            "'/content/gdrive/Shareddrives/Abhi2/Copy of Web Series/2021/190321/Bose Dead Alive S01 E01-09 WebRip Hindi 480p ESub - mkvCinemas' -> '/content/gdrive/Shareddrives/Abhi/Web Series/2021/190321/Bose Dead Alive S01 E01-09 WebRip Hindi 480p ESub - mkvCinemas'\n",
            "'/content/gdrive/Shareddrives/Abhi2/Copy of Web Series/2021/190321/Bose Dead Alive S01 E01-09 WebRip Hindi 480p ESub - mkvCinemas/Bose Dead Alive S01 E01 WebRip Hindi 480p ESub - mkvCinemas.mkv' -> '/content/gdrive/Shareddrives/Abhi/Web Series/2021/190321/Bose Dead Alive S01 E01-09 WebRip Hindi 480p ESub - mkvCinemas/Bose Dead Alive S01 E01 WebRip Hindi 480p ESub - mkvCinemas.mkv'\n",
            "'/content/gdrive/Shareddrives/Abhi2/Copy of Web Series/2021/190321/Bose Dead Alive S01 E01-09 WebRip Hindi 480p ESub - mkvCinemas/Bose Dead Alive S01 E02 WebRip Hindi 480p ESub - mkvCinemas.mkv' -> '/content/gdrive/Shareddrives/Abhi/Web Series/2021/190321/Bose Dead Alive S01 E01-09 WebRip Hindi 480p ESub - mkvCinemas/Bose Dead Alive S01 E02 WebRip Hindi 480p ESub - mkvCinemas.mkv'\n",
            "'/content/gdrive/Shareddrives/Abhi2/Copy of Web Series/2021/190321/Bose Dead Alive S01 E01-09 WebRip Hindi 480p ESub - mkvCinemas/Bose Dead Alive S01 E03 WebRip Hindi 480p ESub - mkvCinemas.mkv' -> '/content/gdrive/Shareddrives/Abhi/Web Series/2021/190321/Bose Dead Alive S01 E01-09 WebRip Hindi 480p ESub - mkvCinemas/Bose Dead Alive S01 E03 WebRip Hindi 480p ESub - mkvCinemas.mkv'\n",
            "'/content/gdrive/Shareddrives/Abhi2/Copy of Web Series/2021/190321/Bose Dead Alive S01 E01-09 WebRip Hindi 480p ESub - mkvCinemas/Bose Dead Alive S01 E04 WebRip Hindi 480p ESub - mkvCinemas.mkv' -> '/content/gdrive/Shareddrives/Abhi/Web Series/2021/190321/Bose Dead Alive S01 E01-09 WebRip Hindi 480p ESub - mkvCinemas/Bose Dead Alive S01 E04 WebRip Hindi 480p ESub - mkvCinemas.mkv'\n",
            "'/content/gdrive/Shareddrives/Abhi2/Copy of Web Series/2021/190321/Bose Dead Alive S01 E01-09 WebRip Hindi 480p ESub - mkvCinemas/Bose Dead Alive S01 E05 WebRip Hindi 480p ESub - mkvCinemas.mkv' -> '/content/gdrive/Shareddrives/Abhi/Web Series/2021/190321/Bose Dead Alive S01 E01-09 WebRip Hindi 480p ESub - mkvCinemas/Bose Dead Alive S01 E05 WebRip Hindi 480p ESub - mkvCinemas.mkv'\n",
            "'/content/gdrive/Shareddrives/Abhi2/Copy of Web Series/2021/190321/Bose Dead Alive S01 E01-09 WebRip Hindi 480p ESub - mkvCinemas/Bose Dead Alive S01 E06 WebRip Hindi 480p ESub - mkvCinemas.mkv' -> '/content/gdrive/Shareddrives/Abhi/Web Series/2021/190321/Bose Dead Alive S01 E01-09 WebRip Hindi 480p ESub - mkvCinemas/Bose Dead Alive S01 E06 WebRip Hindi 480p ESub - mkvCinemas.mkv'\n",
            "'/content/gdrive/Shareddrives/Abhi2/Copy of Web Series/2021/190321/Bose Dead Alive S01 E01-09 WebRip Hindi 480p ESub - mkvCinemas/Bose Dead Alive S01 E07 WebRip Hindi 480p ESub - mkvCinemas.mkv' -> '/content/gdrive/Shareddrives/Abhi/Web Series/2021/190321/Bose Dead Alive S01 E01-09 WebRip Hindi 480p ESub - mkvCinemas/Bose Dead Alive S01 E07 WebRip Hindi 480p ESub - mkvCinemas.mkv'\n",
            "'/content/gdrive/Shareddrives/Abhi2/Copy of Web Series/2021/190321/Bose Dead Alive S01 E01-09 WebRip Hindi 480p ESub - mkvCinemas/Bose Dead Alive S01 E08 WebRip Hindi 480p ESub - mkvCinemas.mkv' -> '/content/gdrive/Shareddrives/Abhi/Web Series/2021/190321/Bose Dead Alive S01 E01-09 WebRip Hindi 480p ESub - mkvCinemas/Bose Dead Alive S01 E08 WebRip Hindi 480p ESub - mkvCinemas.mkv'\n",
            "'/content/gdrive/Shareddrives/Abhi2/Copy of Web Series/2021/190321/Bose Dead Alive S01 E01-09 WebRip Hindi 480p ESub - mkvCinemas/Bose Dead Alive S01 E09 WebRip Hindi 480p ESub - mkvCinemas.mkv' -> '/content/gdrive/Shareddrives/Abhi/Web Series/2021/190321/Bose Dead Alive S01 E01-09 WebRip Hindi 480p ESub - mkvCinemas/Bose Dead Alive S01 E09 WebRip Hindi 480p ESub - mkvCinemas.mkv'\n",
            "'/content/gdrive/Shareddrives/Abhi2/Copy of Web Series/2021/190321/Bose Dead Alive S01 E01-09 WebRip Hindi 480p ESub - mkvCinemas/Bose Dead Alive S01 E01-09  Hindi 480p  - AB Movies.rar' -> '/content/gdrive/Shareddrives/Abhi/Web Series/2021/190321/Bose Dead Alive S01 E01-09 WebRip Hindi 480p ESub - mkvCinemas/Bose Dead Alive S01 E01-09  Hindi 480p  - AB Movies.rar'\n",
            "'/content/gdrive/Shareddrives/Abhi2/Copy of Web Series/2021/190321/Behind Her Eyes S01 E01-06 WebRip Hindi English 480p MSubs - mkvCinemas' -> '/content/gdrive/Shareddrives/Abhi/Web Series/2021/190321/Behind Her Eyes S01 E01-06 WebRip Hindi English 480p MSubs - mkvCinemas'\n",
            "'/content/gdrive/Shareddrives/Abhi2/Copy of Web Series/2021/190321/Behind Her Eyes S01 E01-06 WebRip Hindi English 480p MSubs - mkvCinemas/Behind Her Eyes S01 E01 WebRip Hindi English 480p MSubs - mkvCinemas.mkv' -> '/content/gdrive/Shareddrives/Abhi/Web Series/2021/190321/Behind Her Eyes S01 E01-06 WebRip Hindi English 480p MSubs - mkvCinemas/Behind Her Eyes S01 E01 WebRip Hindi English 480p MSubs - mkvCinemas.mkv'\n",
            "'/content/gdrive/Shareddrives/Abhi2/Copy of Web Series/2021/190321/Behind Her Eyes S01 E01-06 WebRip Hindi English 480p MSubs - mkvCinemas/Behind Her Eyes S01 E02 WebRip Hindi English 480p MSubs - mkvCinemas.mkv' -> '/content/gdrive/Shareddrives/Abhi/Web Series/2021/190321/Behind Her Eyes S01 E01-06 WebRip Hindi English 480p MSubs - mkvCinemas/Behind Her Eyes S01 E02 WebRip Hindi English 480p MSubs - mkvCinemas.mkv'\n",
            "'/content/gdrive/Shareddrives/Abhi2/Copy of Web Series/2021/190321/Behind Her Eyes S01 E01-06 WebRip Hindi English 480p MSubs - mkvCinemas/Behind Her Eyes S01 E03 WebRip Hindi English 480p MSubs - mkvCinemas.mkv' -> '/content/gdrive/Shareddrives/Abhi/Web Series/2021/190321/Behind Her Eyes S01 E01-06 WebRip Hindi English 480p MSubs - mkvCinemas/Behind Her Eyes S01 E03 WebRip Hindi English 480p MSubs - mkvCinemas.mkv'\n",
            "'/content/gdrive/Shareddrives/Abhi2/Copy of Web Series/2021/190321/Behind Her Eyes S01 E01-06 WebRip Hindi English 480p MSubs - mkvCinemas/Behind Her Eyes S01 E04 WebRip Hindi English 480p MSubs - mkvCinemas.mkv' -> '/content/gdrive/Shareddrives/Abhi/Web Series/2021/190321/Behind Her Eyes S01 E01-06 WebRip Hindi English 480p MSubs - mkvCinemas/Behind Her Eyes S01 E04 WebRip Hindi English 480p MSubs - mkvCinemas.mkv'\n",
            "'/content/gdrive/Shareddrives/Abhi2/Copy of Web Series/2021/190321/Behind Her Eyes S01 E01-06 WebRip Hindi English 480p MSubs - mkvCinemas/Behind Her Eyes S01 E05 WebRip Hindi English 480p MSubs - mkvCinemas.mkv' -> '/content/gdrive/Shareddrives/Abhi/Web Series/2021/190321/Behind Her Eyes S01 E01-06 WebRip Hindi English 480p MSubs - mkvCinemas/Behind Her Eyes S01 E05 WebRip Hindi English 480p MSubs - mkvCinemas.mkv'\n",
            "'/content/gdrive/Shareddrives/Abhi2/Copy of Web Series/2021/190321/Behind Her Eyes S01 E01-06 WebRip Hindi English 480p MSubs - mkvCinemas/Behind Her Eyes S01 E06 WebRip Hindi English 480p MSubs - mkvCinemas.mkv' -> '/content/gdrive/Shareddrives/Abhi/Web Series/2021/190321/Behind Her Eyes S01 E01-06 WebRip Hindi English 480p MSubs - mkvCinemas/Behind Her Eyes S01 E06 WebRip Hindi English 480p MSubs - mkvCinemas.mkv'\n",
            "'/content/gdrive/Shareddrives/Abhi2/Copy of Web Series/2021/190321/Behind Her Eyes S01 E01-06 WebRip Hindi English 480p MSubs - mkvCinemas/Behind Her Eyes S01 E01-06 Hindi English 480p - AB Movies.rar' -> '/content/gdrive/Shareddrives/Abhi/Web Series/2021/190321/Behind Her Eyes S01 E01-06 WebRip Hindi English 480p MSubs - mkvCinemas/Behind Her Eyes S01 E01-06 Hindi English 480p - AB Movies.rar'\n",
            "'/content/gdrive/Shareddrives/Abhi2/Copy of Web Series/2021/280321' -> '/content/gdrive/Shareddrives/Abhi/Web Series/2021/280321'\n",
            "'/content/gdrive/Shareddrives/Abhi2/Copy of Web Series/2021/280321/7 Kadam S01 E01-04 WebRip Hindi 480p ESub' -> '/content/gdrive/Shareddrives/Abhi/Web Series/2021/280321/7 Kadam S01 E01-04 WebRip Hindi 480p ESub'\n",
            "'/content/gdrive/Shareddrives/Abhi2/Copy of Web Series/2021/280321/7 Kadam S01 E01-04 WebRip Hindi 480p ESub/7 Kadam S01 E01 WebRip Hindi 480p ESub - mkvCinemas.mkv' -> '/content/gdrive/Shareddrives/Abhi/Web Series/2021/280321/7 Kadam S01 E01-04 WebRip Hindi 480p ESub/7 Kadam S01 E01 WebRip Hindi 480p ESub - mkvCinemas.mkv'\n",
            "'/content/gdrive/Shareddrives/Abhi2/Copy of Web Series/2021/280321/7 Kadam S01 E01-04 WebRip Hindi 480p ESub/7 Kadam S01 E02 WebRip Hindi 480p ESub - mkvCinemas.mkv' -> '/content/gdrive/Shareddrives/Abhi/Web Series/2021/280321/7 Kadam S01 E01-04 WebRip Hindi 480p ESub/7 Kadam S01 E02 WebRip Hindi 480p ESub - mkvCinemas.mkv'\n",
            "'/content/gdrive/Shareddrives/Abhi2/Copy of Web Series/2021/280321/7 Kadam S01 E01-04 WebRip Hindi 480p ESub/7 Kadam S01 E03 WebRip Hindi 480p ESub - mkvCinemas.mkv' -> '/content/gdrive/Shareddrives/Abhi/Web Series/2021/280321/7 Kadam S01 E01-04 WebRip Hindi 480p ESub/7 Kadam S01 E03 WebRip Hindi 480p ESub - mkvCinemas.mkv'\n",
            "'/content/gdrive/Shareddrives/Abhi2/Copy of Web Series/2021/280321/7 Kadam S01 E01-04 WebRip Hindi 480p ESub/7 Kadam S01 E04 WebRip Hindi 480p ESub - mkvCinemas.mkv' -> '/content/gdrive/Shareddrives/Abhi/Web Series/2021/280321/7 Kadam S01 E01-04 WebRip Hindi 480p ESub/7 Kadam S01 E04 WebRip Hindi 480p ESub - mkvCinemas.mkv'\n",
            "'/content/gdrive/Shareddrives/Abhi2/Copy of Web Series/2021/280321/7 Kadam S01 E01-04 WebRip Hindi 480p ESub/7 Kadam S01 E01-04 WebRip Hindi 480p ESub - AB Movies.rar' -> '/content/gdrive/Shareddrives/Abhi/Web Series/2021/280321/7 Kadam S01 E01-04 WebRip Hindi 480p ESub/7 Kadam S01 E01-04 WebRip Hindi 480p ESub - AB Movies.rar'\n",
            "'/content/gdrive/Shareddrives/Abhi2/Copy of Web Series/2021/280321/Chacha Vidhayak Hain Humare S02 E01-08 WebRip Hindi 480p ESub' -> '/content/gdrive/Shareddrives/Abhi/Web Series/2021/280321/Chacha Vidhayak Hain Humare S02 E01-08 WebRip Hindi 480p ESub'\n",
            "'/content/gdrive/Shareddrives/Abhi2/Copy of Web Series/2021/280321/Chacha Vidhayak Hain Humare S02 E01-08 WebRip Hindi 480p ESub/Chacha Vidhayak Hain Humare S02 E01 WebRip Hindi 480p ESub - mkvCinemas.mkv' -> '/content/gdrive/Shareddrives/Abhi/Web Series/2021/280321/Chacha Vidhayak Hain Humare S02 E01-08 WebRip Hindi 480p ESub/Chacha Vidhayak Hain Humare S02 E01 WebRip Hindi 480p ESub - mkvCinemas.mkv'\n",
            "'/content/gdrive/Shareddrives/Abhi2/Copy of Web Series/2021/280321/Chacha Vidhayak Hain Humare S02 E01-08 WebRip Hindi 480p ESub/Chacha Vidhayak Hain Humare S02 E02 WebRip Hindi 480p ESub - mkvCinemas.mkv' -> '/content/gdrive/Shareddrives/Abhi/Web Series/2021/280321/Chacha Vidhayak Hain Humare S02 E01-08 WebRip Hindi 480p ESub/Chacha Vidhayak Hain Humare S02 E02 WebRip Hindi 480p ESub - mkvCinemas.mkv'\n",
            "'/content/gdrive/Shareddrives/Abhi2/Copy of Web Series/2021/280321/Chacha Vidhayak Hain Humare S02 E01-08 WebRip Hindi 480p ESub/Chacha Vidhayak Hain Humare S02 E03 WebRip Hindi 480p ESub - mkvCinemas.mkv' -> '/content/gdrive/Shareddrives/Abhi/Web Series/2021/280321/Chacha Vidhayak Hain Humare S02 E01-08 WebRip Hindi 480p ESub/Chacha Vidhayak Hain Humare S02 E03 WebRip Hindi 480p ESub - mkvCinemas.mkv'\n",
            "'/content/gdrive/Shareddrives/Abhi2/Copy of Web Series/2021/280321/Chacha Vidhayak Hain Humare S02 E01-08 WebRip Hindi 480p ESub/Chacha Vidhayak Hain Humare S02 E04 WebRip Hindi 480p ESub - mkvCinemas.mkv' -> '/content/gdrive/Shareddrives/Abhi/Web Series/2021/280321/Chacha Vidhayak Hain Humare S02 E01-08 WebRip Hindi 480p ESub/Chacha Vidhayak Hain Humare S02 E04 WebRip Hindi 480p ESub - mkvCinemas.mkv'\n",
            "'/content/gdrive/Shareddrives/Abhi2/Copy of Web Series/2021/280321/Chacha Vidhayak Hain Humare S02 E01-08 WebRip Hindi 480p ESub/Chacha Vidhayak Hain Humare S02 E05 WebRip Hindi 480p ESub - mkvCinemas.mkv' -> '/content/gdrive/Shareddrives/Abhi/Web Series/2021/280321/Chacha Vidhayak Hain Humare S02 E01-08 WebRip Hindi 480p ESub/Chacha Vidhayak Hain Humare S02 E05 WebRip Hindi 480p ESub - mkvCinemas.mkv'\n",
            "'/content/gdrive/Shareddrives/Abhi2/Copy of Web Series/2021/280321/Chacha Vidhayak Hain Humare S02 E01-08 WebRip Hindi 480p ESub/Chacha Vidhayak Hain Humare S02 E06 WebRip Hindi 480p ESub - mkvCinemas.mkv' -> '/content/gdrive/Shareddrives/Abhi/Web Series/2021/280321/Chacha Vidhayak Hain Humare S02 E01-08 WebRip Hindi 480p ESub/Chacha Vidhayak Hain Humare S02 E06 WebRip Hindi 480p ESub - mkvCinemas.mkv'\n",
            "'/content/gdrive/Shareddrives/Abhi2/Copy of Web Series/2021/280321/Chacha Vidhayak Hain Humare S02 E01-08 WebRip Hindi 480p ESub/Chacha Vidhayak Hain Humare S02 E07 WebRip Hindi 480p ESub - mkvCinemas.mkv' -> '/content/gdrive/Shareddrives/Abhi/Web Series/2021/280321/Chacha Vidhayak Hain Humare S02 E01-08 WebRip Hindi 480p ESub/Chacha Vidhayak Hain Humare S02 E07 WebRip Hindi 480p ESub - mkvCinemas.mkv'\n",
            "'/content/gdrive/Shareddrives/Abhi2/Copy of Web Series/2021/280321/Chacha Vidhayak Hain Humare S02 E01-08 WebRip Hindi 480p ESub/Chacha Vidhayak Hain Humare S02 E08 WebRip Hindi 480p ESub - mkvCinemas.mkv' -> '/content/gdrive/Shareddrives/Abhi/Web Series/2021/280321/Chacha Vidhayak Hain Humare S02 E01-08 WebRip Hindi 480p ESub/Chacha Vidhayak Hain Humare S02 E08 WebRip Hindi 480p ESub - mkvCinemas.mkv'\n",
            "'/content/gdrive/Shareddrives/Abhi2/Copy of Web Series/2021/280321/Chacha Vidhayak Hain Humare S02 E01-08 WebRip Hindi 480p ESub/Chacha Vidhayak Hain Humare S02 E01-08 WebRip Hindi 480p ESub - AB Movies.rar' -> '/content/gdrive/Shareddrives/Abhi/Web Series/2021/280321/Chacha Vidhayak Hain Humare S02 E01-08 WebRip Hindi 480p ESub/Chacha Vidhayak Hain Humare S02 E01-08 WebRip Hindi 480p ESub - AB Movies.rar'\n",
            "'/content/gdrive/Shareddrives/Abhi2/Copy of Web Series/2021/280321/Hey Prabhu S02 E01-10 WebRip Hindi 480p' -> '/content/gdrive/Shareddrives/Abhi/Web Series/2021/280321/Hey Prabhu S02 E01-10 WebRip Hindi 480p'\n",
            "'/content/gdrive/Shareddrives/Abhi2/Copy of Web Series/2021/280321/Hey Prabhu S02 E01-10 WebRip Hindi 480p/Hey Prabhu S02 E01 WebRip Hindi 480p - mkvCinemas.mkv' -> '/content/gdrive/Shareddrives/Abhi/Web Series/2021/280321/Hey Prabhu S02 E01-10 WebRip Hindi 480p/Hey Prabhu S02 E01 WebRip Hindi 480p - mkvCinemas.mkv'\n",
            "'/content/gdrive/Shareddrives/Abhi2/Copy of Web Series/2021/280321/Hey Prabhu S02 E01-10 WebRip Hindi 480p/Hey Prabhu S02 E02 WebRip Hindi 480p - mkvCinemas.mkv' -> '/content/gdrive/Shareddrives/Abhi/Web Series/2021/280321/Hey Prabhu S02 E01-10 WebRip Hindi 480p/Hey Prabhu S02 E02 WebRip Hindi 480p - mkvCinemas.mkv'\n",
            "'/content/gdrive/Shareddrives/Abhi2/Copy of Web Series/2021/280321/Hey Prabhu S02 E01-10 WebRip Hindi 480p/Hey Prabhu S02 E03 WebRip Hindi 480p - mkvCinemas.mkv' -> '/content/gdrive/Shareddrives/Abhi/Web Series/2021/280321/Hey Prabhu S02 E01-10 WebRip Hindi 480p/Hey Prabhu S02 E03 WebRip Hindi 480p - mkvCinemas.mkv'\n",
            "'/content/gdrive/Shareddrives/Abhi2/Copy of Web Series/2021/280321/Hey Prabhu S02 E01-10 WebRip Hindi 480p/Hey Prabhu S02 E04 WebRip Hindi 480p - mkvCinemas.mkv' -> '/content/gdrive/Shareddrives/Abhi/Web Series/2021/280321/Hey Prabhu S02 E01-10 WebRip Hindi 480p/Hey Prabhu S02 E04 WebRip Hindi 480p - mkvCinemas.mkv'\n",
            "'/content/gdrive/Shareddrives/Abhi2/Copy of Web Series/2021/280321/Hey Prabhu S02 E01-10 WebRip Hindi 480p/Hey Prabhu S02 E05 WebRip Hindi 480p - mkvCinemas.mkv' -> '/content/gdrive/Shareddrives/Abhi/Web Series/2021/280321/Hey Prabhu S02 E01-10 WebRip Hindi 480p/Hey Prabhu S02 E05 WebRip Hindi 480p - mkvCinemas.mkv'\n",
            "'/content/gdrive/Shareddrives/Abhi2/Copy of Web Series/2021/280321/Hey Prabhu S02 E01-10 WebRip Hindi 480p/Hey Prabhu S02 E06 WebRip Hindi 480p - mkvCinemas.mkv' -> '/content/gdrive/Shareddrives/Abhi/Web Series/2021/280321/Hey Prabhu S02 E01-10 WebRip Hindi 480p/Hey Prabhu S02 E06 WebRip Hindi 480p - mkvCinemas.mkv'\n",
            "'/content/gdrive/Shareddrives/Abhi2/Copy of Web Series/2021/280321/Hey Prabhu S02 E01-10 WebRip Hindi 480p/Hey Prabhu S02 E07 WebRip Hindi 480p - mkvCinemas.mkv' -> '/content/gdrive/Shareddrives/Abhi/Web Series/2021/280321/Hey Prabhu S02 E01-10 WebRip Hindi 480p/Hey Prabhu S02 E07 WebRip Hindi 480p - mkvCinemas.mkv'\n",
            "'/content/gdrive/Shareddrives/Abhi2/Copy of Web Series/2021/280321/Hey Prabhu S02 E01-10 WebRip Hindi 480p/Hey Prabhu S02 E08 WebRip Hindi 480p - mkvCinemas.mkv' -> '/content/gdrive/Shareddrives/Abhi/Web Series/2021/280321/Hey Prabhu S02 E01-10 WebRip Hindi 480p/Hey Prabhu S02 E08 WebRip Hindi 480p - mkvCinemas.mkv'\n",
            "'/content/gdrive/Shareddrives/Abhi2/Copy of Web Series/2021/280321/Hey Prabhu S02 E01-10 WebRip Hindi 480p/Hey Prabhu S02 E09 WebRip Hindi 480p - mkvCinemas.mkv' -> '/content/gdrive/Shareddrives/Abhi/Web Series/2021/280321/Hey Prabhu S02 E01-10 WebRip Hindi 480p/Hey Prabhu S02 E09 WebRip Hindi 480p - mkvCinemas.mkv'\n",
            "'/content/gdrive/Shareddrives/Abhi2/Copy of Web Series/2021/280321/Hey Prabhu S02 E01-10 WebRip Hindi 480p/Hey Prabhu S02 E10 WebRip Hindi 480p - mkvCinemas.mkv' -> '/content/gdrive/Shareddrives/Abhi/Web Series/2021/280321/Hey Prabhu S02 E01-10 WebRip Hindi 480p/Hey Prabhu S02 E10 WebRip Hindi 480p - mkvCinemas.mkv'\n",
            "'/content/gdrive/Shareddrives/Abhi2/Copy of Web Series/2021/280321/Hey Prabhu S02 E01-10 WebRip Hindi 480p/Hey Prabhu S02 E01-10 WebRip Hindi 480p - AB Movies.rar' -> '/content/gdrive/Shareddrives/Abhi/Web Series/2021/280321/Hey Prabhu S02 E01-10 WebRip Hindi 480p/Hey Prabhu S02 E01-10 WebRip Hindi 480p - AB Movies.rar'\n",
            "'/content/gdrive/Shareddrives/Abhi2/Copy of Web Series/2021/280321/Kamathipura S01 E01-07 WebRip Hindi 480p ESub' -> '/content/gdrive/Shareddrives/Abhi/Web Series/2021/280321/Kamathipura S01 E01-07 WebRip Hindi 480p ESub'\n",
            "'/content/gdrive/Shareddrives/Abhi2/Copy of Web Series/2021/280321/Kamathipura S01 E01-07 WebRip Hindi 480p ESub/Kamathipura S01 E01 WebRip Hindi 480p ESub - mkvCinemas.mkv' -> '/content/gdrive/Shareddrives/Abhi/Web Series/2021/280321/Kamathipura S01 E01-07 WebRip Hindi 480p ESub/Kamathipura S01 E01 WebRip Hindi 480p ESub - mkvCinemas.mkv'\n",
            "'/content/gdrive/Shareddrives/Abhi2/Copy of Web Series/2021/280321/Kamathipura S01 E01-07 WebRip Hindi 480p ESub/Kamathipura S01 E02 WebRip Hindi 480p ESub - mkvCinemas.mkv' -> '/content/gdrive/Shareddrives/Abhi/Web Series/2021/280321/Kamathipura S01 E01-07 WebRip Hindi 480p ESub/Kamathipura S01 E02 WebRip Hindi 480p ESub - mkvCinemas.mkv'\n",
            "'/content/gdrive/Shareddrives/Abhi2/Copy of Web Series/2021/280321/Kamathipura S01 E01-07 WebRip Hindi 480p ESub/Kamathipura S01 E03 WebRip Hindi 480p ESub - mkvCinemas.mkv' -> '/content/gdrive/Shareddrives/Abhi/Web Series/2021/280321/Kamathipura S01 E01-07 WebRip Hindi 480p ESub/Kamathipura S01 E03 WebRip Hindi 480p ESub - mkvCinemas.mkv'\n",
            "'/content/gdrive/Shareddrives/Abhi2/Copy of Web Series/2021/280321/Kamathipura S01 E01-07 WebRip Hindi 480p ESub/Kamathipura S01 E04 WebRip Hindi 480p ESub - mkvCinemas.mkv' -> '/content/gdrive/Shareddrives/Abhi/Web Series/2021/280321/Kamathipura S01 E01-07 WebRip Hindi 480p ESub/Kamathipura S01 E04 WebRip Hindi 480p ESub - mkvCinemas.mkv'\n",
            "'/content/gdrive/Shareddrives/Abhi2/Copy of Web Series/2021/280321/Kamathipura S01 E01-07 WebRip Hindi 480p ESub/Kamathipura S01 E05 WebRip Hindi 480p ESub - mkvCinemas.mkv' -> '/content/gdrive/Shareddrives/Abhi/Web Series/2021/280321/Kamathipura S01 E01-07 WebRip Hindi 480p ESub/Kamathipura S01 E05 WebRip Hindi 480p ESub - mkvCinemas.mkv'\n",
            "'/content/gdrive/Shareddrives/Abhi2/Copy of Web Series/2021/280321/Kamathipura S01 E01-07 WebRip Hindi 480p ESub/Kamathipura S01 E06 WebRip Hindi 480p ESub - mkvCinemas.mkv' -> '/content/gdrive/Shareddrives/Abhi/Web Series/2021/280321/Kamathipura S01 E01-07 WebRip Hindi 480p ESub/Kamathipura S01 E06 WebRip Hindi 480p ESub - mkvCinemas.mkv'\n",
            "'/content/gdrive/Shareddrives/Abhi2/Copy of Web Series/2021/280321/Kamathipura S01 E01-07 WebRip Hindi 480p ESub/Kamathipura S01 E07 WebRip Hindi 480p ESub - mkvCinemas.mkv' -> '/content/gdrive/Shareddrives/Abhi/Web Series/2021/280321/Kamathipura S01 E01-07 WebRip Hindi 480p ESub/Kamathipura S01 E07 WebRip Hindi 480p ESub - mkvCinemas.mkv'\n",
            "'/content/gdrive/Shareddrives/Abhi2/Copy of Web Series/2021/280321/Kamathipura S01 E01-07 WebRip Hindi 480p ESub/Kamathipura S01 E01-07 WebRip Hindi 480p ESub - AB Movies.rar' -> '/content/gdrive/Shareddrives/Abhi/Web Series/2021/280321/Kamathipura S01 E01-07 WebRip Hindi 480p ESub/Kamathipura S01 E01-07 WebRip Hindi 480p ESub - AB Movies.rar'\n",
            "'/content/gdrive/Shareddrives/Abhi2/Copy of Web Series/2021/280321/OK Computer S01 E01-06 WebRip Hindi 480p ESub' -> '/content/gdrive/Shareddrives/Abhi/Web Series/2021/280321/OK Computer S01 E01-06 WebRip Hindi 480p ESub'\n",
            "'/content/gdrive/Shareddrives/Abhi2/Copy of Web Series/2021/280321/OK Computer S01 E01-06 WebRip Hindi 480p ESub/OK Computer S01 E01 WebRip Hindi 480p ESub - mkvCinemas.mkv' -> '/content/gdrive/Shareddrives/Abhi/Web Series/2021/280321/OK Computer S01 E01-06 WebRip Hindi 480p ESub/OK Computer S01 E01 WebRip Hindi 480p ESub - mkvCinemas.mkv'\n",
            "'/content/gdrive/Shareddrives/Abhi2/Copy of Web Series/2021/280321/OK Computer S01 E01-06 WebRip Hindi 480p ESub/OK Computer S01 E02 WebRip Hindi 480p ESub - mkvCinemas.mkv' -> '/content/gdrive/Shareddrives/Abhi/Web Series/2021/280321/OK Computer S01 E01-06 WebRip Hindi 480p ESub/OK Computer S01 E02 WebRip Hindi 480p ESub - mkvCinemas.mkv'\n",
            "'/content/gdrive/Shareddrives/Abhi2/Copy of Web Series/2021/280321/OK Computer S01 E01-06 WebRip Hindi 480p ESub/OK Computer S01 E03 WebRip Hindi 480p ESub - mkvCinemas.mkv' -> '/content/gdrive/Shareddrives/Abhi/Web Series/2021/280321/OK Computer S01 E01-06 WebRip Hindi 480p ESub/OK Computer S01 E03 WebRip Hindi 480p ESub - mkvCinemas.mkv'\n",
            "'/content/gdrive/Shareddrives/Abhi2/Copy of Web Series/2021/280321/OK Computer S01 E01-06 WebRip Hindi 480p ESub/OK Computer S01 E04 WebRip Hindi 480p ESub - mkvCinemas.mkv' -> '/content/gdrive/Shareddrives/Abhi/Web Series/2021/280321/OK Computer S01 E01-06 WebRip Hindi 480p ESub/OK Computer S01 E04 WebRip Hindi 480p ESub - mkvCinemas.mkv'\n",
            "'/content/gdrive/Shareddrives/Abhi2/Copy of Web Series/2021/280321/OK Computer S01 E01-06 WebRip Hindi 480p ESub/OK Computer S01 E05 WebRip Hindi 480p ESub - mkvCinemas.mkv' -> '/content/gdrive/Shareddrives/Abhi/Web Series/2021/280321/OK Computer S01 E01-06 WebRip Hindi 480p ESub/OK Computer S01 E05 WebRip Hindi 480p ESub - mkvCinemas.mkv'\n",
            "'/content/gdrive/Shareddrives/Abhi2/Copy of Web Series/2021/280321/OK Computer S01 E01-06 WebRip Hindi 480p ESub/OK Computer S01 E06 WebRip Hindi 480p ESub - mkvCinemas.mkv' -> '/content/gdrive/Shareddrives/Abhi/Web Series/2021/280321/OK Computer S01 E01-06 WebRip Hindi 480p ESub/OK Computer S01 E06 WebRip Hindi 480p ESub - mkvCinemas.mkv'\n",
            "'/content/gdrive/Shareddrives/Abhi2/Copy of Web Series/2021/280321/OK Computer S01 E01-06 WebRip Hindi 480p ESub/OK Computer S01 E01-06 WebRip Hindi 480p ESub - AB Movies.rar' -> '/content/gdrive/Shareddrives/Abhi/Web Series/2021/280321/OK Computer S01 E01-06 WebRip Hindi 480p ESub/OK Computer S01 E01-06 WebRip Hindi 480p ESub - AB Movies.rar'\n",
            "'/content/gdrive/Shareddrives/Abhi2/Copy of Web Series/2021/280321/Project 9191 S01 E01-07 WebRip Hindi 480p ESub' -> '/content/gdrive/Shareddrives/Abhi/Web Series/2021/280321/Project 9191 S01 E01-07 WebRip Hindi 480p ESub'\n",
            "'/content/gdrive/Shareddrives/Abhi2/Copy of Web Series/2021/280321/Project 9191 S01 E01-07 WebRip Hindi 480p ESub/Project 9191 S01 E01 WebRip Hindi 480p ESub - mkvCinemas.mkv' -> '/content/gdrive/Shareddrives/Abhi/Web Series/2021/280321/Project 9191 S01 E01-07 WebRip Hindi 480p ESub/Project 9191 S01 E01 WebRip Hindi 480p ESub - mkvCinemas.mkv'\n",
            "'/content/gdrive/Shareddrives/Abhi2/Copy of Web Series/2021/280321/Project 9191 S01 E01-07 WebRip Hindi 480p ESub/Project 9191 S01 E02 WebRip Hindi 480p ESub - mkvCinemas.mkv' -> '/content/gdrive/Shareddrives/Abhi/Web Series/2021/280321/Project 9191 S01 E01-07 WebRip Hindi 480p ESub/Project 9191 S01 E02 WebRip Hindi 480p ESub - mkvCinemas.mkv'\n",
            "'/content/gdrive/Shareddrives/Abhi2/Copy of Web Series/2021/280321/Project 9191 S01 E01-07 WebRip Hindi 480p ESub/Project 9191 S01 E03 WebRip Hindi 480p ESub - mkvCinemas.mkv' -> '/content/gdrive/Shareddrives/Abhi/Web Series/2021/280321/Project 9191 S01 E01-07 WebRip Hindi 480p ESub/Project 9191 S01 E03 WebRip Hindi 480p ESub - mkvCinemas.mkv'\n",
            "'/content/gdrive/Shareddrives/Abhi2/Copy of Web Series/2021/280321/Project 9191 S01 E01-07 WebRip Hindi 480p ESub/Project 9191 S01 E04 WebRip Hindi 480p ESub - mkvCinemas.mkv' -> '/content/gdrive/Shareddrives/Abhi/Web Series/2021/280321/Project 9191 S01 E01-07 WebRip Hindi 480p ESub/Project 9191 S01 E04 WebRip Hindi 480p ESub - mkvCinemas.mkv'\n",
            "'/content/gdrive/Shareddrives/Abhi2/Copy of Web Series/2021/280321/Project 9191 S01 E01-07 WebRip Hindi 480p ESub/Project 9191 S01 E05 WebRip Hindi 480p ESub - mkvCinemas.mkv' -> '/content/gdrive/Shareddrives/Abhi/Web Series/2021/280321/Project 9191 S01 E01-07 WebRip Hindi 480p ESub/Project 9191 S01 E05 WebRip Hindi 480p ESub - mkvCinemas.mkv'\n",
            "'/content/gdrive/Shareddrives/Abhi2/Copy of Web Series/2021/280321/Project 9191 S01 E01-07 WebRip Hindi 480p ESub/Project 9191 S01 E06 WebRip Hindi 480p ESub - mkvCinemas.mkv' -> '/content/gdrive/Shareddrives/Abhi/Web Series/2021/280321/Project 9191 S01 E01-07 WebRip Hindi 480p ESub/Project 9191 S01 E06 WebRip Hindi 480p ESub - mkvCinemas.mkv'\n",
            "'/content/gdrive/Shareddrives/Abhi2/Copy of Web Series/2021/280321/Project 9191 S01 E01-07 WebRip Hindi 480p ESub/Project 9191 S01 E07 WebRip Hindi 480p ESub - mkvCinemas.mkv' -> '/content/gdrive/Shareddrives/Abhi/Web Series/2021/280321/Project 9191 S01 E01-07 WebRip Hindi 480p ESub/Project 9191 S01 E07 WebRip Hindi 480p ESub - mkvCinemas.mkv'\n",
            "'/content/gdrive/Shareddrives/Abhi2/Copy of Web Series/2021/280321/Project 9191 S01 E01-07 WebRip Hindi 480p ESub/Project 9191 S01 E01-07 WebRip Hindi 480p ESub - AB Movies.rar' -> '/content/gdrive/Shareddrives/Abhi/Web Series/2021/280321/Project 9191 S01 E01-07 WebRip Hindi 480p ESub/Project 9191 S01 E01-07 WebRip Hindi 480p ESub - AB Movies.rar'\n",
            "'/content/gdrive/Shareddrives/Abhi2/Copy of Web Series/2021/280321/The Irregulars S01 E01-08 WebRip Hindi English 480p MSubs' -> '/content/gdrive/Shareddrives/Abhi/Web Series/2021/280321/The Irregulars S01 E01-08 WebRip Hindi English 480p MSubs'\n",
            "'/content/gdrive/Shareddrives/Abhi2/Copy of Web Series/2021/280321/The Irregulars S01 E01-08 WebRip Hindi English 480p MSubs/The Irregulars S01 E01 WebRip Hindi English 480p MSubs - mkvCinemas.mkv' -> '/content/gdrive/Shareddrives/Abhi/Web Series/2021/280321/The Irregulars S01 E01-08 WebRip Hindi English 480p MSubs/The Irregulars S01 E01 WebRip Hindi English 480p MSubs - mkvCinemas.mkv'\n",
            "'/content/gdrive/Shareddrives/Abhi2/Copy of Web Series/2021/280321/The Irregulars S01 E01-08 WebRip Hindi English 480p MSubs/The Irregulars S01 E02 WebRip Hindi English 480p MSubs - mkvCinemas.mkv' -> '/content/gdrive/Shareddrives/Abhi/Web Series/2021/280321/The Irregulars S01 E01-08 WebRip Hindi English 480p MSubs/The Irregulars S01 E02 WebRip Hindi English 480p MSubs - mkvCinemas.mkv'\n",
            "'/content/gdrive/Shareddrives/Abhi2/Copy of Web Series/2021/280321/The Irregulars S01 E01-08 WebRip Hindi English 480p MSubs/The Irregulars S01 E03 WebRip Hindi English 480p MSubs - mkvCinemas.mkv' -> '/content/gdrive/Shareddrives/Abhi/Web Series/2021/280321/The Irregulars S01 E01-08 WebRip Hindi English 480p MSubs/The Irregulars S01 E03 WebRip Hindi English 480p MSubs - mkvCinemas.mkv'\n",
            "'/content/gdrive/Shareddrives/Abhi2/Copy of Web Series/2021/280321/The Irregulars S01 E01-08 WebRip Hindi English 480p MSubs/The Irregulars S01 E04 WebRip Hindi English 480p MSubs - mkvCinemas.mkv' -> '/content/gdrive/Shareddrives/Abhi/Web Series/2021/280321/The Irregulars S01 E01-08 WebRip Hindi English 480p MSubs/The Irregulars S01 E04 WebRip Hindi English 480p MSubs - mkvCinemas.mkv'\n",
            "'/content/gdrive/Shareddrives/Abhi2/Copy of Web Series/2021/280321/The Irregulars S01 E01-08 WebRip Hindi English 480p MSubs/The Irregulars S01 E05 WebRip Hindi English 480p MSubs - mkvCinemas.mkv' -> '/content/gdrive/Shareddrives/Abhi/Web Series/2021/280321/The Irregulars S01 E01-08 WebRip Hindi English 480p MSubs/The Irregulars S01 E05 WebRip Hindi English 480p MSubs - mkvCinemas.mkv'\n",
            "'/content/gdrive/Shareddrives/Abhi2/Copy of Web Series/2021/280321/The Irregulars S01 E01-08 WebRip Hindi English 480p MSubs/The Irregulars S01 E06 WebRip Hindi English 480p MSubs - mkvCinemas.mkv' -> '/content/gdrive/Shareddrives/Abhi/Web Series/2021/280321/The Irregulars S01 E01-08 WebRip Hindi English 480p MSubs/The Irregulars S01 E06 WebRip Hindi English 480p MSubs - mkvCinemas.mkv'\n",
            "'/content/gdrive/Shareddrives/Abhi2/Copy of Web Series/2021/280321/The Irregulars S01 E01-08 WebRip Hindi English 480p MSubs/The Irregulars S01 E07 WebRip Hindi English 480p MSubs - mkvCinemas.mkv' -> '/content/gdrive/Shareddrives/Abhi/Web Series/2021/280321/The Irregulars S01 E01-08 WebRip Hindi English 480p MSubs/The Irregulars S01 E07 WebRip Hindi English 480p MSubs - mkvCinemas.mkv'\n",
            "'/content/gdrive/Shareddrives/Abhi2/Copy of Web Series/2021/280321/The Irregulars S01 E01-08 WebRip Hindi English 480p MSubs/The Irregulars S01 E08 WebRip Hindi English 480p MSubs - mkvCinemas.mkv' -> '/content/gdrive/Shareddrives/Abhi/Web Series/2021/280321/The Irregulars S01 E01-08 WebRip Hindi English 480p MSubs/The Irregulars S01 E08 WebRip Hindi English 480p MSubs - mkvCinemas.mkv'\n",
            "'/content/gdrive/Shareddrives/Abhi2/Copy of Web Series/2021/280321/The Irregulars S01 E01-08 WebRip Hindi English 480p MSubs/The Irregulars S01 E01-08 WebRip Hindi English 480p MSubs - AB Movies.rar' -> '/content/gdrive/Shareddrives/Abhi/Web Series/2021/280321/The Irregulars S01 E01-08 WebRip Hindi English 480p MSubs/The Irregulars S01 E01-08 WebRip Hindi English 480p MSubs - AB Movies.rar'\n",
            "'/content/gdrive/Shareddrives/Abhi2/Copy of Web Series/2021/Sumer Singh Case Files Girlfriends S01' -> '/content/gdrive/Shareddrives/Abhi/Web Series/2021/Sumer Singh Case Files Girlfriends S01'\n",
            "'/content/gdrive/Shareddrives/Abhi2/Copy of Web Series/2021/Sumer Singh Case Files Girlfriends S01/Sumer Singh Case Files Girlfriends S01 E01 WebRip Hindi 480p ESub - mkvCinemas.mkv' -> '/content/gdrive/Shareddrives/Abhi/Web Series/2021/Sumer Singh Case Files Girlfriends S01/Sumer Singh Case Files Girlfriends S01 E01 WebRip Hindi 480p ESub - mkvCinemas.mkv'\n",
            "'/content/gdrive/Shareddrives/Abhi2/Copy of Web Series/2021/Sumer Singh Case Files Girlfriends S01/Sumer Singh Case Files Girlfriends S01 E02 WebRip Hindi 480p ESub - mkvCinemas.mkv' -> '/content/gdrive/Shareddrives/Abhi/Web Series/2021/Sumer Singh Case Files Girlfriends S01/Sumer Singh Case Files Girlfriends S01 E02 WebRip Hindi 480p ESub - mkvCinemas.mkv'\n",
            "'/content/gdrive/Shareddrives/Abhi2/Copy of Web Series/2021/Sumer Singh Case Files Girlfriends S01/Sumer Singh Case Files Girlfriends S01 E03 WebRip Hindi 480p ESub - mkvCinemas.mkv' -> '/content/gdrive/Shareddrives/Abhi/Web Series/2021/Sumer Singh Case Files Girlfriends S01/Sumer Singh Case Files Girlfriends S01 E03 WebRip Hindi 480p ESub - mkvCinemas.mkv'\n",
            "'/content/gdrive/Shareddrives/Abhi2/Copy of Web Series/2021/Sumer Singh Case Files Girlfriends S01/Sumer Singh Case Files Girlfriends S01 E04 WebRip Hindi 480p ESub - mkvCinemas.mkv' -> '/content/gdrive/Shareddrives/Abhi/Web Series/2021/Sumer Singh Case Files Girlfriends S01/Sumer Singh Case Files Girlfriends S01 E04 WebRip Hindi 480p ESub - mkvCinemas.mkv'\n",
            "'/content/gdrive/Shareddrives/Abhi2/Copy of Web Series/2021/Sumer Singh Case Files Girlfriends S01/Sumer Singh Case Files Girlfriends S01 E05 WebRip Hindi 480p ESub - mkvCinemas.mkv' -> '/content/gdrive/Shareddrives/Abhi/Web Series/2021/Sumer Singh Case Files Girlfriends S01/Sumer Singh Case Files Girlfriends S01 E05 WebRip Hindi 480p ESub - mkvCinemas.mkv'\n",
            "'/content/gdrive/Shareddrives/Abhi2/Copy of Web Series/2021/Sumer Singh Case Files Girlfriends S01/Sumer Singh Case Files Girlfriends S01 E06 WebRip Hindi 480p ESub - mkvCinemas.mkv' -> '/content/gdrive/Shareddrives/Abhi/Web Series/2021/Sumer Singh Case Files Girlfriends S01/Sumer Singh Case Files Girlfriends S01 E06 WebRip Hindi 480p ESub - mkvCinemas.mkv'\n",
            "'/content/gdrive/Shareddrives/Abhi2/Copy of Web Series/2021/Sumer Singh Case Files Girlfriends S01/Sumer Singh Case Files Girlfriends S01 E07 WebRip Hindi 480p ESub - mkvCinemas.mkv' -> '/content/gdrive/Shareddrives/Abhi/Web Series/2021/Sumer Singh Case Files Girlfriends S01/Sumer Singh Case Files Girlfriends S01 E07 WebRip Hindi 480p ESub - mkvCinemas.mkv'\n",
            "'/content/gdrive/Shareddrives/Abhi2/Copy of Web Series/2021/Sumer Singh Case Files Girlfriends S01/Sumer Singh Case Files Girlfriends S01 E08 WebRip Hindi 480p ESub - mkvCinemas.mkv' -> '/content/gdrive/Shareddrives/Abhi/Web Series/2021/Sumer Singh Case Files Girlfriends S01/Sumer Singh Case Files Girlfriends S01 E08 WebRip Hindi 480p ESub - mkvCinemas.mkv'\n",
            "'/content/gdrive/Shareddrives/Abhi2/Copy of Web Series/2021/Sumer Singh Case Files Girlfriends S01/Sumer Singh Case Files Girlfriends S01 E01-08 WebRip Hindi 480p ESub - AB Movies.rar' -> '/content/gdrive/Shareddrives/Abhi/Web Series/2021/Sumer Singh Case Files Girlfriends S01/Sumer Singh Case Files Girlfriends S01 E01-08 WebRip Hindi 480p ESub - AB Movies.rar'\n",
            "'/content/gdrive/Shareddrives/Abhi2/Copy of Web Series/2021/Bombay Begums S01 480p' -> '/content/gdrive/Shareddrives/Abhi/Web Series/2021/Bombay Begums S01 480p'\n",
            "'/content/gdrive/Shareddrives/Abhi2/Copy of Web Series/2021/Bombay Begums S01 480p/Bombay Begums S01 E01 Webrip 480P Hindi X264 Msubs - Inextmovies.mkv' -> '/content/gdrive/Shareddrives/Abhi/Web Series/2021/Bombay Begums S01 480p/Bombay Begums S01 E01 Webrip 480P Hindi X264 Msubs - Inextmovies.mkv'\n",
            "'/content/gdrive/Shareddrives/Abhi2/Copy of Web Series/2021/Bombay Begums S01 480p/Bombay Begums S01 E02 Webrip 480P Hindi X264 Msubs - Inextmovies.mkv' -> '/content/gdrive/Shareddrives/Abhi/Web Series/2021/Bombay Begums S01 480p/Bombay Begums S01 E02 Webrip 480P Hindi X264 Msubs - Inextmovies.mkv'\n",
            "'/content/gdrive/Shareddrives/Abhi2/Copy of Web Series/2021/Bombay Begums S01 480p/Bombay Begums S01 E03 Webrip 480P Hindi X264 Msubs - Inextmovies.mkv' -> '/content/gdrive/Shareddrives/Abhi/Web Series/2021/Bombay Begums S01 480p/Bombay Begums S01 E03 Webrip 480P Hindi X264 Msubs - Inextmovies.mkv'\n",
            "'/content/gdrive/Shareddrives/Abhi2/Copy of Web Series/2021/Bombay Begums S01 480p/Bombay Begums S01 E04 Webrip 480P Hindi X264 Msubs - Inextmovies.mkv' -> '/content/gdrive/Shareddrives/Abhi/Web Series/2021/Bombay Begums S01 480p/Bombay Begums S01 E04 Webrip 480P Hindi X264 Msubs - Inextmovies.mkv'\n",
            "'/content/gdrive/Shareddrives/Abhi2/Copy of Web Series/2021/Bombay Begums S01 480p/Bombay Begums S01 E05 Webrip 480P Hindi X264 Msubs - Inextmovies.mkv' -> '/content/gdrive/Shareddrives/Abhi/Web Series/2021/Bombay Begums S01 480p/Bombay Begums S01 E05 Webrip 480P Hindi X264 Msubs - Inextmovies.mkv'\n",
            "'/content/gdrive/Shareddrives/Abhi2/Copy of Web Series/2021/Bombay Begums S01 480p/Bombay Begums S01 E06 Webrip 480P Hindi X264 Msubs - Inextmovies.mkv' -> '/content/gdrive/Shareddrives/Abhi/Web Series/2021/Bombay Begums S01 480p/Bombay Begums S01 E06 Webrip 480P Hindi X264 Msubs - Inextmovies.mkv'\n",
            "'/content/gdrive/Shareddrives/Abhi2/Copy of Web Series/2021/Bombay Begums S01 480p/Bombay Begums S01 Webrip 480P Hindi X264 Msubs - AB Movies.zip' -> '/content/gdrive/Shareddrives/Abhi/Web Series/2021/Bombay Begums S01 480p/Bombay Begums S01 Webrip 480P Hindi X264 Msubs - AB Movies.zip'\n",
            "'/content/gdrive/Shareddrives/Abhi2/Copy of Web Series/2021/Queen S01 2019 480p' -> '/content/gdrive/Shareddrives/Abhi/Web Series/2021/Queen S01 2019 480p'\n",
            "'/content/gdrive/Shareddrives/Abhi2/Copy of Web Series/2021/Queen S01 2019 480p/Queen.E01 Webdl 480P  X264 Aac - Inextmovies.mkv' -> '/content/gdrive/Shareddrives/Abhi/Web Series/2021/Queen S01 2019 480p/Queen.E01 Webdl 480P  X264 Aac - Inextmovies.mkv'\n",
            "'/content/gdrive/Shareddrives/Abhi2/Copy of Web Series/2021/Queen S01 2019 480p/Queen.E02 Webdl 480P  X264 Aac - Inextmovies.mkv' -> '/content/gdrive/Shareddrives/Abhi/Web Series/2021/Queen S01 2019 480p/Queen.E02 Webdl 480P  X264 Aac - Inextmovies.mkv'\n",
            "'/content/gdrive/Shareddrives/Abhi2/Copy of Web Series/2021/Queen S01 2019 480p/Queen.E03 Webdl 480P  X264 Aac - Inextmovies.mkv' -> '/content/gdrive/Shareddrives/Abhi/Web Series/2021/Queen S01 2019 480p/Queen.E03 Webdl 480P  X264 Aac - Inextmovies.mkv'\n",
            "'/content/gdrive/Shareddrives/Abhi2/Copy of Web Series/2021/Queen S01 2019 480p/Queen.E04 Webdl 480P  X264 Aac - Inextmovies.mkv' -> '/content/gdrive/Shareddrives/Abhi/Web Series/2021/Queen S01 2019 480p/Queen.E04 Webdl 480P  X264 Aac - Inextmovies.mkv'\n",
            "'/content/gdrive/Shareddrives/Abhi2/Copy of Web Series/2021/Queen S01 2019 480p/Queen.E05 Webdl 480P  X264 Aac - Inextmovies.mkv' -> '/content/gdrive/Shareddrives/Abhi/Web Series/2021/Queen S01 2019 480p/Queen.E05 Webdl 480P  X264 Aac - Inextmovies.mkv'\n",
            "'/content/gdrive/Shareddrives/Abhi2/Copy of Web Series/2021/Queen S01 2019 480p/Queen.E06 Webdl 480P  X264 Aac - Inextmovies.mkv' -> '/content/gdrive/Shareddrives/Abhi/Web Series/2021/Queen S01 2019 480p/Queen.E06 Webdl 480P  X264 Aac - Inextmovies.mkv'\n",
            "'/content/gdrive/Shareddrives/Abhi2/Copy of Web Series/2021/Queen S01 2019 480p/Queen.E07 Webdl 480P  X264 Aac - Inextmovies.mkv' -> '/content/gdrive/Shareddrives/Abhi/Web Series/2021/Queen S01 2019 480p/Queen.E07 Webdl 480P  X264 Aac - Inextmovies.mkv'\n",
            "'/content/gdrive/Shareddrives/Abhi2/Copy of Web Series/2021/Queen S01 2019 480p/Queen.E08 Webdl 480P  X264 Aac - Inextmovies.mkv' -> '/content/gdrive/Shareddrives/Abhi/Web Series/2021/Queen S01 2019 480p/Queen.E08 Webdl 480P  X264 Aac - Inextmovies.mkv'\n",
            "'/content/gdrive/Shareddrives/Abhi2/Copy of Web Series/2021/Queen S01 2019 480p/Queen.E09 Webdl 480P  X264 Aac - Inextmovies.mkv' -> '/content/gdrive/Shareddrives/Abhi/Web Series/2021/Queen S01 2019 480p/Queen.E09 Webdl 480P  X264 Aac - Inextmovies.mkv'\n",
            "'/content/gdrive/Shareddrives/Abhi2/Copy of Web Series/2021/Queen S01 2019 480p/Queen.E10 Webdl 480P  X264 Aac - Inextmovies.mkv' -> '/content/gdrive/Shareddrives/Abhi/Web Series/2021/Queen S01 2019 480p/Queen.E10 Webdl 480P  X264 Aac - Inextmovies.mkv'\n",
            "'/content/gdrive/Shareddrives/Abhi2/Copy of Web Series/2021/Queen S01 2019 480p/Queen.E11 Webdl 480P  X264 Aac - Inextmovies.mkv' -> '/content/gdrive/Shareddrives/Abhi/Web Series/2021/Queen S01 2019 480p/Queen.E11 Webdl 480P  X264 Aac - Inextmovies.mkv'\n",
            "'/content/gdrive/Shareddrives/Abhi2/Copy of Web Series/2021/Queen S01 2019 480p/Queen.S01 WebDL 480p  x264 AAC - AB Movies.zip' -> '/content/gdrive/Shareddrives/Abhi/Web Series/2021/Queen S01 2019 480p/Queen.S01 WebDL 480p  x264 AAC - AB Movies.zip'\n",
            "'/content/gdrive/Shareddrives/Abhi2/Copy of Web Series/2021/The Serpent S01 E01-08 WebRip Hindi English 480p' -> '/content/gdrive/Shareddrives/Abhi/Web Series/2021/The Serpent S01 E01-08 WebRip Hindi English 480p'\n",
            "'/content/gdrive/Shareddrives/Abhi2/Copy of Web Series/2021/The Serpent S01 E01-08 WebRip Hindi English 480p/The Serpent S01 E01 WebRip Hindi English 480p MSubs - mkvCinemas.mkv' -> '/content/gdrive/Shareddrives/Abhi/Web Series/2021/The Serpent S01 E01-08 WebRip Hindi English 480p/The Serpent S01 E01 WebRip Hindi English 480p MSubs - mkvCinemas.mkv'\n",
            "'/content/gdrive/Shareddrives/Abhi2/Copy of Web Series/2021/The Serpent S01 E01-08 WebRip Hindi English 480p/The Serpent S01 E02 WebRip Hindi English 480p MSubs - mkvCinemas.mkv' -> '/content/gdrive/Shareddrives/Abhi/Web Series/2021/The Serpent S01 E01-08 WebRip Hindi English 480p/The Serpent S01 E02 WebRip Hindi English 480p MSubs - mkvCinemas.mkv'\n",
            "'/content/gdrive/Shareddrives/Abhi2/Copy of Web Series/2021/The Serpent S01 E01-08 WebRip Hindi English 480p/The Serpent S01 E03 WebRip Hindi English 480p MSubs - mkvCinemas.mkv' -> '/content/gdrive/Shareddrives/Abhi/Web Series/2021/The Serpent S01 E01-08 WebRip Hindi English 480p/The Serpent S01 E03 WebRip Hindi English 480p MSubs - mkvCinemas.mkv'\n",
            "'/content/gdrive/Shareddrives/Abhi2/Copy of Web Series/2021/The Serpent S01 E01-08 WebRip Hindi English 480p/The Serpent S01 E05 WebRip Hindi English 480p MSubs - mkvCinemas.mkv' -> '/content/gdrive/Shareddrives/Abhi/Web Series/2021/The Serpent S01 E01-08 WebRip Hindi English 480p/The Serpent S01 E05 WebRip Hindi English 480p MSubs - mkvCinemas.mkv'\n",
            "'/content/gdrive/Shareddrives/Abhi2/Copy of Web Series/2021/The Serpent S01 E01-08 WebRip Hindi English 480p/The Serpent S01 E06 WebRip Hindi English 480p MSubs - mkvCinemas.mkv' -> '/content/gdrive/Shareddrives/Abhi/Web Series/2021/The Serpent S01 E01-08 WebRip Hindi English 480p/The Serpent S01 E06 WebRip Hindi English 480p MSubs - mkvCinemas.mkv'\n",
            "'/content/gdrive/Shareddrives/Abhi2/Copy of Web Series/2021/The Serpent S01 E01-08 WebRip Hindi English 480p/The Serpent S01 E07 WebRip Hindi English 480p MSubs - mkvCinemas.mkv' -> '/content/gdrive/Shareddrives/Abhi/Web Series/2021/The Serpent S01 E01-08 WebRip Hindi English 480p/The Serpent S01 E07 WebRip Hindi English 480p MSubs - mkvCinemas.mkv'\n",
            "'/content/gdrive/Shareddrives/Abhi2/Copy of Web Series/2021/The Serpent S01 E01-08 WebRip Hindi English 480p/The Serpent S01 E08 WebRip Hindi English 480p MSubs - mkvCinemas.mkv' -> '/content/gdrive/Shareddrives/Abhi/Web Series/2021/The Serpent S01 E01-08 WebRip Hindi English 480p/The Serpent S01 E08 WebRip Hindi English 480p MSubs - mkvCinemas.mkv'\n",
            "'/content/gdrive/Shareddrives/Abhi2/Copy of Web Series/2021/The Serpent S01 E01-08 WebRip Hindi English 480p/The Serpent S01 E04 WebRip Hindi English 480p MSubs - mkvCinemas.mkv' -> '/content/gdrive/Shareddrives/Abhi/Web Series/2021/The Serpent S01 E01-08 WebRip Hindi English 480p/The Serpent S01 E04 WebRip Hindi English 480p MSubs - mkvCinemas.mkv'\n",
            "'/content/gdrive/Shareddrives/Abhi2/Copy of Web Series/2021/The Serpent S01 E01-08 WebRip Hindi English 480p/The Serpent S01 E01-08 WebRip Hindi English 480p MSubs - AB Movies.rar' -> '/content/gdrive/Shareddrives/Abhi/Web Series/2021/The Serpent S01 E01-08 WebRip Hindi English 480p/The Serpent S01 E01-08 WebRip Hindi English 480p MSubs - AB Movies.rar'\n",
            "'/content/gdrive/Shareddrives/Abhi2/Copy of Web Series/2021/April2021' -> '/content/gdrive/Shareddrives/Abhi/Web Series/2021/April2021'\n",
            "'/content/gdrive/Shareddrives/Abhi2/Copy of Web Series/2021/April2021/Hello Mini 480p' -> '/content/gdrive/Shareddrives/Abhi/Web Series/2021/April2021/Hello Mini 480p'\n",
            "'/content/gdrive/Shareddrives/Abhi2/Copy of Web Series/2021/April2021/Hello Mini 480p/S03' -> '/content/gdrive/Shareddrives/Abhi/Web Series/2021/April2021/Hello Mini 480p/S03'\n",
            "'/content/gdrive/Shareddrives/Abhi2/Copy of Web Series/2021/April2021/Hello Mini 480p/S03/Hello Mini S03 E01-10 WebRip Hindi 480p - AB Movies.rar' -> '/content/gdrive/Shareddrives/Abhi/Web Series/2021/April2021/Hello Mini 480p/S03/Hello Mini S03 E01-10 WebRip Hindi 480p - AB Movies.rar'\n",
            "'/content/gdrive/Shareddrives/Abhi2/Copy of Web Series/2021/April2021/Mai Hero Bol Raha Hun S01 480P' -> '/content/gdrive/Shareddrives/Abhi/Web Series/2021/April2021/Mai Hero Bol Raha Hun S01 480P'\n",
            "'/content/gdrive/Shareddrives/Abhi2/Copy of Web Series/2021/April2021/Mai Hero Bol Raha Hun S01 480P/Mai Hero Boll Raha Hu S01 E01-13 WebRip Hindi 480p ESub - AB Movies.rar' -> '/content/gdrive/Shareddrives/Abhi/Web Series/2021/April2021/Mai Hero Bol Raha Hun S01 480P/Mai Hero Boll Raha Hu S01 E01-13 WebRip Hindi 480p ESub - AB Movies.rar'\n",
            "'/content/gdrive/Shareddrives/Abhi2/Copy of Web Series/2021/April2021/Shadow and Bone S01 480p' -> '/content/gdrive/Shareddrives/Abhi/Web Series/2021/April2021/Shadow and Bone S01 480p'\n",
            "'/content/gdrive/Shareddrives/Abhi2/Copy of Web Series/2021/April2021/Shadow and Bone S01 480p/Shadow.and.Bone.S01E01.480p.Hindi-English.WEBRip.x264-KatmovieHD.si.mkv' -> '/content/gdrive/Shareddrives/Abhi/Web Series/2021/April2021/Shadow and Bone S01 480p/Shadow.and.Bone.S01E01.480p.Hindi-English.WEBRip.x264-KatmovieHD.si.mkv'\n",
            "'/content/gdrive/Shareddrives/Abhi2/Copy of Web Series/2021/April2021/Shadow and Bone S01 480p/Shadow.and.Bone.S01E02.480p.Hindi-English.WEBRip.x264-KatmovieHD.si.mkv' -> '/content/gdrive/Shareddrives/Abhi/Web Series/2021/April2021/Shadow and Bone S01 480p/Shadow.and.Bone.S01E02.480p.Hindi-English.WEBRip.x264-KatmovieHD.si.mkv'\n",
            "'/content/gdrive/Shareddrives/Abhi2/Copy of Web Series/2021/April2021/Shadow and Bone S01 480p/Shadow.and.Bone.S01E03.480p.Hindi-English.WEBRip.x264-KatmovieHD.si.mkv' -> '/content/gdrive/Shareddrives/Abhi/Web Series/2021/April2021/Shadow and Bone S01 480p/Shadow.and.Bone.S01E03.480p.Hindi-English.WEBRip.x264-KatmovieHD.si.mkv'\n",
            "'/content/gdrive/Shareddrives/Abhi2/Copy of Web Series/2021/April2021/Shadow and Bone S01 480p/Shadow.and.Bone.S01E04.480p.Hindi-English.WEBRip.x264-KatmovieHD.si.mkv' -> '/content/gdrive/Shareddrives/Abhi/Web Series/2021/April2021/Shadow and Bone S01 480p/Shadow.and.Bone.S01E04.480p.Hindi-English.WEBRip.x264-KatmovieHD.si.mkv'\n",
            "'/content/gdrive/Shareddrives/Abhi2/Copy of Web Series/2021/April2021/Shadow and Bone S01 480p/Shadow.and.Bone.S01E05.480p.Hindi-English.WEBRip.x264-KatmovieHD.si.mkv' -> '/content/gdrive/Shareddrives/Abhi/Web Series/2021/April2021/Shadow and Bone S01 480p/Shadow.and.Bone.S01E05.480p.Hindi-English.WEBRip.x264-KatmovieHD.si.mkv'\n",
            "'/content/gdrive/Shareddrives/Abhi2/Copy of Web Series/2021/April2021/Shadow and Bone S01 480p/Shadow.and.Bone.S01E06.480p.Hindi-English.WEBRip.x264-KatmovieHD.si.mkv' -> '/content/gdrive/Shareddrives/Abhi/Web Series/2021/April2021/Shadow and Bone S01 480p/Shadow.and.Bone.S01E06.480p.Hindi-English.WEBRip.x264-KatmovieHD.si.mkv'\n",
            "'/content/gdrive/Shareddrives/Abhi2/Copy of Web Series/2021/April2021/Shadow and Bone S01 480p/Shadow.and.Bone.S01E07.480p.Hindi-English.WEBRip.x264-KatmovieHD.si.mkv' -> '/content/gdrive/Shareddrives/Abhi/Web Series/2021/April2021/Shadow and Bone S01 480p/Shadow.and.Bone.S01E07.480p.Hindi-English.WEBRip.x264-KatmovieHD.si.mkv'\n",
            "'/content/gdrive/Shareddrives/Abhi2/Copy of Web Series/2021/April2021/Shadow and Bone S01 480p/Shadow.and.Bone.S01E08.480p.Hindi-English.WEBRip.x264-KatmovieHD.si.mkv' -> '/content/gdrive/Shareddrives/Abhi/Web Series/2021/April2021/Shadow and Bone S01 480p/Shadow.and.Bone.S01E08.480p.Hindi-English.WEBRip.x264-KatmovieHD.si.mkv'\n",
            "'/content/gdrive/Shareddrives/Abhi2/Copy of Web Series/2021/April2021/Shadow and Bone S01 480p/Shadow.and.Bone.S01.480p.WEB-DL.Hindi-English.x264-AB Movies.zip' -> '/content/gdrive/Shareddrives/Abhi/Web Series/2021/April2021/Shadow and Bone S01 480p/Shadow.and.Bone.S01.480p.WEB-DL.Hindi-English.x264-AB Movies.zip'\n",
            "'/content/gdrive/Shareddrives/Abhi2/Copy of Web Series/2021/April2021/Kathmandu Connection S01 ' -> '/content/gdrive/Shareddrives/Abhi/Web Series/2021/April2021/Kathmandu Connection S01 '\n",
            "'/content/gdrive/Shareddrives/Abhi2/Copy of Web Series/2021/April2021/Kathmandu Connection S01 /Kathmandu Connection S01 E01 WebRip Hindi 480p - mkvCinemas.mkv' -> '/content/gdrive/Shareddrives/Abhi/Web Series/2021/April2021/Kathmandu Connection S01 /Kathmandu Connection S01 E01 WebRip Hindi 480p - mkvCinemas.mkv'\n",
            "'/content/gdrive/Shareddrives/Abhi2/Copy of Web Series/2021/April2021/Kathmandu Connection S01 /Kathmandu Connection S01 E02 WebRip Hindi 480p - mkvCinemas.mkv' -> '/content/gdrive/Shareddrives/Abhi/Web Series/2021/April2021/Kathmandu Connection S01 /Kathmandu Connection S01 E02 WebRip Hindi 480p - mkvCinemas.mkv'\n",
            "'/content/gdrive/Shareddrives/Abhi2/Copy of Web Series/2021/April2021/Kathmandu Connection S01 /Kathmandu Connection S01 E03 WebRip Hindi 480p - mkvCinemas.mkv' -> '/content/gdrive/Shareddrives/Abhi/Web Series/2021/April2021/Kathmandu Connection S01 /Kathmandu Connection S01 E03 WebRip Hindi 480p - mkvCinemas.mkv'\n",
            "'/content/gdrive/Shareddrives/Abhi2/Copy of Web Series/2021/April2021/Kathmandu Connection S01 /Kathmandu Connection S01 E04 WebRip Hindi 480p - mkvCinemas.mkv' -> '/content/gdrive/Shareddrives/Abhi/Web Series/2021/April2021/Kathmandu Connection S01 /Kathmandu Connection S01 E04 WebRip Hindi 480p - mkvCinemas.mkv'\n",
            "'/content/gdrive/Shareddrives/Abhi2/Copy of Web Series/2021/April2021/Kathmandu Connection S01 /Kathmandu Connection S01 E05 WebRip Hindi 480p - mkvCinemas.mkv' -> '/content/gdrive/Shareddrives/Abhi/Web Series/2021/April2021/Kathmandu Connection S01 /Kathmandu Connection S01 E05 WebRip Hindi 480p - mkvCinemas.mkv'\n",
            "'/content/gdrive/Shareddrives/Abhi2/Copy of Web Series/2021/April2021/Kathmandu Connection S01 /Kathmandu Connection S01 E06 WebRip Hindi 480p - mkvCinemas.mkv' -> '/content/gdrive/Shareddrives/Abhi/Web Series/2021/April2021/Kathmandu Connection S01 /Kathmandu Connection S01 E06 WebRip Hindi 480p - mkvCinemas.mkv'\n",
            "'/content/gdrive/Shareddrives/Abhi2/Copy of Web Series/2021/April2021/Kathmandu Connection S01 /Kathmandu Connection S01 E01-06 WebRip Hindi 480p - AB Movies.rar' -> '/content/gdrive/Shareddrives/Abhi/Web Series/2021/April2021/Kathmandu Connection S01 /Kathmandu Connection S01 E01-06 WebRip Hindi 480p - AB Movies.rar'\n",
            "'/content/gdrive/Shareddrives/Abhi2/Copy of Web Series/2021/April2021/Lupin S01 E01-05 WebRip 480p ' -> '/content/gdrive/Shareddrives/Abhi/Web Series/2021/April2021/Lupin S01 E01-05 WebRip 480p '\n",
            "'/content/gdrive/Shareddrives/Abhi2/Copy of Web Series/2021/April2021/Lupin S01 E01-05 WebRip 480p /Lupin S01 E01 WebRip Hindi English 480p MSubs - mkvCinemas.mkv' -> '/content/gdrive/Shareddrives/Abhi/Web Series/2021/April2021/Lupin S01 E01-05 WebRip 480p /Lupin S01 E01 WebRip Hindi English 480p MSubs - mkvCinemas.mkv'\n",
            "'/content/gdrive/Shareddrives/Abhi2/Copy of Web Series/2021/April2021/Lupin S01 E01-05 WebRip 480p /Lupin S01 E02 WebRip Hindi English 480p MSubs - mkvCinemas.mkv' -> '/content/gdrive/Shareddrives/Abhi/Web Series/2021/April2021/Lupin S01 E01-05 WebRip 480p /Lupin S01 E02 WebRip Hindi English 480p MSubs - mkvCinemas.mkv'\n",
            "'/content/gdrive/Shareddrives/Abhi2/Copy of Web Series/2021/April2021/Lupin S01 E01-05 WebRip 480p /Lupin S01 E03 WebRip Hindi English 480p MSubs - mkvCinemas.mkv' -> '/content/gdrive/Shareddrives/Abhi/Web Series/2021/April2021/Lupin S01 E01-05 WebRip 480p /Lupin S01 E03 WebRip Hindi English 480p MSubs - mkvCinemas.mkv'\n",
            "'/content/gdrive/Shareddrives/Abhi2/Copy of Web Series/2021/April2021/Lupin S01 E01-05 WebRip 480p /Lupin S01 E04 WebRip Hindi English 480p MSubs - mkvCinemas.mkv' -> '/content/gdrive/Shareddrives/Abhi/Web Series/2021/April2021/Lupin S01 E01-05 WebRip 480p /Lupin S01 E04 WebRip Hindi English 480p MSubs - mkvCinemas.mkv'\n",
            "'/content/gdrive/Shareddrives/Abhi2/Copy of Web Series/2021/April2021/Lupin S01 E01-05 WebRip 480p /Lupin S01 E05 WebRip Hindi English 480p MSubs - mkvCinemas.mkv' -> '/content/gdrive/Shareddrives/Abhi/Web Series/2021/April2021/Lupin S01 E01-05 WebRip 480p /Lupin S01 E05 WebRip Hindi English 480p MSubs - mkvCinemas.mkv'\n",
            "'/content/gdrive/Shareddrives/Abhi2/Copy of Web Series/2021/April2021/Lupin S01 E01-05 WebRip 480p /Lupin S01 E01-05 WebRip Hindi English 480p MSubs - AB Movies.rar' -> '/content/gdrive/Shareddrives/Abhi/Web Series/2021/April2021/Lupin S01 E01-05 WebRip 480p /Lupin S01 E01-05 WebRip Hindi English 480p MSubs - AB Movies.rar'\n",
            "'/content/gdrive/Shareddrives/Abhi2/Copy of Web Series/2021/April2021/Lupin S01 E01-05 WebRip 480p /Part 2' -> '/content/gdrive/Shareddrives/Abhi/Web Series/2021/April2021/Lupin S01 E01-05 WebRip 480p /Part 2'\n",
            "'/content/gdrive/Shareddrives/Abhi2/Copy of Web Series/2021/April2021/Lupin S01 E01-05 WebRip 480p /Part 2/Lupin.S01.Part-2.480p.WEB-DL.Hindi-English.ESub.x264-AB Movies.zip' -> '/content/gdrive/Shareddrives/Abhi/Web Series/2021/April2021/Lupin S01 E01-05 WebRip 480p /Part 2/Lupin.S01.Part-2.480p.WEB-DL.Hindi-English.ESub.x264-AB Movies.zip'\n",
            "'/content/gdrive/Shareddrives/Abhi2/Copy of Web Series/2021/April2021/Lupin S01 E01-05 WebRip 480p /Part 2/Lupin.S01.Part-2.480p.WEB-DL.Hindi-English.ESub.x264-HDHub4u.Mx' -> '/content/gdrive/Shareddrives/Abhi/Web Series/2021/April2021/Lupin S01 E01-05 WebRip 480p /Part 2/Lupin.S01.Part-2.480p.WEB-DL.Hindi-English.ESub.x264-HDHub4u.Mx'\n",
            "'/content/gdrive/Shareddrives/Abhi2/Copy of Web Series/2021/April2021/Lupin S01 E01-05 WebRip 480p /Part 2/Lupin.S01.Part-2.480p.WEB-DL.Hindi-English.ESub.x264-HDHub4u.Mx/Lupin.S01.P2-E05.480p.WEB-DL.Hindi-English.ESub.x264-HDHub4u.Mx.mkv' -> '/content/gdrive/Shareddrives/Abhi/Web Series/2021/April2021/Lupin S01 E01-05 WebRip 480p /Part 2/Lupin.S01.Part-2.480p.WEB-DL.Hindi-English.ESub.x264-HDHub4u.Mx/Lupin.S01.P2-E05.480p.WEB-DL.Hindi-English.ESub.x264-HDHub4u.Mx.mkv'\n",
            "'/content/gdrive/Shareddrives/Abhi2/Copy of Web Series/2021/April2021/Lupin S01 E01-05 WebRip 480p /Part 2/Lupin.S01.Part-2.480p.WEB-DL.Hindi-English.ESub.x264-HDHub4u.Mx/Lupin.S01.P2-E03.480p.WEB-DL.Hindi-English.ESub.x264-HDHub4u.Mx.mkv' -> '/content/gdrive/Shareddrives/Abhi/Web Series/2021/April2021/Lupin S01 E01-05 WebRip 480p /Part 2/Lupin.S01.Part-2.480p.WEB-DL.Hindi-English.ESub.x264-HDHub4u.Mx/Lupin.S01.P2-E03.480p.WEB-DL.Hindi-English.ESub.x264-HDHub4u.Mx.mkv'\n",
            "'/content/gdrive/Shareddrives/Abhi2/Copy of Web Series/2021/April2021/Lupin S01 E01-05 WebRip 480p /Part 2/Lupin.S01.Part-2.480p.WEB-DL.Hindi-English.ESub.x264-HDHub4u.Mx/Lupin.S01.P2-E04.480p.WEB-DL.Hindi-English.ESub.x264-HDHub4u.Mx.mkv' -> '/content/gdrive/Shareddrives/Abhi/Web Series/2021/April2021/Lupin S01 E01-05 WebRip 480p /Part 2/Lupin.S01.Part-2.480p.WEB-DL.Hindi-English.ESub.x264-HDHub4u.Mx/Lupin.S01.P2-E04.480p.WEB-DL.Hindi-English.ESub.x264-HDHub4u.Mx.mkv'\n",
            "'/content/gdrive/Shareddrives/Abhi2/Copy of Web Series/2021/April2021/Lupin S01 E01-05 WebRip 480p /Part 2/Lupin.S01.Part-2.480p.WEB-DL.Hindi-English.ESub.x264-HDHub4u.Mx/Lupin.S01.P2-E01.480p.WEB-DL.Hindi-English.ESub.x264-HDHub4u.Mx.mkv' -> '/content/gdrive/Shareddrives/Abhi/Web Series/2021/April2021/Lupin S01 E01-05 WebRip 480p /Part 2/Lupin.S01.Part-2.480p.WEB-DL.Hindi-English.ESub.x264-HDHub4u.Mx/Lupin.S01.P2-E01.480p.WEB-DL.Hindi-English.ESub.x264-HDHub4u.Mx.mkv'\n",
            "'/content/gdrive/Shareddrives/Abhi2/Copy of Web Series/2021/April2021/Lupin S01 E01-05 WebRip 480p /Part 2/Lupin.S01.Part-2.480p.WEB-DL.Hindi-English.ESub.x264-HDHub4u.Mx/Lupin.S01.P2-E02.480p.WEB-DL.Hindi-English.ESub.x264-HDHub4u.Mx.mkv' -> '/content/gdrive/Shareddrives/Abhi/Web Series/2021/April2021/Lupin S01 E01-05 WebRip 480p /Part 2/Lupin.S01.Part-2.480p.WEB-DL.Hindi-English.ESub.x264-HDHub4u.Mx/Lupin.S01.P2-E02.480p.WEB-DL.Hindi-English.ESub.x264-HDHub4u.Mx.mkv'\n",
            "'/content/gdrive/Shareddrives/Abhi2/Copy of Web Series/2021/April2021/LOL - Hasse Toh Phasse S01 480p' -> '/content/gdrive/Shareddrives/Abhi/Web Series/2021/April2021/LOL - Hasse Toh Phasse S01 480p'\n",
            "'/content/gdrive/Shareddrives/Abhi2/Copy of Web Series/2021/April2021/LOL - Hasse Toh Phasse S01 480p/LOL - Hasse Toh Phasse S01 E01 WebRip Hindi 480p ESub - mkvCinemas.mkv' -> '/content/gdrive/Shareddrives/Abhi/Web Series/2021/April2021/LOL - Hasse Toh Phasse S01 480p/LOL - Hasse Toh Phasse S01 E01 WebRip Hindi 480p ESub - mkvCinemas.mkv'\n",
            "'/content/gdrive/Shareddrives/Abhi2/Copy of Web Series/2021/April2021/LOL - Hasse Toh Phasse S01 480p/LOL - Hasse Toh Phasse S01 E02 WebRip Hindi 480p ESub - mkvCinemas.mkv' -> '/content/gdrive/Shareddrives/Abhi/Web Series/2021/April2021/LOL - Hasse Toh Phasse S01 480p/LOL - Hasse Toh Phasse S01 E02 WebRip Hindi 480p ESub - mkvCinemas.mkv'\n",
            "'/content/gdrive/Shareddrives/Abhi2/Copy of Web Series/2021/April2021/LOL - Hasse Toh Phasse S01 480p/LOL - Hasse Toh Phasse S01 E03 WebRip Hindi 480p ESub - mkvCinemas.mkv' -> '/content/gdrive/Shareddrives/Abhi/Web Series/2021/April2021/LOL - Hasse Toh Phasse S01 480p/LOL - Hasse Toh Phasse S01 E03 WebRip Hindi 480p ESub - mkvCinemas.mkv'\n",
            "'/content/gdrive/Shareddrives/Abhi2/Copy of Web Series/2021/April2021/LOL - Hasse Toh Phasse S01 480p/LOL - Hasse Toh Phasse S01 E04 WebRip Hindi 480p ESub - mkvCinemas.mkv' -> '/content/gdrive/Shareddrives/Abhi/Web Series/2021/April2021/LOL - Hasse Toh Phasse S01 480p/LOL - Hasse Toh Phasse S01 E04 WebRip Hindi 480p ESub - mkvCinemas.mkv'\n",
            "'/content/gdrive/Shareddrives/Abhi2/Copy of Web Series/2021/April2021/LOL - Hasse Toh Phasse S01 480p/LOL - Hasse Toh Phasse S01 E05 WebRip Hindi 480p ESub - mkvCinemas.mkv' -> '/content/gdrive/Shareddrives/Abhi/Web Series/2021/April2021/LOL - Hasse Toh Phasse S01 480p/LOL - Hasse Toh Phasse S01 E05 WebRip Hindi 480p ESub - mkvCinemas.mkv'\n",
            "'/content/gdrive/Shareddrives/Abhi2/Copy of Web Series/2021/April2021/LOL - Hasse Toh Phasse S01 480p/LOL - Hasse Toh Phasse S01 E06 WebRip Hindi 480p ESub - mkvCinemas.mkv' -> '/content/gdrive/Shareddrives/Abhi/Web Series/2021/April2021/LOL - Hasse Toh Phasse S01 480p/LOL - Hasse Toh Phasse S01 E06 WebRip Hindi 480p ESub - mkvCinemas.mkv'\n",
            "'/content/gdrive/Shareddrives/Abhi2/Copy of Web Series/2021/April2021/LOL - Hasse Toh Phasse S01 480p/LOL - Hasse Toh Phasse S01 E01-06 WebRip Hindi 480p ESub - AB Movies.rar' -> '/content/gdrive/Shareddrives/Abhi/Web Series/2021/April2021/LOL - Hasse Toh Phasse S01 480p/LOL - Hasse Toh Phasse S01 E01-06 WebRip Hindi 480p ESub - AB Movies.rar'\n",
            "'/content/gdrive/Shareddrives/Abhi2/Copy of Web Series/2021/may-2021' -> '/content/gdrive/Shareddrives/Abhi/Web Series/2021/may-2021'\n",
            "'/content/gdrive/Shareddrives/Abhi2/Copy of Web Series/2021/may-2021/Jupiters Legacy S01 E01-08 WebRip Hindi English 480p MSubs - mkvCinemas' -> '/content/gdrive/Shareddrives/Abhi/Web Series/2021/may-2021/Jupiters Legacy S01 E01-08 WebRip Hindi English 480p MSubs - mkvCinemas'\n",
            "'/content/gdrive/Shareddrives/Abhi2/Copy of Web Series/2021/may-2021/Jupiters Legacy S01 E01-08 WebRip Hindi English 480p MSubs - mkvCinemas/Jupiters Legacy S01 E01 WebRip Hindi English 480p MSubs - mkvCinemas.mkv' -> '/content/gdrive/Shareddrives/Abhi/Web Series/2021/may-2021/Jupiters Legacy S01 E01-08 WebRip Hindi English 480p MSubs - mkvCinemas/Jupiters Legacy S01 E01 WebRip Hindi English 480p MSubs - mkvCinemas.mkv'\n",
            "'/content/gdrive/Shareddrives/Abhi2/Copy of Web Series/2021/may-2021/Jupiters Legacy S01 E01-08 WebRip Hindi English 480p MSubs - mkvCinemas/Jupiters Legacy S01 E02 WebRip Hindi English 480p MSubs - mkvCinemas.mkv' -> '/content/gdrive/Shareddrives/Abhi/Web Series/2021/may-2021/Jupiters Legacy S01 E01-08 WebRip Hindi English 480p MSubs - mkvCinemas/Jupiters Legacy S01 E02 WebRip Hindi English 480p MSubs - mkvCinemas.mkv'\n",
            "'/content/gdrive/Shareddrives/Abhi2/Copy of Web Series/2021/may-2021/Jupiters Legacy S01 E01-08 WebRip Hindi English 480p MSubs - mkvCinemas/Jupiters Legacy S01 E03 WebRip Hindi English 480p MSubs - mkvCinemas.mkv' -> '/content/gdrive/Shareddrives/Abhi/Web Series/2021/may-2021/Jupiters Legacy S01 E01-08 WebRip Hindi English 480p MSubs - mkvCinemas/Jupiters Legacy S01 E03 WebRip Hindi English 480p MSubs - mkvCinemas.mkv'\n",
            "'/content/gdrive/Shareddrives/Abhi2/Copy of Web Series/2021/may-2021/Jupiters Legacy S01 E01-08 WebRip Hindi English 480p MSubs - mkvCinemas/Jupiters Legacy S01 E04 WebRip Hindi English 480p MSubs - mkvCinemas.mkv' -> '/content/gdrive/Shareddrives/Abhi/Web Series/2021/may-2021/Jupiters Legacy S01 E01-08 WebRip Hindi English 480p MSubs - mkvCinemas/Jupiters Legacy S01 E04 WebRip Hindi English 480p MSubs - mkvCinemas.mkv'\n",
            "'/content/gdrive/Shareddrives/Abhi2/Copy of Web Series/2021/may-2021/Jupiters Legacy S01 E01-08 WebRip Hindi English 480p MSubs - mkvCinemas/Jupiters Legacy S01 E05 WebRip Hindi English 480p MSubs - mkvCinemas.mkv' -> '/content/gdrive/Shareddrives/Abhi/Web Series/2021/may-2021/Jupiters Legacy S01 E01-08 WebRip Hindi English 480p MSubs - mkvCinemas/Jupiters Legacy S01 E05 WebRip Hindi English 480p MSubs - mkvCinemas.mkv'\n",
            "'/content/gdrive/Shareddrives/Abhi2/Copy of Web Series/2021/may-2021/Jupiters Legacy S01 E01-08 WebRip Hindi English 480p MSubs - mkvCinemas/Jupiters Legacy S01 E06 WebRip Hindi English 480p MSubs - mkvCinemas.mkv' -> '/content/gdrive/Shareddrives/Abhi/Web Series/2021/may-2021/Jupiters Legacy S01 E01-08 WebRip Hindi English 480p MSubs - mkvCinemas/Jupiters Legacy S01 E06 WebRip Hindi English 480p MSubs - mkvCinemas.mkv'\n",
            "'/content/gdrive/Shareddrives/Abhi2/Copy of Web Series/2021/may-2021/Jupiters Legacy S01 E01-08 WebRip Hindi English 480p MSubs - mkvCinemas/Jupiters Legacy S01 E07 WebRip Hindi English 480p MSubs - mkvCinemas.mkv' -> '/content/gdrive/Shareddrives/Abhi/Web Series/2021/may-2021/Jupiters Legacy S01 E01-08 WebRip Hindi English 480p MSubs - mkvCinemas/Jupiters Legacy S01 E07 WebRip Hindi English 480p MSubs - mkvCinemas.mkv'\n",
            "'/content/gdrive/Shareddrives/Abhi2/Copy of Web Series/2021/may-2021/Jupiters Legacy S01 E01-08 WebRip Hindi English 480p MSubs - mkvCinemas/Jupiters Legacy S01 E08 WebRip Hindi English 480p MSubs - mkvCinemas.mkv' -> '/content/gdrive/Shareddrives/Abhi/Web Series/2021/may-2021/Jupiters Legacy S01 E01-08 WebRip Hindi English 480p MSubs - mkvCinemas/Jupiters Legacy S01 E08 WebRip Hindi English 480p MSubs - mkvCinemas.mkv'\n",
            "'/content/gdrive/Shareddrives/Abhi2/Copy of Web Series/2021/may-2021/Jupiters Legacy S01 E01-08 WebRip Hindi English 480p MSubs - mkvCinemas/Jupiters Legacy S01 E01-08 WebRip Hindi English 480p MSubs - AB Movies.rar' -> '/content/gdrive/Shareddrives/Abhi/Web Series/2021/may-2021/Jupiters Legacy S01 E01-08 WebRip Hindi English 480p MSubs - mkvCinemas/Jupiters Legacy S01 E01-08 WebRip Hindi English 480p MSubs - AB Movies.rar'\n",
            "'/content/gdrive/Shareddrives/Abhi2/Copy of Web Series/2021/may-2021/Hai Taubba S01 E01-04' -> '/content/gdrive/Shareddrives/Abhi/Web Series/2021/may-2021/Hai Taubba S01 E01-04'\n",
            "'/content/gdrive/Shareddrives/Abhi2/Copy of Web Series/2021/may-2021/Hai Taubba S01 E01-04/Hai Taubba S01 E01 WebRip Hindi 480p ESub - mkvCinemas.mkv' -> '/content/gdrive/Shareddrives/Abhi/Web Series/2021/may-2021/Hai Taubba S01 E01-04/Hai Taubba S01 E01 WebRip Hindi 480p ESub - mkvCinemas.mkv'\n",
            "'/content/gdrive/Shareddrives/Abhi2/Copy of Web Series/2021/may-2021/Hai Taubba S01 E01-04/Hai Taubba S01 E02 WebRip Hindi 480p ESub - mkvCinemas.mkv' -> '/content/gdrive/Shareddrives/Abhi/Web Series/2021/may-2021/Hai Taubba S01 E01-04/Hai Taubba S01 E02 WebRip Hindi 480p ESub - mkvCinemas.mkv'\n",
            "'/content/gdrive/Shareddrives/Abhi2/Copy of Web Series/2021/may-2021/Hai Taubba S01 E01-04/Hai Taubba S01 E03 WebRip Hindi 480p - mkvCinemas.mkv' -> '/content/gdrive/Shareddrives/Abhi/Web Series/2021/may-2021/Hai Taubba S01 E01-04/Hai Taubba S01 E03 WebRip Hindi 480p - mkvCinemas.mkv'\n",
            "'/content/gdrive/Shareddrives/Abhi2/Copy of Web Series/2021/may-2021/Hai Taubba S01 E01-04/Hai Taubba S01 E04 WebRip Hindi 480p - mkvCinemas.mkv' -> '/content/gdrive/Shareddrives/Abhi/Web Series/2021/may-2021/Hai Taubba S01 E01-04/Hai Taubba S01 E04 WebRip Hindi 480p - mkvCinemas.mkv'\n",
            "'/content/gdrive/Shareddrives/Abhi2/Copy of Web Series/2021/may-2021/Hai Taubba S01 E01-04/Hai Taubba S01 E01-04 WebRip Hindi 480p ESub - AB Movies.rar' -> '/content/gdrive/Shareddrives/Abhi/Web Series/2021/may-2021/Hai Taubba S01 E01-04/Hai Taubba S01 E01-04 WebRip Hindi 480p ESub - AB Movies.rar'\n",
            "'/content/gdrive/Shareddrives/Abhi2/Copy of Web Series/2021/may-2021/Out of Love S01-S02' -> '/content/gdrive/Shareddrives/Abhi/Web Series/2021/may-2021/Out of Love S01-S02'\n",
            "'/content/gdrive/Shareddrives/Abhi2/Copy of Web Series/2021/may-2021/Out of Love S01-S02/S02' -> '/content/gdrive/Shareddrives/Abhi/Web Series/2021/may-2021/Out of Love S01-S02/S02'\n",
            "'/content/gdrive/Shareddrives/Abhi2/Copy of Web Series/2021/may-2021/Out of Love S01-S02/S02/Out of Love S02 E02 WebRip Hindi 480p ESub - mkvCinemas.mkv' -> '/content/gdrive/Shareddrives/Abhi/Web Series/2021/may-2021/Out of Love S01-S02/S02/Out of Love S02 E02 WebRip Hindi 480p ESub - mkvCinemas.mkv'\n",
            "'/content/gdrive/Shareddrives/Abhi2/Copy of Web Series/2021/may-2021/Out of Love S01-S02/S02/Out of Love S02 E01 WebRip Hindi 480p ESub - mkvCinemas.mkv' -> '/content/gdrive/Shareddrives/Abhi/Web Series/2021/may-2021/Out of Love S01-S02/S02/Out of Love S02 E01 WebRip Hindi 480p ESub - mkvCinemas.mkv'\n",
            "'/content/gdrive/Shareddrives/Abhi2/Copy of Web Series/2021/may-2021/Out of Love S01-S02/S02/Out of Love S02 E01-02 WebRip Hindi 480p ESub - mkvCinemas.rar' -> '/content/gdrive/Shareddrives/Abhi/Web Series/2021/may-2021/Out of Love S01-S02/S02/Out of Love S02 E01-02 WebRip Hindi 480p ESub - mkvCinemas.rar'\n",
            "'/content/gdrive/Shareddrives/Abhi2/Copy of Web Series/2021/may-2021/Out of Love S01-S02/S01' -> '/content/gdrive/Shareddrives/Abhi/Web Series/2021/may-2021/Out of Love S01-S02/S01'\n",
            "'/content/gdrive/Shareddrives/Abhi2/Copy of Web Series/2021/may-2021/Out of Love S01-S02/S01/Out of Love S01 E01 WebRip Hindi 480p - mkvCinemas.mkv' -> '/content/gdrive/Shareddrives/Abhi/Web Series/2021/may-2021/Out of Love S01-S02/S01/Out of Love S01 E01 WebRip Hindi 480p - mkvCinemas.mkv'\n",
            "'/content/gdrive/Shareddrives/Abhi2/Copy of Web Series/2021/may-2021/Out of Love S01-S02/S01/Out of Love S01 E02 WebRip Hindi 480p - mkvCinemas.mkv' -> '/content/gdrive/Shareddrives/Abhi/Web Series/2021/may-2021/Out of Love S01-S02/S01/Out of Love S01 E02 WebRip Hindi 480p - mkvCinemas.mkv'\n",
            "'/content/gdrive/Shareddrives/Abhi2/Copy of Web Series/2021/may-2021/Out of Love S01-S02/S01/Out of Love S01 E03 WebRip Hindi 480p - mkvCinemas.mkv' -> '/content/gdrive/Shareddrives/Abhi/Web Series/2021/may-2021/Out of Love S01-S02/S01/Out of Love S01 E03 WebRip Hindi 480p - mkvCinemas.mkv'\n",
            "'/content/gdrive/Shareddrives/Abhi2/Copy of Web Series/2021/may-2021/Out of Love S01-S02/S01/Out of Love S01 E04 WebRip Hindi 480p - mkvCinemas.mkv' -> '/content/gdrive/Shareddrives/Abhi/Web Series/2021/may-2021/Out of Love S01-S02/S01/Out of Love S01 E04 WebRip Hindi 480p - mkvCinemas.mkv'\n",
            "'/content/gdrive/Shareddrives/Abhi2/Copy of Web Series/2021/may-2021/Out of Love S01-S02/S01/Out of Love S01 E05 WebRip Hindi 480p - mkvCinemas.mkv' -> '/content/gdrive/Shareddrives/Abhi/Web Series/2021/may-2021/Out of Love S01-S02/S01/Out of Love S01 E05 WebRip Hindi 480p - mkvCinemas.mkv'\n",
            "'/content/gdrive/Shareddrives/Abhi2/Copy of Web Series/2021/may-2021/Out of Love S01-S02/S01/Out of Love S01 E01-05 WebRip Hindi 480p - AB Movies.zip' -> '/content/gdrive/Shareddrives/Abhi/Web Series/2021/may-2021/Out of Love S01-S02/S01/Out of Love S01 E01-05 WebRip Hindi 480p - AB Movies.zip'\n",
            "'/content/gdrive/Shareddrives/Abhi2/Copy of Web Series/2021/may-2021/Aspirants (2021) [Hin] ESub 480p HEVC -AB Movies.mkv' -> '/content/gdrive/Shareddrives/Abhi/Web Series/2021/may-2021/Aspirants (2021) [Hin] ESub 480p HEVC -AB Movies.mkv'\n",
            "'/content/gdrive/Shareddrives/Abhi2/Copy of Web Series/2021/may-2021/The Last Hour S01 480P' -> '/content/gdrive/Shareddrives/Abhi/Web Series/2021/may-2021/The Last Hour S01 480P'\n",
            "'/content/gdrive/Shareddrives/Abhi2/Copy of Web Series/2021/may-2021/The Last Hour S01 480P/The Last Hour S01 E01 WebRip Hindi 480p ESub - mkvCinemas.mkv' -> '/content/gdrive/Shareddrives/Abhi/Web Series/2021/may-2021/The Last Hour S01 480P/The Last Hour S01 E01 WebRip Hindi 480p ESub - mkvCinemas.mkv'\n",
            "'/content/gdrive/Shareddrives/Abhi2/Copy of Web Series/2021/may-2021/The Last Hour S01 480P/The Last Hour S01 E02 WebRip Hindi 480p ESub - mkvCinemas.mkv' -> '/content/gdrive/Shareddrives/Abhi/Web Series/2021/may-2021/The Last Hour S01 480P/The Last Hour S01 E02 WebRip Hindi 480p ESub - mkvCinemas.mkv'\n",
            "'/content/gdrive/Shareddrives/Abhi2/Copy of Web Series/2021/may-2021/The Last Hour S01 480P/The Last Hour S01 E03 WebRip Hindi 480p ESub - mkvCinemas.mkv' -> '/content/gdrive/Shareddrives/Abhi/Web Series/2021/may-2021/The Last Hour S01 480P/The Last Hour S01 E03 WebRip Hindi 480p ESub - mkvCinemas.mkv'\n",
            "'/content/gdrive/Shareddrives/Abhi2/Copy of Web Series/2021/may-2021/The Last Hour S01 480P/The Last Hour S01 E04 WebRip Hindi 480p ESub - mkvCinemas.mkv' -> '/content/gdrive/Shareddrives/Abhi/Web Series/2021/may-2021/The Last Hour S01 480P/The Last Hour S01 E04 WebRip Hindi 480p ESub - mkvCinemas.mkv'\n",
            "'/content/gdrive/Shareddrives/Abhi2/Copy of Web Series/2021/may-2021/The Last Hour S01 480P/The Last Hour S01 E05 WebRip Hindi 480p ESub - mkvCinemas.mkv' -> '/content/gdrive/Shareddrives/Abhi/Web Series/2021/may-2021/The Last Hour S01 480P/The Last Hour S01 E05 WebRip Hindi 480p ESub - mkvCinemas.mkv'\n",
            "'/content/gdrive/Shareddrives/Abhi2/Copy of Web Series/2021/may-2021/The Last Hour S01 480P/The Last Hour S01 E06 WebRip Hindi 480p ESub - mkvCinemas.mkv' -> '/content/gdrive/Shareddrives/Abhi/Web Series/2021/may-2021/The Last Hour S01 480P/The Last Hour S01 E06 WebRip Hindi 480p ESub - mkvCinemas.mkv'\n",
            "'/content/gdrive/Shareddrives/Abhi2/Copy of Web Series/2021/may-2021/The Last Hour S01 480P/The Last Hour S01 E07 WebRip Hindi 480p ESub - mkvCinemas.mkv' -> '/content/gdrive/Shareddrives/Abhi/Web Series/2021/may-2021/The Last Hour S01 480P/The Last Hour S01 E07 WebRip Hindi 480p ESub - mkvCinemas.mkv'\n",
            "'/content/gdrive/Shareddrives/Abhi2/Copy of Web Series/2021/may-2021/The Last Hour S01 480P/The Last Hour S01 E08 WebRip Hindi 480p ESub - mkvCinemas.mkv' -> '/content/gdrive/Shareddrives/Abhi/Web Series/2021/may-2021/The Last Hour S01 480P/The Last Hour S01 E08 WebRip Hindi 480p ESub - mkvCinemas.mkv'\n",
            "'/content/gdrive/Shareddrives/Abhi2/Copy of Web Series/2021/may-2021/The Last Hour S01 480P/The Last Hour S01 E01-08 WebRip Hindi 480p ESub - AB Movies.rar' -> '/content/gdrive/Shareddrives/Abhi/Web Series/2021/may-2021/The Last Hour S01 480P/The Last Hour S01 E01-08 WebRip Hindi 480p ESub - AB Movies.rar'\n",
            "'/content/gdrive/Shareddrives/Abhi2/Copy of Web Series/2021/may-2021/Bisaat S01 MX Orignal 480p' -> '/content/gdrive/Shareddrives/Abhi/Web Series/2021/may-2021/Bisaat S01 MX Orignal 480p'\n",
            "'/content/gdrive/Shareddrives/Abhi2/Copy of Web Series/2021/may-2021/Bisaat S01 MX Orignal 480p/Bisaat.S01.Epi.1.to.4.Hindi.480p.WEB-DL-Altmovies.in.mkv' -> '/content/gdrive/Shareddrives/Abhi/Web Series/2021/may-2021/Bisaat S01 MX Orignal 480p/Bisaat.S01.Epi.1.to.4.Hindi.480p.WEB-DL-Altmovies.in.mkv'\n",
            "'/content/gdrive/Shareddrives/Abhi2/Copy of Web Series/2021/may-2021/Bisaat S01 MX Orignal 480p/Bisaat.S01.Epi.5.to.8.Hindi.480p.WEB-DL-Altmovies.in.mkv' -> '/content/gdrive/Shareddrives/Abhi/Web Series/2021/may-2021/Bisaat S01 MX Orignal 480p/Bisaat.S01.Epi.5.to.8.Hindi.480p.WEB-DL-Altmovies.in.mkv'\n",
            "'/content/gdrive/Shareddrives/Abhi2/Copy of Web Series/2021/may-2021/Bisaat S01 MX Orignal 480p/Bisaat S01 E01-E04 and E05-E08 480p AbMovies.co.in.rar' -> '/content/gdrive/Shareddrives/Abhi/Web Series/2021/may-2021/Bisaat S01 MX Orignal 480p/Bisaat S01 E01-E04 and E05-E08 480p AbMovies.co.in.rar'\n",
            "'/content/gdrive/Shareddrives/Abhi2/Copy of Web Series/2021/may-2021/13 Mussoorie S01 480P' -> '/content/gdrive/Shareddrives/Abhi/Web Series/2021/may-2021/13 Mussoorie S01 480P'\n",
            "'/content/gdrive/Shareddrives/Abhi2/Copy of Web Series/2021/may-2021/13 Mussoorie S01 480P/13 Mussoorie S01 E01 WebRip Hindi 480p ESub - mkvCinemas.mkv' -> '/content/gdrive/Shareddrives/Abhi/Web Series/2021/may-2021/13 Mussoorie S01 480P/13 Mussoorie S01 E01 WebRip Hindi 480p ESub - mkvCinemas.mkv'\n",
            "'/content/gdrive/Shareddrives/Abhi2/Copy of Web Series/2021/may-2021/13 Mussoorie S01 480P/13 Mussoorie S01 E02 WebRip Hindi 480p ESub - mkvCinemas.mkv' -> '/content/gdrive/Shareddrives/Abhi/Web Series/2021/may-2021/13 Mussoorie S01 480P/13 Mussoorie S01 E02 WebRip Hindi 480p ESub - mkvCinemas.mkv'\n",
            "'/content/gdrive/Shareddrives/Abhi2/Copy of Web Series/2021/may-2021/13 Mussoorie S01 480P/13 Mussoorie S01 E03 WebRip Hindi 480p ESub - mkvCinemas.mkv' -> '/content/gdrive/Shareddrives/Abhi/Web Series/2021/may-2021/13 Mussoorie S01 480P/13 Mussoorie S01 E03 WebRip Hindi 480p ESub - mkvCinemas.mkv'\n",
            "'/content/gdrive/Shareddrives/Abhi2/Copy of Web Series/2021/may-2021/13 Mussoorie S01 480P/13 Mussoorie S01 E04 WebRip Hindi 480p ESub - mkvCinemas.mkv' -> '/content/gdrive/Shareddrives/Abhi/Web Series/2021/may-2021/13 Mussoorie S01 480P/13 Mussoorie S01 E04 WebRip Hindi 480p ESub - mkvCinemas.mkv'\n",
            "'/content/gdrive/Shareddrives/Abhi2/Copy of Web Series/2021/may-2021/13 Mussoorie S01 480P/13 Mussoorie S01 E05 WebRip Hindi 480p ESub - mkvCinemas.mkv' -> '/content/gdrive/Shareddrives/Abhi/Web Series/2021/may-2021/13 Mussoorie S01 480P/13 Mussoorie S01 E05 WebRip Hindi 480p ESub - mkvCinemas.mkv'\n",
            "'/content/gdrive/Shareddrives/Abhi2/Copy of Web Series/2021/may-2021/13 Mussoorie S01 480P/13 Mussoorie S01 E06 WebRip Hindi 480p ESub - mkvCinemas.mkv' -> '/content/gdrive/Shareddrives/Abhi/Web Series/2021/may-2021/13 Mussoorie S01 480P/13 Mussoorie S01 E06 WebRip Hindi 480p ESub - mkvCinemas.mkv'\n",
            "'/content/gdrive/Shareddrives/Abhi2/Copy of Web Series/2021/may-2021/13 Mussoorie S01 480P/13 Mussoorie S01 E07 WebRip Hindi 480p ESub - mkvCinemas.mkv' -> '/content/gdrive/Shareddrives/Abhi/Web Series/2021/may-2021/13 Mussoorie S01 480P/13 Mussoorie S01 E07 WebRip Hindi 480p ESub - mkvCinemas.mkv'\n",
            "'/content/gdrive/Shareddrives/Abhi2/Copy of Web Series/2021/may-2021/13 Mussoorie S01 480P/13 Mussoorie S01 E08 WebRip Hindi 480p ESub - mkvCinemas.mkv' -> '/content/gdrive/Shareddrives/Abhi/Web Series/2021/may-2021/13 Mussoorie S01 480P/13 Mussoorie S01 E08 WebRip Hindi 480p ESub - mkvCinemas.mkv'\n",
            "'/content/gdrive/Shareddrives/Abhi2/Copy of Web Series/2021/may-2021/13 Mussoorie S01 480P/13 Mussoorie S01 E09 WebRip Hindi 480p ESub - mkvCinemas.mkv' -> '/content/gdrive/Shareddrives/Abhi/Web Series/2021/may-2021/13 Mussoorie S01 480P/13 Mussoorie S01 E09 WebRip Hindi 480p ESub - mkvCinemas.mkv'\n",
            "'/content/gdrive/Shareddrives/Abhi2/Copy of Web Series/2021/may-2021/13 Mussoorie S01 480P/13 Mussoorie S01 E10 WebRip Hindi 480p ESub - mkvCinemas.mkv' -> '/content/gdrive/Shareddrives/Abhi/Web Series/2021/may-2021/13 Mussoorie S01 480P/13 Mussoorie S01 E10 WebRip Hindi 480p ESub - mkvCinemas.mkv'\n",
            "'/content/gdrive/Shareddrives/Abhi2/Copy of Web Series/2021/may-2021/13 Mussoorie S01 480P/13 Mussoorie S01 E11 WebRip Hindi 480p ESub - mkvCinemas.mkv' -> '/content/gdrive/Shareddrives/Abhi/Web Series/2021/may-2021/13 Mussoorie S01 480P/13 Mussoorie S01 E11 WebRip Hindi 480p ESub - mkvCinemas.mkv'\n",
            "'/content/gdrive/Shareddrives/Abhi2/Copy of Web Series/2021/may-2021/13 Mussoorie S01 480P/13 Mussoorie S01 E12 WebRip Hindi 480p ESub - mkvCinemas.mkv' -> '/content/gdrive/Shareddrives/Abhi/Web Series/2021/may-2021/13 Mussoorie S01 480P/13 Mussoorie S01 E12 WebRip Hindi 480p ESub - mkvCinemas.mkv'\n",
            "'/content/gdrive/Shareddrives/Abhi2/Copy of Web Series/2021/may-2021/13 Mussoorie S01 480P/13 Mussoorie S01 E13 WebRip Hindi 480p ESub - mkvCinemas.mkv' -> '/content/gdrive/Shareddrives/Abhi/Web Series/2021/may-2021/13 Mussoorie S01 480P/13 Mussoorie S01 E13 WebRip Hindi 480p ESub - mkvCinemas.mkv'\n",
            "'/content/gdrive/Shareddrives/Abhi2/Copy of Web Series/2021/may-2021/13 Mussoorie S01 480P/13 Mussoorie S01 E01-13 WebRip Hindi 480p ESub - AB Movies.rar' -> '/content/gdrive/Shareddrives/Abhi/Web Series/2021/may-2021/13 Mussoorie S01 480P/13 Mussoorie S01 E01-13 WebRip Hindi 480p ESub - AB Movies.rar'\n",
            "'/content/gdrive/Shareddrives/Abhi2/Copy of Web Series/2021/may-2021/Runaway Lugai 2021 480P' -> '/content/gdrive/Shareddrives/Abhi/Web Series/2021/may-2021/Runaway Lugai 2021 480P'\n",
            "'/content/gdrive/Shareddrives/Abhi2/Copy of Web Series/2021/may-2021/Runaway Lugai 2021 480P/Runaway Lugai S01 E01-10 WebRip Hindi 480p - AB Movies.rar' -> '/content/gdrive/Shareddrives/Abhi/Web Series/2021/may-2021/Runaway Lugai 2021 480P/Runaway Lugai S01 E01-10 WebRip Hindi 480p - AB Movies.rar'\n",
            "'/content/gdrive/Shareddrives/Abhi2/Copy of Web Series/2021/may-2021/November Story S01 480P' -> '/content/gdrive/Shareddrives/Abhi/Web Series/2021/may-2021/November Story S01 480P'\n",
            "'/content/gdrive/Shareddrives/Abhi2/Copy of Web Series/2021/may-2021/November Story S01 480P/November Story S01 E01 WebRip Hindi 480p ESub - mkvCinemas.mkv' -> '/content/gdrive/Shareddrives/Abhi/Web Series/2021/may-2021/November Story S01 480P/November Story S01 E01 WebRip Hindi 480p ESub - mkvCinemas.mkv'\n",
            "'/content/gdrive/Shareddrives/Abhi2/Copy of Web Series/2021/may-2021/November Story S01 480P/November Story S01 E02 WebRip Hindi 480p ESub - mkvCinemas.mkv' -> '/content/gdrive/Shareddrives/Abhi/Web Series/2021/may-2021/November Story S01 480P/November Story S01 E02 WebRip Hindi 480p ESub - mkvCinemas.mkv'\n",
            "'/content/gdrive/Shareddrives/Abhi2/Copy of Web Series/2021/may-2021/November Story S01 480P/November Story S01 E03 WebRip Hindi 480p ESub - mkvCinemas.mkv' -> '/content/gdrive/Shareddrives/Abhi/Web Series/2021/may-2021/November Story S01 480P/November Story S01 E03 WebRip Hindi 480p ESub - mkvCinemas.mkv'\n",
            "'/content/gdrive/Shareddrives/Abhi2/Copy of Web Series/2021/may-2021/November Story S01 480P/November Story S01 E04 WebRip Hindi 480p ESub - mkvCinemas.mkv' -> '/content/gdrive/Shareddrives/Abhi/Web Series/2021/may-2021/November Story S01 480P/November Story S01 E04 WebRip Hindi 480p ESub - mkvCinemas.mkv'\n",
            "'/content/gdrive/Shareddrives/Abhi2/Copy of Web Series/2021/may-2021/November Story S01 480P/November Story S01 E05 WebRip Hindi 480p ESub - mkvCinemas.mkv' -> '/content/gdrive/Shareddrives/Abhi/Web Series/2021/may-2021/November Story S01 480P/November Story S01 E05 WebRip Hindi 480p ESub - mkvCinemas.mkv'\n",
            "'/content/gdrive/Shareddrives/Abhi2/Copy of Web Series/2021/may-2021/November Story S01 480P/November Story S01 E07 WebRip Hindi 480p ESub - mkvCinemas.mkv' -> '/content/gdrive/Shareddrives/Abhi/Web Series/2021/may-2021/November Story S01 480P/November Story S01 E07 WebRip Hindi 480p ESub - mkvCinemas.mkv'\n",
            "'/content/gdrive/Shareddrives/Abhi2/Copy of Web Series/2021/may-2021/November Story S01 480P/November Story S01 E01-07 WebRip Hindi 480p ESub - AB Movies.rar' -> '/content/gdrive/Shareddrives/Abhi/Web Series/2021/may-2021/November Story S01 480P/November Story S01 E01-07 WebRip Hindi 480p ESub - AB Movies.rar'\n",
            "'/content/gdrive/Shareddrives/Abhi2/Copy of Web Series/2021/may-2021/November Story S01 480P/November Story S01 E06 WebRip Hindi 480p ESub - mkvCinemas.mkv' -> '/content/gdrive/Shareddrives/Abhi/Web Series/2021/may-2021/November Story S01 480P/November Story S01 E06 WebRip Hindi 480p ESub - mkvCinemas.mkv'\n",
            "'/content/gdrive/Shareddrives/Abhi2/Copy of Web Series/2021/may-2021/Maharani S01 480p' -> '/content/gdrive/Shareddrives/Abhi/Web Series/2021/may-2021/Maharani S01 480p'\n",
            "'/content/gdrive/Shareddrives/Abhi2/Copy of Web Series/2021/may-2021/Maharani S01 480p/Maharani S01 E01 WebRip Hindi 480p ESub - mkvCinemas.mkv' -> '/content/gdrive/Shareddrives/Abhi/Web Series/2021/may-2021/Maharani S01 480p/Maharani S01 E01 WebRip Hindi 480p ESub - mkvCinemas.mkv'\n",
            "'/content/gdrive/Shareddrives/Abhi2/Copy of Web Series/2021/may-2021/Maharani S01 480p/Maharani S01 E02 WebRip Hindi 480p ESub - mkvCinemas.mkv' -> '/content/gdrive/Shareddrives/Abhi/Web Series/2021/may-2021/Maharani S01 480p/Maharani S01 E02 WebRip Hindi 480p ESub - mkvCinemas.mkv'\n",
            "'/content/gdrive/Shareddrives/Abhi2/Copy of Web Series/2021/may-2021/Maharani S01 480p/Maharani S01 E03 WebRip Hindi 480p ESub - mkvCinemas.mkv' -> '/content/gdrive/Shareddrives/Abhi/Web Series/2021/may-2021/Maharani S01 480p/Maharani S01 E03 WebRip Hindi 480p ESub - mkvCinemas.mkv'\n",
            "'/content/gdrive/Shareddrives/Abhi2/Copy of Web Series/2021/may-2021/Maharani S01 480p/Maharani S01 E04 WebRip Hindi 480p ESub - mkvCinemas.mkv' -> '/content/gdrive/Shareddrives/Abhi/Web Series/2021/may-2021/Maharani S01 480p/Maharani S01 E04 WebRip Hindi 480p ESub - mkvCinemas.mkv'\n",
            "'/content/gdrive/Shareddrives/Abhi2/Copy of Web Series/2021/may-2021/Maharani S01 480p/Maharani S01 E05 WebRip Hindi 480p ESub - mkvCinemas.mkv' -> '/content/gdrive/Shareddrives/Abhi/Web Series/2021/may-2021/Maharani S01 480p/Maharani S01 E05 WebRip Hindi 480p ESub - mkvCinemas.mkv'\n",
            "'/content/gdrive/Shareddrives/Abhi2/Copy of Web Series/2021/may-2021/Maharani S01 480p/Maharani S01 E06 WebRip Hindi 480p ESub - mkvCinemas.mkv' -> '/content/gdrive/Shareddrives/Abhi/Web Series/2021/may-2021/Maharani S01 480p/Maharani S01 E06 WebRip Hindi 480p ESub - mkvCinemas.mkv'\n",
            "'/content/gdrive/Shareddrives/Abhi2/Copy of Web Series/2021/may-2021/Maharani S01 480p/Maharani S01 E07 WebRip Hindi 480p ESub - mkvCinemas.mkv' -> '/content/gdrive/Shareddrives/Abhi/Web Series/2021/may-2021/Maharani S01 480p/Maharani S01 E07 WebRip Hindi 480p ESub - mkvCinemas.mkv'\n",
            "'/content/gdrive/Shareddrives/Abhi2/Copy of Web Series/2021/may-2021/Maharani S01 480p/Maharani S01 E08 WebRip Hindi 480p ESub - mkvCinemas.mkv' -> '/content/gdrive/Shareddrives/Abhi/Web Series/2021/may-2021/Maharani S01 480p/Maharani S01 E08 WebRip Hindi 480p ESub - mkvCinemas.mkv'\n",
            "'/content/gdrive/Shareddrives/Abhi2/Copy of Web Series/2021/may-2021/Maharani S01 480p/Maharani S01 E09 WebRip Hindi 480p ESub - mkvCinemas.mkv' -> '/content/gdrive/Shareddrives/Abhi/Web Series/2021/may-2021/Maharani S01 480p/Maharani S01 E09 WebRip Hindi 480p ESub - mkvCinemas.mkv'\n",
            "'/content/gdrive/Shareddrives/Abhi2/Copy of Web Series/2021/may-2021/Maharani S01 480p/Maharani S01 E10 WebRip Hindi 480p ESub - mkvCinemas.mkv' -> '/content/gdrive/Shareddrives/Abhi/Web Series/2021/may-2021/Maharani S01 480p/Maharani S01 E10 WebRip Hindi 480p ESub - mkvCinemas.mkv'\n",
            "'/content/gdrive/Shareddrives/Abhi2/Copy of Web Series/2021/may-2021/Maharani S01 480p/Maharani S01 E01-10 WebRip Hindi 480p ESub - AB Movies.rar' -> '/content/gdrive/Shareddrives/Abhi/Web Series/2021/may-2021/Maharani S01 480p/Maharani S01 E01-10 WebRip Hindi 480p ESub - AB Movies.rar'\n",
            "'/content/gdrive/Shareddrives/Abhi2/Copy of Web Series/2021/June- 2021' -> '/content/gdrive/Shareddrives/Abhi/Web Series/2021/June- 2021'\n",
            "'/content/gdrive/Shareddrives/Abhi2/Copy of Web Series/2021/June- 2021/Family Man S02 480p' -> '/content/gdrive/Shareddrives/Abhi/Web Series/2021/June- 2021/Family Man S02 480p'\n",
            "'/content/gdrive/Shareddrives/Abhi2/Copy of Web Series/2021/June- 2021/Family Man S02 480p/The Family Man S02E03 Hindi 480p WEB-DL ESub btcmovies.xyz.mkv' -> '/content/gdrive/Shareddrives/Abhi/Web Series/2021/June- 2021/Family Man S02 480p/The Family Man S02E03 Hindi 480p WEB-DL ESub btcmovies.xyz.mkv'\n",
            "'/content/gdrive/Shareddrives/Abhi2/Copy of Web Series/2021/June- 2021/Family Man S02 480p/The Family Man S02E07 Hindi 480p WEB-DL ESub btcmovies.xyz.mkv' -> '/content/gdrive/Shareddrives/Abhi/Web Series/2021/June- 2021/Family Man S02 480p/The Family Man S02E07 Hindi 480p WEB-DL ESub btcmovies.xyz.mkv'\n",
            "'/content/gdrive/Shareddrives/Abhi2/Copy of Web Series/2021/June- 2021/Family Man S02 480p/The Family Man S02E05 Hindi 480p WEB-DL ESub btcmovies.xyz.mkv' -> '/content/gdrive/Shareddrives/Abhi/Web Series/2021/June- 2021/Family Man S02 480p/The Family Man S02E05 Hindi 480p WEB-DL ESub btcmovies.xyz.mkv'\n",
            "'/content/gdrive/Shareddrives/Abhi2/Copy of Web Series/2021/June- 2021/Family Man S02 480p/The Family Man S02E09 Hindi 480p WEB-DL ESub btcmovies.xyz.mkv' -> '/content/gdrive/Shareddrives/Abhi/Web Series/2021/June- 2021/Family Man S02 480p/The Family Man S02E09 Hindi 480p WEB-DL ESub btcmovies.xyz.mkv'\n",
            "'/content/gdrive/Shareddrives/Abhi2/Copy of Web Series/2021/June- 2021/Family Man S02 480p/The Family Man S02E01 Hindi 480p WEB-DL ESub btcmovies.xyz.mkv' -> '/content/gdrive/Shareddrives/Abhi/Web Series/2021/June- 2021/Family Man S02 480p/The Family Man S02E01 Hindi 480p WEB-DL ESub btcmovies.xyz.mkv'\n",
            "'/content/gdrive/Shareddrives/Abhi2/Copy of Web Series/2021/June- 2021/Family Man S02 480p/The Family Man S02E08 Hindi 480p WEB-DL ESub btcmovies.xyz.mkv' -> '/content/gdrive/Shareddrives/Abhi/Web Series/2021/June- 2021/Family Man S02 480p/The Family Man S02E08 Hindi 480p WEB-DL ESub btcmovies.xyz.mkv'\n",
            "'/content/gdrive/Shareddrives/Abhi2/Copy of Web Series/2021/June- 2021/Family Man S02 480p/The Family Man S02E04 Hindi 480p WEB-DL ESub btcmovies.xyz.mkv' -> '/content/gdrive/Shareddrives/Abhi/Web Series/2021/June- 2021/Family Man S02 480p/The Family Man S02E04 Hindi 480p WEB-DL ESub btcmovies.xyz.mkv'\n",
            "'/content/gdrive/Shareddrives/Abhi2/Copy of Web Series/2021/June- 2021/Family Man S02 480p/The Family Man S02E06 Hindi 480p WEB-DL ESub btcmovies.xyz.mkv' -> '/content/gdrive/Shareddrives/Abhi/Web Series/2021/June- 2021/Family Man S02 480p/The Family Man S02E06 Hindi 480p WEB-DL ESub btcmovies.xyz.mkv'\n",
            "'/content/gdrive/Shareddrives/Abhi2/Copy of Web Series/2021/June- 2021/Family Man S02 480p/The Family Man S02E02 Hindi 480p WEB-DL ESub btcmovies.xyz.mkv' -> '/content/gdrive/Shareddrives/Abhi/Web Series/2021/June- 2021/Family Man S02 480p/The Family Man S02E02 Hindi 480p WEB-DL ESub btcmovies.xyz.mkv'\n",
            "'/content/gdrive/Shareddrives/Abhi2/Copy of Web Series/2021/June- 2021/Family Man S02 480p/Family Man s02 480p.rar' -> '/content/gdrive/Shareddrives/Abhi/Web Series/2021/June- 2021/Family Man S02 480p/Family Man s02 480p.rar'\n",
            "'/content/gdrive/Shareddrives/Abhi2/Copy of Web Series/2021/June- 2021/DOM.S01.480p.WEB-DL.Hindi-English' -> '/content/gdrive/Shareddrives/Abhi/Web Series/2021/June- 2021/DOM.S01.480p.WEB-DL.Hindi-English'\n",
            "'/content/gdrive/Shareddrives/Abhi2/Copy of Web Series/2021/June- 2021/DOM.S01.480p.WEB-DL.Hindi-English/DOM.S01.E03.480p.WEB-DL.Hindi-English.ESub.x264-HDHub4u.Mx.mkv' -> '/content/gdrive/Shareddrives/Abhi/Web Series/2021/June- 2021/DOM.S01.480p.WEB-DL.Hindi-English/DOM.S01.E03.480p.WEB-DL.Hindi-English.ESub.x264-HDHub4u.Mx.mkv'\n",
            "'/content/gdrive/Shareddrives/Abhi2/Copy of Web Series/2021/June- 2021/DOM.S01.480p.WEB-DL.Hindi-English/DOM.S01.E08.480p.WEB-DL.Hindi-English.ESub.x264-HDHub4u.Mx.mkv' -> '/content/gdrive/Shareddrives/Abhi/Web Series/2021/June- 2021/DOM.S01.480p.WEB-DL.Hindi-English/DOM.S01.E08.480p.WEB-DL.Hindi-English.ESub.x264-HDHub4u.Mx.mkv'\n",
            "'/content/gdrive/Shareddrives/Abhi2/Copy of Web Series/2021/June- 2021/DOM.S01.480p.WEB-DL.Hindi-English/DOM.S01.E01.480p.WEB-DL.Hindi-English.ESub.x264-HDHub4u.Mx.mkv' -> '/content/gdrive/Shareddrives/Abhi/Web Series/2021/June- 2021/DOM.S01.480p.WEB-DL.Hindi-English/DOM.S01.E01.480p.WEB-DL.Hindi-English.ESub.x264-HDHub4u.Mx.mkv'\n",
            "'/content/gdrive/Shareddrives/Abhi2/Copy of Web Series/2021/June- 2021/DOM.S01.480p.WEB-DL.Hindi-English/DOM.S01.E02.480p.WEB-DL.Hindi-English.ESub.x264-HDHub4u.Mx.mkv' -> '/content/gdrive/Shareddrives/Abhi/Web Series/2021/June- 2021/DOM.S01.480p.WEB-DL.Hindi-English/DOM.S01.E02.480p.WEB-DL.Hindi-English.ESub.x264-HDHub4u.Mx.mkv'\n",
            "'/content/gdrive/Shareddrives/Abhi2/Copy of Web Series/2021/June- 2021/DOM.S01.480p.WEB-DL.Hindi-English/DOM.S01.E07.480p.WEB-DL.Hindi-English.ESub.x264-HDHub4u.Mx.mkv' -> '/content/gdrive/Shareddrives/Abhi/Web Series/2021/June- 2021/DOM.S01.480p.WEB-DL.Hindi-English/DOM.S01.E07.480p.WEB-DL.Hindi-English.ESub.x264-HDHub4u.Mx.mkv'\n",
            "'/content/gdrive/Shareddrives/Abhi2/Copy of Web Series/2021/June- 2021/DOM.S01.480p.WEB-DL.Hindi-English/DOM.S01.E06.480p.WEB-DL.Hindi-English.ESub.x264-HDHub4u.Mx.mkv' -> '/content/gdrive/Shareddrives/Abhi/Web Series/2021/June- 2021/DOM.S01.480p.WEB-DL.Hindi-English/DOM.S01.E06.480p.WEB-DL.Hindi-English.ESub.x264-HDHub4u.Mx.mkv'\n",
            "'/content/gdrive/Shareddrives/Abhi2/Copy of Web Series/2021/June- 2021/DOM.S01.480p.WEB-DL.Hindi-English/DOM.S01.E05.480p.WEB-DL.Hindi-English.ESub.x264-HDHub4u.Mx.mkv' -> '/content/gdrive/Shareddrives/Abhi/Web Series/2021/June- 2021/DOM.S01.480p.WEB-DL.Hindi-English/DOM.S01.E05.480p.WEB-DL.Hindi-English.ESub.x264-HDHub4u.Mx.mkv'\n",
            "'/content/gdrive/Shareddrives/Abhi2/Copy of Web Series/2021/June- 2021/DOM.S01.480p.WEB-DL.Hindi-English/DOM.S01.E04.480p.WEB-DL.Hindi-English.ESub.x264-HDHub4u.Mx.mkv' -> '/content/gdrive/Shareddrives/Abhi/Web Series/2021/June- 2021/DOM.S01.480p.WEB-DL.Hindi-English/DOM.S01.E04.480p.WEB-DL.Hindi-English.ESub.x264-HDHub4u.Mx.mkv'\n",
            "'/content/gdrive/Shareddrives/Abhi2/Copy of Web Series/2021/June- 2021/DOM.S01.480p.WEB-DL.Hindi-English/DOM.S01.480p.WEB-DL.Hindi-English.ESub.x264-AB Movies.zip' -> '/content/gdrive/Shareddrives/Abhi/Web Series/2021/June- 2021/DOM.S01.480p.WEB-DL.Hindi-English/DOM.S01.480p.WEB-DL.Hindi-English.ESub.x264-AB Movies.zip'\n",
            "'/content/gdrive/Shareddrives/Abhi2/Copy of Web Series/2021/June- 2021/Sweet Tooth S01 480P' -> '/content/gdrive/Shareddrives/Abhi/Web Series/2021/June- 2021/Sweet Tooth S01 480P'\n",
            "'/content/gdrive/Shareddrives/Abhi2/Copy of Web Series/2021/June- 2021/Sweet Tooth S01 480P/Sweet Tooth S01 E01 WebRip Hindi English 480p MSubs - mkvCinemas.mkv' -> '/content/gdrive/Shareddrives/Abhi/Web Series/2021/June- 2021/Sweet Tooth S01 480P/Sweet Tooth S01 E01 WebRip Hindi English 480p MSubs - mkvCinemas.mkv'\n",
            "'/content/gdrive/Shareddrives/Abhi2/Copy of Web Series/2021/June- 2021/Sweet Tooth S01 480P/Sweet Tooth S01 E02 WebRip Hindi English 480p MSubs - mkvCinemas.mkv' -> '/content/gdrive/Shareddrives/Abhi/Web Series/2021/June- 2021/Sweet Tooth S01 480P/Sweet Tooth S01 E02 WebRip Hindi English 480p MSubs - mkvCinemas.mkv'\n",
            "'/content/gdrive/Shareddrives/Abhi2/Copy of Web Series/2021/June- 2021/Sweet Tooth S01 480P/Sweet Tooth S01 E03 WebRip Hindi English 480p MSubs - mkvCinemas.mkv' -> '/content/gdrive/Shareddrives/Abhi/Web Series/2021/June- 2021/Sweet Tooth S01 480P/Sweet Tooth S01 E03 WebRip Hindi English 480p MSubs - mkvCinemas.mkv'\n",
            "'/content/gdrive/Shareddrives/Abhi2/Copy of Web Series/2021/June- 2021/Sweet Tooth S01 480P/Sweet Tooth S01 E04 WebRip Hindi English 480p MSubs - mkvCinemas.mkv' -> '/content/gdrive/Shareddrives/Abhi/Web Series/2021/June- 2021/Sweet Tooth S01 480P/Sweet Tooth S01 E04 WebRip Hindi English 480p MSubs - mkvCinemas.mkv'\n",
            "'/content/gdrive/Shareddrives/Abhi2/Copy of Web Series/2021/June- 2021/Sweet Tooth S01 480P/Sweet Tooth S01 E05 WebRip Hindi English 480p MSubs - mkvCinemas.mkv' -> '/content/gdrive/Shareddrives/Abhi/Web Series/2021/June- 2021/Sweet Tooth S01 480P/Sweet Tooth S01 E05 WebRip Hindi English 480p MSubs - mkvCinemas.mkv'\n",
            "'/content/gdrive/Shareddrives/Abhi2/Copy of Web Series/2021/June- 2021/Sweet Tooth S01 480P/Sweet Tooth S01 E06 WebRip Hindi English 480p MSubs - mkvCinemas.mkv' -> '/content/gdrive/Shareddrives/Abhi/Web Series/2021/June- 2021/Sweet Tooth S01 480P/Sweet Tooth S01 E06 WebRip Hindi English 480p MSubs - mkvCinemas.mkv'\n",
            "'/content/gdrive/Shareddrives/Abhi2/Copy of Web Series/2021/June- 2021/Sweet Tooth S01 480P/Sweet Tooth S01 E07 WebRip Hindi English 480p MSubs - mkvCinemas.mkv' -> '/content/gdrive/Shareddrives/Abhi/Web Series/2021/June- 2021/Sweet Tooth S01 480P/Sweet Tooth S01 E07 WebRip Hindi English 480p MSubs - mkvCinemas.mkv'\n",
            "'/content/gdrive/Shareddrives/Abhi2/Copy of Web Series/2021/June- 2021/Sweet Tooth S01 480P/Sweet Tooth S01 E08 WebRip Hindi English 480p MSubs - mkvCinemas.mkv' -> '/content/gdrive/Shareddrives/Abhi/Web Series/2021/June- 2021/Sweet Tooth S01 480P/Sweet Tooth S01 E08 WebRip Hindi English 480p MSubs - mkvCinemas.mkv'\n",
            "'/content/gdrive/Shareddrives/Abhi2/Copy of Web Series/2021/June- 2021/Sweet Tooth S01 480P/Sweet Tooth S01 E01-08 WebRip Hindi English 480p MSubs - AB Movies.rar' -> '/content/gdrive/Shareddrives/Abhi/Web Series/2021/June- 2021/Sweet Tooth S01 480P/Sweet Tooth S01 E01-08 WebRip Hindi English 480p MSubs - AB Movies.rar'\n",
            "'/content/gdrive/Shareddrives/Abhi2/Copy of Web Series/2021/June- 2021/Loki 2021 480p' -> '/content/gdrive/Shareddrives/Abhi/Web Series/2021/June- 2021/Loki 2021 480p'\n",
            "'/content/gdrive/Shareddrives/Abhi2/Copy of Web Series/2021/June- 2021/Loki 2021 480p/Loki.S01.E01.480p.WEB-DL.Hindi-English.x264-AB Movies.mkv' -> '/content/gdrive/Shareddrives/Abhi/Web Series/2021/June- 2021/Loki 2021 480p/Loki.S01.E01.480p.WEB-DL.Hindi-English.x264-AB Movies.mkv'\n",
            "'/content/gdrive/Shareddrives/Abhi2/Copy of Web Series/2021/June- 2021/Loki 2021 480p/Loki.S01.E02.480p.WEB-DL.Hindi-English.ESub.x264- Ab Movies.mkv' -> '/content/gdrive/Shareddrives/Abhi/Web Series/2021/June- 2021/Loki 2021 480p/Loki.S01.E02.480p.WEB-DL.Hindi-English.ESub.x264- Ab Movies.mkv'\n",
            "'/content/gdrive/Shareddrives/Abhi2/Copy of Web Series/2021/June- 2021/Loki 2021 480p/Loki.S01.E03.480p.WEB-DL.Hindi-English.x264-Ab Movies.mkv' -> '/content/gdrive/Shareddrives/Abhi/Web Series/2021/June- 2021/Loki 2021 480p/Loki.S01.E03.480p.WEB-DL.Hindi-English.x264-Ab Movies.mkv'\n",
            "'/content/gdrive/Shareddrives/Abhi2/Copy of Web Series/2021/June- 2021/Sunflower zee5 2021 480P' -> '/content/gdrive/Shareddrives/Abhi/Web Series/2021/June- 2021/Sunflower zee5 2021 480P'\n",
            "'/content/gdrive/Shareddrives/Abhi2/Copy of Web Series/2021/June- 2021/Sunflower zee5 2021 480P/SunFlower.S01.480p.Hindi.WEB-DL.ESub.x264-AB Movies.zip' -> '/content/gdrive/Shareddrives/Abhi/Web Series/2021/June- 2021/Sunflower zee5 2021 480P/SunFlower.S01.480p.Hindi.WEB-DL.ESub.x264-AB Movies.zip'\n",
            "'/content/gdrive/Shareddrives/Abhi2/Copy of Web Series/2021/June- 2021/Sunflower zee5 2021 480P/SunFlower.S01.480p.Hindi.WEB-DL.ESub.x264' -> '/content/gdrive/Shareddrives/Abhi/Web Series/2021/June- 2021/Sunflower zee5 2021 480P/SunFlower.S01.480p.Hindi.WEB-DL.ESub.x264'\n",
            "'/content/gdrive/Shareddrives/Abhi2/Copy of Web Series/2021/June- 2021/Sunflower zee5 2021 480P/SunFlower.S01.480p.Hindi.WEB-DL.ESub.x264/SunFlower.S01.E06.480p.Hindi.WEB-DL.ESub.x264-HDHub4u.Mx.mkv' -> '/content/gdrive/Shareddrives/Abhi/Web Series/2021/June- 2021/Sunflower zee5 2021 480P/SunFlower.S01.480p.Hindi.WEB-DL.ESub.x264/SunFlower.S01.E06.480p.Hindi.WEB-DL.ESub.x264-HDHub4u.Mx.mkv'\n",
            "'/content/gdrive/Shareddrives/Abhi2/Copy of Web Series/2021/June- 2021/Sunflower zee5 2021 480P/SunFlower.S01.480p.Hindi.WEB-DL.ESub.x264/SunFlower.S01.E01.480p.Hindi.WEB-DL.ESub.x264-HDHub4u.Mx.mkv' -> '/content/gdrive/Shareddrives/Abhi/Web Series/2021/June- 2021/Sunflower zee5 2021 480P/SunFlower.S01.480p.Hindi.WEB-DL.ESub.x264/SunFlower.S01.E01.480p.Hindi.WEB-DL.ESub.x264-HDHub4u.Mx.mkv'\n",
            "'/content/gdrive/Shareddrives/Abhi2/Copy of Web Series/2021/June- 2021/Sunflower zee5 2021 480P/SunFlower.S01.480p.Hindi.WEB-DL.ESub.x264/SunFlower.S01.E02.480p.Hindi.WEB-DL.ESub.x264-HDHub4u.Mx.mkv' -> '/content/gdrive/Shareddrives/Abhi/Web Series/2021/June- 2021/Sunflower zee5 2021 480P/SunFlower.S01.480p.Hindi.WEB-DL.ESub.x264/SunFlower.S01.E02.480p.Hindi.WEB-DL.ESub.x264-HDHub4u.Mx.mkv'\n",
            "'/content/gdrive/Shareddrives/Abhi2/Copy of Web Series/2021/June- 2021/Sunflower zee5 2021 480P/SunFlower.S01.480p.Hindi.WEB-DL.ESub.x264/SunFlower.S01.E04.480p.Hindi.WEB-DL.ESub.x264-HDHub4u.Mx.mkv' -> '/content/gdrive/Shareddrives/Abhi/Web Series/2021/June- 2021/Sunflower zee5 2021 480P/SunFlower.S01.480p.Hindi.WEB-DL.ESub.x264/SunFlower.S01.E04.480p.Hindi.WEB-DL.ESub.x264-HDHub4u.Mx.mkv'\n",
            "'/content/gdrive/Shareddrives/Abhi2/Copy of Web Series/2021/June- 2021/Sunflower zee5 2021 480P/SunFlower.S01.480p.Hindi.WEB-DL.ESub.x264/SunFlower.S01.E07.480p.Hindi.WEB-DL.ESub.x264-HDHub4u.Mx.mkv' -> '/content/gdrive/Shareddrives/Abhi/Web Series/2021/June- 2021/Sunflower zee5 2021 480P/SunFlower.S01.480p.Hindi.WEB-DL.ESub.x264/SunFlower.S01.E07.480p.Hindi.WEB-DL.ESub.x264-HDHub4u.Mx.mkv'\n",
            "'/content/gdrive/Shareddrives/Abhi2/Copy of Web Series/2021/June- 2021/Sunflower zee5 2021 480P/SunFlower.S01.480p.Hindi.WEB-DL.ESub.x264/SunFlower.S01.E08.480p.Hindi.WEB-DL.ESub.x264-HDHub4u.Mx.mkv' -> '/content/gdrive/Shareddrives/Abhi/Web Series/2021/June- 2021/Sunflower zee5 2021 480P/SunFlower.S01.480p.Hindi.WEB-DL.ESub.x264/SunFlower.S01.E08.480p.Hindi.WEB-DL.ESub.x264-HDHub4u.Mx.mkv'\n",
            "'/content/gdrive/Shareddrives/Abhi2/Copy of Web Series/2021/June- 2021/Sunflower zee5 2021 480P/SunFlower.S01.480p.Hindi.WEB-DL.ESub.x264/SunFlower.S01.E03.480p.Hindi.WEB-DL.ESub.x264-HDHub4u.Mx.mkv' -> '/content/gdrive/Shareddrives/Abhi/Web Series/2021/June- 2021/Sunflower zee5 2021 480P/SunFlower.S01.480p.Hindi.WEB-DL.ESub.x264/SunFlower.S01.E03.480p.Hindi.WEB-DL.ESub.x264-HDHub4u.Mx.mkv'\n",
            "'/content/gdrive/Shareddrives/Abhi2/Copy of Web Series/2021/June- 2021/Sunflower zee5 2021 480P/SunFlower.S01.480p.Hindi.WEB-DL.ESub.x264/SunFlower.S01.E05.480p.Hindi.WEB-DL.ESub.x264-HDHub4u.Mx.mkv' -> '/content/gdrive/Shareddrives/Abhi/Web Series/2021/June- 2021/Sunflower zee5 2021 480P/SunFlower.S01.480p.Hindi.WEB-DL.ESub.x264/SunFlower.S01.E05.480p.Hindi.WEB-DL.ESub.x264-HDHub4u.Mx.mkv'\n"
          ],
          "name": "stdout"
        }
      ]
    },
    {
      "cell_type": "markdown",
      "metadata": {
        "id": "s-nWHHPYu3aE"
      },
      "source": [
        "---\n",
        "---"
      ]
    },
    {
      "cell_type": "markdown",
      "metadata": {
        "id": "kl-_gj6Oft5g"
      },
      "source": [
        "# **`#3`** Copy a Folder from **My Drive** to **Shared Drive**"
      ]
    },
    {
      "cell_type": "markdown",
      "metadata": {
        "id": "9qwzSm6wsjTG"
      },
      "source": [
        "### 1. Run the below code to get the list of ***Shared Drives***"
      ]
    },
    {
      "cell_type": "code",
      "metadata": {
        "id": "3GNRHJ_XsjTI"
      },
      "source": [
        "!ls '/gdrive/Shared drives'"
      ],
      "execution_count": null,
      "outputs": []
    },
    {
      "cell_type": "markdown",
      "metadata": {
        "id": "Uwf0yenUsqof"
      },
      "source": [
        "### 2. Replace"
      ]
    },
    {
      "cell_type": "markdown",
      "metadata": {
        "id": "O9BJopGMsqog"
      },
      "source": [
        "*   TEAMDRIVE - your Shared Drive Name\n",
        "*   FOLDER - path of the Folder you want to copy\n",
        "\n",
        "Example : \n",
        "\n",
        "```\n",
        "!cp -av '/gdrive/Shared drives/alex/testfolder' '/gdrive/My Drive/'\n",
        "```\n",
        "\n",
        "![alt text](https://i.imgur.com/DiHA39S.png)"
      ]
    },
    {
      "cell_type": "code",
      "metadata": {
        "id": "cSeiP4Lgsqoh"
      },
      "source": [
        "!cp -av '/gdrive/My Drive/FOLDER' '/gdrive/Shared drives/TEAMDRIVE/' "
      ],
      "execution_count": null,
      "outputs": []
    },
    {
      "cell_type": "markdown",
      "metadata": {
        "id": "edOfp9Ndu8fa"
      },
      "source": [
        "---\n",
        "---"
      ]
    },
    {
      "cell_type": "markdown",
      "metadata": {
        "id": "g8mEjIQc3j3K"
      },
      "source": [
        "# **`#4`** Copy a Folder from **Shared Drive** to **My Drive**"
      ]
    },
    {
      "cell_type": "markdown",
      "metadata": {
        "id": "u5chHrpJsIWo"
      },
      "source": [
        "### 1. Run the below code to get the list of ***Shared Drives***\n",
        "##### Hidden Shared Drives won't be listed\n",
        "##### (You need to check in the my Drive dashboard for any Hidden Shared Drives)"
      ]
    },
    {
      "cell_type": "code",
      "metadata": {
        "id": "zQs2Gq383sIU"
      },
      "source": [
        "!ls '/gdrive/Shared drives'"
      ],
      "execution_count": null,
      "outputs": []
    },
    {
      "cell_type": "markdown",
      "metadata": {
        "id": "6on7RCTp8x-q"
      },
      "source": [
        "### 2. Replace"
      ]
    },
    {
      "cell_type": "markdown",
      "metadata": {
        "id": "hRkajQfZsSzW"
      },
      "source": [
        "*   TEAMDRIVE with your Shared Drive Name\n",
        "*   FOLDER with the path of the Folder you want to copy\n",
        "\n",
        "Example : \n",
        "\n",
        "```\n",
        "!cp -av '/gdrive/Shared drives/alex/testfolder' '/gdrive/My Drive/'\n",
        "```\n",
        "\n",
        "![alt text](https://i.imgur.com/DiHA39S.png)"
      ]
    },
    {
      "cell_type": "code",
      "metadata": {
        "id": "PzAiM65_KdeW"
      },
      "source": [
        ""
      ],
      "execution_count": null,
      "outputs": []
    },
    {
      "cell_type": "code",
      "metadata": {
        "id": "7RC_U2uQ3sBT"
      },
      "source": [
        "!cp -av '/gdrive/Shared drives/TEAMDRIVE/FOLDER' '/gdrive/My Drive/'"
      ],
      "execution_count": null,
      "outputs": []
    },
    {
      "cell_type": "markdown",
      "metadata": {
        "id": "8hn-EXIW555r"
      },
      "source": [
        "# **`#5`** Copy a Folder from **Shared Drive#1** to **Shared Drive#2**"
      ]
    },
    {
      "cell_type": "markdown",
      "metadata": {
        "id": "HAGvwx7o6Lzt"
      },
      "source": [
        "1. Run the below code to get the list of Shared Drives\n",
        "*(Hidden Shared Drives won't be listed)*"
      ]
    },
    {
      "cell_type": "code",
      "metadata": {
        "id": "5mgayuLC5vsF",
        "colab": {
          "base_uri": "https://localhost:8080/"
        },
        "outputId": "6829efdd-4e90-4211-c0e2-74d0433eb043"
      },
      "source": [
        "!ls '/content/gdrive/Shareddrives'"
      ],
      "execution_count": 4,
      "outputs": [
        {
          "output_type": "stream",
          "text": [
            " Abhi  'Alpha-Delta- Drive '\n"
          ],
          "name": "stdout"
        }
      ]
    },
    {
      "cell_type": "markdown",
      "metadata": {
        "id": "NR6TGSl16U7D"
      },
      "source": [
        "2. Replace\n",
        "- *`TEAMDRIVE_1`* with source Shared drive\n",
        "- *`TEAMDRIVE_2`* with destination Shared drive\n",
        "- *`FOLDER_1`* with source folder"
      ]
    },
    {
      "cell_type": "code",
      "metadata": {
        "id": "Tg6bcLrd8RJm",
        "colab": {
          "base_uri": "https://localhost:8080/"
        },
        "outputId": "ad188e57-7002-4503-e764-64d9d3916fea"
      },
      "source": [
        "!cp -av '/content/gdrive/Shareddrives/Abhi/Web Series/Web Series/2021' '/content/gdrive/Shared drives/Abhi/Web Series'"
      ],
      "execution_count": 6,
      "outputs": [
        {
          "output_type": "stream",
          "text": [
            "cp: '/content/gdrive/Shareddrives/Abhi/Web Series/Web Series/2021' and '/content/gdrive/Shared drives/Abhi/Web Series/2021' are the same file\n"
          ],
          "name": "stdout"
        }
      ]
    }
  ]
}