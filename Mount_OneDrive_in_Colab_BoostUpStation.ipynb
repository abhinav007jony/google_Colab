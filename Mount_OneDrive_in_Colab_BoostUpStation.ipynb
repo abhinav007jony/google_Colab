{
  "nbformat": 4,
  "nbformat_minor": 0,
  "metadata": {
    "colab": {
      "name": "Mount_OneDrive_in_Colab_BoostUpStation.ipynb",
      "provenance": [],
      "collapsed_sections": [],
      "include_colab_link": true
    },
    "kernelspec": {
      "name": "python3",
      "display_name": "Python 3"
    }
  },
  "cells": [
    {
      "cell_type": "markdown",
      "metadata": {
        "id": "view-in-github",
        "colab_type": "text"
      },
      "source": [
        "<a href=\"https://colab.research.google.com/github/abhinav007jony/google_Colab/blob/main/Mount_OneDrive_in_Colab_BoostUpStation.ipynb\" target=\"_parent\"><img src=\"https://colab.research.google.com/assets/colab-badge.svg\" alt=\"Open In Colab\"/></a>"
      ]
    },
    {
      "cell_type": "markdown",
      "metadata": {
        "id": "aQuWDmfm9YOi"
      },
      "source": [
        "# Mount Microsft One Drive in Google Colab - **BoostUpStation**"
      ]
    },
    {
      "cell_type": "markdown",
      "metadata": {
        "id": "FexiyATtNwTG"
      },
      "source": [
        "###1. Download & Install Latest Setup\n",
        "\n",
        "\n",
        "https://rclone.org/downloads/"
      ]
    },
    {
      "cell_type": "code",
      "metadata": {
        "id": "m6hF0emftx4h",
        "colab": {
          "base_uri": "https://localhost:8080/"
        },
        "outputId": "0d7093ea-2883-4489-861a-05a3ba4a82de"
      },
      "source": [
        "!wget https://downloads.rclone.org/v1.55.1/rclone-v1.55.1-linux-amd64.deb\n",
        "!apt install ./rclone-v1.55.1-linux-amd64.deb"
      ],
      "execution_count": 2,
      "outputs": [
        {
          "output_type": "stream",
          "text": [
            "--2021-06-28 12:43:10--  https://downloads.rclone.org/v1.55.1/rclone-v1.55.1-linux-amd64.deb\n",
            "Resolving downloads.rclone.org (downloads.rclone.org)... 5.153.250.7, 2a02:24e0:8:61f9::1\n",
            "Connecting to downloads.rclone.org (downloads.rclone.org)|5.153.250.7|:443... connected.\n",
            "HTTP request sent, awaiting response... 200 OK\n",
            "Length: 14707686 (14M) [application/x-debian-package]\n",
            "Saving to: ‘rclone-v1.55.1-linux-amd64.deb’\n",
            "\n",
            "rclone-v1.55.1-linu 100%[===================>]  14.03M  13.1MB/s    in 1.1s    \n",
            "\n",
            "2021-06-28 12:43:11 (13.1 MB/s) - ‘rclone-v1.55.1-linux-amd64.deb’ saved [14707686/14707686]\n",
            "\n",
            "Reading package lists... Done\n",
            "Building dependency tree       \n",
            "Reading state information... Done\n",
            "Note, selecting 'rclone' instead of './rclone-v1.55.1-linux-amd64.deb'\n",
            "The following packages will be upgraded:\n",
            "  rclone\n",
            "1 upgraded, 0 newly installed, 0 to remove and 39 not upgraded.\n",
            "Need to get 0 B/14.7 MB of archives.\n",
            "After this operation, 11.0 MB of additional disk space will be used.\n",
            "Get:1 /content/rclone-v1.55.1-linux-amd64.deb rclone amd64 1.55.1 [14.7 MB]\n",
            "(Reading database ... 160777 files and directories currently installed.)\n",
            "Preparing to unpack .../rclone-v1.55.1-linux-amd64.deb ...\n",
            "Unpacking rclone (1.55.1) over (1.50.1) ...\n",
            "Setting up rclone (1.55.1) ...\n",
            "Processing triggers for man-db (2.8.3-2ubuntu0.1) ...\n"
          ],
          "name": "stdout"
        }
      ]
    },
    {
      "cell_type": "markdown",
      "metadata": {
        "id": "u6b8Q4EjIowT"
      },
      "source": [
        "### 2. Authenticate One Drive"
      ]
    },
    {
      "cell_type": "code",
      "metadata": {
        "id": "dT1VHtxSIu8g",
        "colab": {
          "base_uri": "https://localhost:8080/"
        },
        "outputId": "518adf30-c1c6-4f00-98fe-4150506258b3"
      },
      "source": [
        "!rclone config"
      ],
      "execution_count": 4,
      "outputs": [
        {
          "output_type": "stream",
          "text": [
            "2021/06/28 12:46:42 NOTICE: Config file \"/root/.config/rclone/rclone.conf\" not found - using defaults\n",
            "No remotes found - make a new one\n",
            "n) New remote\n",
            "s) Set configuration password\n",
            "q) Quit config\n",
            "n/s/q> n\n",
            "name> OneDrive\n",
            "Type of storage to configure.\n",
            "Enter a string value. Press Enter for the default (\"\").\n",
            "Choose a number from below, or type in your own value\n",
            "\u001b[91m 1 / 1Fichier\n",
            "   \\ \"fichier\"\n",
            "\u001b[0m\u001b[92m 2 / Alias for an existing remote\n",
            "   \\ \"alias\"\n",
            "\u001b[0m\u001b[91m 3 / Amazon Drive\n",
            "   \\ \"amazon cloud drive\"\n",
            "\u001b[0m\u001b[92m 4 / Amazon S3 Compliant Storage Providers including AWS, Alibaba, Ceph, Digital Ocean, Dreamhost, IBM COS, Minio, and Tencent COS\n",
            "   \\ \"s3\"\n",
            "\u001b[0m\u001b[91m 5 / Backblaze B2\n",
            "   \\ \"b2\"\n",
            "\u001b[0m\u001b[92m 6 / Box\n",
            "   \\ \"box\"\n",
            "\u001b[0m\u001b[91m 7 / Cache a remote\n",
            "   \\ \"cache\"\n",
            "\u001b[0m\u001b[92m 8 / Citrix Sharefile\n",
            "   \\ \"sharefile\"\n",
            "\u001b[0m\u001b[91m 9 / Compress a remote\n",
            "   \\ \"compress\"\n",
            "\u001b[0m\u001b[92m10 / Dropbox\n",
            "   \\ \"dropbox\"\n",
            "\u001b[0m\u001b[91m11 / Encrypt/Decrypt a remote\n",
            "   \\ \"crypt\"\n",
            "\u001b[0m\u001b[92m12 / Enterprise File Fabric\n",
            "   \\ \"filefabric\"\n",
            "\u001b[0m\u001b[91m13 / FTP Connection\n",
            "   \\ \"ftp\"\n",
            "\u001b[0m\u001b[92m14 / Google Cloud Storage (this is not Google Drive)\n",
            "   \\ \"google cloud storage\"\n",
            "\u001b[0m\u001b[91m15 / Google Drive\n",
            "   \\ \"drive\"\n",
            "\u001b[0m\u001b[92m16 / Google Photos\n",
            "   \\ \"google photos\"\n",
            "\u001b[0m\u001b[91m17 / Hadoop distributed file system\n",
            "   \\ \"hdfs\"\n",
            "\u001b[0m\u001b[92m18 / Hubic\n",
            "   \\ \"hubic\"\n",
            "\u001b[0m\u001b[91m19 / In memory object storage system.\n",
            "   \\ \"memory\"\n",
            "\u001b[0m\u001b[92m20 / Jottacloud\n",
            "   \\ \"jottacloud\"\n",
            "\u001b[0m\u001b[91m21 / Koofr\n",
            "   \\ \"koofr\"\n",
            "\u001b[0m\u001b[92m22 / Local Disk\n",
            "   \\ \"local\"\n",
            "\u001b[0m\u001b[91m23 / Mail.ru Cloud\n",
            "   \\ \"mailru\"\n",
            "\u001b[0m\u001b[92m24 / Mega\n",
            "   \\ \"mega\"\n",
            "\u001b[0m\u001b[91m25 / Microsoft Azure Blob Storage\n",
            "   \\ \"azureblob\"\n",
            "\u001b[0m\u001b[92m26 / Microsoft OneDrive\n",
            "   \\ \"onedrive\"\n",
            "\u001b[0m\u001b[91m27 / OpenDrive\n",
            "   \\ \"opendrive\"\n",
            "\u001b[0m\u001b[92m28 / OpenStack Swift (Rackspace Cloud Files, Memset Memstore, OVH)\n",
            "   \\ \"swift\"\n",
            "\u001b[0m\u001b[91m29 / Pcloud\n",
            "   \\ \"pcloud\"\n",
            "\u001b[0m\u001b[92m30 / Put.io\n",
            "   \\ \"putio\"\n",
            "\u001b[0m\u001b[91m31 / QingCloud Object Storage\n",
            "   \\ \"qingstor\"\n",
            "\u001b[0m\u001b[92m32 / SSH/SFTP Connection\n",
            "   \\ \"sftp\"\n",
            "\u001b[0m\u001b[91m33 / Sugarsync\n",
            "   \\ \"sugarsync\"\n",
            "\u001b[0m\u001b[92m34 / Tardigrade Decentralized Cloud Storage\n",
            "   \\ \"tardigrade\"\n",
            "\u001b[0m\u001b[91m35 / Transparently chunk/split large files\n",
            "   \\ \"chunker\"\n",
            "\u001b[0m\u001b[92m36 / Union merges the contents of several upstream fs\n",
            "   \\ \"union\"\n",
            "\u001b[0m\u001b[91m37 / Webdav\n",
            "   \\ \"webdav\"\n",
            "\u001b[0m\u001b[92m38 / Yandex Disk\n",
            "   \\ \"yandex\"\n",
            "\u001b[0m\u001b[91m39 / Zoho\n",
            "   \\ \"zoho\"\n",
            "\u001b[0m\u001b[92m40 / http Connection\n",
            "   \\ \"http\"\n",
            "\u001b[0m\u001b[91m41 / premiumize.me\n",
            "   \\ \"premiumizeme\"\n",
            "\u001b[0m\u001b[92m42 / seafile\n",
            "   \\ \"seafile\"\n",
            "\u001b[0mStorage> 26\n",
            "** See help for onedrive backend at: https://rclone.org/onedrive/ **\n",
            "\n",
            "OAuth Client Id\n",
            "Leave blank normally.\n",
            "Enter a string value. Press Enter for the default (\"\").\n",
            "client_id> \n",
            "OAuth Client Secret\n",
            "Leave blank normally.\n",
            "Enter a string value. Press Enter for the default (\"\").\n",
            "client_secret> \n",
            "Choose national cloud region for OneDrive.\n",
            "Enter a string value. Press Enter for the default (\"global\").\n",
            "Choose a number from below, or type in your own value\n",
            "\u001b[91m 1 / Microsoft Cloud Global\n",
            "   \\ \"global\"\n",
            "\u001b[0m\u001b[92m 2 / Microsoft Cloud for US Government\n",
            "   \\ \"us\"\n",
            "\u001b[0m\u001b[91m 3 / Microsoft Cloud Germany\n",
            "   \\ \"de\"\n",
            "\u001b[0m\u001b[92m 4 / Azure and Office 365 operated by 21Vianet in China\n",
            "   \\ \"cn\"\n",
            "\u001b[0mregion> 1\n",
            "Edit advanced config? (y/n)\n",
            "y) Yes\n",
            "n) No (default)\n",
            "y/n> n\n",
            "Remote config\n",
            "Use auto config?\n",
            " * Say Y if not sure\n",
            " * Say N if you are working on a remote or headless machine\n",
            "y) Yes (default)\n",
            "n) No\n",
            "y/n> n\n",
            "For this to work, you will need rclone available on a machine that has\n",
            "a web browser available.\n",
            "\n",
            "For more help and alternate methods see: https://rclone.org/remote_setup/\n",
            "\n",
            "Execute the following on the machine with the web browser (same rclone\n",
            "version recommended):\n",
            "\n",
            "\trclone authorize \"onedrive\"\n",
            "\n",
            "Then paste the result below:\n",
            "result> {\"access_token\":\"eyJ0eXAiOiJKV1QiLCJub25jZSI6InNyY0ptSGs2RGQ1ZUZlYVlYclNTdWtZVUhrV0puZHJDOE9ONlN4NnlLbW8iLCJhbGciOiJSUzI1NiIsIng1dCI6Im5PbzNaRHJPRFhFSzFqS1doWHNsSFJfS1hFZyIsImtpZCI6Im5PbzNaRHJPRFhFSzFqS1doWHNsSFJfS1hFZyJ9.eyJhdWQiOiIwMDAwMDAwMy0wMDAwLTAwMDAtYzAwMC0wMDAwMDAwMDAwMDAiLCJpc3MiOiJodHRwczovL3N0cy53aW5kb3dzLm5ldC9jOTY4MGY4Zi04YTZkLTQ1MGYtYmY3OC02OWUxMTNjZGMxMTgvIiwiaWF0IjoxNjI0ODgzMjYxLCJuYmYiOjE2MjQ4ODMyNjEsImV4cCI6MTYyNDg4NzE2MSwiYWNjdCI6MCwiYWNyIjoiMSIsImFjcnMiOlsidXJuOnVzZXI6cmVnaXN0ZXJzZWN1cml0eWluZm8iLCJ1cm46bWljcm9zb2Z0OnJlcTEiLCJ1cm46bWljcm9zb2Z0OnJlcTIiLCJ1cm46bWljcm9zb2Z0OnJlcTMiLCJjMSIsImMyIiwiYzMiLCJjNCIsImM1IiwiYzYiLCJjNyIsImM4IiwiYzkiLCJjMTAiLCJjMTEiLCJjMTIiLCJjMTMiLCJjMTQiLCJjMTUiLCJjMTYiLCJjMTciLCJjMTgiLCJjMTkiLCJjMjAiLCJjMjEiLCJjMjIiLCJjMjMiLCJjMjQiLCJjMjUiXSwiYWlvIjoiRTJaZ1lHQjBQQ3pIci8xLzd6V0g4MnFYRlo5WXNpdzZmT1dBbkZMMEpMZlRrWHV6RkdzQiIsImFtciI6WyJwd2QiXSwiYXBwX2Rpc3BsYXluYW1lIjoicmNsb25lIiwiYXBwaWQiOiJiMTU2NjVkOS1lZGE2LTQwOTItODUzOS0wZWVjMzc2YWZkNTkiLCJhcHBpZGFjciI6IjEiLCJmYW1pbHlfbmFtZSI6InNoYXJtYSIsImdpdmVuX25hbWUiOiJqb255IiwiaWR0eXAiOiJ1c2VyIiwiaXBhZGRyIjoiMTU3LjM4LjkuMzEiLCJuYW1lIjoiam9ueSBzaGFybWEiLCJvaWQiOiI5ZjQ5M2IzMi1lZWIzLTQ0NGQtYWYwMi0zZDNmM2JhZmM3YTIiLCJwbGF0ZiI6IjMiLCJwdWlkIjoiMTAwMzIwMDE0OUYyMzg5NyIsInJoIjoiMC5BWEVBanc5b3lXMktEMFdfZUduaEU4M0JHTmxsVnJHbTdaSkFoVGtPN0RkcV9WbHhBUDAuIiwic2NwIjoiRmlsZXMuUmVhZCBGaWxlcy5SZWFkLkFsbCBGaWxlcy5SZWFkV3JpdGUgRmlsZXMuUmVhZFdyaXRlLkFsbCBTaXRlcy5SZWFkLkFsbCBwcm9maWxlIG9wZW5pZCBlbWFpbCIsInN1YiI6Im9nb09DVXdCd184UnR6VFZ3eWVLZ29WbVgza01jYUIyOWozQUtGRDhrOEUiLCJ0ZW5hbnRfcmVnaW9uX3Njb3BlIjoiQVMiLCJ0aWQiOiJjOTY4MGY4Zi04YTZkLTQ1MGYtYmY3OC02OWUxMTNjZGMxMTgiLCJ1bmlxdWVfbmFtZSI6ImpvbnlAcmFnaHdheWFuLm9ubWljcm9zb2Z0LmNvbSIsInVwbiI6ImpvbnlAcmFnaHdheWFuLm9ubWljcm9zb2Z0LmNvbSIsInV0aSI6IkZ5MGJPU0tOSTBhdjZINU9tNU5vQUEiLCJ2ZXIiOiIxLjAiLCJ3aWRzIjpbImI3OWZiZjRkLTNlZjktNDY4OS04MTQzLTc2YjE5NGU4NTUwOSJdLCJ4bXNfc3QiOnsic3ViIjoia0lyWk9fMzVPSEh0YU81SHZOVjVlc2h0WXN4MENUX3VGQ1UxWGpBNGp1ZyJ9LCJ4bXNfdGNkdCI6MTYyMjM2OTgxN30.Z9wMlGMdI-jYESA9G2opVkbleuGgOeY2Z-3bAam9HkiwN2-vdPth6GMEwoiGh7bNGyhRQUoJvemXrmnYgrS1bvLcvJlVdueQ2WZQ5Wfs1vixuqxlH1Nf_j09bYfz4G99Ipb8y4GFcvkt3xDo2nCOniaeC0UQL_OXYgW1TErekOcuw71PzbF_db1XTFe3sduPqWhy65uLIDerOhJKhWnej-N49mQ0BobMDwWqYbX1-vUoD9czhjM5pwP6BMWsBjr74kKDzbkD6yPojm8VFigwqlHH-L2AYRnwp5tQsrwQiH-RqMHHJuy3B7yntyVVegE3Rc5QgkNx0WSdTbiCL22Jiw\",\"token_type\":\"Bearer\",\"refresh_token\":\"0.AXEAjw9oyW2KD0W_eGnhE83BGNllVrGm7ZJAhTkO7Ddq_VlxAP0.AgABAAAAAAD--DLA3VO7QrddgJg7WevrAgDs_wQA9P9iLNXOjsmrcb08X5UYo2LXAg8DsuWqMGg2SNq-NG0pWifg7LuTSfmKqXoFwGKJTVdJwLvFaoGGy_4PQc9gxeVj6NWgK3OyfEv-b47dQ5oFDRPhPDla8PCtAQxKhV_D3UO7WI10dG_CkndMTnwXQFTCrm0R7SmqdECfymSfpI7sVxGPurrYf1NW3Dr4wWuFnoTNnLe8Q0dHjmD7dSPBW36yPfNDIBqANpDOq2FIKifqHEbnjq317k41sQNg--KL3W-1OtOXDuJz7byAFAsxqJfiQGh5ck40sxkW2v9EnwTAonMVVVTRgEjWi1UmtxlzVBa2cL6tssv94V8c8vFLw9fX7dLLzqd3BElLEWFAr90WZGM0ioMhIfSfBsm0aECRE0cESnwnw7tOGbsYLpHwEP6oOApKRwPpTtcwuhYxoSlEhkQwtHDExEs_6C84xnRWXMARYw2mw60AeWE_m7Is89L3WBg0Oyrm-3xEEDl9MN1d-oqXZI7qPaVijR1QNBKd1nOAf4rRNXkdO-ba_hpEoB6myEJVNPpHebWqKxbFwh1hhrNErAODnkJnsE_gc2n2tDBF8gdFelencNswY7edTlgVvlTRG19VP-YmSIOhxmafvbIVffvtS2fi_LN8dQYwLmlX5Zvhx9MBnNe65ZSuJPK--zx9qOEnQ8J2SzAiWlixSia8WOcjFRmPEutHvGqYVjnxISlCWTKCphN7BZof6u5CvYsCqJ5PLPkYy6WDuRwxucjTJHkDyzd69XJ8Iqf1_pzKqm1YLdHQNFHiK_suYYJwen4crSro2BB_Kyos0UvAzssMeCxFDaIHL3jrYECDaympnN8vZ9Z2DDHTaMUAQ5fqexcwaNbNArnjcgozY0NwO9k-1_vXJnneiNN-M_3DRklDeJm0gRTLg7vjzomsNxrDqPlt2LZTMrUhAOlef_sRb6jsIQ\",\"expiry\":\"2021-06-28T19:02:43.8937926+05:30\"}\n",
            "Choose a number from below, or type in an existing value\n",
            "\u001b[91m 1 / OneDrive Personal or Business\n",
            "   \\ \"onedrive\"\n",
            "\u001b[0m\u001b[92m 2 / Root Sharepoint site\n",
            "   \\ \"sharepoint\"\n",
            "\u001b[0m\u001b[91m 3 / Sharepoint site name or URL (e.g. mysite or https://contoso.sharepoint.com/sites/mysite)\n",
            "   \\ \"url\"\n",
            "\u001b[0m\u001b[92m 4 / Search for a Sharepoint site\n",
            "   \\ \"search\"\n",
            "\u001b[0m\u001b[91m 5 / Type in driveID (advanced)\n",
            "   \\ \"driveid\"\n",
            "\u001b[0m\u001b[92m 6 / Type in SiteID (advanced)\n",
            "   \\ \"siteid\"\n",
            "\u001b[0m\u001b[91m 7 / Sharepoint server-relative path (advanced, e.g. /teams/hr)\n",
            "   \\ \"path\"\n",
            "\u001b[0mYour choice> 1\n",
            "Found 1 drives, please select the one you want to use:\n",
            "0: OneDrive (business) id=b!hcFXXx23-Uyu5wyEqtxzRA6A-UC-LpxNmMShIbNpQFNxdFWWKAfoT4xGoCJfW_w5\n",
            "Chose drive to use:> 0\n",
            "Found drive 'root' of type 'business', URL: https://raghwayan-my.sharepoint.com/personal/jony_raghwayan_onmicrosoft_com/Documents\n",
            "Is that okay?\n",
            "y) Yes (default)\n",
            "n) No\n",
            "y/n> y\n",
            "--------------------\n",
            "[OneDrive]\n",
            "type = onedrive\n",
            "region = global\n",
            "token = {\"access_token\":\"eyJ0eXAiOiJKV1QiLCJub25jZSI6InNyY0ptSGs2RGQ1ZUZlYVlYclNTdWtZVUhrV0puZHJDOE9ONlN4NnlLbW8iLCJhbGciOiJSUzI1NiIsIng1dCI6Im5PbzNaRHJPRFhFSzFqS1doWHNsSFJfS1hFZyIsImtpZCI6Im5PbzNaRHJPRFhFSzFqS1doWHNsSFJfS1hFZyJ9.eyJhdWQiOiIwMDAwMDAwMy0wMDAwLTAwMDAtYzAwMC0wMDAwMDAwMDAwMDAiLCJpc3MiOiJodHRwczovL3N0cy53aW5kb3dzLm5ldC9jOTY4MGY4Zi04YTZkLTQ1MGYtYmY3OC02OWUxMTNjZGMxMTgvIiwiaWF0IjoxNjI0ODgzMjYxLCJuYmYiOjE2MjQ4ODMyNjEsImV4cCI6MTYyNDg4NzE2MSwiYWNjdCI6MCwiYWNyIjoiMSIsImFjcnMiOlsidXJuOnVzZXI6cmVnaXN0ZXJzZWN1cml0eWluZm8iLCJ1cm46bWljcm9zb2Z0OnJlcTEiLCJ1cm46bWljcm9zb2Z0OnJlcTIiLCJ1cm46bWljcm9zb2Z0OnJlcTMiLCJjMSIsImMyIiwiYzMiLCJjNCIsImM1IiwiYzYiLCJjNyIsImM4IiwiYzkiLCJjMTAiLCJjMTEiLCJjMTIiLCJjMTMiLCJjMTQiLCJjMTUiLCJjMTYiLCJjMTciLCJjMTgiLCJjMTkiLCJjMjAiLCJjMjEiLCJjMjIiLCJjMjMiLCJjMjQiLCJjMjUiXSwiYWlvIjoiRTJaZ1lHQjBQQ3pIci8xLzd6V0g4MnFYRlo5WXNpdzZmT1dBbkZMMEpMZlRrWHV6RkdzQiIsImFtciI6WyJwd2QiXSwiYXBwX2Rpc3BsYXluYW1lIjoicmNsb25lIiwiYXBwaWQiOiJiMTU2NjVkOS1lZGE2LTQwOTItODUzOS0wZWVjMzc2YWZkNTkiLCJhcHBpZGFjciI6IjEiLCJmYW1pbHlfbmFtZSI6InNoYXJtYSIsImdpdmVuX25hbWUiOiJqb255IiwiaWR0eXAiOiJ1c2VyIiwiaXBhZGRyIjoiMTU3LjM4LjkuMzEiLCJuYW1lIjoiam9ueSBzaGFybWEiLCJvaWQiOiI5ZjQ5M2IzMi1lZWIzLTQ0NGQtYWYwMi0zZDNmM2JhZmM3YTIiLCJwbGF0ZiI6IjMiLCJwdWlkIjoiMTAwMzIwMDE0OUYyMzg5NyIsInJoIjoiMC5BWEVBanc5b3lXMktEMFdfZUduaEU4M0JHTmxsVnJHbTdaSkFoVGtPN0RkcV9WbHhBUDAuIiwic2NwIjoiRmlsZXMuUmVhZCBGaWxlcy5SZWFkLkFsbCBGaWxlcy5SZWFkV3JpdGUgRmlsZXMuUmVhZFdyaXRlLkFsbCBTaXRlcy5SZWFkLkFsbCBwcm9maWxlIG9wZW5pZCBlbWFpbCIsInN1YiI6Im9nb09DVXdCd184UnR6VFZ3eWVLZ29WbVgza01jYUIyOWozQUtGRDhrOEUiLCJ0ZW5hbnRfcmVnaW9uX3Njb3BlIjoiQVMiLCJ0aWQiOiJjOTY4MGY4Zi04YTZkLTQ1MGYtYmY3OC02OWUxMTNjZGMxMTgiLCJ1bmlxdWVfbmFtZSI6ImpvbnlAcmFnaHdheWFuLm9ubWljcm9zb2Z0LmNvbSIsInVwbiI6ImpvbnlAcmFnaHdheWFuLm9ubWljcm9zb2Z0LmNvbSIsInV0aSI6IkZ5MGJPU0tOSTBhdjZINU9tNU5vQUEiLCJ2ZXIiOiIxLjAiLCJ3aWRzIjpbImI3OWZiZjRkLTNlZjktNDY4OS04MTQzLTc2YjE5NGU4NTUwOSJdLCJ4bXNfc3QiOnsic3ViIjoia0lyWk9fMzVPSEh0YU81SHZOVjVlc2h0WXN4MENUX3VGQ1UxWGpBNGp1ZyJ9LCJ4bXNfdGNkdCI6MTYyMjM2OTgxN30.Z9wMlGMdI-jYESA9G2opVkbleuGgOeY2Z-3bAam9HkiwN2-vdPth6GMEwoiGh7bNGyhRQUoJvemXrmnYgrS1bvLcvJlVdueQ2WZQ5Wfs1vixuqxlH1Nf_j09bYfz4G99Ipb8y4GFcvkt3xDo2nCOniaeC0UQL_OXYgW1TErekOcuw71PzbF_db1XTFe3sduPqWhy65uLIDerOhJKhWnej-N49mQ0BobMDwWqYbX1-vUoD9czhjM5pwP6BMWsBjr74kKDzbkD6yPojm8VFigwqlHH-L2AYRnwp5tQsrwQiH-RqMHHJuy3B7yntyVVegE3Rc5QgkNx0WSdTbiCL22Jiw\",\"token_type\":\"Bearer\",\"refresh_token\":\"0.AXEAjw9oyW2KD0W_eGnhE83BGNllVrGm7ZJAhTkO7Ddq_VlxAP0.AgABAAAAAAD--DLA3VO7QrddgJg7WevrAgDs_wQA9P9iLNXOjsmrcb08X5UYo2LXAg8DsuWqMGg2SNq-NG0pWifg7LuTSfmKqXoFwGKJTVdJwLvFaoGGy_4PQc9gxeVj6NWgK3OyfEv-b47dQ5oFDRPhPDla8PCtAQxKhV_D3UO7WI10dG_CkndMTnwXQFTCrm0R7SmqdECfymSfpI7sVxGPurrYf1NW3Dr4wWuFnoTNnLe8Q0dHjmD7dSPBW36yPfNDIBqANpDOq2FIKifqHEbnjq317k41sQNg--KL3W-1OtOXDuJz7byAFAsxqJfiQGh5ck40sxkW2v9EnwTAonMVVVTRgEjWi1UmtxlzVBa2cL6tssv94V8c8vFLw9fX7dLLzqd3BElLEWFAr90WZGM0ioMhIfSfBsm0aECRE0cESnwnw7tOGbsYLpHwEP6oOApKRwPpTtcwuhYxoSlEhkQwtHDExEs_6C84xnRWXMARYw2mw60AeWE_m7Is89L3WBg0Oyrm-3xEEDl9MN1d-oqXZI7qPaVijR1QNBKd1nOAf4rRNXkdO-ba_hpEoB6myEJVNPpHebWqKxbFwh1hhrNErAODnkJnsE_gc2n2tDBF8gdFelencNswY7edTlgVvlTRG19VP-YmSIOhxmafvbIVffvtS2fi_LN8dQYwLmlX5Zvhx9MBnNe65ZSuJPK--zx9qOEnQ8J2SzAiWlixSia8WOcjFRmPEutHvGqYVjnxISlCWTKCphN7BZof6u5CvYsCqJ5PLPkYy6WDuRwxucjTJHkDyzd69XJ8Iqf1_pzKqm1YLdHQNFHiK_suYYJwen4crSro2BB_Kyos0UvAzssMeCxFDaIHL3jrYECDaympnN8vZ9Z2DDHTaMUAQ5fqexcwaNbNArnjcgozY0NwO9k-1_vXJnneiNN-M_3DRklDeJm0gRTLg7vjzomsNxrDqPlt2LZTMrUhAOlef_sRb6jsIQ\",\"expiry\":\"2021-06-28T19:02:43.8937926+05:30\"}\n",
            "drive_id = b!hcFXXx23-Uyu5wyEqtxzRA6A-UC-LpxNmMShIbNpQFNxdFWWKAfoT4xGoCJfW_w5\n",
            "drive_type = business\n",
            "--------------------\n",
            "y) Yes this is OK (default)\n",
            "e) Edit this remote\n",
            "d) Delete this remote\n",
            "y/e/d> y\n",
            "Current remotes:\n",
            "\n",
            "Name                 Type\n",
            "====                 ====\n",
            "OneDrive             onedrive\n",
            "\n",
            "e) Edit existing remote\n",
            "n) New remote\n",
            "d) Delete remote\n",
            "r) Rename remote\n",
            "c) Copy remote\n",
            "s) Set configuration password\n",
            "q) Quit config\n",
            "e/n/d/r/c/s/q> q\n"
          ],
          "name": "stdout"
        }
      ]
    },
    {
      "cell_type": "markdown",
      "metadata": {
        "id": "gi5Cx03cLWYE"
      },
      "source": [
        "### 3. Mount One Drive\n",
        "To stream files we need to mount One Drive."
      ]
    },
    {
      "cell_type": "code",
      "metadata": {
        "id": "dWSuoVQ-LU4M",
        "colab": {
          "base_uri": "https://localhost:8080/"
        },
        "outputId": "19faadfc-776c-4ef0-f702-2b9e1ad91d6e"
      },
      "source": [
        "!sudo mkdir /content/onedrive\n",
        "!nohup rclone --vfs-cache-mode writes mount onedrive: /content/onedrive &"
      ],
      "execution_count": 7,
      "outputs": [
        {
          "output_type": "stream",
          "text": [
            "mkdir: cannot create directory ‘/content/onedrive’: File exists\n",
            "nohup: appending output to 'nohup.out'\n"
          ],
          "name": "stdout"
        }
      ]
    },
    {
      "cell_type": "code",
      "metadata": {
        "colab": {
          "base_uri": "https://localhost:8080/"
        },
        "id": "EY-DumWYrDz_",
        "outputId": "736888ab-f048-4d1e-d69b-559e154f95ae"
      },
      "source": [
        "from google.colab import drive\n",
        "drive.mount('/content/drive')"
      ],
      "execution_count": 6,
      "outputs": [
        {
          "output_type": "stream",
          "text": [
            "Mounted at /content/drive\n"
          ],
          "name": "stdout"
        }
      ]
    },
    {
      "cell_type": "markdown",
      "metadata": {
        "id": "_3OSW_tBVrz6"
      },
      "source": [
        "### **4. Subscribe - BoostUpStation @YouTube**"
      ]
    }
  ]
}